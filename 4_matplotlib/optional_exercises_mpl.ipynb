{
 "cells": [
  {
   "cell_type": "markdown",
   "id": "fd248193-05ee-4dfc-8777-23fb47b0a90c",
   "metadata": {},
   "source": [
    "# Optional exercises\n",
    "\n",
    "Here you can find some optional exercises to deepen and test your understanding of this weeks content.  \n",
    "As last week we will go over these exercises in the __flipped classroom__ and maybe they can help you with your homework for this week."
   ]
  },
  {
   "cell_type": "code",
   "execution_count": 2,
   "id": "0d116e6b-081f-4da0-a6ea-b98355b5be53",
   "metadata": {
    "tags": []
   },
   "outputs": [],
   "source": [
    "import numpy as np\n",
    "import matplotlib.pyplot as plt"
   ]
  },
  {
   "cell_type": "markdown",
   "id": "dff40feb-29ce-4f70-bba0-f8c91fbc48ca",
   "metadata": {},
   "source": [
    "### Exercise 1\n",
    "You have two given arrays (`x` and `y`)  \n",
    "Create the following plot:\n",
    "![plot_1](./images/optional_exercises1.png)\n"
   ]
  },
  {
   "cell_type": "code",
   "execution_count": 47,
   "id": "d633099b-c5e6-473b-b183-7a66cab0f8a4",
   "metadata": {
    "tags": []
   },
   "outputs": [],
   "source": [
    "x = np.linspace(0,7,20)\n",
    "y = np.sin(x)"
   ]
  },
  {
   "cell_type": "code",
   "execution_count": null,
   "id": "a56891cd-7c90-461e-9184-94270d6ed8d4",
   "metadata": {},
   "outputs": [],
   "source": [
    "# your code"
   ]
  },
  {
   "cell_type": "markdown",
   "id": "9547cc88-9ed0-49dc-8723-134c290887d7",
   "metadata": {},
   "source": [
    "### Exercise 2\n",
    "In hist_data you have some data, create the following plot and annotate the maximum.  \n",
    "![plot_2](./images/optional_exercises2.png)"
   ]
  },
  {
   "cell_type": "code",
   "execution_count": 50,
   "id": "e62531cb-53c3-45a6-8d89-e5513ce79a0f",
   "metadata": {},
   "outputs": [],
   "source": [
    "np.random.seed(1)\n",
    "hist_data = np.random.normal(0, 1, 1000)"
   ]
  },
  {
   "cell_type": "code",
   "execution_count": null,
   "id": "6243ac5b-29b7-4c8c-b983-d9267b70b1fe",
   "metadata": {},
   "outputs": [],
   "source": [
    "# your code"
   ]
  },
  {
   "cell_type": "markdown",
   "id": "78f3b5bc-852a-4cf3-a798-7f55ca191799",
   "metadata": {},
   "source": [
    "### Exercise 3 \n",
    "You have given the following dictionary and want to create the following plot. Don't forget the labels for the x and y-axis, the titles and the legend.  \n",
    "![plot_3](./images/optional_exercises3.png)"
   ]
  },
  {
   "cell_type": "code",
   "execution_count": 65,
   "id": "3f15d5d0-02b0-4d80-bd28-368ba44a488f",
   "metadata": {},
   "outputs": [],
   "source": [
    "# Data taken from https://www.ncdc.noaa.gov/\n",
    "temperature_data = {'Osnabrueck': np.array([[ 0,  4],\n",
    "                                           [-1,  4],\n",
    "                                           [ 2,  8],\n",
    "                                           [ 4, 12],\n",
    "                                           [ 8, 17],\n",
    "                                           [11, 20],\n",
    "                                           [13, 22],\n",
    "                                           [13, 22],\n",
    "                                           [11, 18],\n",
    "                                           [ 7, 13],\n",
    "                                           [ 3,  8],\n",
    "                                           [ 1,  5]]),\n",
    "                    'Trento': np.array([[ 4,  8],\n",
    "                                       [ 3,  8],\n",
    "                                       [ 5, 10],\n",
    "                                       [ 8, 13],\n",
    "                                       [12, 18],\n",
    "                                       [16, 22],\n",
    "                                       [18, 25],\n",
    "                                       [18, 24],\n",
    "                                       [15, 21],\n",
    "                                       [12, 16],\n",
    "                                       [ 7, 12],\n",
    "                                       [ 5,  9]])\n",
    "}"
   ]
  },
  {
   "cell_type": "code",
   "execution_count": null,
   "id": "8c915f1a-9e67-4cf8-a1af-cf4307a0865f",
   "metadata": {},
   "outputs": [],
   "source": [
    "# your code"
   ]
  },
  {
   "cell_type": "markdown",
   "id": "9978014d-adbf-49fd-a2f9-f0788e0442f6",
   "metadata": {},
   "source": [
    "### Exercise 4\n",
    "Create the follwing strange pattern out of the given array.\n",
    "![plot_4](./images/optional_exercises4.png)"
   ]
  },
  {
   "cell_type": "code",
   "execution_count": 114,
   "id": "3f3127a4-f143-4473-b498-4888cde24182",
   "metadata": {},
   "outputs": [],
   "source": [
    "arr_2d = np.random.randint(0,100,144).reshape((12, 12))"
   ]
  },
  {
   "cell_type": "code",
   "execution_count": null,
   "id": "51385b20-074d-4024-b7cb-4c3876061e03",
   "metadata": {},
   "outputs": [],
   "source": [
    "# your code"
   ]
  }
 ],
 "metadata": {
  "kernelspec": {
   "display_name": "Python 3 (ipykernel)",
   "language": "python",
   "name": "python3"
  },
  "language_info": {
   "codemirror_mode": {
    "name": "ipython",
    "version": 3
   },
   "file_extension": ".py",
   "mimetype": "text/x-python",
   "name": "python",
   "nbconvert_exporter": "python",
   "pygments_lexer": "ipython3",
   "version": "3.11.2"
  }
 },
 "nbformat": 4,
 "nbformat_minor": 5
}
