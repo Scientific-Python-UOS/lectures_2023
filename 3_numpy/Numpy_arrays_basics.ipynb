{
 "cells": [
  {
   "cell_type": "markdown",
   "id": "1bbd6cfa-de92-440d-bb5a-64a7dcc2fc24",
   "metadata": {
    "id": "4b1a506c-4530-426d-bbe9-2d86ca9541f6",
    "tags": []
   },
   "source": [
    "# Numerical Computing with NumPy\n",
    "## Why?\n",
    "In Python we can use `lists` to store and manipulate sequences of objects, any objects.<br>\n",
    "While that is very convenient for us it comes at a cost of time and memory.\n",
    "\n",
    "In this example we create 1,000,000 integers"
   ]
  },
  {
   "cell_type": "code",
   "execution_count": 1,
   "id": "cbca14f3-6e28-4d9c-bee4-7b9a96ef0140",
   "metadata": {
    "colab": {
     "base_uri": "https://localhost:8080/"
    },
    "id": "b3118b7d-53d9-4ef9-ac41-20db7f8dbb26",
    "outputId": "c8b25945-67e7-4a33-83ec-7554f80c2749",
    "tags": []
   },
   "outputs": [
    {
     "data": {
      "text/plain": [
       "[192, 187, 192, 167, 153, 196, 200, 171, 158, 179]"
      ]
     },
     "execution_count": 1,
     "metadata": {},
     "output_type": "execute_result"
    }
   ],
   "source": [
    "import random \n",
    "measurements = [random.randint(150, 200) for _ in range(1_000_000)]\n",
    "measurements[:10]"
   ]
  },
  {
   "cell_type": "markdown",
   "id": "daf67d65-3b8d-4610-a36a-bc7844383e53",
   "metadata": {
    "id": "c7ff4c91-df17-445d-b258-1298ba7987a2",
    "tags": []
   },
   "source": [
    "and compute their mean\n"
   ]
  },
  {
   "cell_type": "code",
   "execution_count": 2,
   "id": "1c3f1986-be19-4730-a64c-6af4365847eb",
   "metadata": {
    "colab": {
     "base_uri": "https://localhost:8080/"
    },
    "id": "95baaf52-57e9-4927-ae9f-f0dd15a5e596",
    "outputId": "37856c80-b5a6-4a10-d6af-afd91c5cb01e",
    "tags": []
   },
   "outputs": [
    {
     "name": "stdout",
     "output_type": "stream",
     "text": [
      "6.85 ms ± 119 µs per loop (mean ± std. dev. of 7 runs, 100 loops each)\n"
     ]
    }
   ],
   "source": [
    "list_time = %timeit -o sum(measurements) / len(measurements)"
   ]
  },
  {
   "cell_type": "markdown",
   "id": "5f485494-3de1-45da-8ab1-8a2ae79332c3",
   "metadata": {
    "id": "822d9483-4dad-4dfa-bcba-713cafeae1dd",
    "tags": []
   },
   "source": [
    "Because python doesn't know that our list only contains integers, it has to check everytime it adds values together whether the objects actually support addition.<br>\n",
    "And thats why `sum` takes \"so long\""
   ]
  },
  {
   "cell_type": "markdown",
   "id": "8e42b887-3ff8-42e8-a8b0-9c3bc7ed9a60",
   "metadata": {
    "id": "93f28ec8-f529-4071-bf25-b19e378c3764",
    "tags": []
   },
   "source": [
    "If we could tell the interpreter that we are only adding integers, we could skip all that typechecking and speed up the operation.<br> \n",
    "For this purpose, `numpy` was invented.  \n",
    "<br>\n",
    "\n",
    "To use numpy we have to import it. The import is usually aliased as `np` so we have to type less later on. Aliasing things is only recommended if it is well established in the community of the respective package."
   ]
  },
  {
   "cell_type": "code",
   "execution_count": 3,
   "id": "2484a6b2-06bd-4fbf-b2b4-7de55420856e",
   "metadata": {
    "id": "78573e27-b8b9-4519-9bc5-9864c23f2f6d"
   },
   "outputs": [],
   "source": [
    "import numpy as np"
   ]
  },
  {
   "cell_type": "markdown",
   "id": "069c8731-ee77-4988-989d-fb5a129d2588",
   "metadata": {
    "id": "b3b034a8-8078-4683-be9b-93de00309b15",
    "tags": []
   },
   "source": [
    "Numpy's standard datatype is the `ndarray` (which stands for n-dimensional array). In the simplest case, numpy array can be created from list."
   ]
  },
  {
   "cell_type": "code",
   "execution_count": 4,
   "id": "1640fb40-2bd7-4a72-b9aa-3cd892d0c312",
   "metadata": {
    "colab": {
     "base_uri": "https://localhost:8080/"
    },
    "id": "3724ca4a-1760-4732-a077-6101e59612c9",
    "outputId": "4facb0d7-0f3e-46f9-f454-98d3177c8463"
   },
   "outputs": [
    {
     "data": {
      "text/plain": [
       "array([192, 187, 192, ..., 180, 165, 184])"
      ]
     },
     "execution_count": 4,
     "metadata": {},
     "output_type": "execute_result"
    }
   ],
   "source": [
    "measurements_array = np.array(measurements)\n",
    "measurements_array"
   ]
  },
  {
   "cell_type": "markdown",
   "id": "aef894d5-7f12-4675-aa08-994fc45676c2",
   "metadata": {
    "id": "99bf4bb5-bec9-4c51-8fb4-87a930aa5958"
   },
   "source": [
    "<br>\n",
    "\n",
    "Now we can use the `mean` function provided by Numpy"
   ]
  },
  {
   "cell_type": "code",
   "execution_count": 5,
   "id": "4a20ade5-899d-4196-acaf-0b4bfbae8fa1",
   "metadata": {
    "colab": {
     "base_uri": "https://localhost:8080/"
    },
    "id": "b6159500-078d-4eac-b9a5-6d89b072d73c",
    "outputId": "075ba447-8f4f-465b-b8a2-a61568e1b0fb"
   },
   "outputs": [
    {
     "name": "stdout",
     "output_type": "stream",
     "text": [
      "875 µs ± 31.7 µs per loop (mean ± std. dev. of 7 runs, 1000 loops each)\n"
     ]
    }
   ],
   "source": [
    "numpy_time = %timeit -o np.mean(measurements_array)"
   ]
  },
  {
   "cell_type": "markdown",
   "id": "ca86e5ca-4a71-4e15-a6bb-2fc0a3c35e66",
   "metadata": {
    "id": "2fad6994-735c-4027-a092-0443ffd90a19"
   },
   "source": [
    "As we can see, using Numpy significantly speeds up our computation, making it"
   ]
  },
  {
   "cell_type": "code",
   "execution_count": 6,
   "id": "c7a0a3bd-f8f9-41cc-b6fa-da099ea0df57",
   "metadata": {
    "id": "e0e33869-5f81-4a8d-a19c-43eb7edf0c31"
   },
   "outputs": [
    {
     "name": "stdout",
     "output_type": "stream",
     "text": [
      "7.832971216504515 times faster\n"
     ]
    }
   ],
   "source": [
    "print(f\"{list_time.average / numpy_time.average} times faster\")"
   ]
  },
  {
   "cell_type": "markdown",
   "id": "38441ea0-4f66-4a5a-8601-5ee1e427edd3",
   "metadata": {
    "id": "8bbe534b-3663-4130-b231-05d128aebaba"
   },
   "source": [
    "# Numpy Arrays\n"
   ]
  },
  {
   "cell_type": "code",
   "execution_count": 7,
   "id": "7467921c-a70e-4282-b22f-ca5973947929",
   "metadata": {
    "id": "a14c4ab8-6674-440b-876e-db1b96f1cf57"
   },
   "outputs": [],
   "source": [
    "import numpy as np"
   ]
  },
  {
   "cell_type": "markdown",
   "id": "7b98ad3c-1072-4b02-bf3f-7a71683c3bca",
   "metadata": {
    "id": "a632e8c9-16ce-4de2-b86d-a793490c9fe1"
   },
   "source": [
    "<br>\n",
    "\n",
    "# How to create Arrays\n",
    "<br>\n",
    "\n",
    "## from lists\n",
    "As we already saw we can create Numpy Arrays from lists"
   ]
  },
  {
   "cell_type": "code",
   "execution_count": 8,
   "id": "22fe67f0-a193-4697-b233-9b6ee4d734e6",
   "metadata": {
    "colab": {
     "base_uri": "https://localhost:8080/"
    },
    "id": "51342409-31be-4be2-afbe-384df18adf78",
    "outputId": "fabe27de-a926-4e2f-ea75-00f7bc206319"
   },
   "outputs": [
    {
     "data": {
      "text/plain": [
       "array([10,  2, 35])"
      ]
     },
     "execution_count": 8,
     "metadata": {},
     "output_type": "execute_result"
    }
   ],
   "source": [
    "np.array([10,2,35])"
   ]
  },
  {
   "cell_type": "markdown",
   "id": "1a13f6a3-dbfa-4c1e-ae65-5828f2b9d3d4",
   "metadata": {
    "id": "c50cdc8a-72fe-458a-8fcb-eed3881956c9"
   },
   "source": [
    "<br>\n",
    "\n",
    "## using Numpy functions\n",
    "whenever we don't want to create an array from specific values like `10, 2, 35` we can use Numpy's utility functions.<br>\n",
    "These are also faster than Pythons built-in functions.\n",
    "\n",
    "#### `np.arange`\n",
    "works like `range`"
   ]
  },
  {
   "cell_type": "code",
   "execution_count": 9,
   "id": "ab1b1796-be43-4694-9440-b801511bd1c8",
   "metadata": {
    "colab": {
     "base_uri": "https://localhost:8080/"
    },
    "id": "9b2d13c6-5568-47b2-9505-ae45044000f7",
    "outputId": "0759ded3-4315-4b1a-c8b7-1dc1ffbefc61"
   },
   "outputs": [
    {
     "data": {
      "text/plain": [
       "[0, 1, 2, 3, 4]"
      ]
     },
     "execution_count": 9,
     "metadata": {},
     "output_type": "execute_result"
    }
   ],
   "source": [
    "list(range(5))"
   ]
  },
  {
   "cell_type": "code",
   "execution_count": 10,
   "id": "9675fef5-b213-4dab-b107-a80e7de5cdd3",
   "metadata": {
    "colab": {
     "base_uri": "https://localhost:8080/"
    },
    "id": "fd734096-ba63-44eb-9ffe-308da3282e06",
    "outputId": "0a5fbc44-16a2-4ad2-f876-1b115edaccfb"
   },
   "outputs": [
    {
     "data": {
      "text/plain": [
       "array([ 2,  4,  6,  8, 10, 12])"
      ]
     },
     "execution_count": 10,
     "metadata": {},
     "output_type": "execute_result"
    }
   ],
   "source": [
    "np.arange(start=2, stop=14, step=2)"
   ]
  },
  {
   "cell_type": "markdown",
   "id": "5fb5fdcc-7545-42bd-a84f-4f56b6a85d88",
   "metadata": {
    "id": "12f220d5-33ae-4519-b4b9-4caa2ab81628"
   },
   "source": [
    "but is faster"
   ]
  },
  {
   "cell_type": "code",
   "execution_count": 11,
   "id": "03232fbd-c19a-46c7-b9f0-82810d69f79c",
   "metadata": {
    "colab": {
     "base_uri": "https://localhost:8080/"
    },
    "id": "a56a6e6d-b859-422d-850e-8919ba5ac8ce",
    "outputId": "beac54ac-00ff-4fc1-ae6b-7b4432ba9536"
   },
   "outputs": [
    {
     "name": "stdout",
     "output_type": "stream",
     "text": [
      "80.4 ms ± 1.35 ms per loop (mean ± std. dev. of 7 runs, 10 loops each)\n"
     ]
    }
   ],
   "source": [
    "built_in_time = %timeit -o np.array(range(1_000_000))"
   ]
  },
  {
   "cell_type": "code",
   "execution_count": 12,
   "id": "ef8a781c-c87b-4ff4-805a-466d5067269c",
   "metadata": {
    "colab": {
     "base_uri": "https://localhost:8080/"
    },
    "id": "3184d7e6-7a43-4ab8-9bbb-37d1f20ccf0b",
    "outputId": "a89b2d3c-3c07-480d-e525-b6023b770b12"
   },
   "outputs": [
    {
     "name": "stdout",
     "output_type": "stream",
     "text": [
      "1.06 ms ± 13 µs per loop (mean ± std. dev. of 7 runs, 1000 loops each)\n"
     ]
    }
   ],
   "source": [
    "numpy_time = %timeit -o np.arange(1_000_000)"
   ]
  },
  {
   "cell_type": "code",
   "execution_count": 13,
   "id": "5eece717-6166-454b-a6ad-b6edb13d09d2",
   "metadata": {
    "id": "c8362158-5339-4d45-b143-29546f1a47b5"
   },
   "outputs": [],
   "source": [
    "# print(f\"Numpy is {built_in_time.average/numpy_time.average} times faster\")"
   ]
  },
  {
   "cell_type": "markdown",
   "id": "e80f94a5-4f84-431d-a84a-8600bcd25815",
   "metadata": {
    "id": "5595fd45-2dd3-4031-9de3-62a9a7b4e118"
   },
   "source": [
    "<br>\n",
    "\n",
    "#### `np.linspace`\n",
    "Creating an array with a certain number of values in a certain interval."
   ]
  },
  {
   "cell_type": "code",
   "execution_count": 14,
   "id": "57e9b450-28d9-4bbd-b969-b8abdfa8afef",
   "metadata": {
    "colab": {
     "base_uri": "https://localhost:8080/"
    },
    "id": "7583a8d8-2de1-4f4d-9b6d-849c1cddb266",
    "outputId": "01ef0087-ecb7-4562-a9fb-d5c02e4ffb6c"
   },
   "outputs": [
    {
     "data": {
      "text/plain": [
       "array([-5.  , -3.75, -2.5 , -1.25,  0.  ,  1.25,  2.5 ,  3.75,  5.  ])"
      ]
     },
     "execution_count": 14,
     "metadata": {},
     "output_type": "execute_result"
    }
   ],
   "source": [
    "np.linspace(start=-5, stop=5, num=9)"
   ]
  },
  {
   "cell_type": "markdown",
   "id": "1a3f0d24-698f-455e-a6d7-d05b5c958402",
   "metadata": {
    "id": "d4359eae-6be5-4309-9193-752966258612"
   },
   "source": [
    "<br>\n",
    "\n",
    "#### `np.zeros`\n",
    "Creating an array with only zeros."
   ]
  },
  {
   "cell_type": "code",
   "execution_count": 15,
   "id": "6315490f-02c6-4990-bf9a-d455a7503d94",
   "metadata": {
    "colab": {
     "base_uri": "https://localhost:8080/"
    },
    "id": "44772eb1-1532-4a52-aa68-531c6b233aa6",
    "outputId": "f3c62d80-c39e-48c4-bedf-ded260def301"
   },
   "outputs": [
    {
     "data": {
      "text/plain": [
       "array([0., 0., 0.])"
      ]
     },
     "execution_count": 15,
     "metadata": {},
     "output_type": "execute_result"
    }
   ],
   "source": [
    "np.zeros(3)"
   ]
  },
  {
   "cell_type": "markdown",
   "id": "16ec06e2-88b9-43b3-a130-92f2177dff51",
   "metadata": {
    "id": "898956e7-dd00-4cfd-a912-bcfee5e95ca6"
   },
   "source": [
    "`np.zeros` takes a `shape` argument that lets us create multidimensional arrays."
   ]
  },
  {
   "cell_type": "code",
   "execution_count": 16,
   "id": "83375870-2e0e-40b4-8b1c-2a09d360286f",
   "metadata": {
    "colab": {
     "base_uri": "https://localhost:8080/"
    },
    "id": "7dfb05bc-7853-429b-8b26-cb59885c09f0",
    "outputId": "4d3616f7-7c2d-47b2-d8ce-43ef6c405d91"
   },
   "outputs": [
    {
     "data": {
      "text/plain": [
       "array([[[0., 0., 0.],\n",
       "        [0., 0., 0.],\n",
       "        [0., 0., 0.],\n",
       "        [0., 0., 0.]],\n",
       "\n",
       "       [[0., 0., 0.],\n",
       "        [0., 0., 0.],\n",
       "        [0., 0., 0.],\n",
       "        [0., 0., 0.]]])"
      ]
     },
     "execution_count": 16,
     "metadata": {},
     "output_type": "execute_result"
    }
   ],
   "source": [
    "np.zeros((2, 4, 3))"
   ]
  },
  {
   "cell_type": "markdown",
   "id": "df2d5feb-62d0-44f5-88b3-2a9c1a721f55",
   "metadata": {
    "id": "0e2fd4d1-0eaf-46e1-9db7-1037a8b498dd"
   },
   "source": [
    "<br>\n",
    "\n",
    "#### the same goes for `np.ones`, `np.empty` and `np.full`\n",
    "#### `np.ones`"
   ]
  },
  {
   "cell_type": "code",
   "execution_count": 17,
   "id": "d8778136-8581-4594-88fb-d3338819bde4",
   "metadata": {
    "colab": {
     "base_uri": "https://localhost:8080/"
    },
    "id": "0756f8a9-d174-4430-8623-3f3c3c790c3d",
    "outputId": "1d89f202-043a-43e9-d179-387ddc13fe2e"
   },
   "outputs": [
    {
     "data": {
      "text/plain": [
       "array([[[1., 1., 1.],\n",
       "        [1., 1., 1.],\n",
       "        [1., 1., 1.],\n",
       "        [1., 1., 1.]],\n",
       "\n",
       "       [[1., 1., 1.],\n",
       "        [1., 1., 1.],\n",
       "        [1., 1., 1.],\n",
       "        [1., 1., 1.]]])"
      ]
     },
     "execution_count": 17,
     "metadata": {},
     "output_type": "execute_result"
    }
   ],
   "source": [
    "np.ones(shape=(2, 4, 3))"
   ]
  },
  {
   "cell_type": "markdown",
   "id": "cd1f0255-0530-4fb6-a6cb-db8247e9cdeb",
   "metadata": {
    "id": "50310f51-373a-4fdb-b3fc-380616f4d755"
   },
   "source": [
    "#### `np.empty`\n",
    "Corresponds to whatever was left in memory. Faster than `np.ones` and `np.zeros`"
   ]
  },
  {
   "cell_type": "code",
   "execution_count": 18,
   "id": "c89c9288-28cd-4f5f-9af1-4a489d5067fa",
   "metadata": {
    "colab": {
     "base_uri": "https://localhost:8080/"
    },
    "id": "84e677f5-1d5e-4683-ba0e-33095bfc22e6",
    "outputId": "6ea5b6cc-5670-4d04-c679-9f66e6609090"
   },
   "outputs": [
    {
     "data": {
      "text/plain": [
       "array([[[1., 1., 1.],\n",
       "        [1., 1., 1.],\n",
       "        [1., 1., 1.],\n",
       "        [1., 1., 1.]],\n",
       "\n",
       "       [[1., 1., 1.],\n",
       "        [1., 1., 1.],\n",
       "        [1., 1., 1.],\n",
       "        [1., 1., 1.]]])"
      ]
     },
     "execution_count": 18,
     "metadata": {},
     "output_type": "execute_result"
    }
   ],
   "source": [
    "np.empty(shape=(2, 4, 3))"
   ]
  },
  {
   "cell_type": "code",
   "execution_count": 19,
   "id": "42dd9f17-60f2-4ecf-9ab7-fac6d1b377d3",
   "metadata": {
    "colab": {
     "base_uri": "https://localhost:8080/",
     "height": 282
    },
    "id": "fe31eec0-0bf9-48c9-ae2b-fd2d02db7dfa",
    "outputId": "4867c6b5-7540-4c20-bb86-9a344a2e5322"
   },
   "outputs": [
    {
     "name": "stdout",
     "output_type": "stream",
     "text": [
      "784 ns ± 8.71 ns per loop (mean ± std. dev. of 7 runs, 1000000 loops each)\n",
      "17.8 µs ± 252 ns per loop (mean ± std. dev. of 7 runs, 100000 loops each)\n",
      "\n",
      "empty is 22.735242449907876 times faster\n"
     ]
    }
   ],
   "source": [
    "empty_time = %timeit -o np.empty(shape=100_000)\n",
    "ones_time = %timeit -o np.ones(shape=100_000)\n",
    "\n",
    "print(f\"\\nempty is {ones_time.average/empty_time.average} times faster\")"
   ]
  },
  {
   "cell_type": "markdown",
   "id": "bbdd9007-ae72-4612-92ce-f9ee045f53f2",
   "metadata": {
    "id": "79d54263-8e61-4d61-9045-5d46b69b162b"
   },
   "source": [
    "<br>\n",
    "\n",
    "#### `np.full`\n",
    "creates an array filled with the same value"
   ]
  },
  {
   "cell_type": "code",
   "execution_count": 20,
   "id": "8173d346-965b-446e-ad1b-19547a9d60c9",
   "metadata": {
    "id": "f4c9d052-427f-4e39-a3d1-5994fd422a7f"
   },
   "outputs": [
    {
     "data": {
      "text/plain": [
       "array([[[42, 42, 42],\n",
       "        [42, 42, 42],\n",
       "        [42, 42, 42],\n",
       "        [42, 42, 42]],\n",
       "\n",
       "       [[42, 42, 42],\n",
       "        [42, 42, 42],\n",
       "        [42, 42, 42],\n",
       "        [42, 42, 42]]])"
      ]
     },
     "execution_count": 20,
     "metadata": {},
     "output_type": "execute_result"
    }
   ],
   "source": [
    "np.full(shape=(2, 4, 3), fill_value=42)"
   ]
  },
  {
   "cell_type": "markdown",
   "id": "651914fc-da23-4a67-8321-f9edeb7b217d",
   "metadata": {
    "id": "532e610b-ad99-4236-b65d-14d48d5a2ea0"
   },
   "source": [
    "<br>\n",
    "\n",
    "## Anatomy of arrays\n",
    "\n",
    "#### `dtype`\n",
    "Returns data type of the array. Arrays can contain bools, ints, unsigned ints, floats or complex numbers of various byte sizes.<br>\n",
    "They can also store strings or Python objects, but that has very few use cases."
   ]
  },
  {
   "cell_type": "code",
   "execution_count": 21,
   "id": "141572d9-d69a-4206-b796-a2b6e5e9b044",
   "metadata": {
    "id": "41231c04-2c52-4bdc-b040-53e0fe177220"
   },
   "outputs": [
    {
     "data": {
      "text/plain": [
       "(array([0, 1, 2, 3, 4]), dtype('int32'))"
      ]
     },
     "execution_count": 21,
     "metadata": {},
     "output_type": "execute_result"
    }
   ],
   "source": [
    "values = [0, 1, 2, 3, 4]\n",
    "int_arr = np.array(values, dtype='int')\n",
    "int_arr, int_arr.dtype"
   ]
  },
  {
   "cell_type": "markdown",
   "id": "80267cb2-4f1f-4f5d-bf1e-fa8828bfd967",
   "metadata": {
    "id": "8e10658b-5de8-451e-b42e-76b3ec27773a"
   },
   "source": [
    "If the dtype does not match the given values, numpy will cast everything to that data type."
   ]
  },
  {
   "cell_type": "code",
   "execution_count": 22,
   "id": "9392c52b-1001-43b6-95b9-b608cc1df837",
   "metadata": {
    "id": "29d0836e-8ceb-4c57-a390-c6060f1b4e5b"
   },
   "outputs": [
    {
     "data": {
      "text/plain": [
       "(array([False,  True,  True,  True,  True]), dtype('bool'))"
      ]
     },
     "execution_count": 22,
     "metadata": {},
     "output_type": "execute_result"
    }
   ],
   "source": [
    "bool_arr = np.array(values, dtype='bool')\n",
    "bool_arr, bool_arr.dtype"
   ]
  },
  {
   "cell_type": "markdown",
   "id": "b1c21c7d-f297-4e97-9405-fc97946cec81",
   "metadata": {
    "id": "a87372c4-3d43-40be-9e07-314d7f661b34"
   },
   "source": [
    "If no explicit data type is given, numpy will choose the \"smallest common denominator\". <br>\n",
    "In the following example, everything becomes a float, as ints can be represented as floats, but not vice versa."
   ]
  },
  {
   "cell_type": "code",
   "execution_count": 23,
   "id": "f0d7fac1-b35c-4456-850c-122740db25a3",
   "metadata": {
    "id": "ae223c47-229c-4752-aee5-6206f55ea423"
   },
   "outputs": [
    {
     "data": {
      "text/plain": [
       "(array([0. , 1. , 2.5, 3. , 4. ]), dtype('float64'))"
      ]
     },
     "execution_count": 23,
     "metadata": {},
     "output_type": "execute_result"
    }
   ],
   "source": [
    "values = [0, 1, 2.5, 3, 4]\n",
    "float_arr = np.array(values)\n",
    "float_arr, float_arr.dtype"
   ]
  },
  {
   "cell_type": "markdown",
   "id": "22916753-1cf6-49fe-9500-451236e354ab",
   "metadata": {
    "id": "d2fe0a8a-30a2-4c66-8b50-3616f15a9044"
   },
   "source": [
    "However, once the data type is set, everything will be coerced to that type.'"
   ]
  },
  {
   "cell_type": "code",
   "execution_count": 24,
   "id": "90156f8e-8d75-40c5-9685-db9a62e318a1",
   "metadata": {
    "id": "f23004e7-4517-41ed-b8ae-a6f9e2bba38b"
   },
   "outputs": [
    {
     "data": {
      "text/plain": [
       "array([1, 1, 2, 3, 4])"
      ]
     },
     "execution_count": 24,
     "metadata": {},
     "output_type": "execute_result"
    }
   ],
   "source": [
    "values = [0, 1, 2, 3, 4]\n",
    "int_arr = np.array(values, dtype='int')\n",
    "\n",
    "int_arr[0] = 1.5\n",
    "int_arr"
   ]
  },
  {
   "cell_type": "markdown",
   "id": "f917a1d2-19ec-4add-9bf9-b3d5b8e38c24",
   "metadata": {
    "id": "aa2dc508-e33d-48d2-a0a0-0cf906310723"
   },
   "source": [
    "Numpy's non-Python data types force us to again think about problems like overflow etc."
   ]
  },
  {
   "cell_type": "code",
   "execution_count": 25,
   "id": "f4fab5d5-a41c-4b16-99e0-d12749da3731",
   "metadata": {
    "id": "30d04054-d298-484a-9d2b-79a1e9102e1c"
   },
   "outputs": [
    {
     "data": {
      "text/plain": [
       "(array([0, 1, 2, 3, 4], dtype=uint8), dtype('uint8'))"
      ]
     },
     "execution_count": 25,
     "metadata": {},
     "output_type": "execute_result"
    }
   ],
   "source": [
    "values = [0, 1, 2, 3, 4]\n",
    "uint_arr = np.array(values, dtype='uint8')\n",
    "uint_arr, uint_arr.dtype"
   ]
  },
  {
   "cell_type": "code",
   "execution_count": 26,
   "id": "feb2dcb7-00f1-4855-8dc0-f3d3e6109c46",
   "metadata": {
    "id": "ec6c835b-97da-4809-bb72-5d9224b31d3e"
   },
   "outputs": [
    {
     "data": {
      "text/plain": [
       "array([0, 0, 2, 3, 4], dtype=uint8)"
      ]
     },
     "execution_count": 26,
     "metadata": {},
     "output_type": "execute_result"
    }
   ],
   "source": [
    "uint_arr[1] += 255\n",
    "uint_arr"
   ]
  },
  {
   "cell_type": "markdown",
   "id": "e0460db5-3267-4096-a7b3-dfbb5ca39448",
   "metadata": {
    "id": "8fb174d2-35bd-4562-9cc9-da24d0074cd8"
   },
   "source": [
    "...and can lead to some problems when comparing them to standard python types"
   ]
  },
  {
   "cell_type": "code",
   "execution_count": 27,
   "id": "10f9540d-0615-4548-8afb-0035d16f1e5d",
   "metadata": {
    "id": "58f2cc3b-4a96-4279-bc2f-3157a63a3e10"
   },
   "outputs": [
    {
     "name": "stdout",
     "output_type": "stream",
     "text": [
      "0.19999999999999996 == 0.20000000298023224 -> False\n",
      "<class 'float'>\n",
      "<class 'numpy.float32'>\n"
     ]
    }
   ],
   "source": [
    "val = 1.2 - 1.0\n",
    "arr = np.array([val], dtype=np.float32)\n",
    "print(f'{val} == {arr[0]} -> {val == arr[0]}')\n",
    "\n",
    "print(type(val))\n",
    "print(type(arr[0]))"
   ]
  },
  {
   "cell_type": "markdown",
   "id": "a45c4a1e-7da7-446b-9798-e6df2ab58ca4",
   "metadata": {
    "id": "0696dc3a-95e6-4e4b-8acd-12389a0232bc"
   },
   "source": [
    "Numpy provides a function for these cases"
   ]
  },
  {
   "cell_type": "code",
   "execution_count": 28,
   "id": "43c15e26-10df-4f87-bd65-4bbaec6194c5",
   "metadata": {
    "id": "861b7d43-c26d-4f5f-8f9a-a5f88d53919d"
   },
   "outputs": [
    {
     "data": {
      "text/plain": [
       "True"
      ]
     },
     "execution_count": 28,
     "metadata": {},
     "output_type": "execute_result"
    }
   ],
   "source": [
    "np.isclose(val, arr[0])"
   ]
  },
  {
   "cell_type": "markdown",
   "id": "fb077baf-3178-4bda-ac97-4e36800f1127",
   "metadata": {
    "id": "a667fdd5-928b-4e40-afbe-a59a869a8315"
   },
   "source": [
    "[Why are floating point calculations inaccurate](http://effbot.org/pyfaq/why-are-floating-point-calculations-so-inaccurate.htm)"
   ]
  },
  {
   "cell_type": "markdown",
   "id": "fd02c08b-0a04-4108-9206-1a64bff25682",
   "metadata": {
    "id": "dd544592-271e-455a-baa3-93372bd3388e"
   },
   "source": [
    "<br>\n",
    "\n",
    "### `shape` and `ndim`\n",
    "`.shape` is very important for keeping track of arrays with more than one dimension. It is a tuple with the number of elements in each dimension.<br>\n",
    "`.ndim` is just the number of dimensions in total. \n",
    "\n",
    "### 1D"
   ]
  },
  {
   "cell_type": "code",
   "execution_count": 29,
   "id": "cf7f8a58-35c6-427b-bcf2-abefc965def3",
   "metadata": {
    "id": "1fb37d7a-fe22-4b69-8282-a66d48fab0bc"
   },
   "outputs": [
    {
     "data": {
      "text/plain": [
       "array([1, 2, 3, 4])"
      ]
     },
     "execution_count": 29,
     "metadata": {},
     "output_type": "execute_result"
    }
   ],
   "source": [
    "values = [1, 2, 3, 4]\n",
    "one_dim_arr = np.array(values)\n",
    "one_dim_arr"
   ]
  },
  {
   "cell_type": "code",
   "execution_count": 30,
   "id": "d2ca01c2-3f61-4790-9d10-02b3e96f523d",
   "metadata": {
    "id": "5cb00657-ff56-4e6f-b741-1f73300c3e9e"
   },
   "outputs": [
    {
     "data": {
      "text/plain": [
       "(4,)"
      ]
     },
     "execution_count": 30,
     "metadata": {},
     "output_type": "execute_result"
    }
   ],
   "source": [
    "one_dim_arr.shape"
   ]
  },
  {
   "cell_type": "code",
   "execution_count": 31,
   "id": "f08db225-221e-41d6-bef4-0506f65f320c",
   "metadata": {
    "id": "c589c04a-b2c1-443c-a41d-c8cd4139c4ad"
   },
   "outputs": [
    {
     "data": {
      "text/plain": [
       "1"
      ]
     },
     "execution_count": 31,
     "metadata": {},
     "output_type": "execute_result"
    }
   ],
   "source": [
    "one_dim_arr.ndim"
   ]
  },
  {
   "cell_type": "markdown",
   "id": "618740eb-eb88-4cf4-9352-3d10a12a7235",
   "metadata": {
    "id": "26c82f65-e954-4964-9187-636d000ff10b"
   },
   "source": [
    "### 2D"
   ]
  },
  {
   "cell_type": "code",
   "execution_count": 32,
   "id": "db492870-856b-4149-a85b-9af8ce21259c",
   "metadata": {
    "id": "52db1028-c998-40ad-9e73-f0e518a0948b"
   },
   "outputs": [
    {
     "data": {
      "text/plain": [
       "array([[1, 2, 3, 4, 5],\n",
       "       [1, 2, 3, 4, 1],\n",
       "       [1, 2, 3, 4, 2]])"
      ]
     },
     "execution_count": 32,
     "metadata": {},
     "output_type": "execute_result"
    }
   ],
   "source": [
    "values = [[1, 2, 3, 4, 5],\n",
    "          [1, 2, 3, 4, 1],\n",
    "          [1, 2, 3, 4, 2]]\n",
    "two_dim_arr = np.array(values)\n",
    "two_dim_arr"
   ]
  },
  {
   "cell_type": "code",
   "execution_count": 33,
   "id": "b0eafd94-96f6-4ee3-98cf-570c698ad1f4",
   "metadata": {
    "id": "ddf6ea4a-54b0-4bb0-bdb7-920194bc2ee8"
   },
   "outputs": [
    {
     "data": {
      "text/plain": [
       "(3, 5)"
      ]
     },
     "execution_count": 33,
     "metadata": {},
     "output_type": "execute_result"
    }
   ],
   "source": [
    "two_dim_arr.shape"
   ]
  },
  {
   "cell_type": "code",
   "execution_count": 34,
   "id": "c160a88e-f953-491c-912b-740b502867e0",
   "metadata": {
    "id": "90b85cff-1d78-48d5-addc-1bbaa082e6f2"
   },
   "outputs": [
    {
     "data": {
      "text/plain": [
       "2"
      ]
     },
     "execution_count": 34,
     "metadata": {},
     "output_type": "execute_result"
    }
   ],
   "source": [
    "two_dim_arr.ndim"
   ]
  },
  {
   "cell_type": "code",
   "execution_count": 35,
   "id": "11cadbc9-a84b-4506-90c2-fc2387480fb0",
   "metadata": {
    "id": "2afd6f9a-d48a-4970-90ce-af381fa49567"
   },
   "outputs": [
    {
     "data": {
      "text/plain": [
       "2"
      ]
     },
     "execution_count": 35,
     "metadata": {},
     "output_type": "execute_result"
    }
   ],
   "source": [
    "two_dim_arr[1,1]"
   ]
  },
  {
   "cell_type": "code",
   "execution_count": 36,
   "id": "7a1a5c87-3018-46ef-990d-95653ed5a773",
   "metadata": {
    "id": "c81419e1-3fd4-4407-82f8-81b662e4d66f"
   },
   "outputs": [
    {
     "data": {
      "text/plain": [
       "array([[ 1,  2,  3,  4,  5],\n",
       "       [ 1, 10,  3,  4,  1],\n",
       "       [ 1,  2,  3,  4,  2]])"
      ]
     },
     "execution_count": 36,
     "metadata": {},
     "output_type": "execute_result"
    }
   ],
   "source": [
    "two_dim_arr[1,1] = 10\n",
    "two_dim_arr"
   ]
  },
  {
   "cell_type": "markdown",
   "id": "4172a59d-a5df-4d30-b617-6053206b226b",
   "metadata": {
    "id": "e0b4ade1-aa77-4b6f-ab21-1e7577b86152"
   },
   "source": [
    "### 3D"
   ]
  },
  {
   "cell_type": "code",
   "execution_count": 37,
   "id": "00d2cec5-4127-41ee-bcb9-1d4578d625ec",
   "metadata": {
    "id": "36a8d633-4c43-4823-a33f-06b1fdc32658"
   },
   "outputs": [
    {
     "data": {
      "text/plain": [
       "array([[[1, 2, 3, 4],\n",
       "        [1, 2, 3, 4],\n",
       "        [1, 2, 3, 4]],\n",
       "\n",
       "       [[1, 2, 3, 4],\n",
       "        [1, 2, 3, 4],\n",
       "        [1, 2, 3, 4]],\n",
       "\n",
       "       [[1, 2, 3, 4],\n",
       "        [1, 2, 3, 4],\n",
       "        [1, 2, 3, 4]],\n",
       "\n",
       "       [[1, 2, 3, 4],\n",
       "        [1, 2, 3, 4],\n",
       "        [1, 2, 3, 4]],\n",
       "\n",
       "       [[1, 2, 3, 4],\n",
       "        [1, 2, 3, 4],\n",
       "        [1, 2, 3, 4]],\n",
       "\n",
       "       [[1, 2, 3, 4],\n",
       "        [1, 2, 3, 4],\n",
       "        [1, 2, 3, 4]]])"
      ]
     },
     "execution_count": 37,
     "metadata": {},
     "output_type": "execute_result"
    }
   ],
   "source": [
    "values = [[[1, 2, 3, 4]] * 3] * 6\n",
    "three_dim_arr = np.array(values)\n",
    "three_dim_arr"
   ]
  },
  {
   "cell_type": "code",
   "execution_count": 38,
   "id": "85ac8b0e-3d00-43ba-a61a-730919286f6d",
   "metadata": {
    "id": "af425a73-c899-4bb6-a8a8-f65329ace05a"
   },
   "outputs": [
    {
     "data": {
      "text/plain": [
       "(6, 3, 4)"
      ]
     },
     "execution_count": 38,
     "metadata": {},
     "output_type": "execute_result"
    }
   ],
   "source": [
    "three_dim_arr.shape"
   ]
  },
  {
   "cell_type": "code",
   "execution_count": 39,
   "id": "5f77400f-caf3-4f50-9e10-d32ecb2ed517",
   "metadata": {
    "id": "c4c85985-2274-464c-a454-1ffb3304ab66"
   },
   "outputs": [
    {
     "data": {
      "text/plain": [
       "3"
      ]
     },
     "execution_count": 39,
     "metadata": {},
     "output_type": "execute_result"
    }
   ],
   "source": [
    "three_dim_arr.ndim"
   ]
  },
  {
   "cell_type": "markdown",
   "id": "ea13e71b-b815-4b19-b78a-8f7691e755f6",
   "metadata": {
    "id": "f36aebaf-0b4e-4373-9db0-e12fa0775dde"
   },
   "source": [
    "<br>\n",
    "\n",
    "### Other attributes"
   ]
  },
  {
   "cell_type": "code",
   "execution_count": 40,
   "id": "eb7dad47-9646-4ca4-bd36-be9d2e10c09f",
   "metadata": {
    "id": "e65d5029-bc74-4b47-9f6d-86c77b5b9e4b"
   },
   "outputs": [
    {
     "data": {
      "text/plain": [
       "array([[ 1,  2,  3,  4,  5],\n",
       "       [ 1, 10,  3,  4,  1],\n",
       "       [ 1,  2,  3,  4,  2]])"
      ]
     },
     "execution_count": 40,
     "metadata": {},
     "output_type": "execute_result"
    }
   ],
   "source": [
    "two_dim_arr"
   ]
  },
  {
   "cell_type": "code",
   "execution_count": 41,
   "id": "f1472949-49d6-4eab-848f-4d1eb76d67ab",
   "metadata": {
    "id": "de67a25e-54c0-4f16-8c08-5bc6d634e2e6"
   },
   "outputs": [
    {
     "data": {
      "text/plain": [
       "array([[ 1,  1,  1],\n",
       "       [ 2, 10,  2],\n",
       "       [ 3,  3,  3],\n",
       "       [ 4,  4,  4],\n",
       "       [ 5,  1,  2]])"
      ]
     },
     "execution_count": 41,
     "metadata": {},
     "output_type": "execute_result"
    }
   ],
   "source": [
    "two_dim_arr.T"
   ]
  },
  {
   "cell_type": "code",
   "execution_count": 42,
   "id": "dc774838-bd85-451d-9955-92ddbab51970",
   "metadata": {
    "id": "a69856cf-475a-4bd3-ae11-1a445cc02257"
   },
   "outputs": [
    {
     "name": "stdout",
     "output_type": "stream",
     "text": [
      "['T', '__abs__', '__add__', '__and__', '__array__', '__array_finalize__', '__array_function__', '__array_interface__', '__array_prepare__', '__array_priority__', '__array_struct__', '__array_ufunc__', '__array_wrap__', '__bool__', '__class__', '__complex__', '__contains__', '__copy__', '__deepcopy__', '__delattr__', '__delitem__', '__dir__', '__divmod__', '__doc__', '__eq__', '__float__', '__floordiv__', '__format__', '__ge__', '__getattribute__', '__getitem__', '__gt__', '__hash__', '__iadd__', '__iand__', '__ifloordiv__', '__ilshift__', '__imatmul__', '__imod__', '__imul__', '__index__', '__init__', '__init_subclass__', '__int__', '__invert__', '__ior__', '__ipow__', '__irshift__', '__isub__', '__iter__', '__itruediv__', '__ixor__', '__le__', '__len__', '__lshift__', '__lt__', '__matmul__', '__mod__', '__mul__', '__ne__', '__neg__', '__new__', '__or__', '__pos__', '__pow__', '__radd__', '__rand__', '__rdivmod__', '__reduce__', '__reduce_ex__', '__repr__', '__rfloordiv__', '__rlshift__', '__rmatmul__', '__rmod__', '__rmul__', '__ror__', '__rpow__', '__rrshift__', '__rshift__', '__rsub__', '__rtruediv__', '__rxor__', '__setattr__', '__setitem__', '__setstate__', '__sizeof__', '__str__', '__sub__', '__subclasshook__', '__truediv__', '__xor__', 'all', 'any', 'argmax', 'argmin', 'argpartition', 'argsort', 'astype', 'base', 'byteswap', 'choose', 'clip', 'compress', 'conj', 'conjugate', 'copy', 'ctypes', 'cumprod', 'cumsum', 'data', 'diagonal', 'dot', 'dtype', 'dump', 'dumps', 'fill', 'flags', 'flat', 'flatten', 'getfield', 'imag', 'item', 'itemset', 'itemsize', 'max', 'mean', 'min', 'nbytes', 'ndim', 'newbyteorder', 'nonzero', 'partition', 'prod', 'ptp', 'put', 'ravel', 'real', 'repeat', 'reshape', 'resize', 'round', 'searchsorted', 'setfield', 'setflags', 'shape', 'size', 'sort', 'squeeze', 'std', 'strides', 'sum', 'swapaxes', 'take', 'tobytes', 'tofile', 'tolist', 'tostring', 'trace', 'transpose', 'var', 'view']\n"
     ]
    }
   ],
   "source": [
    "print(dir(two_dim_arr))"
   ]
  }
 ],
 "metadata": {
  "kernelspec": {
   "display_name": "Python 3 (ipykernel)",
   "language": "python",
   "name": "python3"
  },
  "language_info": {
   "codemirror_mode": {
    "name": "ipython",
    "version": 3
   },
   "file_extension": ".py",
   "mimetype": "text/x-python",
   "name": "python",
   "nbconvert_exporter": "python",
   "pygments_lexer": "ipython3",
   "version": "3.11.2"
  }
 },
 "nbformat": 4,
 "nbformat_minor": 5
}
