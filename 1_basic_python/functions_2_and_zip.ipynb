{
 "cells": [
  {
   "cell_type": "markdown",
   "id": "f3931e79-b8eb-48f7-b70b-56e5d05d0ef3",
   "metadata": {},
   "source": [
    "## Docstrings\n",
    "We can use docstrings to describe what our function does. Similar to the PEP8 naming conventions this can be useful for our own coding but will become really important when reading other peoples code or when working on a project together.<br>\n",
    "A docstring is a special type of string that is attached to the object at runtime and afterwards available in the `__doc__` attribute. \n",
    "\n"
   ]
  },
  {
   "cell_type": "code",
   "execution_count": null,
   "id": "f4acdbbf-6d8f-4137-a61f-9e77f2382f8c",
   "metadata": {},
   "outputs": [],
   "source": [
    "def say_hello(time, person):\n",
    "    \"\"\"Greets a person in a friendly manner.\"\"\"\n",
    "    return \"Good \" + time + \" to you \" + person + \" !\"\n",
    "\n",
    "say_hello.__doc__"
   ]
  },
  {
   "cell_type": "markdown",
   "id": "7ba21e0e-5d95-4e2d-8e1a-3b2a584129db",
   "metadata": {},
   "source": [
    "You can also use `?`, `help` or <kbd>Shift</kbd> + <kbd>Tab</kbd> to look at docstrings."
   ]
  },
  {
   "cell_type": "code",
   "execution_count": null,
   "id": "5c5c61c7-c4ea-416d-ae57-7682c6bd3c52",
   "metadata": {},
   "outputs": [],
   "source": [
    "?say_hello"
   ]
  },
  {
   "cell_type": "code",
   "execution_count": null,
   "id": "4cf4a6d6-b9b4-437f-ace6-19a411f5ced4",
   "metadata": {},
   "outputs": [],
   "source": [
    "help(say_hello)"
   ]
  },
  {
   "cell_type": "markdown",
   "id": "18497c82-42d1-4356-b799-b6418c31489a",
   "metadata": {},
   "source": [
    "<br>\n",
    "\n",
    "To describe the arguments of our function, we want to use more extensive docstrings. A good approach is to stick to some docstring convention. We will use the [Google Style](http://www.sphinx-doc.org/en/1.5/ext/example_google.html), which is very readable in its textual form, but can also be rendered as a standalone documentation."
   ]
  },
  {
   "cell_type": "code",
   "execution_count": null,
   "id": "c2bfbef6-7a39-4088-a0bd-2637751695cd",
   "metadata": {},
   "outputs": [],
   "source": [
    "def say_hello(time, person):\n",
    "    \"\"\"Greets a person in a friendly manner.\n",
    "    \n",
    "    Args:\n",
    "        time: The time at which to say hello.\n",
    "        person: The person to say hello to.\n",
    "        \n",
    "    Returns:\n",
    "        :return A greeting.\n",
    "    \"\"\"\n",
    "    return \"Good \" + time + \" to you \" + person + \" !\""
   ]
  },
  {
   "cell_type": "markdown",
   "id": "4d4351a7-7a50-41c1-867d-4a6faea7dd0d",
   "metadata": {},
   "source": [
    "## Type hints\n",
    "\n",
    "Recent developments in Python go towards the possibility to [typecheck](https://www.python.org/dev/peps/pep-0484/) your code before runtime. This feature is completely optional, but is very useful when you want to write reusable code that you want share with others. Type hints do not influnce the behavior of your program, but external tools can use it to spot potential bugs in your code."
   ]
  },
  {
   "cell_type": "code",
   "execution_count": null,
   "id": "1f5a5c14-af13-455c-ba5b-adf17deee030",
   "metadata": {},
   "outputs": [],
   "source": [
    "def say_hello(time: str, person: str) -> str:\n",
    "    return \"Good \" + time + \" to you \" + person + \" !\""
   ]
  },
  {
   "cell_type": "code",
   "execution_count": null,
   "id": "9ba748c8-63c4-40a0-bf0b-2ffc1a5615e9",
   "metadata": {},
   "outputs": [],
   "source": [
    "say_hello(\"day\", 1)"
   ]
  },
  {
   "cell_type": "markdown",
   "id": "61f3dc69-41df-4115-ae02-d782a96b3410",
   "metadata": {},
   "source": [
    "<br>\n",
    "\n",
    "## \\*args and \\*\\*kwargs\n",
    "\n",
    "`*args` will catch any loose positional arguments and<br>\n",
    "`**kwargs`will catch any loose keyword arguments"
   ]
  },
  {
   "cell_type": "code",
   "execution_count": null,
   "id": "bd87604b-5022-431e-8e6c-4db8832e72d5",
   "metadata": {},
   "outputs": [],
   "source": [
    "def gimme_gimme(normal_arg, *args, **kwargs):\n",
    "    print(f\"normal argument: {normal_arg}\\n\")\n",
    "    \n",
    "    print(\"other positional arguments:\")\n",
    "    for arg in args:\n",
    "        print(arg)\n",
    "     \n",
    "    print(\"\\nother keyword arguements:\")\n",
    "    for keyword, argument in kwargs.items():\n",
    "        print(f\"{keyword}: {argument}\")"
   ]
  },
  {
   "cell_type": "code",
   "execution_count": null,
   "id": "b15eccd3-a040-47e0-9c3c-930e8fe03ad7",
   "metadata": {},
   "outputs": [],
   "source": [
    "gimme_gimme(\"test\", 1, 2, 3, one=1, two=2, three=3)"
   ]
  },
  {
   "cell_type": "markdown",
   "id": "20de3084-5f21-47cb-a87a-912403849d02",
   "metadata": {},
   "source": [
    "<br>\n",
    "`*args` and `**kwargs` can be really useful for inheritance because we can grab the parameters that we need for a child-class and call the parent-class with the original parameters."
   ]
  },
  {
   "cell_type": "markdown",
   "id": "b8372072-5de2-43c6-94ad-f71a7caf18eb",
   "metadata": {},
   "source": [
    "<br>\n",
    "\n",
    "## Call-by-value or Call-by-reference?\n",
    "Do we pass a copy of an object to a function or a reference of the object?\n",
    "### Neither"
   ]
  },
  {
   "cell_type": "code",
   "execution_count": null,
   "id": "c4118d8f-9c3f-4e42-85cb-6326f56bde08",
   "metadata": {},
   "outputs": [],
   "source": [
    "def add_one(b):\n",
    "    b = b + 1"
   ]
  },
  {
   "cell_type": "code",
   "execution_count": null,
   "id": "a374099a-04f8-41ae-84d0-f64b148c22ef",
   "metadata": {},
   "outputs": [],
   "source": [
    "a = 1\n",
    "print(a)\n",
    "\n",
    "add_one(a)\n",
    "print(a)"
   ]
  },
  {
   "cell_type": "markdown",
   "id": "0451c28f-e195-494d-977a-dee15a15cf60",
   "metadata": {},
   "source": [
    "When we pass an object to a function we simply give it another name.<br>\n",
    "So here `b` is now also bound to our object `1`\n",
    "\n",
    "With that in mind we can employ our knowledge about mutable and immutable objects.<br>\n",
    "So since the integer `1` is **immutable**, the operation\n",
    "```python\n",
    "b = b + 1\n",
    "```\n",
    "will not change the object that `b` is bound to but it will bind `b` to a new object.<br>\n",
    "And so `a` remains unchanged.\n",
    "<br>\n",
    "<br>\n",
    "<br>\n"
   ]
  },
  {
   "cell_type": "code",
   "execution_count": null,
   "id": "d6245aa0-2b42-4a26-b14c-f4b50c8cfbee",
   "metadata": {},
   "outputs": [],
   "source": [
    "def append_one(b):\n",
    "    b.append(1)"
   ]
  },
  {
   "cell_type": "code",
   "execution_count": null,
   "id": "a01dcf16-ba2a-46ee-8235-a7fd83ea153d",
   "metadata": {},
   "outputs": [],
   "source": [
    "a = []\n",
    "print(a)\n",
    "\n",
    "append_one(a)\n",
    "print(a)"
   ]
  },
  {
   "cell_type": "markdown",
   "id": "75b5cc3d-215d-4efe-bc60-32034fc20944",
   "metadata": {},
   "source": [
    "Now our object `[]` is **mutable**.<br>\n",
    "So when we pass the object `[]` to our function, it will be bound to `b`.<br>\n",
    "And we can then call with `b` and change it because it's **mutable**\n",
    "<br>\n",
    "<br>\n",
    "<br>"
   ]
  },
  {
   "cell_type": "markdown",
   "id": "4d0401bf-a8af-4483-93f9-5a9b9c2f2351",
   "metadata": {},
   "source": [
    "### Important caveat with default-arguments \n",
    "\n",
    "Using objects as default arguments will only create them once! While that is irrelevant for immutable objects, it gets messy for mutables: Imagine an empty list being the default argument of a function -- every time the function is called, the **same** list will be used!"
   ]
  },
  {
   "cell_type": "code",
   "execution_count": null,
   "id": "21d64d1b-c223-4fd9-97a0-770f878604ff",
   "metadata": {},
   "outputs": [],
   "source": [
    "def f(a=[]):\n",
    "    a.append('NO!')\n",
    "    print(a)\n",
    "\n",
    "for i in range(10):\n",
    "    f()"
   ]
  },
  {
   "cell_type": "markdown",
   "id": "df1b3193-8add-410d-8aaf-f0e323148ccb",
   "metadata": {},
   "source": [
    "To avoid this, use `None` as the default argument and check for `None` inside the function, setting the real default value only then."
   ]
  },
  {
   "cell_type": "code",
   "execution_count": null,
   "id": "6bb82bb8-0a54-4a18-9be1-4374fe123ea2",
   "metadata": {},
   "outputs": [],
   "source": [
    "def f(a=None):\n",
    "    # Initialize inside.\n",
    "    if a is None:\n",
    "        a = []\n",
    "    a.append('NO!')\n",
    "    print(a)\n",
    "    \n",
    "for i in range(10):\n",
    "    f()"
   ]
  },
  {
   "cell_type": "markdown",
   "id": "f8b8aa76-c55f-4333-92d6-ca14e5375947",
   "metadata": {},
   "source": [
    "<br>\n",
    "<br>\n",
    "<br>\n",
    "\n",
    "## zip"
   ]
  },
  {
   "cell_type": "code",
   "execution_count": null,
   "id": "0f494295-cd69-4f3a-9387-6d9772c3862e",
   "metadata": {},
   "outputs": [],
   "source": [
    "list(zip(fruits, colors))"
   ]
  },
  {
   "cell_type": "code",
   "execution_count": null,
   "id": "c3b6cbf4-66f5-40c2-9e79-e34750a12e61",
   "metadata": {},
   "outputs": [],
   "source": [
    "fruits = ['banana', 'orange', 'blueberry']\n",
    "colors = ['yellow', 'orange', 'blue']\n",
    "for fruit, color in zip(fruits, colors):\n",
    "    print(f\"{fruit} is {color}\")"
   ]
  },
  {
   "cell_type": "markdown",
   "id": "c4ac4ade-514e-4bb3-b901-60bbffe55283",
   "metadata": {},
   "source": [
    "`zip` takes as arguments a number of iterables (e.g. lists or tuples) and creates a new list, containing tuples of all first, all second, all third, .. elements from the original lists. \n",
    "If a function needs e.g. a list of xs and a list of ys, we can then unpack the result from the reverse-zipping directly into the function arguments:"
   ]
  },
  {
   "cell_type": "code",
   "execution_count": null,
   "id": "a8a9dce1-b6e2-484c-9f43-fd43fc8a7469",
   "metadata": {},
   "outputs": [],
   "source": [
    "def f(xs, ys):\n",
    "    print(xs)\n",
    "    print(ys)\n",
    "    \n",
    "coordinates = [(1, 3), (-5, 10), (0, 0)]\n",
    "f(*zip(*coordinates))"
   ]
  },
  {
   "cell_type": "code",
   "execution_count": null,
   "id": "51b5dacd-925d-4ead-b9d0-75c97206f636",
   "metadata": {},
   "outputs": [],
   "source": []
  }
 ],
 "metadata": {
  "kernelspec": {
   "display_name": "Python 3 (ipykernel)",
   "language": "python",
   "name": "python3"
  },
  "language_info": {
   "codemirror_mode": {
    "name": "ipython",
    "version": 3
   },
   "file_extension": ".py",
   "mimetype": "text/x-python",
   "name": "python",
   "nbconvert_exporter": "python",
   "pygments_lexer": "ipython3",
   "version": "3.10.4"
  }
 },
 "nbformat": 4,
 "nbformat_minor": 5
}
