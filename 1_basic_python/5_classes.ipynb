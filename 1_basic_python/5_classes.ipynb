{
 "cells": [
  {
   "cell_type": "markdown",
   "id": "2cc4b731",
   "metadata": {
    "tags": []
   },
   "source": [
    "# Classes\n",
    "As one of Pythons many paradigms is that of **object-orientation**, it is of course possible to implement classes. In fact, every single built-in class works the same way, and they all work the same under the hood - which also means, one can get any built-in methods to work on custom classes, just as much as on built-in classes."
   ]
  },
  {
   "cell_type": "code",
   "execution_count": null,
   "id": "bc66b67e",
   "metadata": {},
   "outputs": [],
   "source": [
    "class MyClass:\n",
    "    \"\"\"This class doesn't have much purpose and serves demonstration\"\"\"\n",
    "    # pass is used if Python wants there to be another line (because of indents), \n",
    "    #but you don't have any more content!\n",
    "    pass"
   ]
  },
  {
   "cell_type": "code",
   "execution_count": null,
   "id": "6be4ea7d",
   "metadata": {},
   "outputs": [],
   "source": [
    "my_instance = MyClass()\n",
    "type(my_instance)"
   ]
  },
  {
   "cell_type": "code",
   "execution_count": null,
   "id": "20899f04",
   "metadata": {},
   "outputs": [],
   "source": [
    "# To check if something is an instance of a class (or the ones that inherit from it), use isinstance!\n",
    "print(isinstance(my_instance, MyClass))"
   ]
  },
  {
   "cell_type": "code",
   "execution_count": null,
   "id": "b712634f",
   "metadata": {},
   "outputs": [],
   "source": [
    "# as always you can get informations about an object by using ?\n",
    "my_instance?"
   ]
  },
  {
   "cell_type": "markdown",
   "id": "23ef0a30-c7c6-4a06-bf15-d46dfa253489",
   "metadata": {
    "tags": []
   },
   "source": [
    "---\n",
    "## Methods"
   ]
  },
  {
   "cell_type": "markdown",
   "id": "335b2c17-56ea-44cf-9674-2c344e2ec41e",
   "metadata": {},
   "source": [
    "In the simplest terms, you can think of an object as a containing both data and behavior, i.e. functions that operate on that data. For example, strings in Python are\n",
    "objects that contain a set of characters and also various functions that operate on the set of\n",
    "characters. When bundled in an object, these functions are called \"methods\".\n",
    "\n",
    "Instead of the \"normal\" `function(arguments)` syntax, methods are called using the\n",
    "syntax `object.method(arguments)`."
   ]
  },
  {
   "cell_type": "code",
   "execution_count": null,
   "id": "2bc16689-b3bf-4c43-bf8e-2548baf13056",
   "metadata": {},
   "outputs": [],
   "source": [
    "# A string is actually an object\n",
    "a = 'hello, world'\n",
    "b = 5\n",
    "print(a, type(a))\n",
    "print(b, type(b))"
   ]
  },
  {
   "cell_type": "code",
   "execution_count": null,
   "id": "46397ddc-4446-43fe-90bb-0efe89f7f237",
   "metadata": {},
   "outputs": [],
   "source": [
    "# Objects have bundled methods\n",
    "print(a.capitalize())\n",
    "print(a.replace('l', 'X'))\n",
    "print(a.lower())\n",
    "print(a.upper())\n",
    "print(a.isnumeric())\n",
    "print(a.isalpha()) \n",
    "print(a.isalnum())"
   ]
  },
  {
   "cell_type": "markdown",
   "id": "3f20f36e-c562-469d-b7ea-af8e278215f0",
   "metadata": {},
   "source": [
    "With `dir(\"\")` you can see all inbuild methods for strings. Ignore the ones with the double-underscore."
   ]
  },
  {
   "cell_type": "code",
   "execution_count": null,
   "id": "67950c7e-685f-4faa-94a1-fa05d6787488",
   "metadata": {},
   "outputs": [],
   "source": [
    "dir(\"\")"
   ]
  },
  {
   "cell_type": "code",
   "execution_count": null,
   "id": "331e882f-d6bc-48c6-8480-09c6d30f47fb",
   "metadata": {},
   "outputs": [],
   "source": [
    "\"\".isalpha"
   ]
  },
  {
   "cell_type": "code",
   "execution_count": null,
   "id": "b51a30f7-4e67-4ff9-bd57-52de0388517f",
   "metadata": {},
   "outputs": [],
   "source": [
    "# with help() you can get informations about a method\n",
    "help(\"\".isalpha)"
   ]
  },
  {
   "cell_type": "code",
   "execution_count": null,
   "id": "a5b34502-ef06-4d73-9dd1-280b4b25f212",
   "metadata": {},
   "outputs": [],
   "source": [
    "help(\"\")"
   ]
  },
  {
   "cell_type": "code",
   "execution_count": null,
   "id": "2dece02b-c312-4d79-b8c0-f4b4951edc62",
   "metadata": {},
   "outputs": [],
   "source": [
    "# Integers do not have .capitalize() method\n",
    "b.capitalize() # fails"
   ]
  },
  {
   "cell_type": "markdown",
   "id": "d8d1afaf-9736-4e00-bc41-432dc648645e",
   "metadata": {},
   "source": [
    "<div class=\"alert alert-block alert-info\">\n",
    "<b>Exercise:</b> \n",
    "    <br>\n",
    "   Try out different inbuild methods for integers.\n",
    "</div>"
   ]
  },
  {
   "cell_type": "code",
   "execution_count": null,
   "id": "3930e1d8-4651-413a-ab81-9f2d1f096144",
   "metadata": {},
   "outputs": [],
   "source": []
  },
  {
   "cell_type": "markdown",
   "id": "0e498e7b-f165-4337-a76b-ceec7da720df",
   "metadata": {},
   "source": [
    "You can check all inbuild functions and methods in the __[python standard library](https://docs.python.org/3/library/index.html)__"
   ]
  },
  {
   "cell_type": "markdown",
   "id": "43f194c1",
   "metadata": {},
   "source": [
    "## Methods and Attributes\n",
    "Custom classes can have custom methods and attributes. If no constructor is explicitly specified, then one of its parent-class will be used instead. Otherwise, a constructor must be defined with the method `__init__`. A destructor is usually not needed as Python manages memory automatically.\n",
    "\n",
    "All instance-variables must be defined in instance-methods and must be referenced from `self`. All variables that are not defined in instance-methods are class-variables!\n",
    "\n",
    "`self` is a reference to the object it*self*! It is the equivalent of `this` in many other programming languages."
   ]
  },
  {
   "cell_type": "code",
   "execution_count": null,
   "id": "862d1b1c",
   "metadata": {},
   "outputs": [],
   "source": [
    "class MyClass2:\n",
    "    \"\"\"This class also doesn't have much purpose and serves demonstration.\"\"\"\n",
    "    def __init__(self):\n",
    "        print(self)\n",
    "        print(type(self))\n",
    "        \n",
    "my_second_instance = MyClass2()"
   ]
  },
  {
   "cell_type": "code",
   "execution_count": null,
   "id": "7061fe4a",
   "metadata": {},
   "outputs": [],
   "source": [
    "class Person:\n",
    "    \"\"\"This class represents a person with an age and name.\"\"\"\n",
    "    def __init__(self, age, first_name, last_name):\n",
    "        self.age = age\n",
    "        self.first_name = first_name\n",
    "        self.last_name = last_name\n",
    "        \n",
    "    def greeting(self):\n",
    "        print(f\"Nice to meet you, my name is {self.first_name} {self.last_name}\")\n",
    "        \n",
    "    def change_first_name(self, new_name):\n",
    "        self.first_name = new_name\n",
    "        \n",
    "        \n",
    "a = Person(29, \"John\", \"Schmidt\")\n",
    "b = Person(45, \"Amy\", \"Green\")\n",
    "\n",
    "a.greeting()\n",
    "b.greeting()"
   ]
  },
  {
   "cell_type": "code",
   "execution_count": null,
   "id": "ebb2d1bd",
   "metadata": {},
   "outputs": [],
   "source": [
    "a.change_first_name(\"James\")\n",
    "a.greeting()"
   ]
  },
  {
   "cell_type": "markdown",
   "id": "c8fff145",
   "metadata": {},
   "source": [
    "## Inheritance\n",
    "\n",
    "Being object-oriented, Python of course understands inheritance. Inheritance means that one class inherits all the methods and functions from another class."
   ]
  },
  {
   "cell_type": "code",
   "execution_count": null,
   "id": "1e532d2a",
   "metadata": {},
   "outputs": [],
   "source": [
    "class Animal:\n",
    "    def is_living(self):\n",
    "        return True\n",
    "\n",
    "# The class LandAnimal inherits the functions from Animal. This is defined by the parameter.    \n",
    "class LandAnimal(Animal):\n",
    "    def __init__(self):\n",
    "        self.has_legs = True\n",
    "        \n",
    "    def walk(self):\n",
    "        return \"tap tap\"\n",
    "    \n",
    "animal = LandAnimal()\n",
    "    \n",
    "    \n",
    "print(type(animal))\n",
    "print(isinstance(animal, LandAnimal))\n",
    "print(isinstance(animal, Animal))"
   ]
  },
  {
   "cell_type": "code",
   "execution_count": null,
   "id": "16c56c93",
   "metadata": {},
   "outputs": [],
   "source": [
    "animal.is_living()"
   ]
  },
  {
   "cell_type": "code",
   "execution_count": null,
   "id": "9cdaa5ce",
   "metadata": {},
   "outputs": [],
   "source": [
    "animal.has_legs"
   ]
  },
  {
   "cell_type": "code",
   "execution_count": null,
   "id": "ade56de1",
   "metadata": {},
   "outputs": [],
   "source": [
    "animal.walk()"
   ]
  }
 ],
 "metadata": {
  "kernelspec": {
   "display_name": "Python [conda env:scipy] *",
   "language": "python",
   "name": "conda-env-scipy-py"
  },
  "language_info": {
   "codemirror_mode": {
    "name": "ipython",
    "version": 3
   },
   "file_extension": ".py",
   "mimetype": "text/x-python",
   "name": "python",
   "nbconvert_exporter": "python",
   "pygments_lexer": "ipython3",
   "version": "3.11.3"
  },
  "toc-showmarkdowntxt": false
 },
 "nbformat": 4,
 "nbformat_minor": 5
}
