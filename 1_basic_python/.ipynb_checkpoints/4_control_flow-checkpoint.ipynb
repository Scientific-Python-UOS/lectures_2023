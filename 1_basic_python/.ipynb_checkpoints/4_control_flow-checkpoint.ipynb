{
 "cells": [
  {
   "cell_type": "markdown",
   "id": "a79c7d43",
   "metadata": {
    "tags": []
   },
   "source": [
    "# Control Flow\n",
    "\n",
    "\n",
    "A Programmers Control Flow is the order in which the Program code executes. \n",
    "\n",
    "it mainly consist of \n",
    " - Conditional statements (if, elif, nested elif) \n",
    " - for loops\n",
    " - while loops"
   ]
  },
  {
   "cell_type": "markdown",
   "id": "851e4c8e",
   "metadata": {
    "jp-MarkdownHeadingCollapsed": true,
    "tags": []
   },
   "source": [
    "## Conditional statements\n",
    "Usual Mathematical Logical Conditions can be are supported in python. \n",
    "\n",
    " - **Equals:** a == b\n",
    " - **Not Equals:** a != b\n",
    " - **Less than:** a < b\n",
    " - **Less than or equal to:** a <= b\n",
    " - **Greater than:** a > b\n",
    " - **Greater than or equal to:** a >= b"
   ]
  },
  {
   "cell_type": "code",
   "execution_count": null,
   "id": "51460ff4",
   "metadata": {},
   "outputs": [],
   "source": [
    "# play around with the value of a to see how this conditional behaves\n",
    "a = 9 \n",
    "\n",
    "\n",
    "# here you can see whitespace indentation for the first time\n",
    "# Python indentation is a way of telling a Python interpreter that \n",
    "# the group of statements belongs to a particular block of code\n",
    "\n",
    "if a < 8:\n",
    "    print(\"a is less than 8!\") # here you can see whitespace indentation for the first time\n",
    "elif a == 8:\n",
    "    print(\"a is equal to 8!\")\n",
    "elif a == 9 or a == 10:\n",
    "    print(\"a is equal to 8 or 9!\")\n",
    "elif a > 8:\n",
    "    print(\"a is greater than 10!\")\n",
    "else:\n",
    "    print(\"This will never be executed.\")"
   ]
  },
  {
   "cell_type": "markdown",
   "id": "b697a6eb",
   "metadata": {},
   "source": [
    "__Note__: there are no switch statements in python but there are... "
   ]
  },
  {
   "cell_type": "code",
   "execution_count": null,
   "id": "3bb408ae",
   "metadata": {},
   "outputs": [],
   "source": [
    "\n",
    "command = \"nuke\"\n",
    "\n",
    "\n",
    "if command == \"attack\":\n",
    "    print(\"prepraing to launch attack\")\n",
    "\n",
    "elif command == \"defend\":\n",
    "    print(\"launching defensive forces\")\n",
    "\n",
    "elif command == \"withdraw\":\n",
    "    print(\"preparing to withdraw forces\")\n",
    "    \n",
    "else:\n",
    "    print(\"Not a valid option!\")"
   ]
  },
  {
   "cell_type": "markdown",
   "id": "c828f000",
   "metadata": {},
   "source": [
    "Remember the two different versions to check if a key is in a dictionary?\n",
    "\n",
    "\n",
    "### EAFP versus LBYL\n",
    "\n",
    "The first method from the cell above was a certain idiomatic practice: **\"Look Before You Leap\"**. You first check whether something will succeed and only proceed if we know it works. While the standard for most programming languages, _pythonic coding_ follows another paradigm: **\"Its easier to ask for forgiveness than permission\"**. \n",
    "https://blogs.msdn.microsoft.com/pythonengineering/2016/06/29/idiomatic-python-eafp-versus-lbyl/"
   ]
  },
  {
   "cell_type": "code",
   "execution_count": null,
   "id": "014f4038",
   "metadata": {},
   "outputs": [],
   "source": [
    "# This is the LBYL version:\n",
    "if 'decimetres_in_meter' in convertors:\n",
    "    print(convertors['decimetres_in_meter'])\n",
    "else:\n",
    "    print(\"Wasn't in there!\")"
   ]
  },
  {
   "cell_type": "code",
   "execution_count": null,
   "id": "1b1761f0",
   "metadata": {},
   "outputs": [],
   "source": [
    "# And this the EAFP version:\n",
    "try:\n",
    "    print(convertors['decimetres_in_meter'])\n",
    "except KeyError:\n",
    "    print(\"Wasn't in there!\")"
   ]
  },
  {
   "cell_type": "markdown",
   "id": "c6b5fed4",
   "metadata": {
    "jp-MarkdownHeadingCollapsed": true,
    "tags": []
   },
   "source": [
    "---\n",
    "## While Loop\n",
    "\n",
    "With the while loop we can execute a set of statements as long as a condition is true."
   ]
  },
  {
   "cell_type": "code",
   "execution_count": null,
   "id": "7c2ae8f5",
   "metadata": {},
   "outputs": [],
   "source": [
    "ects = 0\n",
    "while ects < 120:\n",
    "\n",
    "    print(ects ,  \" ---> not enough ects to graduate\")\n",
    "    ects += 24"
   ]
  },
  {
   "cell_type": "markdown",
   "id": "d4a1196b",
   "metadata": {},
   "source": [
    "### `break` and `continue` statements in while loops\n",
    "\n",
    " - With the `break` statement we can stop the loop even if the while condition is true:\n",
    " - With the `continue` statement we can stop the current iteration, and continue with the next: "
   ]
  },
  {
   "cell_type": "code",
   "execution_count": null,
   "id": "ecc09836",
   "metadata": {},
   "outputs": [],
   "source": [
    "ects = 0\n",
    "while ects < 140:\n",
    "\n",
    "    print(ects ,  \" ---> not enough ects to graduate\")\n",
    "    if ects == 96:\n",
    "        print(ects ,  \" ---> Note: Masters Student, Congrats you graduated\")\n",
    "        break\n",
    "\n",
    "  \n",
    "    ects += 24"
   ]
  },
  {
   "cell_type": "code",
   "execution_count": null,
   "id": "446a6295",
   "metadata": {},
   "outputs": [],
   "source": [
    "i = 0\n",
    "while i < 6:\n",
    "    \n",
    "    i += 1\n",
    "    if i == 3:\n",
    "        continue\n",
    "    print(i)"
   ]
  },
  {
   "cell_type": "markdown",
   "id": "157b2a25",
   "metadata": {
    "jp-MarkdownHeadingCollapsed": true,
    "tags": []
   },
   "source": [
    "---\n",
    "## For Loops\n",
    "A for loop is used for iterating over a sequence (that is either a list, a tuple, a dictionary, a set, or a string)."
   ]
  },
  {
   "cell_type": "code",
   "execution_count": null,
   "id": "14ba704b",
   "metadata": {},
   "outputs": [],
   "source": [
    "numbers = [1, 2, 3, 4]\n",
    "\n",
    "for i in numbers:\n",
    "    print(i)"
   ]
  },
  {
   "cell_type": "markdown",
   "id": "b6a7208c",
   "metadata": {},
   "source": [
    "The same code can be writen like following ways as well:"
   ]
  },
  {
   "cell_type": "code",
   "execution_count": null,
   "id": "a6fbfdca",
   "metadata": {},
   "outputs": [],
   "source": [
    "for i in [1,2,3,4]:\n",
    "    print(i)"
   ]
  },
  {
   "cell_type": "code",
   "execution_count": null,
   "id": "e385be04",
   "metadata": {},
   "outputs": [],
   "source": [
    "for i in \"SciPy\":\n",
    "    print(i)"
   ]
  },
  {
   "cell_type": "markdown",
   "id": "f8a74123",
   "metadata": {},
   "source": [
    "For loops can be also used to `zip` multiple variables together:"
   ]
  },
  {
   "cell_type": "code",
   "execution_count": null,
   "id": "10431bc8",
   "metadata": {},
   "outputs": [],
   "source": [
    "names = ['paula', 'marcel', 'marine']\n",
    "ages = [20, 22, 19]\n",
    "countries = [\"France\", \"Germany\", \"Chile\"]  \n",
    "for name, age,  country in zip(names, ages, countries):\n",
    "    print(name, \"is\", age, \"years old and from\",  country)"
   ]
  },
  {
   "cell_type": "markdown",
   "id": "1c6f287d",
   "metadata": {},
   "source": [
    "With Python's build in fucntion `range()` you can create a sequence. It is also helpful for loop iterations. \n",
    "You can use range() if you know you want to do something x times:"
   ]
  },
  {
   "cell_type": "code",
   "execution_count": null,
   "id": "898772aa",
   "metadata": {},
   "outputs": [],
   "source": [
    "for i in range(3):\n",
    "    print(i)"
   ]
  },
  {
   "cell_type": "markdown",
   "id": "6fa116f8",
   "metadata": {},
   "source": [
    "You can also define a `start`, `stop` and `stepsize`:"
   ]
  },
  {
   "cell_type": "code",
   "execution_count": null,
   "id": "89d0a94d",
   "metadata": {},
   "outputs": [],
   "source": [
    "for a in range(0,25,5):\n",
    "    print(a)"
   ]
  }
 ],
 "metadata": {
  "kernelspec": {
   "display_name": "Python 3 (ipykernel)",
   "language": "python",
   "name": "python3"
  },
  "language_info": {
   "codemirror_mode": {
    "name": "ipython",
    "version": 3
   },
   "file_extension": ".py",
   "mimetype": "text/x-python",
   "name": "python",
   "nbconvert_exporter": "python",
   "pygments_lexer": "ipython3",
   "version": "3.9.12"
  }
 },
 "nbformat": 4,
 "nbformat_minor": 5
}
