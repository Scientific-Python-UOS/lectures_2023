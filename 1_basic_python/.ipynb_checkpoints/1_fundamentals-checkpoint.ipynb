{
 "cells": [
  {
   "cell_type": "markdown",
   "id": "c3782837",
   "metadata": {
    "jp-MarkdownHeadingCollapsed": true,
    "tags": []
   },
   "source": [
    "# Printing and Comments "
   ]
  },
  {
   "cell_type": "markdown",
   "id": "002e071b",
   "metadata": {},
   "source": [
    "You might wonder why we start this lecture with printing and comments. <br>\n",
    "But printing as well as comments are important to see what your code actually does. "
   ]
  },
  {
   "cell_type": "markdown",
   "id": "d095a597",
   "metadata": {},
   "source": [
    "## The print() function"
   ]
  },
  {
   "cell_type": "markdown",
   "id": "6f057db8",
   "metadata": {},
   "source": [
    "The print function \"prints\" an object. This object does not have to belonge to the \"inbuild\" Python objects, it can also be an object that we created ourselfs (but more to creating objects later). In the first few jupyter notebooks you work on, you might ask yourself why printing is so important, since jupyter shows you the output of a cell. <br>\n",
    "But in later notebooks as the code gets more and more complex you can see why we use it :)"
   ]
  },
  {
   "cell_type": "code",
   "execution_count": null,
   "id": "92e6b6ba",
   "metadata": {},
   "outputs": [],
   "source": [
    "print(1)"
   ]
  },
  {
   "cell_type": "code",
   "execution_count": null,
   "id": "9a613c4e",
   "metadata": {},
   "outputs": [],
   "source": [
    "print(\"hello world\")"
   ]
  },
  {
   "cell_type": "code",
   "execution_count": null,
   "id": "0ce66cd2",
   "metadata": {},
   "outputs": [],
   "source": [
    "print(2 + 3)"
   ]
  },
  {
   "cell_type": "markdown",
   "id": "c5a7fed6",
   "metadata": {},
   "source": [
    "<div class=\"alert alert-block alert-info\">\n",
    "<b>Exercise:</b> \n",
    "    <br>\n",
    "    Experiment with the print function. What can you print and what not?\n",
    "</div>"
   ]
  },
  {
   "cell_type": "markdown",
   "id": "ec761978",
   "metadata": {},
   "source": [
    "<div class=\"alert alert-block alert-success\">\n",
    "<b>Tip:</b> \n",
    "    <br>\n",
    "    When you write longer code or more complex functions and something is not working and you cannot see why, do not despair! Try to print out everything that might seem relevant. Through that you can often find out what is going wrong.\n",
    "</div>"
   ]
  },
  {
   "cell_type": "markdown",
   "id": "c4bbabb9",
   "metadata": {},
   "source": [
    "---"
   ]
  },
  {
   "cell_type": "markdown",
   "id": "ff124dc7",
   "metadata": {},
   "source": [
    "## Comments"
   ]
  },
  {
   "cell_type": "markdown",
   "id": "1580974a",
   "metadata": {},
   "source": [
    "Comments are important to describe what is going on in your code, so that others (and you) can understand it better. <br>\n",
    "In python comments are written preceded by a `#`."
   ]
  },
  {
   "cell_type": "code",
   "execution_count": null,
   "id": "d00d5c3d",
   "metadata": {},
   "outputs": [],
   "source": [
    "# this is a comment"
   ]
  },
  {
   "cell_type": "markdown",
   "id": "6f9723bf",
   "metadata": {},
   "source": [
    "<div class=\"alert alert-block alert-warning\">\n",
    "<b>Important:</b> \n",
    "    <br>\n",
    "    Always try to write meaningful comments for your code. This will save you and others a lot of headache when trying to understand your code.\n",
    "</div>"
   ]
  },
  {
   "cell_type": "markdown",
   "id": "8236e51c",
   "metadata": {},
   "source": [
    "---"
   ]
  },
  {
   "cell_type": "markdown",
   "id": "a21b6ef7",
   "metadata": {},
   "source": [
    "One more thing ... the official styleguide"
   ]
  },
  {
   "cell_type": "markdown",
   "id": "11e77448",
   "metadata": {},
   "source": [
    "## PEP 8 Naming conventions\n",
    "[PEP 8](https://www.python.org/dev/peps/pep-0008/), i.e. the Python Enhancement Proposal number 8, is a style guide for writing Python code. Having an official style guide makes Python code look really similar across different projects. It's role in the success of Python should not be underestimated. If you are unsure about the style of your code, have a look at PEP 8. And here are the PEP 8 recommendations for variable names:  \n",
    "\n",
    "`module_name, package_name, method_name, function_name, global_var_name, instance_var_name, function_parameter_name, local_var_name`\n",
    "\n",
    "`ClassName, ExceptionName`\n",
    "\n",
    "`GLOBAL_CONSTANT_NAME`"
   ]
  },
  {
   "cell_type": "markdown",
   "id": "f21ebb23",
   "metadata": {},
   "source": [
    "You do not have to understand all of these names right now :)"
   ]
  },
  {
   "cell_type": "markdown",
   "id": "2aa012d3",
   "metadata": {},
   "source": [
    "<div class=\"alert alert-block alert-warning\">\n",
    "<b>Important:</b> \n",
    "    <br>\n",
    "    Please stick to the official python styleguide, especially when it comes to your homework.\n",
    "</div>"
   ]
  },
  {
   "cell_type": "markdown",
   "id": "40eddcb8",
   "metadata": {
    "jp-MarkdownHeadingCollapsed": true,
    "tags": []
   },
   "source": [
    "---\n",
    "# Basic Types"
   ]
  },
  {
   "cell_type": "markdown",
   "id": "3a472507",
   "metadata": {},
   "source": [
    "## 1. Integers"
   ]
  },
  {
   "cell_type": "markdown",
   "id": "ff5dd49e",
   "metadata": {},
   "source": [
    "Integers belong to the basic types in python. They can be positive or negative."
   ]
  },
  {
   "cell_type": "code",
   "execution_count": null,
   "id": "d67a1c10",
   "metadata": {},
   "outputs": [],
   "source": [
    "1"
   ]
  },
  {
   "cell_type": "code",
   "execution_count": null,
   "id": "7040f638",
   "metadata": {},
   "outputs": [],
   "source": [
    "-28"
   ]
  },
  {
   "cell_type": "markdown",
   "id": "16388b11",
   "metadata": {},
   "source": [
    "With the inbuild function `type()` you can find out the type of a certain object. <br>"
   ]
  },
  {
   "cell_type": "code",
   "execution_count": null,
   "id": "8637159d",
   "metadata": {},
   "outputs": [],
   "source": [
    "type(14)"
   ]
  },
  {
   "cell_type": "code",
   "execution_count": null,
   "id": "6e9bcc22",
   "metadata": {},
   "outputs": [],
   "source": [
    "type(-112)"
   ]
  },
  {
   "cell_type": "markdown",
   "id": "254cdd97",
   "metadata": {},
   "source": [
    "Since integers belong to the `basic types` and therefore are objects, they come with methods, so they provide us with different functions.\n",
    "Integers have a lot of methods which we can check with dir."
   ]
  },
  {
   "cell_type": "code",
   "execution_count": null,
   "id": "bf224986",
   "metadata": {},
   "outputs": [],
   "source": [
    "dir(14)"
   ]
  },
  {
   "cell_type": "markdown",
   "id": "b5498142",
   "metadata": {},
   "source": [
    "Most of these methods are dunder methods (**d**ouble **under**) which determine the types behaviour for built-in operators and functions.<br>\n",
    "For example `+` which will call `__add__`"
   ]
  },
  {
   "cell_type": "code",
   "execution_count": null,
   "id": "6a820030",
   "metadata": {},
   "outputs": [],
   "source": [
    "(1).__add__(1)"
   ]
  },
  {
   "cell_type": "code",
   "execution_count": null,
   "id": "a816194d",
   "metadata": {},
   "outputs": [],
   "source": [
    "1 + 1"
   ]
  },
  {
   "cell_type": "markdown",
   "id": "3773e4dc",
   "metadata": {},
   "source": [
    "## 2. Floats (floating point number)"
   ]
  },
  {
   "cell_type": "markdown",
   "id": "22671806",
   "metadata": {},
   "source": [
    "Floats also belonge to the `basic types`. They can be written as a decimal number `1.23` or in a scientific notation `123e-2`. <br>\n",
    "If you are using the decimal number notation make sure you are using a dott and not a comma. Otherwise python will automatically create a tuple for you. We will see what a tuple is in another notebook."
   ]
  },
  {
   "cell_type": "code",
   "execution_count": null,
   "id": "23fd3fd1",
   "metadata": {},
   "outputs": [],
   "source": [
    "1.23"
   ]
  },
  {
   "cell_type": "code",
   "execution_count": null,
   "id": "4fd6a2d0",
   "metadata": {},
   "outputs": [],
   "source": [
    "1,23"
   ]
  },
  {
   "cell_type": "code",
   "execution_count": null,
   "id": "59da48e9",
   "metadata": {},
   "outputs": [],
   "source": [
    "type((1,23))"
   ]
  },
  {
   "cell_type": "code",
   "execution_count": null,
   "id": "7e422312",
   "metadata": {},
   "outputs": [],
   "source": [
    "123e-2"
   ]
  },
  {
   "cell_type": "code",
   "execution_count": null,
   "id": "cd1152f7",
   "metadata": {},
   "outputs": [],
   "source": [
    "type(1.23)"
   ]
  },
  {
   "cell_type": "code",
   "execution_count": null,
   "id": "1dce178c",
   "metadata": {},
   "outputs": [],
   "source": [
    "type(123e-2)"
   ]
  },
  {
   "cell_type": "markdown",
   "id": "a39464eb",
   "metadata": {},
   "source": [
    "## numeric operators"
   ]
  },
  {
   "cell_type": "markdown",
   "id": "c933f9e4",
   "metadata": {},
   "source": [
    "Like you would expect we can use numeric operators."
   ]
  },
  {
   "cell_type": "code",
   "execution_count": null,
   "id": "d795bf49",
   "metadata": {},
   "outputs": [],
   "source": [
    "a = 2\n",
    "b = 3\n",
    "\n",
    "print('a + b = ', a + b)\n",
    "print('a - b = ', a - b)\n",
    "print('a * b = ', a * b)\n",
    "print('a ** b = ', a ** b)  # a to the power of b (a^b is a bit-wise XOR!)\n",
    "print('a / b = ', a / b)\n",
    "print('a // b = ', a // b)  # Floor division \n",
    "print('b % a = ', b % a)    # Modulo operator (divide, return remainder)"
   ]
  },
  {
   "cell_type": "markdown",
   "id": "db0746e1",
   "metadata": {},
   "source": [
    "One thing to note is that the type of result may differ from the input:"
   ]
  },
  {
   "cell_type": "code",
   "execution_count": null,
   "id": "53e58e44",
   "metadata": {},
   "outputs": [],
   "source": [
    "print(type(a), type(b), type(a / b))"
   ]
  },
  {
   "cell_type": "markdown",
   "id": "6e29377e",
   "metadata": {},
   "source": [
    "---\n",
    "## 3. Strings"
   ]
  },
  {
   "cell_type": "markdown",
   "id": "b934d82e",
   "metadata": {},
   "source": [
    "A **`string`** is a sequence of characters written in between double quotes `\" \"`"
   ]
  },
  {
   "cell_type": "code",
   "execution_count": null,
   "id": "ba329467",
   "metadata": {},
   "outputs": [],
   "source": [
    "\"this is a string\""
   ]
  },
  {
   "cell_type": "markdown",
   "id": "1ba6166b",
   "metadata": {},
   "source": [
    "We can exchange or even add double quotes to single quotes, as long as we dont mix them."
   ]
  },
  {
   "cell_type": "code",
   "execution_count": null,
   "id": "e40d7657",
   "metadata": {},
   "outputs": [],
   "source": [
    "'this is also a string'"
   ]
  },
  {
   "cell_type": "code",
   "execution_count": null,
   "id": "e4d6b200",
   "metadata": {},
   "outputs": [],
   "source": [
    "\"'and even this is a string'\""
   ]
  },
  {
   "cell_type": "code",
   "execution_count": null,
   "id": "27f70251",
   "metadata": {},
   "outputs": [],
   "source": [
    "\"but this is not a string'"
   ]
  },
  {
   "cell_type": "markdown",
   "id": "96c4991e",
   "metadata": {},
   "source": [
    "If we want our string to cointain both single and double quotes we can make use of triple quotes.\n",
    "This also allows us to include line breaks."
   ]
  },
  {
   "cell_type": "code",
   "execution_count": null,
   "id": "f94d1a89",
   "metadata": {},
   "outputs": [],
   "source": [
    "a = \"\"\"\n",
    "    hello\n",
    "    \"'world'\"\n",
    "    \"\"\"\n",
    "print(a)"
   ]
  },
  {
   "cell_type": "markdown",
   "id": "f43579a4",
   "metadata": {},
   "source": [
    "## string operators\n",
    "Most of the numeric operatores also work for strings."
   ]
  },
  {
   "cell_type": "code",
   "execution_count": null,
   "id": "3f52f5c9",
   "metadata": {},
   "outputs": [],
   "source": [
    "'hello' + 'world'"
   ]
  },
  {
   "cell_type": "code",
   "execution_count": null,
   "id": "b97199d0",
   "metadata": {},
   "outputs": [],
   "source": [
    "'hello' * 3"
   ]
  },
  {
   "cell_type": "markdown",
   "id": "e3d4492a",
   "metadata": {},
   "source": [
    "<div class=\"alert alert-block alert-info\">\n",
    "<b>Exercise:</b> \n",
    "    <br> Which numeric opperators do not work for strings? \n",
    "</div>"
   ]
  },
  {
   "cell_type": "code",
   "execution_count": null,
   "id": "000deeff",
   "metadata": {},
   "outputs": [],
   "source": [
    "# here is some space for you to experiment"
   ]
  },
  {
   "cell_type": "markdown",
   "id": "a37d764f",
   "metadata": {},
   "source": [
    "---\n",
    "## 4. Booleans"
   ]
  },
  {
   "cell_type": "markdown",
   "id": "fd122776",
   "metadata": {},
   "source": [
    "A **`boolean`** can have the value `true` or `false` or respectively `1` and `0`."
   ]
  },
  {
   "cell_type": "code",
   "execution_count": null,
   "id": "8e776883",
   "metadata": {},
   "outputs": [],
   "source": [
    "True"
   ]
  },
  {
   "cell_type": "code",
   "execution_count": null,
   "id": "7b86c989",
   "metadata": {},
   "outputs": [],
   "source": [
    "False"
   ]
  },
  {
   "cell_type": "markdown",
   "id": "e6cd55a1",
   "metadata": {},
   "source": [
    "## boolean operators"
   ]
  },
  {
   "cell_type": "markdown",
   "id": "e412d7fa",
   "metadata": {},
   "source": [
    "Boolean operators can be used to compare two things."
   ]
  },
  {
   "cell_type": "code",
   "execution_count": null,
   "id": "987daca7",
   "metadata": {},
   "outputs": [],
   "source": [
    "a = 2\n",
    "b = 3\n",
    "\n",
    "print('a > b ?', a > b)    \n",
    "print('a >= b ?', a >= b)  \n",
    "print('a == b ?', a == b)   \n",
    "print('a != b ?', a != b)  # a not equal b\n",
    "print('a < b ?', a < b)\n",
    "print('a <= b ?', a <= b)"
   ]
  },
  {
   "cell_type": "markdown",
   "id": "ac9be200",
   "metadata": {},
   "source": [
    "<div class=\"alert alert-block alert-warning\">\n",
    "<b>Important:</b> \n",
    "    <br> Remember that you have to use == to compare two things. If you just use = you are assigning a variable when you are using a name (more to that later) or get an error.\n",
    "</div>"
   ]
  },
  {
   "cell_type": "code",
   "execution_count": null,
   "id": "55c0d2e6",
   "metadata": {},
   "outputs": [],
   "source": [
    "2 = 3"
   ]
  },
  {
   "cell_type": "markdown",
   "id": "4ae9a92e",
   "metadata": {},
   "source": [
    "We can also use boolean opperators to perform logical opperations on booleans."
   ]
  },
  {
   "cell_type": "code",
   "execution_count": null,
   "id": "a20c5ca6",
   "metadata": {},
   "outputs": [],
   "source": [
    "a = (1 > 3)\n",
    "b = 3 == 3\n",
    "print(a)\n",
    "print(b)\n",
    "\n",
    "print(a or b)\n",
    "print(a and b)\n",
    "print(not b)\n",
    "\n",
    "#There is also | and &, which are equal for booleans, but different for numbers (work on binary level)"
   ]
  },
  {
   "cell_type": "markdown",
   "id": "470eb78d",
   "metadata": {},
   "source": [
    "### is operator\n",
    "The is operator also checks if two variables are the same. But it does not check for the value but whether or not both variables refer to the same object. <br>"
   ]
  },
  {
   "cell_type": "code",
   "execution_count": null,
   "id": "d564ec26",
   "metadata": {},
   "outputs": [],
   "source": [
    "a = 300\n",
    "b = 300\n",
    "print(a is b)"
   ]
  },
  {
   "cell_type": "code",
   "execution_count": null,
   "id": "85b4ce20",
   "metadata": {},
   "outputs": [],
   "source": [
    "b = a\n",
    "print(a is b)"
   ]
  },
  {
   "cell_type": "markdown",
   "id": "f1f230e4",
   "metadata": {},
   "source": [
    "Internally it checks for the objects ids/memory adresses, so the place in the computer's memory where the object is saved."
   ]
  },
  {
   "cell_type": "code",
   "execution_count": null,
   "id": "1f028a19",
   "metadata": {},
   "outputs": [],
   "source": [
    "print(id(a))\n",
    "print(id(b))"
   ]
  },
  {
   "cell_type": "markdown",
   "id": "bce4cbad",
   "metadata": {},
   "source": [
    "If you now run this line you can see that the id of `a` changes even though we did not change the value of `a`. This is due to how the computer internally works with variable assignment."
   ]
  },
  {
   "cell_type": "code",
   "execution_count": null,
   "id": "7fe1d110",
   "metadata": {},
   "outputs": [],
   "source": [
    "a = 300\n",
    "print(id(a))"
   ]
  },
  {
   "cell_type": "markdown",
   "id": "ade1a72f",
   "metadata": {
    "jp-MarkdownHeadingCollapsed": true,
    "tags": []
   },
   "source": [
    "---\n",
    "# Variables"
   ]
  },
  {
   "cell_type": "markdown",
   "id": "2418343d",
   "metadata": {},
   "source": [
    "Until now we covered the basic types, but with just several unconnected objects (so a number, string or boolean) we cannot really program. For that we have to remember our objects somehow to make them interact or change them. <br>\n",
    "For that we use so called `variables` or names. We can assign an object to a variable by writing the variable on the left then writing $ = $ and then the object on the right side, like this: "
   ]
  },
  {
   "cell_type": "code",
   "execution_count": null,
   "id": "5fb19641",
   "metadata": {},
   "outputs": [],
   "source": [
    "variable1 = 10"
   ]
  },
  {
   "cell_type": "markdown",
   "id": "d6859b6d",
   "metadata": {},
   "source": [
    "We cannot only assign integer objects to variables but also other objects and variables to variables:"
   ]
  },
  {
   "cell_type": "code",
   "execution_count": null,
   "id": "99028ad9",
   "metadata": {},
   "outputs": [],
   "source": [
    "string1 = \"hello\""
   ]
  },
  {
   "cell_type": "code",
   "execution_count": null,
   "id": "36f8a4fe",
   "metadata": {},
   "outputs": [],
   "source": [
    "boolean1 = True"
   ]
  },
  {
   "cell_type": "code",
   "execution_count": null,
   "id": "ede8080b",
   "metadata": {},
   "outputs": [],
   "source": [
    "variable2 = variable1"
   ]
  },
  {
   "cell_type": "markdown",
   "id": "dea86587",
   "metadata": {},
   "source": [
    "<div class=\"alert alert-block alert-info\">\n",
    "<b>Exercise:</b> \n",
    "    <br>\n",
    "    What happens to variable2 when you now change variable1?\n",
    "    <br>\n",
    "    a: variable2 also changes\n",
    "    <br>\n",
    "    b: variable2 stays the same\n",
    "    <br>\n",
    "    c: everything breaks\n",
    "</div>"
   ]
  },
  {
   "cell_type": "code",
   "execution_count": null,
   "id": "7c84d3d6",
   "metadata": {},
   "outputs": [],
   "source": [
    "# some space to experiment"
   ]
  },
  {
   "cell_type": "markdown",
   "id": "b6c47948",
   "metadata": {},
   "source": [
    "By assigning a new value to our variable we do not change the original object. We create a new object and give it the same name. If we then assign a new object to variable2 the old object is lost and it will eventually be collected by the garbage collector (not a metapher). "
   ]
  },
  {
   "cell_type": "code",
   "execution_count": null,
   "id": "b5970aa7",
   "metadata": {},
   "outputs": [],
   "source": [
    "variable2 = \"now a string\""
   ]
  },
  {
   "cell_type": "markdown",
   "id": "def654c8",
   "metadata": {},
   "source": [
    "<div class=\"alert alert-block alert-warning\">\n",
    "<b>Important:</b> \n",
    "    <br>\n",
    "    Always try to make your variable names as meaningful as possible. In a longer, more complecated code meaningful variable assingments make it a lot easier to understand what is going on.\n",
    "</div>"
   ]
  },
  {
   "cell_type": "markdown",
   "id": "476a2a22",
   "metadata": {},
   "source": [
    "## Typing"
   ]
  },
  {
   "cell_type": "markdown",
   "id": "a9811f0f",
   "metadata": {},
   "source": [
    "We have already seen before that we can check the type of an object with the `type()` function. <br>\n",
    "As we have seen now we can \"change\" the types of our variables dynamically, therefore we say that Python is **dynamically typed**."
   ]
  },
  {
   "cell_type": "code",
   "execution_count": null,
   "id": "ac5b0f3d",
   "metadata": {},
   "outputs": [],
   "source": [
    "var = 2\n",
    "print(type(var))\n",
    "\n",
    "var = \"two\"\n",
    "print(type(var))\n",
    "\n",
    "var = False\n",
    "print(type(var))"
   ]
  },
  {
   "cell_type": "markdown",
   "id": "b1b87942",
   "metadata": {},
   "source": [
    "We also say that Python is **strongly typed** because the actual objects dont change their type."
   ]
  }
 ],
 "metadata": {
  "kernelspec": {
   "display_name": "Python 3 (ipykernel)",
   "language": "python",
   "name": "python3"
  },
  "language_info": {
   "codemirror_mode": {
    "name": "ipython",
    "version": 3
   },
   "file_extension": ".py",
   "mimetype": "text/x-python",
   "name": "python",
   "nbconvert_exporter": "python",
   "pygments_lexer": "ipython3",
   "version": "3.9.12"
  }
 },
 "nbformat": 4,
 "nbformat_minor": 5
}
