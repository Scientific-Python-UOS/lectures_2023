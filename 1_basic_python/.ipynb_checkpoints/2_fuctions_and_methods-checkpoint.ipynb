{
 "cells": [
  {
   "cell_type": "markdown",
   "id": "63526945-35e6-45e7-9a00-e25b2152c6ee",
   "metadata": {
    "jp-MarkdownHeadingCollapsed": true,
    "tags": []
   },
   "source": [
    "# Functions"
   ]
  },
  {
   "cell_type": "markdown",
   "id": "5ae33dab-842f-412c-a1ce-8241d4c7b564",
   "metadata": {
    "tags": []
   },
   "source": [
    "These will be very familiar to anyone who has programmed in any language, and work like you\n",
    "would expect.\n",
    "\n",
    "\n",
    "A quick __summary__ :\n",
    "\n",
    "- A function is a __block of code__ which runs only when it is called. \n",
    "- You can pass data, known as `parameter`, into a function.\n",
    "- A function can `return` data as a result."
   ]
  },
  {
   "cell_type": "code",
   "execution_count": null,
   "id": "c7fa5788",
   "metadata": {},
   "outputs": [],
   "source": [
    "# There are thousands of functions that operate on things.\n",
    "print(type(3))\n",
    "print(len('hello'))\n",
    "print(round(3.3))"
   ]
  },
  {
   "cell_type": "markdown",
   "id": "cf68b5ea",
   "metadata": {},
   "source": [
    "<div class=\"alert alert-block alert-success\">\n",
    "<b>Tip:</b> <br>\n",
    "    To find out what a function does, you can type it's name and then a question mark to\n",
    "get some information. Or, to see what arguments it takes, you can type its name, an open\n",
    "parenthesis, and hit shift-tab. \n",
    "    <br>\n",
    "    <b> Try it out yourself! </b>\n",
    "</div>"
   ]
  },
  {
   "cell_type": "code",
   "execution_count": null,
   "id": "50daac5d",
   "metadata": {},
   "outputs": [],
   "source": [
    "round?"
   ]
  },
  {
   "cell_type": "code",
   "execution_count": null,
   "id": "b5196535",
   "metadata": {},
   "outputs": [],
   "source": [
    "round()"
   ]
  },
  {
   "cell_type": "markdown",
   "id": "cebe36b8",
   "metadata": {},
   "source": [
    "In Python, **functions are first-class objects!**"
   ]
  },
  {
   "cell_type": "code",
   "execution_count": null,
   "id": "9f6ea484",
   "metadata": {},
   "outputs": [],
   "source": [
    "a_function = print\n",
    "a_function(\"Hello, world!\")\n",
    "print(\"What it is:\", a_function)\n",
    "print(\"type:\", type(a_function))"
   ]
  },
  {
   "cell_type": "markdown",
   "id": "1c007093",
   "metadata": {},
   "source": [
    "<br><br><br>"
   ]
  },
  {
   "cell_type": "markdown",
   "id": "22c2e41b",
   "metadata": {},
   "source": [
    "\n",
    "## writing functions"
   ]
  },
  {
   "cell_type": "markdown",
   "id": "2c480a43",
   "metadata": {},
   "source": [
    "As we have seen before we can use one or more `parameters` and a `return statement` for a function.\n",
    "<br>\n",
    "A function in python is defined by using the keyword `def`."
   ]
  },
  {
   "cell_type": "code",
   "execution_count": null,
   "id": "0370a40a",
   "metadata": {},
   "outputs": [],
   "source": [
    "# we define the function using def. The name of the function is always in lower snake case.\n",
    "\n",
    "def a_function():\n",
    "    print(\"This is another function without parameter\")\n",
    "    "
   ]
  },
  {
   "cell_type": "code",
   "execution_count": null,
   "id": "5fc79b87",
   "metadata": {},
   "outputs": [],
   "source": [
    "# lets try it out\n",
    "a_function()"
   ]
  },
  {
   "cell_type": "code",
   "execution_count": null,
   "id": "2bccbfe4",
   "metadata": {},
   "outputs": [],
   "source": [
    "# let's write another function, this time with a parameter and a value to return\n",
    "\n",
    "def another_function(parameter):  # we here give our function a parameter, this can also be empty\n",
    "    # do something in a function\n",
    "    parameter += 1\n",
    "    \n",
    "    # use the return statement when you want to return a value\n",
    "    return parameter"
   ]
  },
  {
   "cell_type": "code",
   "execution_count": null,
   "id": "a4bed3db",
   "metadata": {},
   "outputs": [],
   "source": [
    "print(another_function(3))"
   ]
  },
  {
   "cell_type": "markdown",
   "id": "c644421a",
   "metadata": {},
   "source": [
    "<div class=\"alert alert-block alert-warning\">\n",
    "<b>Important:</b> \n",
    "    <br> \n",
    "    Always make sure whether and what you expect the function to return something, otherwise you can get and error!\n",
    "</div>"
   ]
  },
  {
   "cell_type": "code",
   "execution_count": null,
   "id": "b0f29e45",
   "metadata": {},
   "outputs": [],
   "source": [
    "a = another_function() + 1"
   ]
  },
  {
   "cell_type": "markdown",
   "id": "e9f40377",
   "metadata": {},
   "source": [
    "We can pass different data in the same function from different calls. "
   ]
  },
  {
   "cell_type": "code",
   "execution_count": null,
   "id": "e0a194aa",
   "metadata": {},
   "outputs": [],
   "source": [
    "def send_email(name):\n",
    "    print(\"sending email to \" + name)\n",
    "\n",
    "\n",
    "send_email(\"Guido van Rossum\")\n",
    "send_email(\"Elon Mask\")\n",
    "send_email(\"Putin\")\n"
   ]
  },
  {
   "cell_type": "markdown",
   "id": "fd663466",
   "metadata": {},
   "source": [
    "Let's come back to our `parameters`. \n",
    "<br>\n",
    "You can pass arguments in your function. By default your function must pass the defined number of parameter while calling them."
   ]
  },
  {
   "cell_type": "code",
   "execution_count": 14,
   "id": "df898226",
   "metadata": {},
   "outputs": [
    {
     "name": "stdout",
     "output_type": "stream",
     "text": [
      "todays menu: \n",
      "pizza\n",
      "cola\n",
      "pudding\n"
     ]
    }
   ],
   "source": [
    "def feed_the_homeless(main_course, drink, desert):\n",
    "    print(\"todays menu: \")\n",
    "    print(main_course)\n",
    "    print(drink)\n",
    "    print(desert)\n",
    "\n",
    "\n",
    "feed_the_homeless(\"pizza\", \"cola\" , \"pudding\")"
   ]
  },
  {
   "cell_type": "markdown",
   "id": "18d7b6dc",
   "metadata": {},
   "source": [
    "You can define `default values` in the function. These values do not have to be passed when using the function.\n",
    "\n",
    "Always write the default values after you defined all your non-default values."
   ]
  },
  {
   "cell_type": "code",
   "execution_count": null,
   "id": "40cb8a07",
   "metadata": {},
   "outputs": [],
   "source": [
    "def feed_the_homeless(drink, desert, main_course = \"Soup\"):\n",
    "\n",
    "    print(\"todays menu: \")\n",
    "    print(main_course)\n",
    "    print(drink)\n",
    "    print(desert)\n",
    "\n",
    "\n",
    "feed_the_homeless(\"cola\" , \"pudding\")"
   ]
  },
  {
   "cell_type": "markdown",
   "id": "db5d5e82",
   "metadata": {},
   "source": [
    "But default values can also be replaced. Here default arguments must follow non-default arguments."
   ]
  },
  {
   "cell_type": "code",
   "execution_count": null,
   "id": "e5e91847",
   "metadata": {},
   "outputs": [],
   "source": [
    "def feed_the_homeless(drink, desert, main_course = \"Soup\"):\n",
    "\n",
    "    print(\"todays menu:\")\n",
    "    print(main_course)\n",
    "    print(drink)\n",
    "    print(desert)\n",
    "\n",
    "\n",
    "feed_the_homeless(\"cola\" , \"pudding\",main_course = \"pizzza\")"
   ]
  },
  {
   "cell_type": "markdown",
   "id": "0ce7132c",
   "metadata": {},
   "source": [
    "If the name of the parameters are defined then it can be writen in any order from **\"function call\"**"
   ]
  },
  {
   "cell_type": "code",
   "execution_count": null,
   "id": "98dae69a",
   "metadata": {},
   "outputs": [],
   "source": [
    "feed_the_homeless(drink = \"cola\", main_course = \"pizzza\", desert = \"pudding\")"
   ]
  },
  {
   "cell_type": "markdown",
   "id": "3f60111e",
   "metadata": {},
   "source": [
    "<div class=\"alert alert-block alert-info\">\n",
    "<b>Exercise:</b> \n",
    "    <br>\n",
    "    Write a function that:\n",
    "    <br>\n",
    "    - takes 2 numbers\n",
    "    <br>\n",
    "    - adds them together\n",
    "    <br>\n",
    "    - returns the result\n",
    "    <br>\n",
    "    - prints out \"I like addition\" by default, but can print a text given by the user\n",
    "    <br>\n",
    "</div>"
   ]
  },
  {
   "cell_type": "code",
   "execution_count": null,
   "id": "8d5d1d3a",
   "metadata": {},
   "outputs": [],
   "source": [
    "# your function"
   ]
  },
  {
   "cell_type": "markdown",
   "id": "970d0176",
   "metadata": {},
   "source": [
    "<br>\n",
    "<br>\n",
    "<br>"
   ]
  },
  {
   "cell_type": "markdown",
   "id": "cd4595d8",
   "metadata": {
    "jp-MarkdownHeadingCollapsed": true,
    "tags": []
   },
   "source": [
    "---\n",
    "# Methods"
   ]
  },
  {
   "cell_type": "markdown",
   "id": "13ff76ca",
   "metadata": {},
   "source": [
    "In the simplest terms, you can think of an object as a containing both data and behavior, i.e. functions that operate on that data. For example, strings in Python are\n",
    "objects that contain a set of characters and also various functions that operate on the set of\n",
    "characters. When bundled in an object, these functions are called \"methods\".\n",
    "\n",
    "Instead of the \"normal\" `function(arguments)` syntax, methods are called using the\n",
    "syntax `object.method(arguments)`."
   ]
  },
  {
   "cell_type": "code",
   "execution_count": null,
   "id": "b1577a4a",
   "metadata": {},
   "outputs": [],
   "source": [
    "# A string is actually an object\n",
    "a = 'hello, world'\n",
    "b = 5\n",
    "print(a, type(a))\n",
    "print(b, type(b))"
   ]
  },
  {
   "cell_type": "code",
   "execution_count": null,
   "id": "70031671",
   "metadata": {},
   "outputs": [],
   "source": [
    "# Objects have bundled methods\n",
    "print(a.capitalize())\n",
    "print(a.replace('l', 'X'))\n",
    "print(a.lower())\n",
    "print(a.upper())\n",
    "print(a.isnumeric())\n",
    "print(a.isalpha()) \n",
    "print(a.isalnum())"
   ]
  },
  {
   "cell_type": "markdown",
   "id": "7bbd9a76",
   "metadata": {},
   "source": [
    "With `dir(\"\")` you can see all inbuild methods for strings. Ignore the ones with the double-underscore."
   ]
  },
  {
   "cell_type": "code",
   "execution_count": null,
   "id": "62478d1e",
   "metadata": {},
   "outputs": [],
   "source": [
    "dir(\"\")"
   ]
  },
  {
   "cell_type": "code",
   "execution_count": null,
   "id": "35383857",
   "metadata": {},
   "outputs": [],
   "source": [
    "\"\".isalpha"
   ]
  },
  {
   "cell_type": "code",
   "execution_count": null,
   "id": "1e8ba78d",
   "metadata": {},
   "outputs": [],
   "source": [
    "# with help() you can get informations about a method\n",
    "help(\"\".isalpha)"
   ]
  },
  {
   "cell_type": "code",
   "execution_count": null,
   "id": "ce050106",
   "metadata": {},
   "outputs": [],
   "source": [
    "# Integers do not have .capitalize() method\n",
    "b.capitalize() # fails"
   ]
  },
  {
   "cell_type": "markdown",
   "id": "c717ffd5",
   "metadata": {},
   "source": [
    "<div class=\"alert alert-block alert-info\">\n",
    "<b>Exercise:</b> \n",
    "    <br>\n",
    "   Try out different inbuild methods for integers.\n",
    "</div>"
   ]
  },
  {
   "cell_type": "markdown",
   "id": "f58654dc",
   "metadata": {},
   "source": [
    "You can check all inbuild functions and methods in the __[python standard library](https://docs.python.org/3/library/index.html)__"
   ]
  }
 ],
 "metadata": {
  "kernelspec": {
   "display_name": "Python 3 (ipykernel)",
   "language": "python",
   "name": "python3"
  },
  "language_info": {
   "codemirror_mode": {
    "name": "ipython",
    "version": 3
   },
   "file_extension": ".py",
   "mimetype": "text/x-python",
   "name": "python",
   "nbconvert_exporter": "python",
   "pygments_lexer": "ipython3",
   "version": "3.9.12"
  }
 },
 "nbformat": 4,
 "nbformat_minor": 5
}
