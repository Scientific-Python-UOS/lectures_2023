{
 "cells": [
  {
   "cell_type": "markdown",
   "id": "63526945-35e6-45e7-9a00-e25b2152c6ee",
   "metadata": {
    "tags": []
   },
   "source": [
    "# Functions"
   ]
  },
  {
   "cell_type": "markdown",
   "id": "5ae33dab-842f-412c-a1ce-8241d4c7b564",
   "metadata": {
    "tags": []
   },
   "source": [
    "These will be very familiar to anyone who has programmed in any language, and work like you\n",
    "would expect.\n",
    "\n",
    "\n",
    "A quick __summary__ :\n",
    "\n",
    "- A function is a __block of code__ which runs only when it is called. \n",
    "- You can pass data, known as `parameter`, into a function.\n",
    "- A function can `return` data as a result."
   ]
  },
  {
   "cell_type": "code",
   "execution_count": null,
   "id": "c7fa5788",
   "metadata": {},
   "outputs": [],
   "source": [
    "# There are thousands of functions that operate on things.\n",
    "print(type(3))\n",
    "print(len('hello'))\n",
    "print(round(3.3))"
   ]
  },
  {
   "cell_type": "markdown",
   "id": "cf68b5ea",
   "metadata": {},
   "source": [
    "<div class=\"alert alert-block alert-success\">\n",
    "<b>Tip:</b> <br>\n",
    "    To find out what a function does, you can type it's name and then a question mark to\n",
    "get some information. Or, to see what arguments it takes, you can type its name, an open\n",
    "parenthesis, and hit shift-tab. \n",
    "    <br>\n",
    "    <b> Try it out yourself! </b>\n",
    "</div>"
   ]
  },
  {
   "cell_type": "code",
   "execution_count": null,
   "id": "50daac5d",
   "metadata": {},
   "outputs": [],
   "source": [
    "round?"
   ]
  },
  {
   "cell_type": "code",
   "execution_count": null,
   "id": "b5196535",
   "metadata": {},
   "outputs": [],
   "source": [
    "round()"
   ]
  },
  {
   "cell_type": "markdown",
   "id": "cebe36b8",
   "metadata": {},
   "source": [
    "In Python, **functions are first-class objects!** - an object with no restictions on it's use.\n",
    "You can even assign functions to variables:"
   ]
  },
  {
   "cell_type": "code",
   "execution_count": null,
   "id": "9f6ea484",
   "metadata": {},
   "outputs": [],
   "source": [
    "a_function = print\n",
    "a_function(\"Hello, world!\")\n",
    "print(\"What it is:\", a_function)\n",
    "print(\"type:\", type(a_function))"
   ]
  },
  {
   "cell_type": "markdown",
   "id": "1c007093",
   "metadata": {},
   "source": [
    "<br><br><br>"
   ]
  },
  {
   "cell_type": "markdown",
   "id": "22c2e41b",
   "metadata": {
    "jp-MarkdownHeadingCollapsed": true,
    "tags": []
   },
   "source": [
    "\n",
    "## writing functions"
   ]
  },
  {
   "cell_type": "markdown",
   "id": "2c480a43",
   "metadata": {},
   "source": [
    "As we have learned before we can use one or more `parameters` and a `return statement` for a function.\n",
    "<br>\n",
    "A function in python is defined by using the keyword `def`."
   ]
  },
  {
   "cell_type": "code",
   "execution_count": null,
   "id": "0370a40a",
   "metadata": {},
   "outputs": [],
   "source": [
    "# we define the function using def. The name of the function is always in lower snake case.\n",
    "\n",
    "def a_function():\n",
    "    print(\"This is a function without parameter and return statement\")\n",
    "    "
   ]
  },
  {
   "cell_type": "code",
   "execution_count": null,
   "id": "5fc79b87",
   "metadata": {},
   "outputs": [],
   "source": [
    "# lets try it out\n",
    "a_function()"
   ]
  },
  {
   "cell_type": "code",
   "execution_count": null,
   "id": "2bccbfe4",
   "metadata": {},
   "outputs": [],
   "source": [
    "# let's write another function, this time with a parameter and a value to return\n",
    "\n",
    "def another_function(parameter):  # we here give our function a parameter, this can also be empty\n",
    "    # do something in a function\n",
    "    parameter += 1\n",
    "    \n",
    "    # use the return statement when you want to return a value\n",
    "    return parameter"
   ]
  },
  {
   "cell_type": "code",
   "execution_count": null,
   "id": "a4bed3db",
   "metadata": {},
   "outputs": [],
   "source": [
    "print(another_function(3))"
   ]
  },
  {
   "cell_type": "code",
   "execution_count": null,
   "id": "b0f29e45",
   "metadata": {},
   "outputs": [],
   "source": [
    "a = another_function() + 1"
   ]
  },
  {
   "cell_type": "markdown",
   "id": "f3569e13-89a8-43e7-9e30-ee05fa90d27a",
   "metadata": {},
   "source": [
    "<div class=\"alert alert-block alert-warning\">\n",
    "<b>Important:</b> \n",
    "    <br> \n",
    "    Always make sure whether you expect the function to return something and if yes what type, otherwise you can get and error!\n",
    "</div>"
   ]
  },
  {
   "cell_type": "markdown",
   "id": "e9f40377",
   "metadata": {},
   "source": [
    "We can pass different data in the same function from different calls. "
   ]
  },
  {
   "cell_type": "code",
   "execution_count": null,
   "id": "e0a194aa",
   "metadata": {},
   "outputs": [],
   "source": [
    "def send_email(name):\n",
    "    print(\"sending email to \" + name)\n",
    "\n",
    "\n",
    "send_email(\"Angela Merkel\")\n",
    "send_email(\"Elon Mask\")\n",
    "send_email(\"me\")\n"
   ]
  },
  {
   "cell_type": "markdown",
   "id": "fd663466",
   "metadata": {},
   "source": [
    "Let's come back to our `parameters`. \n",
    "<br>\n",
    "You can pass arguments in your function. By default your function must pass the defined number of parameter while calling them."
   ]
  },
  {
   "cell_type": "code",
   "execution_count": null,
   "id": "df898226",
   "metadata": {},
   "outputs": [],
   "source": [
    "def mensa_menu(main_course, drink, desert):\n",
    "    print(\"todays menu: \")\n",
    "    print(main_course)\n",
    "    print(drink)\n",
    "    print(desert)\n",
    "\n",
    "\n",
    "mensa_menu(\"pizza\", \"cola\" , \"pudding\")"
   ]
  },
  {
   "cell_type": "markdown",
   "id": "18d7b6dc",
   "metadata": {},
   "source": [
    "You can define `default values` in the function. These values do not have to be passed when using the function.\n",
    "\n",
    "Always write the default values after you defined all your non-default values."
   ]
  },
  {
   "cell_type": "code",
   "execution_count": null,
   "id": "40cb8a07",
   "metadata": {},
   "outputs": [],
   "source": [
    "def mensa_menu(drink, desert, main_course = \"Soup\"):\n",
    "\n",
    "    print(\"todays menu: \")\n",
    "    print(main_course)\n",
    "    print(drink)\n",
    "    print(desert)\n",
    "\n",
    "\n",
    "mensa_menu(\"cola\" , \"pudding\")"
   ]
  },
  {
   "cell_type": "markdown",
   "id": "db5d5e82",
   "metadata": {},
   "source": [
    "But default values can also be replaced. Here default arguments must follow non-default arguments."
   ]
  },
  {
   "cell_type": "code",
   "execution_count": null,
   "id": "e5e91847",
   "metadata": {},
   "outputs": [],
   "source": [
    "def mensa_menu(drink, desert, main_course = \"Soup\"):\n",
    "\n",
    "    print(\"todays menu:\")\n",
    "    print(main_course)\n",
    "    print(drink)\n",
    "    print(desert)\n",
    "\n",
    "\n",
    "mensa_menu(\"cola\" , \"pudding\",main_course = \"pizzza\")"
   ]
  },
  {
   "cell_type": "markdown",
   "id": "0ce7132c",
   "metadata": {},
   "source": [
    "If the name of the parameters are defined then it can be writen in any order from **\"function call\"**"
   ]
  },
  {
   "cell_type": "code",
   "execution_count": null,
   "id": "98dae69a",
   "metadata": {},
   "outputs": [],
   "source": [
    "mensa_menu(drink = \"cola\", main_course = \"pizzza\", desert = \"pudding\")"
   ]
  },
  {
   "cell_type": "markdown",
   "id": "3f60111e",
   "metadata": {},
   "source": [
    "<div class=\"alert alert-block alert-info\">\n",
    "<b>Exercise:</b> \n",
    "    <br>\n",
    "    Write a function that:\n",
    "    <br>\n",
    "    - takes 2 numbers\n",
    "    <br>\n",
    "    - adds them together\n",
    "    <br>\n",
    "    - returns the result\n",
    "    <br>\n",
    "    - prints out \"I like addition\" by default, but can print a text given by the user\n",
    "    <br>\n",
    "</div>"
   ]
  },
  {
   "cell_type": "code",
   "execution_count": null,
   "id": "8d5d1d3a",
   "metadata": {},
   "outputs": [],
   "source": [
    "# your function"
   ]
  },
  {
   "cell_type": "markdown",
   "id": "22ace008-11e0-4262-af01-34344cb01cb2",
   "metadata": {
    "jp-MarkdownHeadingCollapsed": true,
    "tags": []
   },
   "source": [
    "---\n",
    "## Docstrings\n",
    "We can use docstrings to describe what our function does. Similar to the PEP8 naming conventions this can be useful for our own coding but will become really important when reading other peoples code or when working on a project together.<br>\n",
    "A docstring is a special type of string that is attached to the object at runtime and afterwards available in the `__doc__` attribute. \n",
    "\n"
   ]
  },
  {
   "cell_type": "code",
   "execution_count": null,
   "id": "9d921da7-9558-4066-818f-69d13c5ee0e3",
   "metadata": {},
   "outputs": [],
   "source": [
    "def say_hello(time, person):\n",
    "    \"\"\"Greets a person in a friendly manner.\"\"\"\n",
    "    return \"Good \" + time + \" to you \" + person + \" !\"\n",
    "\n",
    "say_hello.__doc__"
   ]
  },
  {
   "cell_type": "markdown",
   "id": "0d9ba481-a4a9-4895-9e50-6cbdc414c972",
   "metadata": {},
   "source": [
    "You can also use `?`, `help` or <kbd>Shift</kbd> + <kbd>Tab</kbd> to look at docstrings."
   ]
  },
  {
   "cell_type": "code",
   "execution_count": null,
   "id": "f7006048-1966-4a5c-8c99-fa4d67104be9",
   "metadata": {},
   "outputs": [],
   "source": [
    "?say_hello"
   ]
  },
  {
   "cell_type": "code",
   "execution_count": null,
   "id": "aafd3efd-7b42-4fd8-8c3f-33d516e89292",
   "metadata": {},
   "outputs": [],
   "source": [
    "help(say_hello)"
   ]
  },
  {
   "cell_type": "markdown",
   "id": "5a7ed4c8-7aa5-41a2-8e60-051551525fe2",
   "metadata": {},
   "source": [
    "<br>\n",
    "\n",
    "To describe the arguments of our function, we want to use more extensive docstrings. A good approach is to stick to some docstring convention. We will use the [Google Style](http://www.sphinx-doc.org/en/1.5/ext/example_google.html), which is very readable in its textual form, but can also be rendered as a standalone documentation."
   ]
  },
  {
   "cell_type": "code",
   "execution_count": null,
   "id": "0615bf2e-9ca3-442f-bfde-97af223865d9",
   "metadata": {},
   "outputs": [],
   "source": [
    "def say_hello(time, person):\n",
    "    \"\"\"Greets a person in a friendly manner.\n",
    "    \n",
    "    Args:\n",
    "        time: The time at which to say hello.\n",
    "        person: The person to say hello to.\n",
    "        \n",
    "    Returns:\n",
    "        :return A greeting.\n",
    "    \"\"\"\n",
    "    return \"Good \" + time + \" to you \" + person + \" !\""
   ]
  },
  {
   "cell_type": "markdown",
   "id": "edde902d-75cb-4384-86bd-30a577052267",
   "metadata": {},
   "source": [
    "<div class=\"alert alert-block alert-info\">\n",
    "<b>Exercise:</b> \n",
    "    <br>\n",
    "    Add a docstring to your the function that you wrote before.\n",
    "</div>"
   ]
  },
  {
   "cell_type": "code",
   "execution_count": null,
   "id": "536989b3-8dc5-4a76-b43d-9aa24e508acb",
   "metadata": {},
   "outputs": [],
   "source": [
    "# here you can paste your function and add the docstring"
   ]
  },
  {
   "cell_type": "markdown",
   "id": "f8d178f2-d5df-4f66-bdeb-2bd7c29caf5f",
   "metadata": {
    "jp-MarkdownHeadingCollapsed": true,
    "tags": []
   },
   "source": [
    "---\n",
    "## Type hints\n",
    "\n",
    "Recent developments in Python go towards the possibility to [typecheck](https://www.python.org/dev/peps/pep-0484/) your code before runtime. This feature is completely optional, but is very useful when you want to write reusable code that you want share with others. Type hints do not influnce the behavior of your program, but external tools can use it to spot potential bugs in your code."
   ]
  },
  {
   "cell_type": "code",
   "execution_count": 1,
   "id": "1f5a5c14-af13-455c-ba5b-adf17deee030",
   "metadata": {
    "tags": []
   },
   "outputs": [],
   "source": [
    "def say_hello(time: str, person: str) -> str:\n",
    "    return \"Good \" + time + \" to you \" + person + \" !\""
   ]
  },
  {
   "cell_type": "code",
   "execution_count": 2,
   "id": "e711e146-5bc9-4720-bd3c-f434af4fbfd9",
   "metadata": {
    "tags": []
   },
   "outputs": [
    {
     "ename": "TypeError",
     "evalue": "can only concatenate str (not \"int\") to str",
     "output_type": "error",
     "traceback": [
      "\u001b[0;31m---------------------------------------------------------------------------\u001b[0m",
      "\u001b[0;31mTypeError\u001b[0m                                 Traceback (most recent call last)",
      "Cell \u001b[0;32mIn[2], line 1\u001b[0m\n\u001b[0;32m----> 1\u001b[0m \u001b[43msay_hello\u001b[49m\u001b[43m(\u001b[49m\u001b[38;5;124;43m\"\u001b[39;49m\u001b[38;5;124;43mday\u001b[39;49m\u001b[38;5;124;43m\"\u001b[39;49m\u001b[43m,\u001b[49m\u001b[43m \u001b[49m\u001b[38;5;241;43m1\u001b[39;49m\u001b[43m)\u001b[49m\n",
      "Cell \u001b[0;32mIn[1], line 2\u001b[0m, in \u001b[0;36msay_hello\u001b[0;34m(time, person)\u001b[0m\n\u001b[1;32m      1\u001b[0m \u001b[38;5;28;01mdef\u001b[39;00m \u001b[38;5;21msay_hello\u001b[39m(time: \u001b[38;5;28mstr\u001b[39m, person: \u001b[38;5;28mstr\u001b[39m) \u001b[38;5;241m-\u001b[39m\u001b[38;5;241m>\u001b[39m \u001b[38;5;28mstr\u001b[39m:\n\u001b[0;32m----> 2\u001b[0m     \u001b[38;5;28;01mreturn\u001b[39;00m \u001b[38;5;124;43m\"\u001b[39;49m\u001b[38;5;124;43mGood \u001b[39;49m\u001b[38;5;124;43m\"\u001b[39;49m\u001b[43m \u001b[49m\u001b[38;5;241;43m+\u001b[39;49m\u001b[43m \u001b[49m\u001b[43mtime\u001b[49m\u001b[43m \u001b[49m\u001b[38;5;241;43m+\u001b[39;49m\u001b[43m \u001b[49m\u001b[38;5;124;43m\"\u001b[39;49m\u001b[38;5;124;43m to you \u001b[39;49m\u001b[38;5;124;43m\"\u001b[39;49m\u001b[43m \u001b[49m\u001b[38;5;241;43m+\u001b[39;49m\u001b[43m \u001b[49m\u001b[43mperson\u001b[49m \u001b[38;5;241m+\u001b[39m \u001b[38;5;124m\"\u001b[39m\u001b[38;5;124m !\u001b[39m\u001b[38;5;124m\"\u001b[39m\n",
      "\u001b[0;31mTypeError\u001b[0m: can only concatenate str (not \"int\") to str"
     ]
    }
   ],
   "source": [
    "say_hello(\"day\", 1)"
   ]
  },
  {
   "cell_type": "markdown",
   "id": "ccd14104-40d4-4cb2-9b23-bc2f87f2f328",
   "metadata": {},
   "source": [
    "<div class=\"alert alert-block alert-info\">\n",
    "<b>Exercise:</b> \n",
    "    <br>\n",
    "    Add type hints to your function.\n",
    "</div>"
   ]
  },
  {
   "cell_type": "code",
   "execution_count": null,
   "id": "ec86540a-9508-4b6c-b19e-e2d5a4c5e55c",
   "metadata": {},
   "outputs": [],
   "source": [
    "# here you can paste your function and add the type hints"
   ]
  },
  {
   "cell_type": "markdown",
   "id": "640c7ef1-65af-4001-8904-5734c30b0f6b",
   "metadata": {
    "jp-MarkdownHeadingCollapsed": true,
    "tags": []
   },
   "source": [
    "---\n",
    "\n",
    "## \\*args and \\*\\*kwargs\n",
    "\n",
    "`*args` will catch any loose positional arguments and<br>\n",
    "`**kwargs`will catch any loose keyword arguments"
   ]
  },
  {
   "cell_type": "code",
   "execution_count": 1,
   "id": "bb6105dd-2c4e-4797-a46a-06bfd4b1405b",
   "metadata": {
    "tags": []
   },
   "outputs": [],
   "source": [
    "def gimme_gimme(normal_arg, *args, **kwargs):\n",
    "    print(f\"normal argument: {normal_arg}\\n\")\n",
    "    \n",
    "    print(\"other positional arguments:\")\n",
    "    for arg in args:\n",
    "        print(arg)\n",
    "     \n",
    "    print(\"\\nother keyword arguements:\")\n",
    "    for keyword, argument in kwargs.items():\n",
    "        print(f\"{keyword}: {argument}\")"
   ]
  },
  {
   "cell_type": "code",
   "execution_count": 2,
   "id": "66fd2e43-ecf1-4fa9-a284-efa7c69e4ffe",
   "metadata": {
    "tags": []
   },
   "outputs": [
    {
     "name": "stdout",
     "output_type": "stream",
     "text": [
      "normal argument: test\n",
      "\n",
      "other positional arguments:\n",
      "1\n",
      "2\n",
      "3\n",
      "\n",
      "other keyword arguements:\n",
      "one: 1\n",
      "two: 2\n",
      "three: 3\n"
     ]
    }
   ],
   "source": [
    "gimme_gimme(\"test\", 1, 2, 3, one=1, two=2, three=3)"
   ]
  },
  {
   "cell_type": "markdown",
   "id": "8cdf0c7b-8e74-4105-9421-60f4a51faef7",
   "metadata": {},
   "source": [
    "<br>\n",
    "`*args` and `**kwargs` can be really useful for inheritance because we can grab the parameters that we need for a child-class and call the parent-class with the original parameters."
   ]
  },
  {
   "cell_type": "markdown",
   "id": "cf4060b1-9df4-4ed5-8b61-ec8f148fd0ae",
   "metadata": {
    "jp-MarkdownHeadingCollapsed": true,
    "tags": []
   },
   "source": [
    "---\n",
    "## Call-by-value or Call-by-reference?\n",
    "Do we pass a copy of an object to a function or a reference of the object?\n",
    "### Neither!"
   ]
  },
  {
   "cell_type": "code",
   "execution_count": null,
   "id": "7c3d8050-dc7c-4d29-952c-e9bbddb06c01",
   "metadata": {},
   "outputs": [],
   "source": [
    "def add_one(b):\n",
    "    b = b + 1"
   ]
  },
  {
   "cell_type": "code",
   "execution_count": null,
   "id": "6bc26f62-1edd-468b-89d5-45dd5f242dd6",
   "metadata": {},
   "outputs": [],
   "source": [
    "a = 1\n",
    "print(a)\n",
    "\n",
    "add_one(a)\n",
    "print(a)"
   ]
  },
  {
   "cell_type": "markdown",
   "id": "792419e1-3bed-4b18-baf4-7f931314e0b5",
   "metadata": {},
   "source": [
    "When we pass an object to a function we simply give it another name.<br>\n",
    "So here `b` is now also bound to our object `1`\n",
    "\n",
    "With that in mind we can employ our knowledge about mutable and immutable objects.<br>\n",
    "So since the integer `1` is **immutable**, the operation\n",
    "```python\n",
    "b = b + 1\n",
    "```\n",
    "will not change the object that `b` is bound to but it will bind `b` to a new object.<br>\n",
    "And so `a` remains unchanged.\n",
    "<br>\n",
    "<br>\n",
    "<br>\n"
   ]
  },
  {
   "cell_type": "code",
   "execution_count": null,
   "id": "2a9e5311-729c-4006-bbda-60fb02052eb5",
   "metadata": {},
   "outputs": [],
   "source": [
    "def append_one(b):\n",
    "    b.append(1)"
   ]
  },
  {
   "cell_type": "code",
   "execution_count": null,
   "id": "9751ec76-2c40-40a1-adbb-7743c3312b6d",
   "metadata": {},
   "outputs": [],
   "source": [
    "a = []\n",
    "print(a)\n",
    "\n",
    "append_one(a)\n",
    "print(a)"
   ]
  },
  {
   "cell_type": "markdown",
   "id": "56c4ec2c-9f22-48a5-8142-07dd3274519a",
   "metadata": {},
   "source": [
    "Now our object `[]` is **mutable**.<br>\n",
    "So when we pass the object `[]` to our function, it will be bound to `b`.<br>\n",
    "And we can then call with `b` and change it because it's **mutable**\n",
    "<br>\n",
    "<br>\n",
    "<br>"
   ]
  },
  {
   "cell_type": "markdown",
   "id": "467aeb2b-78c9-4f5f-8879-a18c4f21e0e5",
   "metadata": {},
   "source": [
    "---\n",
    "### Important caveat with default-arguments \n",
    "\n",
    "Using objects as default arguments will only create them once! While that is irrelevant for immutable objects, it gets messy for mutables: Imagine an empty list being the default argument of a function -- every time the function is called, the **same** list will be used!"
   ]
  },
  {
   "cell_type": "code",
   "execution_count": null,
   "id": "b17661a2-aecc-4609-bb2f-352ce915fde4",
   "metadata": {},
   "outputs": [],
   "source": [
    "def f(a=[]):\n",
    "    a.append('NO!')\n",
    "    print(a)\n",
    "\n",
    "for i in range(10):\n",
    "    f()"
   ]
  },
  {
   "cell_type": "markdown",
   "id": "6ec7bd5b-1e42-42e7-8ec6-79361c5578db",
   "metadata": {},
   "source": [
    "<div class=\"alert alert-block alert-success\">\n",
    "<b>Tip:</b> <br>\n",
    "    To avoid this, use <b>None</b> as the default argument and check for <b>None</b> inside the function, setting the real default value only then.\n",
    "</div>\n"
   ]
  },
  {
   "cell_type": "code",
   "execution_count": null,
   "id": "a1129f49-25d2-4669-aace-720be9a7b1f7",
   "metadata": {},
   "outputs": [],
   "source": [
    "def f(a=None):\n",
    "    # Initialize inside.\n",
    "    if a is None:\n",
    "        a = []\n",
    "    a.append('NO!')\n",
    "    print(a)\n",
    "    \n",
    "for i in range(10):\n",
    "    f()"
   ]
  },
  {
   "cell_type": "markdown",
   "id": "f58654dc",
   "metadata": {},
   "source": [
    "You can check all inbuild functions and methods in the __[python standard library](https://docs.python.org/3/library/index.html)__"
   ]
  }
 ],
 "metadata": {
  "kernelspec": {
   "display_name": "Python 3 (ipykernel)",
   "language": "python",
   "name": "python3"
  },
  "language_info": {
   "codemirror_mode": {
    "name": "ipython",
    "version": 3
   },
   "file_extension": ".py",
   "mimetype": "text/x-python",
   "name": "python",
   "nbconvert_exporter": "python",
   "pygments_lexer": "ipython3",
   "version": "3.11.2"
  }
 },
 "nbformat": 4,
 "nbformat_minor": 5
}
