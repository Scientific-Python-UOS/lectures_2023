{
 "cells": [
  {
   "cell_type": "markdown",
   "id": "c3782837",
   "metadata": {
    "jp-MarkdownHeadingCollapsed": true,
    "tags": []
   },
   "source": [
    "# Printing and Comments "
   ]
  },
  {
   "cell_type": "markdown",
   "id": "002e071b",
   "metadata": {},
   "source": [
    "You might wonder why we start this lecture with printing and comments. <br>\n",
    "But printing as well as comments are important to see what your code actually does. "
   ]
  },
  {
   "cell_type": "markdown",
   "id": "d095a597",
   "metadata": {},
   "source": [
    "## The print() function"
   ]
  },
  {
   "cell_type": "markdown",
   "id": "6f057db8",
   "metadata": {},
   "source": [
    "The print function \"prints\" an object. This object does not have to belonge to the \"inbuild\" Python objects, it can also be an object that we created ourselfs (but more to creating objects later). In the first few jupyter notebooks you work on, you might ask yourself why printing is so important, since jupyter shows you the output of a cell. <br>\n",
    "But in later notebooks as the code gets more and more complex you can see why we use it :)"
   ]
  },
  {
   "cell_type": "code",
   "execution_count": null,
   "id": "92e6b6ba",
   "metadata": {},
   "outputs": [],
   "source": [
    "print(1)"
   ]
  },
  {
   "cell_type": "code",
   "execution_count": null,
   "id": "9a613c4e",
   "metadata": {},
   "outputs": [],
   "source": [
    "print(\"hello world\")"
   ]
  },
  {
   "cell_type": "code",
   "execution_count": null,
   "id": "0ce66cd2",
   "metadata": {},
   "outputs": [],
   "source": [
    "print(2 + 3)"
   ]
  },
  {
   "cell_type": "markdown",
   "id": "c5a7fed6",
   "metadata": {},
   "source": [
    "<div class=\"alert alert-block alert-info\">\n",
    "<b>Exercise:</b> \n",
    "    <br>\n",
    "    Experiment with the print function. What can you print and what not?\n",
    "</div>"
   ]
  },
  {
   "cell_type": "markdown",
   "id": "ec761978",
   "metadata": {},
   "source": [
    "<div class=\"alert alert-block alert-success\">\n",
    "<b>Tip:</b> \n",
    "    <br>\n",
    "    When you write longer code or more complex functions and something is not working and you cannot see why, do not despair! Try to print out everything that might seem relevant. Through that you can often find out what is going wrong.\n",
    "</div>"
   ]
  },
  {
   "cell_type": "markdown",
   "id": "c4bbabb9",
   "metadata": {},
   "source": [
    "---"
   ]
  },
  {
   "cell_type": "markdown",
   "id": "ff124dc7",
   "metadata": {},
   "source": [
    "## Comments"
   ]
  },
  {
   "cell_type": "markdown",
   "id": "1580974a",
   "metadata": {},
   "source": [
    "Comments are important to describe what is going on in your code, so that others (and you) can understand it better. <br>\n",
    "In python comments are written preceded by a `#`."
   ]
  },
  {
   "cell_type": "code",
   "execution_count": null,
   "id": "d00d5c3d",
   "metadata": {},
   "outputs": [],
   "source": [
    "# this is a comment"
   ]
  },
  {
   "cell_type": "markdown",
   "id": "6f9723bf",
   "metadata": {},
   "source": [
    "<div class=\"alert alert-block alert-warning\">\n",
    "<b>Important:</b> \n",
    "    <br>\n",
    "    Always try to write meaningful comments for your code. This will save you and others a lot of headache when trying to understand your code.\n",
    "</div>"
   ]
  },
  {
   "cell_type": "markdown",
   "id": "40eddcb8",
   "metadata": {
    "jp-MarkdownHeadingCollapsed": true,
    "tags": []
   },
   "source": [
    "---\n",
    "# Basic Types"
   ]
  },
  {
   "cell_type": "markdown",
   "id": "3a472507",
   "metadata": {},
   "source": [
    "## 1. Integers"
   ]
  },
  {
   "cell_type": "markdown",
   "id": "ff5dd49e",
   "metadata": {},
   "source": [
    "Integers belong to the basic types in python. They can be positive or negative."
   ]
  },
  {
   "cell_type": "code",
   "execution_count": null,
   "id": "d67a1c10",
   "metadata": {},
   "outputs": [],
   "source": [
    "1"
   ]
  },
  {
   "cell_type": "code",
   "execution_count": null,
   "id": "7040f638",
   "metadata": {},
   "outputs": [],
   "source": [
    "-28"
   ]
  },
  {
   "cell_type": "markdown",
   "id": "16388b11",
   "metadata": {},
   "source": [
    "With the inbuild function `type()` you can find out the type of a certain object. <br>"
   ]
  },
  {
   "cell_type": "code",
   "execution_count": null,
   "id": "8637159d",
   "metadata": {},
   "outputs": [],
   "source": [
    "type(14)"
   ]
  },
  {
   "cell_type": "code",
   "execution_count": null,
   "id": "6e9bcc22",
   "metadata": {},
   "outputs": [],
   "source": [
    "type(-112)"
   ]
  },
  {
   "cell_type": "markdown",
   "id": "254cdd97",
   "metadata": {},
   "source": [
    "Since integers belong to the `basic types` and therefore are objects, they come with methods, so they provide us with different functions.\n",
    "Integers have a lot of methods which we can check with dir."
   ]
  },
  {
   "cell_type": "code",
   "execution_count": null,
   "id": "bf224986",
   "metadata": {},
   "outputs": [],
   "source": [
    "dir(14)"
   ]
  },
  {
   "cell_type": "markdown",
   "id": "b5498142",
   "metadata": {},
   "source": [
    "Most of these methods are dunder methods (**d**ouble **under**) which determine the types behaviour for built-in operators and functions.<br>\n",
    "For example `+` which will call `__add__`"
   ]
  },
  {
   "cell_type": "code",
   "execution_count": null,
   "id": "6a820030",
   "metadata": {},
   "outputs": [],
   "source": [
    "(1).__add__(1)"
   ]
  },
  {
   "cell_type": "code",
   "execution_count": null,
   "id": "a816194d",
   "metadata": {},
   "outputs": [],
   "source": [
    "1 + 1"
   ]
  },
  {
   "cell_type": "markdown",
   "id": "3773e4dc",
   "metadata": {},
   "source": [
    "## 2. Floats (floating point number)"
   ]
  },
  {
   "cell_type": "markdown",
   "id": "22671806",
   "metadata": {},
   "source": [
    "Floats also belonge to the `basic types`. They can be written as a decimal number `1.23` or in a scientific notation `123e-2`. <br>\n",
    "If you are using the decimal number notation make sure you are using a dott and not a comma. Otherwise python will automatically create a tuple for you. We will see what a tuple is in another notebook."
   ]
  },
  {
   "cell_type": "code",
   "execution_count": null,
   "id": "23fd3fd1",
   "metadata": {},
   "outputs": [],
   "source": [
    "1.23"
   ]
  },
  {
   "cell_type": "code",
   "execution_count": null,
   "id": "4fd6a2d0",
   "metadata": {},
   "outputs": [],
   "source": [
    "1,23"
   ]
  },
  {
   "cell_type": "code",
   "execution_count": null,
   "id": "59da48e9",
   "metadata": {},
   "outputs": [],
   "source": [
    "type((1,23))"
   ]
  },
  {
   "cell_type": "code",
   "execution_count": null,
   "id": "7e422312",
   "metadata": {},
   "outputs": [],
   "source": [
    "123e-2"
   ]
  },
  {
   "cell_type": "code",
   "execution_count": null,
   "id": "cd1152f7",
   "metadata": {},
   "outputs": [],
   "source": [
    "type(1.23)"
   ]
  },
  {
   "cell_type": "code",
   "execution_count": null,
   "id": "1dce178c",
   "metadata": {},
   "outputs": [],
   "source": [
    "type(123e-2)"
   ]
  },
  {
   "cell_type": "markdown",
   "id": "a39464eb",
   "metadata": {},
   "source": [
    "## numeric operators"
   ]
  },
  {
   "cell_type": "markdown",
   "id": "c933f9e4",
   "metadata": {},
   "source": [
    "Like you would expect we can use numeric operators."
   ]
  },
  {
   "cell_type": "code",
   "execution_count": null,
   "id": "d795bf49",
   "metadata": {},
   "outputs": [],
   "source": [
    "a = 2\n",
    "b = 3\n",
    "\n",
    "print('a + b = ', a + b)\n",
    "print('a - b = ', a - b)\n",
    "print('a * b = ', a * b)\n",
    "print('a ** b = ', a ** b)  # a to the power of b (a^b is a bit-wise XOR!)\n",
    "print('a / b = ', a / b)\n",
    "print('a // b = ', a // b)  # Floor division \n",
    "print('b % a = ', b % a)    # Modulo operator (divide, return remainder)"
   ]
  },
  {
   "cell_type": "markdown",
   "id": "db0746e1",
   "metadata": {},
   "source": [
    "One thing to note is that the type of result may differ from the input:"
   ]
  },
  {
   "cell_type": "code",
   "execution_count": null,
   "id": "53e58e44",
   "metadata": {},
   "outputs": [],
   "source": [
    "print(type(a), type(b), type(a / b))"
   ]
  },
  {
   "cell_type": "markdown",
   "id": "6e29377e",
   "metadata": {},
   "source": [
    "---\n",
    "## 3. Strings"
   ]
  },
  {
   "cell_type": "markdown",
   "id": "b934d82e",
   "metadata": {},
   "source": [
    "A **`string`** is a sequence of characters written in between double quotes `\" \"`"
   ]
  },
  {
   "cell_type": "code",
   "execution_count": null,
   "id": "ba329467",
   "metadata": {},
   "outputs": [],
   "source": [
    "\"this is a string\""
   ]
  },
  {
   "cell_type": "markdown",
   "id": "1ba6166b",
   "metadata": {},
   "source": [
    "We can exchange or even add double quotes to single quotes, as long as we dont mix them."
   ]
  },
  {
   "cell_type": "code",
   "execution_count": null,
   "id": "e40d7657",
   "metadata": {},
   "outputs": [],
   "source": [
    "'this is also a string'"
   ]
  },
  {
   "cell_type": "code",
   "execution_count": null,
   "id": "e4d6b200",
   "metadata": {},
   "outputs": [],
   "source": [
    "\"'and even this is a string'\""
   ]
  },
  {
   "cell_type": "code",
   "execution_count": null,
   "id": "27f70251",
   "metadata": {},
   "outputs": [],
   "source": [
    "\"but this is not a string'"
   ]
  },
  {
   "cell_type": "markdown",
   "id": "96c4991e",
   "metadata": {},
   "source": [
    "If we want our string to cointain both single and double quotes we can make use of triple quotes.\n",
    "This also allows us to include line breaks."
   ]
  },
  {
   "cell_type": "code",
   "execution_count": null,
   "id": "f94d1a89",
   "metadata": {},
   "outputs": [],
   "source": [
    "a = \"\"\"\n",
    "    hello\n",
    "    \"'world'\"\n",
    "    \"\"\"\n",
    "print(a)"
   ]
  },
  {
   "cell_type": "markdown",
   "id": "f43579a4",
   "metadata": {},
   "source": [
    "## string operators\n",
    "Most of the numeric operatores also work for strings."
   ]
  },
  {
   "cell_type": "code",
   "execution_count": null,
   "id": "3f52f5c9",
   "metadata": {},
   "outputs": [],
   "source": [
    "'hello' + 'world'"
   ]
  },
  {
   "cell_type": "code",
   "execution_count": null,
   "id": "b97199d0",
   "metadata": {},
   "outputs": [],
   "source": [
    "'hello' * 3"
   ]
  },
  {
   "cell_type": "markdown",
   "id": "e3d4492a",
   "metadata": {},
   "source": [
    "<div class=\"alert alert-block alert-info\">\n",
    "<b>Exercise:</b> \n",
    "    <br> Which numeric opperators do not work for strings? \n",
    "</div>"
   ]
  },
  {
   "cell_type": "code",
   "execution_count": null,
   "id": "000deeff",
   "metadata": {},
   "outputs": [],
   "source": [
    "# here is some space for you to experiment"
   ]
  },
  {
   "cell_type": "markdown",
   "id": "a37d764f",
   "metadata": {},
   "source": [
    "---\n",
    "## 4. Booleans"
   ]
  },
  {
   "cell_type": "markdown",
   "id": "fd122776",
   "metadata": {},
   "source": [
    "A **`boolean`** can have the value `true` or `false` or respectively `1` and `0`."
   ]
  },
  {
   "cell_type": "code",
   "execution_count": null,
   "id": "8e776883",
   "metadata": {},
   "outputs": [],
   "source": [
    "True"
   ]
  },
  {
   "cell_type": "code",
   "execution_count": null,
   "id": "7b86c989",
   "metadata": {},
   "outputs": [],
   "source": [
    "False"
   ]
  },
  {
   "cell_type": "markdown",
   "id": "e6cd55a1",
   "metadata": {},
   "source": [
    "## boolean operators"
   ]
  },
  {
   "cell_type": "markdown",
   "id": "e412d7fa",
   "metadata": {},
   "source": [
    "Boolean operators can be used to compare two things."
   ]
  },
  {
   "cell_type": "code",
   "execution_count": null,
   "id": "987daca7",
   "metadata": {},
   "outputs": [],
   "source": [
    "a = 2\n",
    "b = 3\n",
    "\n",
    "print('a > b ?', a > b)    \n",
    "print('a >= b ?', a >= b)  \n",
    "print('a == b ?', a == b)   \n",
    "print('a != b ?', a != b)  # a not equal b\n",
    "print('a < b ?', a < b)\n",
    "print('a <= b ?', a <= b)"
   ]
  },
  {
   "cell_type": "markdown",
   "id": "ac9be200",
   "metadata": {},
   "source": [
    "<div class=\"alert alert-block alert-warning\">\n",
    "<b>Important:</b> \n",
    "    <br> Remember that you have to use == to compare two things. If you just use = you are assigning a variable when you are using a name (more to that later) or get an error.\n",
    "</div>"
   ]
  },
  {
   "cell_type": "code",
   "execution_count": null,
   "id": "55c0d2e6",
   "metadata": {},
   "outputs": [],
   "source": [
    "2 = 3"
   ]
  },
  {
   "cell_type": "markdown",
   "id": "4ae9a92e",
   "metadata": {},
   "source": [
    "We can also use boolean opperators to perform logical opperations on booleans."
   ]
  },
  {
   "cell_type": "code",
   "execution_count": null,
   "id": "a20c5ca6",
   "metadata": {},
   "outputs": [],
   "source": [
    "a = (1 > 3)\n",
    "b = 3 == 3\n",
    "print(a)\n",
    "print(b)\n",
    "\n",
    "print(a or b)\n",
    "print(a and b)\n",
    "print(not b)\n",
    "\n",
    "#There is also | and &, which are equal for booleans, but different for numbers (work on binary level)"
   ]
  },
  {
   "cell_type": "markdown",
   "id": "470eb78d",
   "metadata": {},
   "source": [
    "### is operator\n",
    "The is operator also checks if two variables are the same. But it does not check for the value but whether or not both variables refer to the same object. <br>"
   ]
  },
  {
   "cell_type": "code",
   "execution_count": null,
   "id": "d564ec26",
   "metadata": {},
   "outputs": [],
   "source": [
    "a = 300\n",
    "b = 300\n",
    "print(a is b)"
   ]
  },
  {
   "cell_type": "code",
   "execution_count": null,
   "id": "85b4ce20",
   "metadata": {},
   "outputs": [],
   "source": [
    "b = a\n",
    "print(a is b)"
   ]
  },
  {
   "cell_type": "markdown",
   "id": "f1f230e4",
   "metadata": {},
   "source": [
    "Internally it checks for the objects ids/memory adresses, so the place in the computer's memory where the object is saved."
   ]
  },
  {
   "cell_type": "code",
   "execution_count": null,
   "id": "1f028a19",
   "metadata": {},
   "outputs": [],
   "source": [
    "print(id(a))\n",
    "print(id(b))"
   ]
  },
  {
   "cell_type": "markdown",
   "id": "bce4cbad",
   "metadata": {},
   "source": [
    "If you now run this line you can see that the id of `a` changes even though we did not change the value of `a`. This is due to how the computer internally works with variable assignment."
   ]
  },
  {
   "cell_type": "code",
   "execution_count": null,
   "id": "7fe1d110",
   "metadata": {},
   "outputs": [],
   "source": [
    "a = 300\n",
    "print(id(a))"
   ]
  },
  {
   "cell_type": "markdown",
   "id": "ade1a72f",
   "metadata": {
    "jp-MarkdownHeadingCollapsed": true,
    "tags": []
   },
   "source": [
    "---\n",
    "# Variables"
   ]
  },
  {
   "cell_type": "markdown",
   "id": "2418343d",
   "metadata": {},
   "source": [
    "Until now we covered the basic types, but with just several unconnected objects (so a number, string or boolean) we cannot really program. For that we have to remember our objects somehow to make them interact or change them. <br>\n",
    "For that we use so called `variables` or names. We can assign an object to a variable by writing the variable on the left then writing $ = $ and then the object on the right side, like this: "
   ]
  },
  {
   "cell_type": "code",
   "execution_count": null,
   "id": "5fb19641",
   "metadata": {},
   "outputs": [],
   "source": [
    "variable1 = 10"
   ]
  },
  {
   "cell_type": "markdown",
   "id": "d6859b6d",
   "metadata": {},
   "source": [
    "We cannot only assign integer objects to variables but also other objects and variables to variables:"
   ]
  },
  {
   "cell_type": "code",
   "execution_count": null,
   "id": "99028ad9",
   "metadata": {},
   "outputs": [],
   "source": [
    "string1 = \"hello\""
   ]
  },
  {
   "cell_type": "code",
   "execution_count": null,
   "id": "36f8a4fe",
   "metadata": {},
   "outputs": [],
   "source": [
    "boolean1 = True"
   ]
  },
  {
   "cell_type": "code",
   "execution_count": null,
   "id": "ede8080b",
   "metadata": {},
   "outputs": [],
   "source": [
    "variable2 = variable1"
   ]
  },
  {
   "cell_type": "markdown",
   "id": "dea86587",
   "metadata": {},
   "source": [
    "<div class=\"alert alert-block alert-info\">\n",
    "<b>Exercise:</b> \n",
    "    <br>\n",
    "    What happens to variable2 when you now change variable1?\n",
    "    <br>\n",
    "    a: variable2 also changes\n",
    "    <br>\n",
    "    b: variable2 stays the same\n",
    "    <br>\n",
    "    c: everything breaks\n",
    "</div>"
   ]
  },
  {
   "cell_type": "code",
   "execution_count": null,
   "id": "7c84d3d6",
   "metadata": {},
   "outputs": [],
   "source": [
    "# some space to experiment"
   ]
  },
  {
   "cell_type": "markdown",
   "id": "b6c47948",
   "metadata": {},
   "source": [
    "By assigning a new value to our variable we do not change the original object. We create a new object and give it the same name. If we then assign a new object to variable2 the old object is lost and it will eventually be collected by the garbage collector (not a metapher). "
   ]
  },
  {
   "cell_type": "code",
   "execution_count": null,
   "id": "b5970aa7",
   "metadata": {},
   "outputs": [],
   "source": [
    "variable2 = \"now a string\""
   ]
  },
  {
   "cell_type": "markdown",
   "id": "def654c8",
   "metadata": {},
   "source": [
    "<div class=\"alert alert-block alert-warning\">\n",
    "<b>Important:</b> \n",
    "    <br>\n",
    "    Always try to make your variable names as meaningful as possible. In a longer, more complecated code meaningful variable assingments make it a lot easier to understand what is going on.\n",
    "</div>"
   ]
  },
  {
   "cell_type": "markdown",
   "id": "476a2a22",
   "metadata": {},
   "source": [
    "## Typing"
   ]
  },
  {
   "cell_type": "markdown",
   "id": "a9811f0f",
   "metadata": {},
   "source": [
    "We have already seen before that we can check the type of an object with the `type()` function. <br>\n",
    "As we have seen now we can \"change\" the types of our variables dynamically, therefore we say that Python is **dynamically typed**."
   ]
  },
  {
   "cell_type": "code",
   "execution_count": null,
   "id": "ac5b0f3d",
   "metadata": {},
   "outputs": [],
   "source": [
    "var = 2\n",
    "print(type(var))\n",
    "\n",
    "var = \"two\"\n",
    "print(type(var))\n",
    "\n",
    "var = False\n",
    "print(type(var))"
   ]
  },
  {
   "cell_type": "markdown",
   "id": "b1b87942",
   "metadata": {},
   "source": [
    "We also say that Python is **strongly typed** because the actual objects don't change their type."
   ]
  },
  {
   "cell_type": "markdown",
   "id": "13d9d72d-8038-4d58-8f88-7391004f5d25",
   "metadata": {
    "jp-MarkdownHeadingCollapsed": true,
    "tags": []
   },
   "source": [
    "---\n",
    "# Type Casting"
   ]
  },
  {
   "cell_type": "markdown",
   "id": "7a7b0360-59a2-4f25-9d17-67ff2b1da66e",
   "metadata": {},
   "source": [
    "Ther are two types of type casting in python:\n",
    "- implicit type casting\n",
    "- explicit type casting\n",
    "<br>\n",
    "#### Implicit type casting\n",
    "In contrast to other programming languages (like C for example) we do not have to state the type of a variable before assinging a value to it.\n",
    "Python just takes the value and and casts the type automatically.\n",
    "<br>\n",
    "Here a is automatically casted as an integer.\n"
   ]
  },
  {
   "cell_type": "code",
   "execution_count": 8,
   "id": "c9c99488-6b40-45bb-905d-a8b75d1512e0",
   "metadata": {
    "tags": []
   },
   "outputs": [
    {
     "data": {
      "text/plain": [
       "int"
      ]
     },
     "execution_count": 8,
     "metadata": {},
     "output_type": "execute_result"
    }
   ],
   "source": [
    "a = 3\n",
    "type(a)"
   ]
  },
  {
   "cell_type": "markdown",
   "id": "fe1c08ed-37c2-425a-9c35-287c56d1e45b",
   "metadata": {},
   "source": [
    "Python also automatically converts the type of its variables if needed. \n",
    "This is **implicit type converstion**. <br>\n",
    "This is quite practical since we do not have to worry about the type of a variable when we use it."
   ]
  },
  {
   "cell_type": "code",
   "execution_count": null,
   "id": "02322996-28f1-44a6-a87c-58b1a24c93c7",
   "metadata": {},
   "outputs": [],
   "source": [
    "b = 4.5\n",
    "c = a + b\n",
    "type(c)"
   ]
  },
  {
   "cell_type": "markdown",
   "id": "951a2a72-ca29-46fd-b438-cb2661288e31",
   "metadata": {},
   "source": [
    "But this can also lead to strange behavior:"
   ]
  },
  {
   "cell_type": "code",
   "execution_count": 9,
   "id": "f7f5ec53-835c-411b-86e1-6f6df8882b6b",
   "metadata": {
    "tags": []
   },
   "outputs": [
    {
     "name": "stdin",
     "output_type": "stream",
     "text": [
      " 4\n"
     ]
    },
    {
     "ename": "TypeError",
     "evalue": "can only concatenate str (not \"int\") to str",
     "output_type": "error",
     "traceback": [
      "\u001b[0;31m---------------------------------------------------------------------------\u001b[0m",
      "\u001b[0;31mTypeError\u001b[0m                                 Traceback (most recent call last)",
      "Cell \u001b[0;32mIn[9], line 2\u001b[0m\n\u001b[1;32m      1\u001b[0m d \u001b[38;5;241m=\u001b[39m \u001b[38;5;28minput\u001b[39m()\n\u001b[0;32m----> 2\u001b[0m \u001b[43md\u001b[49m\u001b[43m \u001b[49m\u001b[38;5;241;43m+\u001b[39;49m\u001b[43m \u001b[49m\u001b[38;5;241;43m5\u001b[39;49m\n",
      "\u001b[0;31mTypeError\u001b[0m: can only concatenate str (not \"int\") to str"
     ]
    }
   ],
   "source": [
    "print('type in a number')\n",
    "d = input()\n",
    "d + 5"
   ]
  },
  {
   "cell_type": "markdown",
   "id": "11f81e32-2d02-40ee-885f-55ebab9084ac",
   "metadata": {},
   "source": [
    "Even though you type in a number the input() function returns a string (more to that in [4_functions](../../1_basic_python/4_functions.ipynb)).  \n",
    "To prevent us from having such errors python also allows for \n",
    "#### Explicit type casting  \n",
    "In explicit type casting we tell python explicitly what type a variable should have."
   ]
  },
  {
   "cell_type": "code",
   "execution_count": 13,
   "id": "bcada83d-164c-4870-b68c-98c7b4c0f529",
   "metadata": {
    "tags": []
   },
   "outputs": [
    {
     "name": "stdout",
     "output_type": "stream",
     "text": [
      "type d:  <class 'str'>\n",
      "type var1:  <class 'int'>\n",
      "var2:  4.0\n",
      "type var2:  <class 'float'>\n",
      "type var3:  <class 'int'>\n",
      "type var4:  <class 'bool'>\n",
      "type var5:  <class 'str'>\n"
     ]
    }
   ],
   "source": [
    "# you can write int() for integers\n",
    "var1 = int(d)\n",
    "print('type d: ',type(d))\n",
    "print('type var1: ',type(var1))\n",
    "\n",
    "# float() for floats\n",
    "var2 = float(var1)\n",
    "print('var2: ', var2)\n",
    "print('type var2: ', type(var2))\n",
    "\n",
    "# bool() for booleans -> this is only possible for 1 and 0 and is usually done automatically\n",
    "var3 = 1\n",
    "var4 = bool(var3)\n",
    "print('type var3: ', type(var3))\n",
    "print('type var4: ', type(var4))\n",
    "\n",
    "# and str() for strings\n",
    "var5 = str(var1)\n",
    "print('type var5: ', type(var5))"
   ]
  },
  {
   "cell_type": "markdown",
   "id": "4321f82c-1dcb-4b4c-a6be-3ae537c05240",
   "metadata": {},
   "source": [
    "With explicit type casting we can now solve our problem from earlier:"
   ]
  },
  {
   "cell_type": "code",
   "execution_count": null,
   "id": "30c426ba-6c40-452d-843c-316f3c0acb8a",
   "metadata": {
    "tags": []
   },
   "outputs": [],
   "source": [
    "print('type in a number')\n",
    "d = input()\n",
    "# cast d as float \n",
    "float(d) + 5"
   ]
  },
  {
   "cell_type": "markdown",
   "id": "b39e8e67-9941-40a5-b549-daf434b71315",
   "metadata": {
    "jp-MarkdownHeadingCollapsed": true,
    "tags": []
   },
   "source": [
    "---\n",
    "One more thing ... the official styleguide\n",
    "# PEP 8 Naming conventions"
   ]
  },
  {
   "cell_type": "markdown",
   "id": "d11604be-b303-4f2b-9139-6f70f4690669",
   "metadata": {
    "tags": []
   },
   "source": [
    "[PEP 8](https://www.python.org/dev/peps/pep-0008/), i.e. the Python Enhancement Proposal number 8, is a style guide for writing Python code. Having an official style guide makes Python code look really similar across different projects. It's role in the success of Python should not be underestimated. If you are unsure about the style of your code, have a look at PEP 8. And here are the PEP 8 recommendations for variable names:  \n",
    "\n",
    "`module_name, package_name, method_name, function_name, global_var_name, instance_var_name, function_parameter_name, local_var_name`\n",
    "\n",
    "`ClassName, ExceptionName`\n",
    "\n",
    "`GLOBAL_CONSTANT_NAME`"
   ]
  },
  {
   "cell_type": "markdown",
   "id": "274286fe-caaf-45cf-b5a6-3956fc5c6f5a",
   "metadata": {},
   "source": [
    "You do not have to understand all of these names right now :)"
   ]
  },
  {
   "cell_type": "markdown",
   "id": "1d4b33e5-1380-4fdc-a27e-24493ce17927",
   "metadata": {},
   "source": [
    "<div class=\"alert alert-block alert-warning\">\n",
    "<b>Important:</b> \n",
    "    <br>\n",
    "    Please stick to the official python styleguide, especially when it comes to your homework.\n",
    "</div>"
   ]
  },
  {
   "cell_type": "markdown",
   "id": "ead0352e-cf12-4c3a-b907-301ee2f230ea",
   "metadata": {
    "jp-MarkdownHeadingCollapsed": true,
    "tags": []
   },
   "source": [
    "# 1. Lists"
   ]
  },
  {
   "cell_type": "markdown",
   "id": "dc14ec4a-e199-44d4-a2eb-05c6255e7578",
   "metadata": {
    "tags": []
   },
   "source": [
    "Python has a number of objects to handle the collection of other objects. `Lists` are one of them, but there are also `tuples`, `dictionaries` and `sets`. These will be covered in different notebooks"
   ]
  },
  {
   "cell_type": "markdown",
   "id": "8a38209f",
   "metadata": {},
   "source": [
    "Lists are probably the handiest and most flexible type of container. \n",
    "Lists literals are declared with square brackets `[]`. "
   ]
  },
  {
   "cell_type": "code",
   "execution_count": null,
   "id": "b03e1634",
   "metadata": {},
   "outputs": [],
   "source": [
    "# Lists are created with square bracket syntax\n",
    "a = ['blueberry', 'strawberry', 'pineapple']\n",
    "print(a, type(a))"
   ]
  },
  {
   "cell_type": "code",
   "execution_count": null,
   "id": "5af40b51",
   "metadata": {},
   "outputs": [],
   "source": [
    "# It doesn't matter what types are inside the list!\n",
    "tmp = object()\n",
    "b = ['blueberry', 5, 3.1415, True, \"hello world\", [1,2,3], tmp]\n",
    "print(b)"
   ]
  },
  {
   "cell_type": "markdown",
   "id": "b336a91b",
   "metadata": {},
   "source": [
    "Individual elements of a list can be selected using the subscript syntax `a[ind]`."
   ]
  },
  {
   "cell_type": "code",
   "execution_count": null,
   "id": "d739a6e4",
   "metadata": {},
   "outputs": [],
   "source": [
    "# Lists (and all collections) are also indexed with square brackets\n",
    "# NOTE: The first index is zero, not one\n",
    "print(a[0])\n",
    "print(a[1])"
   ]
  },
  {
   "cell_type": "code",
   "execution_count": null,
   "id": "6cc72790",
   "metadata": {},
   "outputs": [],
   "source": [
    "## You can also count from the end of the list\n",
    "print('last item is:', a[-1])\n",
    "print('second to last item is:', a[-2])"
   ]
  },
  {
   "cell_type": "markdown",
   "id": "0be5ad0d",
   "metadata": {},
   "source": [
    "## slicing"
   ]
  },
  {
   "cell_type": "markdown",
   "id": "a189cee7",
   "metadata": {},
   "source": [
    "You can access multiple items from a list by slicing. For that you use a colon between indexes. \n",
    "The syntax is `collection[start:stop]` or `collection[start:stop:step]`. Note that in Python indexing is zero based the first index is inclusive while the last is exclusive. \n",
    "That means that `start:stop` selects $start \\le i \\lt stop$."
   ]
  },
  {
   "cell_type": "code",
   "execution_count": 1,
   "id": "1d5be1c3",
   "metadata": {},
   "outputs": [
    {
     "data": {
      "text/plain": [
       "[0, 1, 2, 3, 4, 5, 6, 7, 8, 9]"
      ]
     },
     "execution_count": 1,
     "metadata": {},
     "output_type": "execute_result"
    }
   ],
   "source": [
    "b = [0, 1, 2, 3, 4, 5, 6, 7, 8, 9]\n",
    "b"
   ]
  },
  {
   "cell_type": "code",
   "execution_count": 2,
   "id": "581c0c8f",
   "metadata": {},
   "outputs": [
    {
     "data": {
      "text/plain": [
       "[0, 1]"
      ]
     },
     "execution_count": 2,
     "metadata": {},
     "output_type": "execute_result"
    }
   ],
   "source": [
    "b[0:2]"
   ]
  },
  {
   "cell_type": "code",
   "execution_count": 3,
   "id": "d27941cb",
   "metadata": {},
   "outputs": [
    {
     "data": {
      "text/plain": [
       "[2, 3, 4, 5, 6, 7, 8, 9]"
      ]
     },
     "execution_count": 3,
     "metadata": {},
     "output_type": "execute_result"
    }
   ],
   "source": [
    "b[2:]"
   ]
  },
  {
   "cell_type": "code",
   "execution_count": null,
   "id": "5f024530",
   "metadata": {},
   "outputs": [],
   "source": [
    "b[:] # this is called soft copy, we'll get to that later\n",
    "b is b[:]"
   ]
  },
  {
   "cell_type": "code",
   "execution_count": 4,
   "id": "9e232afe",
   "metadata": {},
   "outputs": [
    {
     "data": {
      "text/plain": [
       "[0, 1, 2, 3, 4, 5, 6, 7, 8]"
      ]
     },
     "execution_count": 4,
     "metadata": {},
     "output_type": "execute_result"
    }
   ],
   "source": [
    "# you can also define the end based on the last object. So end -1 should return the second to last object\n",
    "b[:-1]"
   ]
  },
  {
   "cell_type": "code",
   "execution_count": 5,
   "id": "611d57d9",
   "metadata": {},
   "outputs": [
    {
     "data": {
      "text/plain": [
       "[2, 4, 6]"
      ]
     },
     "execution_count": 5,
     "metadata": {},
     "output_type": "execute_result"
    }
   ],
   "source": [
    "# we can even define the step size, this is done by adding another : and then some number\n",
    "b[2:8:2]"
   ]
  },
  {
   "cell_type": "code",
   "execution_count": 6,
   "id": "273c59b0",
   "metadata": {},
   "outputs": [
    {
     "data": {
      "text/plain": [
       "[9, 8, 7, 6, 5, 4, 3, 2, 1, 0]"
      ]
     },
     "execution_count": 6,
     "metadata": {},
     "output_type": "execute_result"
    }
   ],
   "source": [
    "# or we can reverse the list\n",
    "b[::-1]"
   ]
  },
  {
   "cell_type": "markdown",
   "id": "a95ba255",
   "metadata": {},
   "source": [
    "<div class=\"alert alert-block alert-info\">\n",
    "<b>Exercise:</b> \n",
    "    <br>\n",
    "    Get all numbers that can be devided by 3 in a reversed order.\n",
    "</div>"
   ]
  },
  {
   "cell_type": "markdown",
   "id": "0e0764b6",
   "metadata": {},
   "source": [
    "## manipulating lists\n",
    "Lists are objects, like everything else, and therefore have methods.\n",
    "\n",
    "One of these methods is `append()`. With `append()` we can add an object at the end of a list."
   ]
  },
  {
   "cell_type": "code",
   "execution_count": null,
   "id": "675cfa92",
   "metadata": {},
   "outputs": [],
   "source": [
    "b.append('banana')\n",
    "b"
   ]
  },
  {
   "cell_type": "code",
   "execution_count": null,
   "id": "ced7b7fc",
   "metadata": {},
   "outputs": [],
   "source": [
    "b.append([1,2])\n",
    "b.append(len)\n",
    "print(b)"
   ]
  },
  {
   "cell_type": "markdown",
   "id": "e7f418e5",
   "metadata": {},
   "source": [
    "With `pop()` we can take the last object out of the list."
   ]
  },
  {
   "cell_type": "code",
   "execution_count": null,
   "id": "735072c1",
   "metadata": {},
   "outputs": [],
   "source": [
    "popped = b.pop()\n",
    "b, popped"
   ]
  },
  {
   "cell_type": "markdown",
   "id": "3201990b",
   "metadata": {},
   "source": [
    "To add multiple objects to a list we can use `extend()`."
   ]
  },
  {
   "cell_type": "code",
   "execution_count": null,
   "id": "a418c8d4",
   "metadata": {},
   "outputs": [],
   "source": [
    "b.extend([1,2])\n",
    "b"
   ]
  },
  {
   "cell_type": "markdown",
   "id": "4a209dc4",
   "metadata": {},
   "source": [
    "To get the length of a list we can use `len()`."
   ]
  },
  {
   "cell_type": "code",
   "execution_count": null,
   "id": "c0394925",
   "metadata": {},
   "outputs": [],
   "source": [
    "len(b)"
   ]
  },
  {
   "cell_type": "markdown",
   "id": "630b6214",
   "metadata": {},
   "source": [
    "With `in` we can check whether an object is contained in a list."
   ]
  },
  {
   "cell_type": "code",
   "execution_count": null,
   "id": "c322d5d8",
   "metadata": {},
   "outputs": [],
   "source": [
    "\"banana\" in b"
   ]
  },
  {
   "cell_type": "markdown",
   "id": "3ecfca00",
   "metadata": {},
   "source": [
    "Lists have the same opperators as strings. And strings can also be sliced."
   ]
  },
  {
   "cell_type": "code",
   "execution_count": null,
   "id": "2989b1e7",
   "metadata": {},
   "outputs": [],
   "source": [
    "l1 = [1, 2, 3]\n",
    "l2 = [4] * 3\n",
    "\n",
    "l1 + l2"
   ]
  },
  {
   "cell_type": "code",
   "execution_count": null,
   "id": "e238675f",
   "metadata": {},
   "outputs": [],
   "source": [
    "# Strings can be sliced just like lists\n",
    "a = \"hello, world!\"\n",
    "a[:5]"
   ]
  },
  {
   "cell_type": "markdown",
   "id": "1556a999",
   "metadata": {},
   "source": [
    "<div class=\"alert alert-block alert-success\">\n",
    "<b>Tip:</b> <br>\n",
    "    A 'gotcha' for some new Python users is that collections, including lists, are actually only the name, referencing to data, and are not the data itself.\n",
    "<br>\n",
    "Remember when we set `b = a` and then changed `a`?\n",
    "<br>\n",
    "What happens when we do this in a list?\n",
    "</div>"
   ]
  },
  {
   "cell_type": "code",
   "execution_count": null,
   "id": "5afef16c",
   "metadata": {},
   "outputs": [],
   "source": [
    "a = [1, 2, \"banana\", 3]\n",
    "b = a\n",
    "print(\"b originally:\", b)\n",
    "a[0] = \"cheesecake\"\n",
    "print(\"b later:\", b)"
   ]
  },
  {
   "cell_type": "markdown",
   "id": "2d837087",
   "metadata": {},
   "source": [
    "Because lists are **mutable**, we can perform changes to a list, unlike a string! To get rid of side-effects, you need to perform a **deep copy** of the object."
   ]
  },
  {
   "cell_type": "code",
   "execution_count": null,
   "id": "9b284a6d",
   "metadata": {},
   "outputs": [],
   "source": [
    "# the copy-module helps us here!\n",
    "from copy import deepcopy\n",
    "a = [1, 2, \"banana\", 3]\n",
    "b = deepcopy(a)  #in the case of lists, an alternative ('soft copy') would be b = a[:]\n",
    "a[0] = \"cheesecake\"\n",
    "print(b)"
   ]
  },
  {
   "cell_type": "markdown",
   "id": "2bb1eafc",
   "metadata": {},
   "source": [
    "Another problem arises when adding objects to list, using the `multiplication syntax`."
   ]
  },
  {
   "cell_type": "code",
   "execution_count": null,
   "id": "7b291e88",
   "metadata": {},
   "outputs": [],
   "source": [
    "l2 = [[]] * 10\n",
    "print(l2)\n",
    "\n",
    "l2[0].append(1)\n",
    "print(l2) #what will this print?"
   ]
  },
  {
   "cell_type": "markdown",
   "id": "1441b546",
   "metadata": {},
   "source": [
    "<div class=\"alert alert-block alert-info\">\n",
    "<b>Exercise:</b> \n",
    "    <br>\n",
    "    What will the following code return?\n",
    "</div>"
   ]
  },
  {
   "cell_type": "code",
   "execution_count": null,
   "id": "7727e6fc",
   "metadata": {},
   "outputs": [],
   "source": [
    "some_guy = 'Fred'\n",
    "\n",
    "first_names = []\n",
    "first_names.append(some_guy)\n",
    "\n",
    "another_list_of_names = first_names\n",
    "another_list_of_names.append('George')\n",
    "some_guy = 'Bill'"
   ]
  },
  {
   "cell_type": "markdown",
   "id": "8bb3a535-6c0b-46b1-8006-678ba7e47d64",
   "metadata": {
    "jp-MarkdownHeadingCollapsed": true,
    "tags": []
   },
   "source": [
    "---\n",
    "# 2. Tuples"
   ]
  },
  {
   "cell_type": "markdown",
   "id": "f116b0f0-1f88-4fc6-b3ba-43217d71c965",
   "metadata": {},
   "source": [
    "We won't say a whole lot about tuples except to mention that they basically work just like lists, with\n",
    "two major exceptions:\n",
    "\n",
    "1. You declare tuples using commas, but usually also () instead of []\n",
    "1. Once you make a tuple, you can't change what's in it (__immutable__)\n",
    "\n",
    "You'll see tuples come up throughout the Python language, and over time you'll develop a feel for when\n",
    "to use them. \n",
    "\n",
    "In general, they're often used instead of lists:\n",
    "\n",
    "1. to group items when the position in the collection is critical, such as coord = (x,y)\n",
    "1. when you want to make prevent accidental modification of the items, e.g. shape = (12,23)"
   ]
  },
  {
   "cell_type": "code",
   "execution_count": null,
   "id": "5784504a",
   "metadata": {},
   "outputs": [],
   "source": [
    "x = 1, 2, 3\n",
    "x"
   ]
  },
  {
   "cell_type": "code",
   "execution_count": null,
   "id": "d6c8cb35",
   "metadata": {},
   "outputs": [],
   "source": [
    "y = (1, 2, 3)\n",
    "print(y)\n",
    "print(y == x)\n",
    "y[0] = \"hello\""
   ]
  },
  {
   "cell_type": "code",
   "execution_count": null,
   "id": "fdeac082",
   "metadata": {},
   "outputs": [],
   "source": [
    "xy = (23, 45)\n",
    "print(xy[0])\n",
    "xy[0] = \"this won't work with a tuple\""
   ]
  },
  {
   "cell_type": "markdown",
   "id": "217e1ca4",
   "metadata": {},
   "source": [
    "## namedtuples\n",
    "\n",
    "Very handy for defining human readable data records without behavior. `namedtuples` are very fast and memory efficient. "
   ]
  },
  {
   "cell_type": "code",
   "execution_count": null,
   "id": "b37a32c9",
   "metadata": {},
   "outputs": [],
   "source": [
    "from collections import namedtuple"
   ]
  },
  {
   "cell_type": "code",
   "execution_count": null,
   "id": "206da48e",
   "metadata": {},
   "outputs": [],
   "source": [
    "Color = namedtuple('Color', ['red', 'green', 'blue'])\n",
    "Color?"
   ]
  },
  {
   "cell_type": "code",
   "execution_count": null,
   "id": "09c11de0",
   "metadata": {},
   "outputs": [],
   "source": [
    "yellow = Color(255, 255, 0)"
   ]
  },
  {
   "cell_type": "code",
   "execution_count": null,
   "id": "b6974bbb",
   "metadata": {},
   "outputs": [],
   "source": [
    "yellow.red, yellow[0]"
   ]
  },
  {
   "cell_type": "code",
   "execution_count": null,
   "id": "ebb6c510",
   "metadata": {},
   "outputs": [],
   "source": [
    "print(yellow)"
   ]
  },
  {
   "cell_type": "markdown",
   "id": "6b122eaa-ab40-40be-825a-d4322500b530",
   "metadata": {
    "jp-MarkdownHeadingCollapsed": true,
    "tags": []
   },
   "source": [
    "---\n",
    "# 3. Dictionaries"
   ]
  },
  {
   "cell_type": "markdown",
   "id": "34badc03-13fb-4947-86c1-e2a3662765e2",
   "metadata": {},
   "source": [
    "Dictionaries are the collection to use when you want to store and retrieve things by their names\n",
    "(or some other kind of key) instead of by their position in the collection. A good example is a set\n",
    "of model parameters, each of which has a name and a value. Dictionaries are declared using `{}`."
   ]
  },
  {
   "cell_type": "code",
   "execution_count": 1,
   "id": "b965f6f8",
   "metadata": {},
   "outputs": [
    {
     "name": "stdout",
     "output_type": "stream",
     "text": [
      "{'inches_in_feet': 12, 'inches_in_metre': 39}\n",
      "12\n"
     ]
    }
   ],
   "source": [
    "# Make a dictionary of model parameters.\n",
    "# the key is written in quotation marks, the value follows after :\n",
    "convertors = {'inches_in_feet' : 12,\n",
    "              'inches_in_metre' : 39}\n",
    "\n",
    "print(convertors)\n",
    "print(convertors['inches_in_feet'])"
   ]
  },
  {
   "cell_type": "code",
   "execution_count": 2,
   "id": "3ec13d72",
   "metadata": {},
   "outputs": [
    {
     "name": "stdout",
     "output_type": "stream",
     "text": [
      "{'inches_in_feet': 12, 'inches_in_metre': 39, 'metres_in_mile': 1609.34}\n"
     ]
    }
   ],
   "source": [
    "# Add a new key:value pair.\n",
    "convertors['metres_in_mile'] = 1609.34\n",
    "print(convertors)"
   ]
  },
  {
   "cell_type": "markdown",
   "id": "e116c073",
   "metadata": {},
   "source": [
    "The equivalent of `extend()` for dictionaries is `updat()`."
   ]
  },
  {
   "cell_type": "code",
   "execution_count": null,
   "id": "1cb7e130",
   "metadata": {},
   "outputs": [],
   "source": [
    "metric_convertors = {'metres_in_kilometer': 1000, 'centimetres_in_meter': 100}\n",
    "convertors.update(metric_convertors)\n",
    "convertors"
   ]
  },
  {
   "cell_type": "code",
   "execution_count": null,
   "id": "5886834b",
   "metadata": {},
   "outputs": [],
   "source": [
    "# Raise a Key-Error\n",
    "print(convertors['decimetres_in_meter'])"
   ]
  },
  {
   "cell_type": "markdown",
   "id": "81607938",
   "metadata": {},
   "source": [
    "We can also check whether a key is in a dictionary or not. This can be done in two different ways. The differences will be covered in another notebook. "
   ]
  },
  {
   "cell_type": "code",
   "execution_count": null,
   "id": "eccaa74a",
   "metadata": {},
   "outputs": [],
   "source": [
    "if 'decimetres_in_meter' in convertors:\n",
    "    print(convertors['decimetres_in_meter'])\n",
    "else:\n",
    "    print(\"Wasn't in there!\")"
   ]
  },
  {
   "cell_type": "code",
   "execution_count": null,
   "id": "c3dbd82c",
   "metadata": {},
   "outputs": [],
   "source": [
    "try:\n",
    "    print(convertors['decimetres_in_meter'])\n",
    "except KeyError:\n",
    "    print(\"Wasn't in there!\")"
   ]
  },
  {
   "cell_type": "markdown",
   "id": "e7f7ceaa",
   "metadata": {},
   "source": [
    "Getting all `key`, all `value`, and all `key-value-pair` is easy:"
   ]
  },
  {
   "cell_type": "code",
   "execution_count": null,
   "id": "5aae7d6a",
   "metadata": {},
   "outputs": [],
   "source": [
    "key_list = list(convertors.keys())\n",
    "print(key_list, type(key_list))\n",
    "\n",
    "value_list = list(convertors.values())\n",
    "print(value_list, type(value_list))\n",
    "\n",
    "key_val_list = list(convertors.items())\n",
    "print(key_val_list, type(key_val_list))"
   ]
  },
  {
   "cell_type": "markdown",
   "id": "3a385c5a-7999-429b-ac37-9012383d2523",
   "metadata": {
    "jp-MarkdownHeadingCollapsed": true,
    "tags": []
   },
   "source": [
    "---\n",
    "# 4. Sets"
   ]
  },
  {
   "cell_type": "markdown",
   "id": "739fd14f-d6fc-43c6-b4c8-803aeaf7fd91",
   "metadata": {},
   "source": [
    "Sets are unordered collections of unique items like in mathematics. They are useful for keeping track of objects you have seen and testing membership. \n",
    "\n",
    "Sets are declared using `{}`."
   ]
  },
  {
   "cell_type": "code",
   "execution_count": null,
   "id": "2f43ae21",
   "metadata": {},
   "outputs": [],
   "source": [
    "a_set = {1, 2, 3}\n",
    "a_set"
   ]
  },
  {
   "cell_type": "markdown",
   "id": "e0f8baf4",
   "metadata": {},
   "source": [
    "Sets are unqiue. This means that there cannot be several same values in a set, but just one unique."
   ]
  },
  {
   "cell_type": "code",
   "execution_count": 1,
   "id": "ec42d41b",
   "metadata": {},
   "outputs": [
    {
     "data": {
      "text/plain": [
       "{1, 2, 3}"
      ]
     },
     "execution_count": 1,
     "metadata": {},
     "output_type": "execute_result"
    }
   ],
   "source": [
    "unique_set = {1, 2, 3, 3, 3, 3}\n",
    "unique_set"
   ]
  },
  {
   "cell_type": "markdown",
   "id": "68b01b3a",
   "metadata": {},
   "source": [
    "Empty sets can't be declared with literals and are easily confused with empty `dicts`. Instead an explicit constructor has to be used"
   ]
  },
  {
   "cell_type": "code",
   "execution_count": 2,
   "id": "9014bdfc",
   "metadata": {},
   "outputs": [
    {
     "data": {
      "text/plain": [
       "(set(), set)"
      ]
     },
     "execution_count": 2,
     "metadata": {},
     "output_type": "execute_result"
    }
   ],
   "source": [
    "empty_set = set()\n",
    "empty_set, type(empty_set)"
   ]
  },
  {
   "cell_type": "code",
   "execution_count": 3,
   "id": "01fe7702",
   "metadata": {},
   "outputs": [
    {
     "data": {
      "text/plain": [
       "({}, dict)"
      ]
     },
     "execution_count": 3,
     "metadata": {},
     "output_type": "execute_result"
    }
   ],
   "source": [
    "empty_dict = {}\n",
    "empty_dict, type(empty_dict)"
   ]
  },
  {
   "cell_type": "markdown",
   "id": "59fe48dc",
   "metadata": {},
   "source": [
    "`Set-operation` are far more efficient for sets than for lists!"
   ]
  },
  {
   "cell_type": "code",
   "execution_count": null,
   "id": "b8127cc0",
   "metadata": {},
   "outputs": [],
   "source": [
    "s1 = {1,2,3}\n",
    "s2 = {3,4,5}\n",
    "\n",
    "print(\"s1\", s1)\n",
    "print(\"s2\", s2)\n",
    "print(\"union\", s1 | s2) \n",
    "print(\"intersection\", s1 & s2) \n",
    "print(\"difference\", s1 - s2)\n",
    "print(\"is s1 a subset of s2?\", s1 <= s2)\n",
    "print(\"XOR\", s1 ^ s2)"
   ]
  },
  {
   "cell_type": "markdown",
   "id": "c685b7c6",
   "metadata": {},
   "source": [
    "Sets are fast at membership tests."
   ]
  },
  {
   "cell_type": "code",
   "execution_count": null,
   "id": "cfdd5f47",
   "metadata": {},
   "outputs": [],
   "source": [
    "set_members = set(range(1000))\n",
    "list_members = list(range(1000))"
   ]
  },
  {
   "cell_type": "code",
   "execution_count": null,
   "id": "d06b5d64",
   "metadata": {},
   "outputs": [],
   "source": [
    "%%timeit\n",
    "900 in set_members"
   ]
  },
  {
   "cell_type": "code",
   "execution_count": null,
   "id": "168610ad",
   "metadata": {},
   "outputs": [],
   "source": [
    "%%timeit\n",
    "900 in list_members"
   ]
  },
  {
   "cell_type": "markdown",
   "id": "46ccac9d",
   "metadata": {},
   "source": [
    "<div class=\"alert alert-block alert-info\">\n",
    "<b>Exercise:</b> \n",
    "    <br>\n",
    "    How can we make the items in the following list unique?\n",
    "</div>"
   ]
  },
  {
   "cell_type": "code",
   "execution_count": null,
   "id": "9e5805b6",
   "metadata": {},
   "outputs": [],
   "source": [
    "cakes = [\"cheesecake\", \"raspberry pi\", \"cheesecake\", \"strawberry pie\"]"
   ]
  },
  {
   "cell_type": "code",
   "execution_count": null,
   "id": "5364898c",
   "metadata": {},
   "outputs": [],
   "source": [
    "# here you have space to experiment"
   ]
  },
  {
   "cell_type": "markdown",
   "id": "a79c7d43",
   "metadata": {
    "jp-MarkdownHeadingCollapsed": true,
    "tags": []
   },
   "source": [
    "# Control Flow\n",
    "\n",
    "\n",
    "A Programmers Control Flow is the order in which the Program code executes. \n",
    "\n",
    "it mainly consist of \n",
    " - Conditional statements (if, elif, nested elif) \n",
    " - for loops\n",
    " - while loops"
   ]
  },
  {
   "cell_type": "markdown",
   "id": "851e4c8e",
   "metadata": {
    "jp-MarkdownHeadingCollapsed": true,
    "tags": []
   },
   "source": [
    "## Conditional statements\n",
    "Usual Mathematical Logical Conditions can be are supported in python. \n",
    "\n",
    " - **Equals:** a == b\n",
    " - **Not Equals:** a != b\n",
    " - **Less than:** a < b\n",
    " - **Less than or equal to:** a <= b\n",
    " - **Greater than:** a > b\n",
    " - **Greater than or equal to:** a >= b"
   ]
  },
  {
   "cell_type": "code",
   "execution_count": null,
   "id": "51460ff4",
   "metadata": {},
   "outputs": [],
   "source": [
    "# play around with the value of a to see how this conditional behaves\n",
    "a = 9 \n",
    "\n",
    "\n",
    "# here you can see whitespace indentation for the first time\n",
    "# Python indentation is a way of telling a Python interpreter that \n",
    "# the group of statements belongs to a particular block of code\n",
    "\n",
    "if a < 8:\n",
    "    print(\"a is less than 8!\") # here you can see whitespace indentation for the first time\n",
    "elif a == 8:\n",
    "    print(\"a is equal to 8!\")\n",
    "elif a == 9 or a == 10:\n",
    "    print(\"a is equal to 8 or 9!\")\n",
    "elif a > 8:\n",
    "    print(\"a is greater than 10!\")\n",
    "else:\n",
    "    print(\"This will never be executed.\")"
   ]
  },
  {
   "cell_type": "markdown",
   "id": "b697a6eb",
   "metadata": {},
   "source": [
    "__Note__: there are no switch statements in python but there are... "
   ]
  },
  {
   "cell_type": "code",
   "execution_count": null,
   "id": "3bb408ae",
   "metadata": {},
   "outputs": [],
   "source": [
    "\n",
    "command = \"nuke\"\n",
    "\n",
    "\n",
    "if command == \"attack\":\n",
    "    print(\"prepraing to launch attack\")\n",
    "\n",
    "elif command == \"defend\":\n",
    "    print(\"launching defensive forces\")\n",
    "\n",
    "elif command == \"withdraw\":\n",
    "    print(\"preparing to withdraw forces\")\n",
    "    \n",
    "else:\n",
    "    print(\"Not a valid option!\")"
   ]
  },
  {
   "cell_type": "markdown",
   "id": "c828f000",
   "metadata": {},
   "source": [
    "Remember the two different versions to check if a key is in a dictionary?\n",
    "\n",
    "\n",
    "### EAFP versus LBYL\n",
    "\n",
    "The first method from the cell above was a certain idiomatic practice: **\"Look Before You Leap\"**. You first check whether something will succeed and only proceed if we know it works. While the standard for most programming languages, _pythonic coding_ follows another paradigm: **\"Its easier to ask for forgiveness than permission\"**. \n",
    "https://blogs.msdn.microsoft.com/pythonengineering/2016/06/29/idiomatic-python-eafp-versus-lbyl/"
   ]
  },
  {
   "cell_type": "code",
   "execution_count": null,
   "id": "014f4038",
   "metadata": {},
   "outputs": [],
   "source": [
    "# This is the LBYL version:\n",
    "if 'decimetres_in_meter' in convertors:\n",
    "    print(convertors['decimetres_in_meter'])\n",
    "else:\n",
    "    print(\"Wasn't in there!\")"
   ]
  },
  {
   "cell_type": "code",
   "execution_count": null,
   "id": "1b1761f0",
   "metadata": {},
   "outputs": [],
   "source": [
    "# And this the EAFP version:\n",
    "try:\n",
    "    print(convertors['decimetres_in_meter'])\n",
    "except KeyError:\n",
    "    print(\"Wasn't in there!\")"
   ]
  },
  {
   "cell_type": "markdown",
   "id": "c6b5fed4",
   "metadata": {
    "jp-MarkdownHeadingCollapsed": true,
    "tags": []
   },
   "source": [
    "---\n",
    "## While Loop\n",
    "\n",
    "With the while loop we can execute a set of statements as long as a condition is true."
   ]
  },
  {
   "cell_type": "code",
   "execution_count": null,
   "id": "7c2ae8f5",
   "metadata": {},
   "outputs": [],
   "source": [
    "ects = 0\n",
    "while ects < 120:\n",
    "\n",
    "    print(ects ,  \" ---> not enough ects to graduate\")\n",
    "    ects += 24"
   ]
  },
  {
   "cell_type": "markdown",
   "id": "d4a1196b",
   "metadata": {},
   "source": [
    "### `break` and `continue` statements in while loops\n",
    "\n",
    " - With the `break` statement we can stop the loop even if the while condition is true:\n",
    " - With the `continue` statement we can stop the current iteration, and continue with the next: "
   ]
  },
  {
   "cell_type": "code",
   "execution_count": null,
   "id": "ecc09836",
   "metadata": {},
   "outputs": [],
   "source": [
    "ects = 0\n",
    "while ects < 140:\n",
    "\n",
    "    print(ects ,  \" ---> not enough ects to graduate\")\n",
    "    if ects == 96:\n",
    "        print(ects ,  \" ---> Note: Masters Student, Congrats you graduated\")\n",
    "        break\n",
    "\n",
    "  \n",
    "    ects += 24"
   ]
  },
  {
   "cell_type": "code",
   "execution_count": null,
   "id": "446a6295",
   "metadata": {},
   "outputs": [],
   "source": [
    "i = 0\n",
    "while i < 6:\n",
    "    \n",
    "    i += 1\n",
    "    if i == 3:\n",
    "        continue\n",
    "    print(i)"
   ]
  },
  {
   "cell_type": "markdown",
   "id": "157b2a25",
   "metadata": {
    "jp-MarkdownHeadingCollapsed": true,
    "tags": []
   },
   "source": [
    "---\n",
    "## For Loops\n",
    "A for loop is used for iterating over a sequence (that is either a list, a tuple, a dictionary, a set, or a string)."
   ]
  },
  {
   "cell_type": "code",
   "execution_count": null,
   "id": "14ba704b",
   "metadata": {},
   "outputs": [],
   "source": [
    "numbers = [1, 2, 3, 4]\n",
    "\n",
    "for i in numbers:\n",
    "    print(i)"
   ]
  },
  {
   "cell_type": "markdown",
   "id": "b6a7208c",
   "metadata": {},
   "source": [
    "The same code can be writen like following ways as well:"
   ]
  },
  {
   "cell_type": "code",
   "execution_count": null,
   "id": "a6fbfdca",
   "metadata": {},
   "outputs": [],
   "source": [
    "for i in [1,2,3,4]:\n",
    "    print(i)"
   ]
  },
  {
   "cell_type": "code",
   "execution_count": null,
   "id": "e385be04",
   "metadata": {},
   "outputs": [],
   "source": [
    "for i in \"SciPy\":\n",
    "    print(i)"
   ]
  },
  {
   "cell_type": "markdown",
   "id": "f8a74123",
   "metadata": {},
   "source": [
    "For loops can be also used to `zip` multiple variables together:"
   ]
  },
  {
   "cell_type": "code",
   "execution_count": null,
   "id": "10431bc8",
   "metadata": {},
   "outputs": [],
   "source": [
    "names = ['paula', 'marcel', 'marine']\n",
    "ages = [20, 22, 19]\n",
    "countries = [\"France\", \"Germany\", \"Chile\"]  \n",
    "for name, age,  country in zip(names, ages, countries):\n",
    "    print(name, \"is\", age, \"years old and from\",  country)"
   ]
  },
  {
   "cell_type": "markdown",
   "id": "1c6f287d",
   "metadata": {},
   "source": [
    "With Python's build in fucntion `range()` you can create a sequence. It is also helpful for loop iterations. \n",
    "You can use range() if you know you want to do something x times:"
   ]
  },
  {
   "cell_type": "code",
   "execution_count": null,
   "id": "898772aa",
   "metadata": {},
   "outputs": [],
   "source": [
    "for i in range(3):\n",
    "    print(i)"
   ]
  },
  {
   "cell_type": "markdown",
   "id": "6fa116f8",
   "metadata": {},
   "source": [
    "You can also define a `start`, `stop` and `stepsize`:"
   ]
  },
  {
   "cell_type": "code",
   "execution_count": null,
   "id": "89d0a94d",
   "metadata": {},
   "outputs": [],
   "source": [
    "for a in range(0,25,5):\n",
    "    print(a)"
   ]
  },
  {
   "cell_type": "markdown",
   "id": "63526945-35e6-45e7-9a00-e25b2152c6ee",
   "metadata": {
    "jp-MarkdownHeadingCollapsed": true,
    "tags": []
   },
   "source": [
    "# Functions"
   ]
  },
  {
   "cell_type": "markdown",
   "id": "5ae33dab-842f-412c-a1ce-8241d4c7b564",
   "metadata": {
    "tags": []
   },
   "source": [
    "These will be very familiar to anyone who has programmed in any language, and work like you\n",
    "would expect.\n",
    "\n",
    "\n",
    "A quick __summary__ :\n",
    "\n",
    "- A function is a __block of code__ which runs only when it is called. \n",
    "- You can pass data, known as `parameter`, into a function.\n",
    "- A function can `return` data as a result."
   ]
  },
  {
   "cell_type": "code",
   "execution_count": null,
   "id": "c7fa5788",
   "metadata": {},
   "outputs": [],
   "source": [
    "# There are thousands of functions that operate on things.\n",
    "print(type(3))\n",
    "print(len('hello'))\n",
    "print(round(3.3))"
   ]
  },
  {
   "cell_type": "markdown",
   "id": "cf68b5ea",
   "metadata": {},
   "source": [
    "<div class=\"alert alert-block alert-success\">\n",
    "<b>Tip:</b> <br>\n",
    "    To find out what a function does, you can type it's name and then a question mark to\n",
    "get some information. Or, to see what arguments it takes, you can type its name, an open\n",
    "parenthesis, and hit shift-tab. \n",
    "    <br>\n",
    "    <b> Try it out yourself! </b>\n",
    "</div>"
   ]
  },
  {
   "cell_type": "code",
   "execution_count": null,
   "id": "50daac5d",
   "metadata": {},
   "outputs": [],
   "source": [
    "round?"
   ]
  },
  {
   "cell_type": "code",
   "execution_count": null,
   "id": "b5196535",
   "metadata": {},
   "outputs": [],
   "source": [
    "round()"
   ]
  },
  {
   "cell_type": "markdown",
   "id": "cebe36b8",
   "metadata": {},
   "source": [
    "In Python, **functions are first-class objects!** - an object with no restictions on it's use.\n",
    "You can even assign functions to variables:"
   ]
  },
  {
   "cell_type": "code",
   "execution_count": null,
   "id": "9f6ea484",
   "metadata": {},
   "outputs": [],
   "source": [
    "a_function = print\n",
    "a_function(\"Hello, world!\")\n",
    "print(\"What it is:\", a_function)\n",
    "print(\"type:\", type(a_function))"
   ]
  },
  {
   "cell_type": "markdown",
   "id": "1c007093",
   "metadata": {},
   "source": [
    "<br><br><br>"
   ]
  },
  {
   "cell_type": "markdown",
   "id": "22c2e41b",
   "metadata": {
    "jp-MarkdownHeadingCollapsed": true,
    "tags": []
   },
   "source": [
    "\n",
    "## writing functions"
   ]
  },
  {
   "cell_type": "markdown",
   "id": "2c480a43",
   "metadata": {},
   "source": [
    "As we have learned before we can use one or more `parameters` and a `return statement` for a function.\n",
    "<br>\n",
    "A function in python is defined by using the keyword `def`."
   ]
  },
  {
   "cell_type": "code",
   "execution_count": null,
   "id": "0370a40a",
   "metadata": {},
   "outputs": [],
   "source": [
    "# we define the function using def. The name of the function is always in lower snake case.\n",
    "\n",
    "def a_function():\n",
    "    print(\"This is a function without parameter and return statement\")\n",
    "    "
   ]
  },
  {
   "cell_type": "code",
   "execution_count": null,
   "id": "5fc79b87",
   "metadata": {},
   "outputs": [],
   "source": [
    "# lets try it out\n",
    "a_function()"
   ]
  },
  {
   "cell_type": "code",
   "execution_count": null,
   "id": "2bccbfe4",
   "metadata": {},
   "outputs": [],
   "source": [
    "# let's write another function, this time with a parameter and a value to return\n",
    "\n",
    "def another_function(parameter):  # we here give our function a parameter, this can also be empty\n",
    "    # do something in a function\n",
    "    parameter += 1\n",
    "    \n",
    "    # use the return statement when you want to return a value\n",
    "    return parameter"
   ]
  },
  {
   "cell_type": "code",
   "execution_count": null,
   "id": "a4bed3db",
   "metadata": {},
   "outputs": [],
   "source": [
    "print(another_function(3))"
   ]
  },
  {
   "cell_type": "code",
   "execution_count": null,
   "id": "b0f29e45",
   "metadata": {},
   "outputs": [],
   "source": [
    "a = another_function() + 1"
   ]
  },
  {
   "cell_type": "markdown",
   "id": "f3569e13-89a8-43e7-9e30-ee05fa90d27a",
   "metadata": {},
   "source": [
    "<div class=\"alert alert-block alert-warning\">\n",
    "<b>Important:</b> \n",
    "    <br> \n",
    "    Always make sure whether you expect the function to return something and if yes what type, otherwise you can get and error!\n",
    "</div>"
   ]
  },
  {
   "cell_type": "markdown",
   "id": "e9f40377",
   "metadata": {},
   "source": [
    "We can pass different data in the same function from different calls. "
   ]
  },
  {
   "cell_type": "code",
   "execution_count": null,
   "id": "e0a194aa",
   "metadata": {},
   "outputs": [],
   "source": [
    "def send_email(name):\n",
    "    print(\"sending email to \" + name)\n",
    "\n",
    "\n",
    "send_email(\"Angela Merkel\")\n",
    "send_email(\"Elon Mask\")\n",
    "send_email(\"me\")\n"
   ]
  },
  {
   "cell_type": "markdown",
   "id": "fd663466",
   "metadata": {},
   "source": [
    "Let's come back to our `parameters`. \n",
    "<br>\n",
    "You can pass arguments in your function. By default your function must pass the defined number of parameter while calling them."
   ]
  },
  {
   "cell_type": "code",
   "execution_count": null,
   "id": "df898226",
   "metadata": {},
   "outputs": [],
   "source": [
    "def mensa_menu(main_course, drink, desert):\n",
    "    print(\"todays menu: \")\n",
    "    print(main_course)\n",
    "    print(drink)\n",
    "    print(desert)\n",
    "\n",
    "\n",
    "mensa_menu(\"pizza\", \"cola\" , \"pudding\")"
   ]
  },
  {
   "cell_type": "markdown",
   "id": "18d7b6dc",
   "metadata": {},
   "source": [
    "You can define `default values` in the function. These values do not have to be passed when using the function.\n",
    "\n",
    "Always write the default values after you defined all your non-default values."
   ]
  },
  {
   "cell_type": "code",
   "execution_count": null,
   "id": "40cb8a07",
   "metadata": {},
   "outputs": [],
   "source": [
    "def mensa_menu(drink, desert, main_course = \"Soup\"):\n",
    "\n",
    "    print(\"todays menu: \")\n",
    "    print(main_course)\n",
    "    print(drink)\n",
    "    print(desert)\n",
    "\n",
    "\n",
    "mensa_menu(\"cola\" , \"pudding\")"
   ]
  },
  {
   "cell_type": "markdown",
   "id": "db5d5e82",
   "metadata": {},
   "source": [
    "But default values can also be replaced. Here default arguments must follow non-default arguments."
   ]
  },
  {
   "cell_type": "code",
   "execution_count": null,
   "id": "e5e91847",
   "metadata": {},
   "outputs": [],
   "source": [
    "def mensa_menu(drink, desert, main_course = \"Soup\"):\n",
    "\n",
    "    print(\"todays menu:\")\n",
    "    print(main_course)\n",
    "    print(drink)\n",
    "    print(desert)\n",
    "\n",
    "\n",
    "mensa_menu(\"cola\" , \"pudding\",main_course = \"pizzza\")"
   ]
  },
  {
   "cell_type": "markdown",
   "id": "0ce7132c",
   "metadata": {},
   "source": [
    "If the name of the parameters are defined then it can be writen in any order from **\"function call\"**"
   ]
  },
  {
   "cell_type": "code",
   "execution_count": null,
   "id": "98dae69a",
   "metadata": {},
   "outputs": [],
   "source": [
    "mensa_menu(drink = \"cola\", main_course = \"pizzza\", desert = \"pudding\")"
   ]
  },
  {
   "cell_type": "markdown",
   "id": "3f60111e",
   "metadata": {},
   "source": [
    "<div class=\"alert alert-block alert-info\">\n",
    "<b>Exercise:</b> \n",
    "    <br>\n",
    "    Write a function that:\n",
    "    <br>\n",
    "    - takes 2 numbers\n",
    "    <br>\n",
    "    - adds them together\n",
    "    <br>\n",
    "    - returns the result\n",
    "    <br>\n",
    "    - prints out \"I like addition\" by default, but can print a text given by the user\n",
    "    <br>\n",
    "</div>"
   ]
  },
  {
   "cell_type": "code",
   "execution_count": null,
   "id": "8d5d1d3a",
   "metadata": {},
   "outputs": [],
   "source": [
    "# your function"
   ]
  },
  {
   "cell_type": "markdown",
   "id": "22ace008-11e0-4262-af01-34344cb01cb2",
   "metadata": {
    "jp-MarkdownHeadingCollapsed": true,
    "tags": []
   },
   "source": [
    "---\n",
    "## Docstrings\n",
    "We can use docstrings to describe what our function does. Similar to the PEP8 naming conventions this can be useful for our own coding but will become really important when reading other peoples code or when working on a project together.<br>\n",
    "A docstring is a special type of string that is attached to the object at runtime and afterwards available in the `__doc__` attribute. \n",
    "\n"
   ]
  },
  {
   "cell_type": "code",
   "execution_count": null,
   "id": "9d921da7-9558-4066-818f-69d13c5ee0e3",
   "metadata": {},
   "outputs": [],
   "source": [
    "def say_hello(time, person):\n",
    "    \"\"\"Greets a person in a friendly manner.\"\"\"\n",
    "    return \"Good \" + time + \" to you \" + person + \" !\"\n",
    "\n",
    "say_hello.__doc__"
   ]
  },
  {
   "cell_type": "markdown",
   "id": "0d9ba481-a4a9-4895-9e50-6cbdc414c972",
   "metadata": {},
   "source": [
    "You can also use `?`, `help` or <kbd>Shift</kbd> + <kbd>Tab</kbd> to look at docstrings."
   ]
  },
  {
   "cell_type": "code",
   "execution_count": null,
   "id": "f7006048-1966-4a5c-8c99-fa4d67104be9",
   "metadata": {},
   "outputs": [],
   "source": [
    "?say_hello"
   ]
  },
  {
   "cell_type": "code",
   "execution_count": null,
   "id": "aafd3efd-7b42-4fd8-8c3f-33d516e89292",
   "metadata": {},
   "outputs": [],
   "source": [
    "help(say_hello)"
   ]
  },
  {
   "cell_type": "markdown",
   "id": "5a7ed4c8-7aa5-41a2-8e60-051551525fe2",
   "metadata": {},
   "source": [
    "<br>\n",
    "\n",
    "To describe the arguments of our function, we want to use more extensive docstrings. A good approach is to stick to some docstring convention. We will use the [Google Style](http://www.sphinx-doc.org/en/1.5/ext/example_google.html), which is very readable in its textual form, but can also be rendered as a standalone documentation."
   ]
  },
  {
   "cell_type": "code",
   "execution_count": null,
   "id": "0615bf2e-9ca3-442f-bfde-97af223865d9",
   "metadata": {},
   "outputs": [],
   "source": [
    "def say_hello(time, person):\n",
    "    \"\"\"Greets a person in a friendly manner.\n",
    "    \n",
    "    Args:\n",
    "        time: The time at which to say hello.\n",
    "        person: The person to say hello to.\n",
    "        \n",
    "    Returns:\n",
    "        :return A greeting.\n",
    "    \"\"\"\n",
    "    return \"Good \" + time + \" to you \" + person + \" !\""
   ]
  },
  {
   "cell_type": "markdown",
   "id": "edde902d-75cb-4384-86bd-30a577052267",
   "metadata": {},
   "source": [
    "<div class=\"alert alert-block alert-info\">\n",
    "<b>Exercise:</b> \n",
    "    <br>\n",
    "    Add a docstring to your the function that you wrote before.\n",
    "</div>"
   ]
  },
  {
   "cell_type": "code",
   "execution_count": null,
   "id": "536989b3-8dc5-4a76-b43d-9aa24e508acb",
   "metadata": {},
   "outputs": [],
   "source": [
    "# here you can paste your function and add the docstring"
   ]
  },
  {
   "cell_type": "markdown",
   "id": "f8d178f2-d5df-4f66-bdeb-2bd7c29caf5f",
   "metadata": {
    "jp-MarkdownHeadingCollapsed": true,
    "tags": []
   },
   "source": [
    "---\n",
    "## Type hints\n",
    "\n",
    "Recent developments in Python go towards the possibility to [typecheck](https://www.python.org/dev/peps/pep-0484/) your code before runtime. This feature is completely optional, but is very useful when you want to write reusable code that you want share with others. Type hints do not influnce the behavior of your program, but external tools can use it to spot potential bugs in your code."
   ]
  },
  {
   "cell_type": "code",
   "execution_count": 1,
   "id": "1f5a5c14-af13-455c-ba5b-adf17deee030",
   "metadata": {
    "tags": []
   },
   "outputs": [],
   "source": [
    "def say_hello(time: str, person: str) -> str:\n",
    "    return \"Good \" + time + \" to you \" + person + \" !\""
   ]
  },
  {
   "cell_type": "code",
   "execution_count": 2,
   "id": "e711e146-5bc9-4720-bd3c-f434af4fbfd9",
   "metadata": {
    "tags": []
   },
   "outputs": [
    {
     "ename": "TypeError",
     "evalue": "can only concatenate str (not \"int\") to str",
     "output_type": "error",
     "traceback": [
      "\u001b[0;31m---------------------------------------------------------------------------\u001b[0m",
      "\u001b[0;31mTypeError\u001b[0m                                 Traceback (most recent call last)",
      "Cell \u001b[0;32mIn[2], line 1\u001b[0m\n\u001b[0;32m----> 1\u001b[0m \u001b[43msay_hello\u001b[49m\u001b[43m(\u001b[49m\u001b[38;5;124;43m\"\u001b[39;49m\u001b[38;5;124;43mday\u001b[39;49m\u001b[38;5;124;43m\"\u001b[39;49m\u001b[43m,\u001b[49m\u001b[43m \u001b[49m\u001b[38;5;241;43m1\u001b[39;49m\u001b[43m)\u001b[49m\n",
      "Cell \u001b[0;32mIn[1], line 2\u001b[0m, in \u001b[0;36msay_hello\u001b[0;34m(time, person)\u001b[0m\n\u001b[1;32m      1\u001b[0m \u001b[38;5;28;01mdef\u001b[39;00m \u001b[38;5;21msay_hello\u001b[39m(time: \u001b[38;5;28mstr\u001b[39m, person: \u001b[38;5;28mstr\u001b[39m) \u001b[38;5;241m-\u001b[39m\u001b[38;5;241m>\u001b[39m \u001b[38;5;28mstr\u001b[39m:\n\u001b[0;32m----> 2\u001b[0m     \u001b[38;5;28;01mreturn\u001b[39;00m \u001b[38;5;124;43m\"\u001b[39;49m\u001b[38;5;124;43mGood \u001b[39;49m\u001b[38;5;124;43m\"\u001b[39;49m\u001b[43m \u001b[49m\u001b[38;5;241;43m+\u001b[39;49m\u001b[43m \u001b[49m\u001b[43mtime\u001b[49m\u001b[43m \u001b[49m\u001b[38;5;241;43m+\u001b[39;49m\u001b[43m \u001b[49m\u001b[38;5;124;43m\"\u001b[39;49m\u001b[38;5;124;43m to you \u001b[39;49m\u001b[38;5;124;43m\"\u001b[39;49m\u001b[43m \u001b[49m\u001b[38;5;241;43m+\u001b[39;49m\u001b[43m \u001b[49m\u001b[43mperson\u001b[49m \u001b[38;5;241m+\u001b[39m \u001b[38;5;124m\"\u001b[39m\u001b[38;5;124m !\u001b[39m\u001b[38;5;124m\"\u001b[39m\n",
      "\u001b[0;31mTypeError\u001b[0m: can only concatenate str (not \"int\") to str"
     ]
    }
   ],
   "source": [
    "say_hello(\"day\", 1)"
   ]
  },
  {
   "cell_type": "markdown",
   "id": "ccd14104-40d4-4cb2-9b23-bc2f87f2f328",
   "metadata": {},
   "source": [
    "<div class=\"alert alert-block alert-info\">\n",
    "<b>Exercise:</b> \n",
    "    <br>\n",
    "    Add type hints to your function.\n",
    "</div>"
   ]
  },
  {
   "cell_type": "code",
   "execution_count": null,
   "id": "ec86540a-9508-4b6c-b19e-e2d5a4c5e55c",
   "metadata": {},
   "outputs": [],
   "source": [
    "# here you can paste your function and add the type hints"
   ]
  },
  {
   "cell_type": "markdown",
   "id": "640c7ef1-65af-4001-8904-5734c30b0f6b",
   "metadata": {
    "jp-MarkdownHeadingCollapsed": true,
    "tags": []
   },
   "source": [
    "---\n",
    "\n",
    "## \\*args and \\*\\*kwargs\n",
    "\n",
    "`*args` will catch any loose positional arguments and<br>\n",
    "`**kwargs`will catch any loose keyword arguments"
   ]
  },
  {
   "cell_type": "code",
   "execution_count": 1,
   "id": "bb6105dd-2c4e-4797-a46a-06bfd4b1405b",
   "metadata": {
    "tags": []
   },
   "outputs": [],
   "source": [
    "def gimme_gimme(normal_arg, *args, **kwargs):\n",
    "    print(f\"normal argument: {normal_arg}\\n\")\n",
    "    \n",
    "    print(\"other positional arguments:\")\n",
    "    for arg in args:\n",
    "        print(arg)\n",
    "     \n",
    "    print(\"\\nother keyword arguements:\")\n",
    "    for keyword, argument in kwargs.items():\n",
    "        print(f\"{keyword}: {argument}\")"
   ]
  },
  {
   "cell_type": "code",
   "execution_count": 2,
   "id": "66fd2e43-ecf1-4fa9-a284-efa7c69e4ffe",
   "metadata": {
    "tags": []
   },
   "outputs": [
    {
     "name": "stdout",
     "output_type": "stream",
     "text": [
      "normal argument: test\n",
      "\n",
      "other positional arguments:\n",
      "1\n",
      "2\n",
      "3\n",
      "\n",
      "other keyword arguements:\n",
      "one: 1\n",
      "two: 2\n",
      "three: 3\n"
     ]
    }
   ],
   "source": [
    "gimme_gimme(\"test\", 1, 2, 3, one=1, two=2, three=3)"
   ]
  },
  {
   "cell_type": "markdown",
   "id": "8cdf0c7b-8e74-4105-9421-60f4a51faef7",
   "metadata": {},
   "source": [
    "<br>\n",
    "`*args` and `**kwargs` can be really useful for inheritance because we can grab the parameters that we need for a child-class and call the parent-class with the original parameters."
   ]
  },
  {
   "cell_type": "markdown",
   "id": "cf4060b1-9df4-4ed5-8b61-ec8f148fd0ae",
   "metadata": {
    "jp-MarkdownHeadingCollapsed": true,
    "tags": []
   },
   "source": [
    "---\n",
    "## Call-by-value or Call-by-reference?\n",
    "Do we pass a copy of an object to a function or a reference of the object?\n",
    "### Neither!"
   ]
  },
  {
   "cell_type": "code",
   "execution_count": null,
   "id": "7c3d8050-dc7c-4d29-952c-e9bbddb06c01",
   "metadata": {},
   "outputs": [],
   "source": [
    "def add_one(b):\n",
    "    b = b + 1"
   ]
  },
  {
   "cell_type": "code",
   "execution_count": null,
   "id": "6bc26f62-1edd-468b-89d5-45dd5f242dd6",
   "metadata": {},
   "outputs": [],
   "source": [
    "a = 1\n",
    "print(a)\n",
    "\n",
    "add_one(a)\n",
    "print(a)"
   ]
  },
  {
   "cell_type": "markdown",
   "id": "792419e1-3bed-4b18-baf4-7f931314e0b5",
   "metadata": {},
   "source": [
    "When we pass an object to a function we simply give it another name.<br>\n",
    "So here `b` is now also bound to our object `1`\n",
    "\n",
    "With that in mind we can employ our knowledge about mutable and immutable objects.<br>\n",
    "So since the integer `1` is **immutable**, the operation\n",
    "```python\n",
    "b = b + 1\n",
    "```\n",
    "will not change the object that `b` is bound to but it will bind `b` to a new object.<br>\n",
    "And so `a` remains unchanged.\n",
    "<br>\n",
    "<br>\n",
    "<br>\n"
   ]
  },
  {
   "cell_type": "code",
   "execution_count": null,
   "id": "2a9e5311-729c-4006-bbda-60fb02052eb5",
   "metadata": {},
   "outputs": [],
   "source": [
    "def append_one(b):\n",
    "    b.append(1)"
   ]
  },
  {
   "cell_type": "code",
   "execution_count": null,
   "id": "9751ec76-2c40-40a1-adbb-7743c3312b6d",
   "metadata": {},
   "outputs": [],
   "source": [
    "a = []\n",
    "print(a)\n",
    "\n",
    "append_one(a)\n",
    "print(a)"
   ]
  },
  {
   "cell_type": "markdown",
   "id": "56c4ec2c-9f22-48a5-8142-07dd3274519a",
   "metadata": {},
   "source": [
    "Now our object `[]` is **mutable**.<br>\n",
    "So when we pass the object `[]` to our function, it will be bound to `b`.<br>\n",
    "And we can then call with `b` and change it because it's **mutable**\n",
    "<br>\n",
    "<br>\n",
    "<br>"
   ]
  },
  {
   "cell_type": "markdown",
   "id": "467aeb2b-78c9-4f5f-8879-a18c4f21e0e5",
   "metadata": {},
   "source": [
    "---\n",
    "### Important caveat with default-arguments \n",
    "\n",
    "Using objects as default arguments will only create them once! While that is irrelevant for immutable objects, it gets messy for mutables: Imagine an empty list being the default argument of a function -- every time the function is called, the **same** list will be used!"
   ]
  },
  {
   "cell_type": "code",
   "execution_count": null,
   "id": "b17661a2-aecc-4609-bb2f-352ce915fde4",
   "metadata": {},
   "outputs": [],
   "source": [
    "def f(a=[]):\n",
    "    a.append('NO!')\n",
    "    print(a)\n",
    "\n",
    "for i in range(10):\n",
    "    f()"
   ]
  },
  {
   "cell_type": "markdown",
   "id": "6ec7bd5b-1e42-42e7-8ec6-79361c5578db",
   "metadata": {},
   "source": [
    "<div class=\"alert alert-block alert-success\">\n",
    "<b>Tip:</b> <br>\n",
    "    To avoid this, use <b>None</b> as the default argument and check for <b>None</b> inside the function, setting the real default value only then.\n",
    "</div>\n"
   ]
  },
  {
   "cell_type": "code",
   "execution_count": null,
   "id": "a1129f49-25d2-4669-aace-720be9a7b1f7",
   "metadata": {},
   "outputs": [],
   "source": [
    "def f(a=None):\n",
    "    # Initialize inside.\n",
    "    if a is None:\n",
    "        a = []\n",
    "    a.append('NO!')\n",
    "    print(a)\n",
    "    \n",
    "for i in range(10):\n",
    "    f()"
   ]
  },
  {
   "cell_type": "markdown",
   "id": "f58654dc",
   "metadata": {},
   "source": [
    "You can check all inbuild functions and methods in the __[python standard library](https://docs.python.org/3/library/index.html)__"
   ]
  },
  {
   "cell_type": "markdown",
   "id": "2cc4b731",
   "metadata": {
    "jp-MarkdownHeadingCollapsed": true,
    "tags": []
   },
   "source": [
    "# Classes\n",
    "As one of Pythons many paradigms is that of **object-orientation**, it is of course possible to implement classes. In fact, every single built-in class works the same way, and they all work the same under the hood - which also means, one can get any built-in methods to work on custom classes, just as much as on built-in classes."
   ]
  },
  {
   "cell_type": "code",
   "execution_count": null,
   "id": "bc66b67e",
   "metadata": {},
   "outputs": [],
   "source": [
    "class MyClass:\n",
    "    \"\"\"This class doesn't have much purpose and serves demonstration\"\"\"\n",
    "    # pass is used if Python wants there to be another line (because of indents), \n",
    "    #but you don't have any more content!\n",
    "    pass"
   ]
  },
  {
   "cell_type": "code",
   "execution_count": null,
   "id": "6be4ea7d",
   "metadata": {},
   "outputs": [],
   "source": [
    "my_instance = MyClass()\n",
    "type(my_instance)"
   ]
  },
  {
   "cell_type": "code",
   "execution_count": null,
   "id": "20899f04",
   "metadata": {},
   "outputs": [],
   "source": [
    "# To check if something is an instance of a class (or the ones that inherit from it), use isinstance!\n",
    "print(isinstance(my_instance, MyClass))"
   ]
  },
  {
   "cell_type": "code",
   "execution_count": null,
   "id": "b712634f",
   "metadata": {},
   "outputs": [],
   "source": [
    "# as always you can get informations about an object by using ?\n",
    "my_instance?"
   ]
  },
  {
   "cell_type": "markdown",
   "id": "23ef0a30-c7c6-4a06-bf15-d46dfa253489",
   "metadata": {
    "tags": []
   },
   "source": [
    "---\n",
    "## Methods"
   ]
  },
  {
   "cell_type": "markdown",
   "id": "335b2c17-56ea-44cf-9674-2c344e2ec41e",
   "metadata": {},
   "source": [
    "In the simplest terms, you can think of an object as a containing both data and behavior, i.e. functions that operate on that data. For example, strings in Python are\n",
    "objects that contain a set of characters and also various functions that operate on the set of\n",
    "characters. When bundled in an object, these functions are called \"methods\".\n",
    "\n",
    "Instead of the \"normal\" `function(arguments)` syntax, methods are called using the\n",
    "syntax `object.method(arguments)`."
   ]
  },
  {
   "cell_type": "code",
   "execution_count": null,
   "id": "2bc16689-b3bf-4c43-bf8e-2548baf13056",
   "metadata": {},
   "outputs": [],
   "source": [
    "# A string is actually an object\n",
    "a = 'hello, world'\n",
    "b = 5\n",
    "print(a, type(a))\n",
    "print(b, type(b))"
   ]
  },
  {
   "cell_type": "code",
   "execution_count": null,
   "id": "46397ddc-4446-43fe-90bb-0efe89f7f237",
   "metadata": {},
   "outputs": [],
   "source": [
    "# Objects have bundled methods\n",
    "print(a.capitalize())\n",
    "print(a.replace('l', 'X'))\n",
    "print(a.lower())\n",
    "print(a.upper())\n",
    "print(a.isnumeric())\n",
    "print(a.isalpha()) \n",
    "print(a.isalnum())"
   ]
  },
  {
   "cell_type": "markdown",
   "id": "3f20f36e-c562-469d-b7ea-af8e278215f0",
   "metadata": {},
   "source": [
    "With `dir(\"\")` you can see all inbuild methods for strings. Ignore the ones with the double-underscore."
   ]
  },
  {
   "cell_type": "code",
   "execution_count": null,
   "id": "67950c7e-685f-4faa-94a1-fa05d6787488",
   "metadata": {},
   "outputs": [],
   "source": [
    "dir(\"\")"
   ]
  },
  {
   "cell_type": "code",
   "execution_count": null,
   "id": "331e882f-d6bc-48c6-8480-09c6d30f47fb",
   "metadata": {},
   "outputs": [],
   "source": [
    "\"\".isalpha"
   ]
  },
  {
   "cell_type": "code",
   "execution_count": null,
   "id": "b51a30f7-4e67-4ff9-bd57-52de0388517f",
   "metadata": {},
   "outputs": [],
   "source": [
    "# with help() you can get informations about a method\n",
    "help(\"\".isalpha)"
   ]
  },
  {
   "cell_type": "code",
   "execution_count": null,
   "id": "a5b34502-ef06-4d73-9dd1-280b4b25f212",
   "metadata": {},
   "outputs": [],
   "source": [
    "help(\"\")"
   ]
  },
  {
   "cell_type": "code",
   "execution_count": null,
   "id": "2dece02b-c312-4d79-b8c0-f4b4951edc62",
   "metadata": {},
   "outputs": [],
   "source": [
    "# Integers do not have .capitalize() method\n",
    "b.capitalize() # fails"
   ]
  },
  {
   "cell_type": "markdown",
   "id": "d8d1afaf-9736-4e00-bc41-432dc648645e",
   "metadata": {},
   "source": [
    "<div class=\"alert alert-block alert-info\">\n",
    "<b>Exercise:</b> \n",
    "    <br>\n",
    "   Try out different inbuild methods for integers.\n",
    "</div>"
   ]
  },
  {
   "cell_type": "code",
   "execution_count": null,
   "id": "3930e1d8-4651-413a-ab81-9f2d1f096144",
   "metadata": {},
   "outputs": [],
   "source": []
  },
  {
   "cell_type": "markdown",
   "id": "0e498e7b-f165-4337-a76b-ceec7da720df",
   "metadata": {},
   "source": [
    "You can check all inbuild functions and methods in the __[python standard library](https://docs.python.org/3/library/index.html)__"
   ]
  },
  {
   "cell_type": "markdown",
   "id": "43f194c1",
   "metadata": {},
   "source": [
    "## Methods and Attributes\n",
    "Custom classes can have custom methods and attributes. If no constructor is explicitly specified, then one of its parent-class will be used instead. Otherwise, a constructor must be defined with the method `__init__`. A destructor is usually not needed as Python manages memory automatically.\n",
    "\n",
    "All instance-variables must be defined in instance-methods and must be referenced from `self`. All variables that are not defined in instance-methods are class-variables!\n",
    "\n",
    "`self` is a reference to the object it*self*! It is the equivalent of `this` in many other programming languages."
   ]
  },
  {
   "cell_type": "code",
   "execution_count": null,
   "id": "862d1b1c",
   "metadata": {},
   "outputs": [],
   "source": [
    "class MyClass2:\n",
    "    \"\"\"This class also doesn't have much purpose and serves demonstration.\"\"\"\n",
    "    def __init__(self):\n",
    "        print(self)\n",
    "        print(type(self))\n",
    "        \n",
    "my_second_instance = MyClass2()"
   ]
  },
  {
   "cell_type": "code",
   "execution_count": null,
   "id": "7061fe4a",
   "metadata": {},
   "outputs": [],
   "source": [
    "class Person:\n",
    "    \"\"\"This class represents a person with an age and name.\"\"\"\n",
    "    def __init__(self, age, first_name, last_name):\n",
    "        self.age = age\n",
    "        self.first_name = first_name\n",
    "        self.last_name = last_name\n",
    "        \n",
    "    def greeting(self):\n",
    "        print(f\"Nice to meet you, my name is {self.first_name} {self.last_name}\")\n",
    "        \n",
    "    def change_first_name(self, new_name):\n",
    "        self.first_name = new_name\n",
    "        \n",
    "        \n",
    "a = Person(29, \"John\", \"Schmidt\")\n",
    "b = Person(45, \"Amy\", \"Green\")\n",
    "\n",
    "a.greeting()\n",
    "b.greeting()"
   ]
  },
  {
   "cell_type": "code",
   "execution_count": null,
   "id": "ebb2d1bd",
   "metadata": {},
   "outputs": [],
   "source": [
    "a.change_first_name(\"James\")\n",
    "a.greeting()"
   ]
  },
  {
   "cell_type": "markdown",
   "id": "c8fff145",
   "metadata": {},
   "source": [
    "## Inheritance\n",
    "\n",
    "Being object-oriented, Python of course understands inheritance. Inheritance means that one class inherits all the methods and functions from another class."
   ]
  },
  {
   "cell_type": "code",
   "execution_count": null,
   "id": "1e532d2a",
   "metadata": {},
   "outputs": [],
   "source": [
    "class Animal:\n",
    "    def is_living(self):\n",
    "        return True\n",
    "\n",
    "# The class LandAnimal inherits the functions from Animal. This is defined by the parameter.    \n",
    "class LandAnimal(Animal):\n",
    "    def __init__(self):\n",
    "        self.has_legs = True\n",
    "        \n",
    "    def walk(self):\n",
    "        return \"tap tap\"\n",
    "    \n",
    "animal = LandAnimal()\n",
    "    \n",
    "    \n",
    "print(type(animal))\n",
    "print(isinstance(animal, LandAnimal))\n",
    "print(isinstance(animal, Animal))"
   ]
  },
  {
   "cell_type": "code",
   "execution_count": null,
   "id": "16c56c93",
   "metadata": {},
   "outputs": [],
   "source": [
    "animal.is_living()"
   ]
  },
  {
   "cell_type": "code",
   "execution_count": null,
   "id": "9cdaa5ce",
   "metadata": {},
   "outputs": [],
   "source": [
    "animal.has_legs"
   ]
  },
  {
   "cell_type": "code",
   "execution_count": null,
   "id": "ade56de1",
   "metadata": {},
   "outputs": [],
   "source": [
    "animal.walk()"
   ]
  },
  {
   "cell_type": "markdown",
   "id": "f8b8aa76-c55f-4333-92d6-ca14e5375947",
   "metadata": {},
   "source": [
    "<br>\n",
    "<br>\n",
    "<br>\n",
    "\n",
    "## zip"
   ]
  },
  {
   "cell_type": "code",
   "execution_count": null,
   "id": "0f494295-cd69-4f3a-9387-6d9772c3862e",
   "metadata": {},
   "outputs": [],
   "source": [
    "list(zip(fruits, colors))"
   ]
  },
  {
   "cell_type": "code",
   "execution_count": null,
   "id": "c3b6cbf4-66f5-40c2-9e79-e34750a12e61",
   "metadata": {},
   "outputs": [],
   "source": [
    "fruits = ['banana', 'orange', 'blueberry']\n",
    "colors = ['yellow', 'orange', 'blue']\n",
    "for fruit, color in zip(fruits, colors):\n",
    "    print(f\"{fruit} is {color}\")"
   ]
  },
  {
   "cell_type": "markdown",
   "id": "c4ac4ade-514e-4bb3-b901-60bbffe55283",
   "metadata": {},
   "source": [
    "`zip` takes as arguments a number of iterables (e.g. lists or tuples) and creates a new list, containing tuples of all first, all second, all third, .. elements from the original lists. \n",
    "If a function needs e.g. a list of xs and a list of ys, we can then unpack the result from the reverse-zipping directly into the function arguments:"
   ]
  },
  {
   "cell_type": "code",
   "execution_count": null,
   "id": "a8a9dce1-b6e2-484c-9f43-fd43fc8a7469",
   "metadata": {},
   "outputs": [],
   "source": [
    "def f(xs, ys):\n",
    "    print(xs)\n",
    "    print(ys)\n",
    "    \n",
    "coordinates = [(1, 3), (-5, 10), (0, 0)]\n",
    "f(*zip(*coordinates))"
   ]
  },
  {
   "cell_type": "code",
   "execution_count": null,
   "id": "51b5dacd-925d-4ead-b9d0-75c97206f636",
   "metadata": {},
   "outputs": [],
   "source": []
  }
 ],
 "metadata": {
  "kernelspec": {
   "display_name": "Python 3 (ipykernel)",
   "language": "python",
   "name": "python3"
  },
  "language_info": {
   "codemirror_mode": {
    "name": "ipython",
    "version": 3
   },
   "file_extension": ".py",
   "mimetype": "text/x-python",
   "name": "python",
   "nbconvert_exporter": "python",
   "pygments_lexer": "ipython3",
   "version": "3.11.3"
  },
  "toc-showmarkdowntxt": false
 },
 "nbformat": 4,
 "nbformat_minor": 5
}
