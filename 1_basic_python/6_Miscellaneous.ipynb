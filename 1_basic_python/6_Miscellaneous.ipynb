{
 "cells": [
  {
   "cell_type": "markdown",
   "id": "f8b8aa76-c55f-4333-92d6-ca14e5375947",
   "metadata": {},
   "source": [
    "<br>\n",
    "<br>\n",
    "<br>\n",
    "\n",
    "## zip"
   ]
  },
  {
   "cell_type": "code",
   "execution_count": null,
   "id": "0f494295-cd69-4f3a-9387-6d9772c3862e",
   "metadata": {},
   "outputs": [],
   "source": [
    "list(zip(fruits, colors))"
   ]
  },
  {
   "cell_type": "code",
   "execution_count": null,
   "id": "c3b6cbf4-66f5-40c2-9e79-e34750a12e61",
   "metadata": {},
   "outputs": [],
   "source": [
    "fruits = ['banana', 'orange', 'blueberry']\n",
    "colors = ['yellow', 'orange', 'blue']\n",
    "for fruit, color in zip(fruits, colors):\n",
    "    print(f\"{fruit} is {color}\")"
   ]
  },
  {
   "cell_type": "markdown",
   "id": "c4ac4ade-514e-4bb3-b901-60bbffe55283",
   "metadata": {},
   "source": [
    "`zip` takes as arguments a number of iterables (e.g. lists or tuples) and creates a new list, containing tuples of all first, all second, all third, .. elements from the original lists. \n",
    "If a function needs e.g. a list of xs and a list of ys, we can then unpack the result from the reverse-zipping directly into the function arguments:"
   ]
  },
  {
   "cell_type": "code",
   "execution_count": null,
   "id": "a8a9dce1-b6e2-484c-9f43-fd43fc8a7469",
   "metadata": {},
   "outputs": [],
   "source": [
    "def f(xs, ys):\n",
    "    print(xs)\n",
    "    print(ys)\n",
    "    \n",
    "coordinates = [(1, 3), (-5, 10), (0, 0)]\n",
    "f(*zip(*coordinates))"
   ]
  },
  {
   "cell_type": "code",
   "execution_count": null,
   "id": "51b5dacd-925d-4ead-b9d0-75c97206f636",
   "metadata": {},
   "outputs": [],
   "source": []
  }
 ],
 "metadata": {
  "kernelspec": {
   "display_name": "Python 3 (ipykernel)",
   "language": "python",
   "name": "python3"
  },
  "language_info": {
   "codemirror_mode": {
    "name": "ipython",
    "version": 3
   },
   "file_extension": ".py",
   "mimetype": "text/x-python",
   "name": "python",
   "nbconvert_exporter": "python",
   "pygments_lexer": "ipython3",
   "version": "3.11.2"
  }
 },
 "nbformat": 4,
 "nbformat_minor": 5
}
