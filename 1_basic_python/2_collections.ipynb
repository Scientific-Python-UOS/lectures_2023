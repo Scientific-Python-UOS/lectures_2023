{
 "cells": [
  {
   "cell_type": "markdown",
   "id": "ead0352e-cf12-4c3a-b907-301ee2f230ea",
   "metadata": {
    "jp-MarkdownHeadingCollapsed": true,
    "tags": []
   },
   "source": [
    "# 1. Lists"
   ]
  },
  {
   "cell_type": "markdown",
   "id": "dc14ec4a-e199-44d4-a2eb-05c6255e7578",
   "metadata": {
    "tags": []
   },
   "source": [
    "Python has a number of objects to handle the collection of other objects. `Lists` are one of them, but there are also `tuples`, `dictionaries` and `sets`. These will be covered in different notebooks"
   ]
  },
  {
   "cell_type": "markdown",
   "id": "8a38209f",
   "metadata": {},
   "source": [
    "Lists are probably the handiest and most flexible type of container. \n",
    "Lists literals are declared with square brackets `[]`. "
   ]
  },
  {
   "cell_type": "code",
   "execution_count": null,
   "id": "b03e1634",
   "metadata": {},
   "outputs": [],
   "source": [
    "# Lists are created with square bracket syntax\n",
    "a = ['blueberry', 'strawberry', 'pineapple']\n",
    "print(a, type(a))"
   ]
  },
  {
   "cell_type": "code",
   "execution_count": null,
   "id": "5af40b51",
   "metadata": {},
   "outputs": [],
   "source": [
    "# It doesn't matter what types are inside the list!\n",
    "tmp = object()\n",
    "b = ['blueberry', 5, 3.1415, True, \"hello world\", [1,2,3], tmp]\n",
    "print(b)"
   ]
  },
  {
   "cell_type": "markdown",
   "id": "b336a91b",
   "metadata": {},
   "source": [
    "Individual elements of a list can be selected using the subscript syntax `a[ind]`."
   ]
  },
  {
   "cell_type": "code",
   "execution_count": null,
   "id": "d739a6e4",
   "metadata": {},
   "outputs": [],
   "source": [
    "# Lists (and all collections) are also indexed with square brackets\n",
    "# NOTE: The first index is zero, not one\n",
    "print(a[0])\n",
    "print(a[1])"
   ]
  },
  {
   "cell_type": "code",
   "execution_count": null,
   "id": "6cc72790",
   "metadata": {},
   "outputs": [],
   "source": [
    "## You can also count from the end of the list\n",
    "print('last item is:', a[-1])\n",
    "print('second to last item is:', a[-2])"
   ]
  },
  {
   "cell_type": "markdown",
   "id": "0be5ad0d",
   "metadata": {},
   "source": [
    "## slicing"
   ]
  },
  {
   "cell_type": "markdown",
   "id": "a189cee7",
   "metadata": {},
   "source": [
    "You can access multiple items from a list by slicing. For that you use a colon between indexes. \n",
    "The syntax is `collection[start:stop]` or `collection[start:stop:step]`. Note that in Python indexing is zero based the first index is inclusive while the last is exclusive. \n",
    "That means that `start:stop` selects $start \\le i \\lt stop$."
   ]
  },
  {
   "cell_type": "code",
   "execution_count": 1,
   "id": "1d5be1c3",
   "metadata": {},
   "outputs": [
    {
     "data": {
      "text/plain": [
       "[0, 1, 2, 3, 4, 5, 6, 7, 8, 9]"
      ]
     },
     "execution_count": 1,
     "metadata": {},
     "output_type": "execute_result"
    }
   ],
   "source": [
    "b = [0, 1, 2, 3, 4, 5, 6, 7, 8, 9]\n",
    "b"
   ]
  },
  {
   "cell_type": "code",
   "execution_count": 2,
   "id": "581c0c8f",
   "metadata": {},
   "outputs": [
    {
     "data": {
      "text/plain": [
       "[0, 1]"
      ]
     },
     "execution_count": 2,
     "metadata": {},
     "output_type": "execute_result"
    }
   ],
   "source": [
    "b[0:2]"
   ]
  },
  {
   "cell_type": "code",
   "execution_count": 3,
   "id": "d27941cb",
   "metadata": {},
   "outputs": [
    {
     "data": {
      "text/plain": [
       "[2, 3, 4, 5, 6, 7, 8, 9]"
      ]
     },
     "execution_count": 3,
     "metadata": {},
     "output_type": "execute_result"
    }
   ],
   "source": [
    "b[2:]"
   ]
  },
  {
   "cell_type": "code",
   "execution_count": null,
   "id": "5f024530",
   "metadata": {},
   "outputs": [],
   "source": [
    "b[:] # this is called soft copy, we'll get to that later\n",
    "b is b[:]"
   ]
  },
  {
   "cell_type": "code",
   "execution_count": 4,
   "id": "9e232afe",
   "metadata": {},
   "outputs": [
    {
     "data": {
      "text/plain": [
       "[0, 1, 2, 3, 4, 5, 6, 7, 8]"
      ]
     },
     "execution_count": 4,
     "metadata": {},
     "output_type": "execute_result"
    }
   ],
   "source": [
    "# you can also define the end based on the last object. So end -1 should return the second to last object\n",
    "b[:-1]"
   ]
  },
  {
   "cell_type": "code",
   "execution_count": 5,
   "id": "611d57d9",
   "metadata": {},
   "outputs": [
    {
     "data": {
      "text/plain": [
       "[2, 4, 6]"
      ]
     },
     "execution_count": 5,
     "metadata": {},
     "output_type": "execute_result"
    }
   ],
   "source": [
    "# we can even define the step size, this is done by adding another : and then some number\n",
    "b[2:8:2]"
   ]
  },
  {
   "cell_type": "code",
   "execution_count": 6,
   "id": "273c59b0",
   "metadata": {},
   "outputs": [
    {
     "data": {
      "text/plain": [
       "[9, 8, 7, 6, 5, 4, 3, 2, 1, 0]"
      ]
     },
     "execution_count": 6,
     "metadata": {},
     "output_type": "execute_result"
    }
   ],
   "source": [
    "# or we can reverse the list\n",
    "b[::-1]"
   ]
  },
  {
   "cell_type": "markdown",
   "id": "a95ba255",
   "metadata": {},
   "source": [
    "<div class=\"alert alert-block alert-info\">\n",
    "<b>Exercise:</b> \n",
    "    <br>\n",
    "    Get all numbers that can be devided by 3 in a reversed order.\n",
    "</div>"
   ]
  },
  {
   "cell_type": "markdown",
   "id": "0e0764b6",
   "metadata": {},
   "source": [
    "## manipulating lists\n",
    "Lists are objects, like everything else, and therefore have methods.\n",
    "\n",
    "One of these methods is `append()`. With `append()` we can add an object at the end of a list."
   ]
  },
  {
   "cell_type": "code",
   "execution_count": null,
   "id": "675cfa92",
   "metadata": {},
   "outputs": [],
   "source": [
    "b.append('banana')\n",
    "b"
   ]
  },
  {
   "cell_type": "code",
   "execution_count": null,
   "id": "ced7b7fc",
   "metadata": {},
   "outputs": [],
   "source": [
    "b.append([1,2])\n",
    "b.append(len)\n",
    "print(b)"
   ]
  },
  {
   "cell_type": "markdown",
   "id": "e7f418e5",
   "metadata": {},
   "source": [
    "With `pop()` we can take the last object out of the list."
   ]
  },
  {
   "cell_type": "code",
   "execution_count": null,
   "id": "735072c1",
   "metadata": {},
   "outputs": [],
   "source": [
    "popped = b.pop()\n",
    "b, popped"
   ]
  },
  {
   "cell_type": "markdown",
   "id": "3201990b",
   "metadata": {},
   "source": [
    "To add multiple objects to a list we can use `extend()`."
   ]
  },
  {
   "cell_type": "code",
   "execution_count": null,
   "id": "a418c8d4",
   "metadata": {},
   "outputs": [],
   "source": [
    "b.extend([1,2])\n",
    "b"
   ]
  },
  {
   "cell_type": "markdown",
   "id": "4a209dc4",
   "metadata": {},
   "source": [
    "To get the length of a list we can use `len()`."
   ]
  },
  {
   "cell_type": "code",
   "execution_count": null,
   "id": "c0394925",
   "metadata": {},
   "outputs": [],
   "source": [
    "len(b)"
   ]
  },
  {
   "cell_type": "markdown",
   "id": "630b6214",
   "metadata": {},
   "source": [
    "With `in` we can check whether an object is contained in a list."
   ]
  },
  {
   "cell_type": "code",
   "execution_count": null,
   "id": "c322d5d8",
   "metadata": {},
   "outputs": [],
   "source": [
    "\"banana\" in b"
   ]
  },
  {
   "cell_type": "markdown",
   "id": "3ecfca00",
   "metadata": {},
   "source": [
    "Lists have the same opperators as strings. And strings can also be sliced."
   ]
  },
  {
   "cell_type": "code",
   "execution_count": null,
   "id": "2989b1e7",
   "metadata": {},
   "outputs": [],
   "source": [
    "l1 = [1, 2, 3]\n",
    "l2 = [4] * 3\n",
    "\n",
    "l1 + l2"
   ]
  },
  {
   "cell_type": "code",
   "execution_count": null,
   "id": "e238675f",
   "metadata": {},
   "outputs": [],
   "source": [
    "# Strings can be sliced just like lists\n",
    "a = \"hello, world!\"\n",
    "a[:5]"
   ]
  },
  {
   "cell_type": "markdown",
   "id": "1556a999",
   "metadata": {},
   "source": [
    "<div class=\"alert alert-block alert-success\">\n",
    "<b>Tip:</b> <br>\n",
    "    A 'gotcha' for some new Python users is that collections, including lists, are actually only the name, referencing to data, and are not the data itself.\n",
    "<br>\n",
    "Remember when we set `b = a` and then changed `a`?\n",
    "<br>\n",
    "What happens when we do this in a list?\n",
    "</div>"
   ]
  },
  {
   "cell_type": "code",
   "execution_count": null,
   "id": "5afef16c",
   "metadata": {},
   "outputs": [],
   "source": [
    "a = [1, 2, \"banana\", 3]\n",
    "b = a\n",
    "print(\"b originally:\", b)\n",
    "a[0] = \"cheesecake\"\n",
    "print(\"b later:\", b)"
   ]
  },
  {
   "cell_type": "markdown",
   "id": "2d837087",
   "metadata": {},
   "source": [
    "Because lists are **mutable**, we can perform changes to a list, unlike a string! To get rid of side-effects, you need to perform a **deep copy** of the object."
   ]
  },
  {
   "cell_type": "code",
   "execution_count": null,
   "id": "9b284a6d",
   "metadata": {},
   "outputs": [],
   "source": [
    "# the copy-module helps us here!\n",
    "from copy import deepcopy\n",
    "a = [1, 2, \"banana\", 3]\n",
    "b = deepcopy(a)  #in the case of lists, an alternative ('soft copy') would be b = a[:]\n",
    "a[0] = \"cheesecake\"\n",
    "print(b)"
   ]
  },
  {
   "cell_type": "markdown",
   "id": "2bb1eafc",
   "metadata": {},
   "source": [
    "Another problem arises when adding objects to list, using the `multiplication syntax`."
   ]
  },
  {
   "cell_type": "code",
   "execution_count": null,
   "id": "7b291e88",
   "metadata": {},
   "outputs": [],
   "source": [
    "l2 = [[]] * 10\n",
    "print(l2)\n",
    "\n",
    "l2[0].append(1)\n",
    "print(l2) #what will this print?"
   ]
  },
  {
   "cell_type": "markdown",
   "id": "1441b546",
   "metadata": {},
   "source": [
    "<div class=\"alert alert-block alert-info\">\n",
    "<b>Exercise:</b> \n",
    "    <br>\n",
    "    What will the following code return?\n",
    "</div>"
   ]
  },
  {
   "cell_type": "code",
   "execution_count": null,
   "id": "7727e6fc",
   "metadata": {},
   "outputs": [],
   "source": [
    "some_guy = 'Fred'\n",
    "\n",
    "first_names = []\n",
    "first_names.append(some_guy)\n",
    "\n",
    "another_list_of_names = first_names\n",
    "another_list_of_names.append('George')\n",
    "some_guy = 'Bill'"
   ]
  },
  {
   "cell_type": "markdown",
   "id": "8bb3a535-6c0b-46b1-8006-678ba7e47d64",
   "metadata": {
    "jp-MarkdownHeadingCollapsed": true,
    "tags": []
   },
   "source": [
    "---\n",
    "# 2. Tuples"
   ]
  },
  {
   "cell_type": "markdown",
   "id": "f116b0f0-1f88-4fc6-b3ba-43217d71c965",
   "metadata": {},
   "source": [
    "We won't say a whole lot about tuples except to mention that they basically work just like lists, with\n",
    "two major exceptions:\n",
    "\n",
    "1. You declare tuples using commas, but usually also () instead of []\n",
    "1. Once you make a tuple, you can't change what's in it (__immutable__)\n",
    "\n",
    "You'll see tuples come up throughout the Python language, and over time you'll develop a feel for when\n",
    "to use them. \n",
    "\n",
    "In general, they're often used instead of lists:\n",
    "\n",
    "1. to group items when the position in the collection is critical, such as coord = (x,y)\n",
    "1. when you want to make prevent accidental modification of the items, e.g. shape = (12,23)"
   ]
  },
  {
   "cell_type": "code",
   "execution_count": null,
   "id": "5784504a",
   "metadata": {},
   "outputs": [],
   "source": [
    "x = 1, 2, 3\n",
    "x"
   ]
  },
  {
   "cell_type": "code",
   "execution_count": null,
   "id": "d6c8cb35",
   "metadata": {},
   "outputs": [],
   "source": [
    "y = (1, 2, 3)\n",
    "print(y)\n",
    "print(y == x)\n",
    "y[0] = \"hello\""
   ]
  },
  {
   "cell_type": "code",
   "execution_count": null,
   "id": "fdeac082",
   "metadata": {},
   "outputs": [],
   "source": [
    "xy = (23, 45)\n",
    "print(xy[0])\n",
    "xy[0] = \"this won't work with a tuple\""
   ]
  },
  {
   "cell_type": "markdown",
   "id": "217e1ca4",
   "metadata": {},
   "source": [
    "## namedtuples\n",
    "\n",
    "Very handy for defining human readable data records without behavior. `namedtuples` are very fast and memory efficient. "
   ]
  },
  {
   "cell_type": "code",
   "execution_count": null,
   "id": "b37a32c9",
   "metadata": {},
   "outputs": [],
   "source": [
    "from collections import namedtuple"
   ]
  },
  {
   "cell_type": "code",
   "execution_count": null,
   "id": "206da48e",
   "metadata": {},
   "outputs": [],
   "source": [
    "Color = namedtuple('Color', ['red', 'green', 'blue'])\n",
    "Color?"
   ]
  },
  {
   "cell_type": "code",
   "execution_count": null,
   "id": "09c11de0",
   "metadata": {},
   "outputs": [],
   "source": [
    "yellow = Color(255, 255, 0)"
   ]
  },
  {
   "cell_type": "code",
   "execution_count": null,
   "id": "b6974bbb",
   "metadata": {},
   "outputs": [],
   "source": [
    "yellow.red, yellow[0]"
   ]
  },
  {
   "cell_type": "code",
   "execution_count": null,
   "id": "ebb6c510",
   "metadata": {},
   "outputs": [],
   "source": [
    "print(yellow)"
   ]
  },
  {
   "cell_type": "markdown",
   "id": "6b122eaa-ab40-40be-825a-d4322500b530",
   "metadata": {
    "jp-MarkdownHeadingCollapsed": true,
    "tags": []
   },
   "source": [
    "---\n",
    "# 3. Dictionaries"
   ]
  },
  {
   "cell_type": "markdown",
   "id": "34badc03-13fb-4947-86c1-e2a3662765e2",
   "metadata": {},
   "source": [
    "Dictionaries are the collection to use when you want to store and retrieve things by their names\n",
    "(or some other kind of key) instead of by their position in the collection. A good example is a set\n",
    "of model parameters, each of which has a name and a value. Dictionaries are declared using `{}`."
   ]
  },
  {
   "cell_type": "code",
   "execution_count": 1,
   "id": "b965f6f8",
   "metadata": {},
   "outputs": [
    {
     "name": "stdout",
     "output_type": "stream",
     "text": [
      "{'inches_in_feet': 12, 'inches_in_metre': 39}\n",
      "12\n"
     ]
    }
   ],
   "source": [
    "# Make a dictionary of model parameters.\n",
    "# the key is written in quotation marks, the value follows after :\n",
    "convertors = {'inches_in_feet' : 12,\n",
    "              'inches_in_metre' : 39}\n",
    "\n",
    "print(convertors)\n",
    "print(convertors['inches_in_feet'])"
   ]
  },
  {
   "cell_type": "code",
   "execution_count": 2,
   "id": "3ec13d72",
   "metadata": {},
   "outputs": [
    {
     "name": "stdout",
     "output_type": "stream",
     "text": [
      "{'inches_in_feet': 12, 'inches_in_metre': 39, 'metres_in_mile': 1609.34}\n"
     ]
    }
   ],
   "source": [
    "# Add a new key:value pair.\n",
    "convertors['metres_in_mile'] = 1609.34\n",
    "print(convertors)"
   ]
  },
  {
   "cell_type": "markdown",
   "id": "e116c073",
   "metadata": {},
   "source": [
    "The equivalent of `extend()` for dictionaries is `updat()`."
   ]
  },
  {
   "cell_type": "code",
   "execution_count": null,
   "id": "1cb7e130",
   "metadata": {},
   "outputs": [],
   "source": [
    "metric_convertors = {'metres_in_kilometer': 1000, 'centimetres_in_meter': 100}\n",
    "convertors.update(metric_convertors)\n",
    "convertors"
   ]
  },
  {
   "cell_type": "code",
   "execution_count": null,
   "id": "5886834b",
   "metadata": {},
   "outputs": [],
   "source": [
    "# Raise a Key-Error\n",
    "print(convertors['decimetres_in_meter'])"
   ]
  },
  {
   "cell_type": "markdown",
   "id": "81607938",
   "metadata": {},
   "source": [
    "We can also check whether a key is in a dictionary or not. This can be done in two different ways. The differences will be covered in another notebook. "
   ]
  },
  {
   "cell_type": "code",
   "execution_count": null,
   "id": "eccaa74a",
   "metadata": {},
   "outputs": [],
   "source": [
    "if 'decimetres_in_meter' in convertors:\n",
    "    print(convertors['decimetres_in_meter'])\n",
    "else:\n",
    "    print(\"Wasn't in there!\")"
   ]
  },
  {
   "cell_type": "code",
   "execution_count": null,
   "id": "c3dbd82c",
   "metadata": {},
   "outputs": [],
   "source": [
    "try:\n",
    "    print(convertors['decimetres_in_meter'])\n",
    "except KeyError:\n",
    "    print(\"Wasn't in there!\")"
   ]
  },
  {
   "cell_type": "markdown",
   "id": "e7f7ceaa",
   "metadata": {},
   "source": [
    "Getting all `key`, all `value`, and all `key-value-pair` is easy:"
   ]
  },
  {
   "cell_type": "code",
   "execution_count": null,
   "id": "5aae7d6a",
   "metadata": {},
   "outputs": [],
   "source": [
    "key_list = list(convertors.keys())\n",
    "print(key_list, type(key_list))\n",
    "\n",
    "value_list = list(convertors.values())\n",
    "print(value_list, type(value_list))\n",
    "\n",
    "key_val_list = list(convertors.items())\n",
    "print(key_val_list, type(key_val_list))"
   ]
  },
  {
   "cell_type": "markdown",
   "id": "3a385c5a-7999-429b-ac37-9012383d2523",
   "metadata": {
    "jp-MarkdownHeadingCollapsed": true,
    "tags": []
   },
   "source": [
    "---\n",
    "# 4. Sets"
   ]
  },
  {
   "cell_type": "markdown",
   "id": "739fd14f-d6fc-43c6-b4c8-803aeaf7fd91",
   "metadata": {},
   "source": [
    "Sets are unordered collections of unique items like in mathematics. They are useful for keeping track of objects you have seen and testing membership. \n",
    "\n",
    "Sets are declared using `{}`."
   ]
  },
  {
   "cell_type": "code",
   "execution_count": null,
   "id": "2f43ae21",
   "metadata": {},
   "outputs": [],
   "source": [
    "a_set = {1, 2, 3}\n",
    "a_set"
   ]
  },
  {
   "cell_type": "markdown",
   "id": "e0f8baf4",
   "metadata": {},
   "source": [
    "Sets are unqiue. This means that there cannot be several same values in a set, but just one unique."
   ]
  },
  {
   "cell_type": "code",
   "execution_count": 1,
   "id": "ec42d41b",
   "metadata": {},
   "outputs": [
    {
     "data": {
      "text/plain": [
       "{1, 2, 3}"
      ]
     },
     "execution_count": 1,
     "metadata": {},
     "output_type": "execute_result"
    }
   ],
   "source": [
    "unique_set = {1, 2, 3, 3, 3, 3}\n",
    "unique_set"
   ]
  },
  {
   "cell_type": "markdown",
   "id": "68b01b3a",
   "metadata": {},
   "source": [
    "Empty sets can't be declared with literals and are easily confused with empty `dicts`. Instead an explicit constructor has to be used"
   ]
  },
  {
   "cell_type": "code",
   "execution_count": 2,
   "id": "9014bdfc",
   "metadata": {},
   "outputs": [
    {
     "data": {
      "text/plain": [
       "(set(), set)"
      ]
     },
     "execution_count": 2,
     "metadata": {},
     "output_type": "execute_result"
    }
   ],
   "source": [
    "empty_set = set()\n",
    "empty_set, type(empty_set)"
   ]
  },
  {
   "cell_type": "code",
   "execution_count": 3,
   "id": "01fe7702",
   "metadata": {},
   "outputs": [
    {
     "data": {
      "text/plain": [
       "({}, dict)"
      ]
     },
     "execution_count": 3,
     "metadata": {},
     "output_type": "execute_result"
    }
   ],
   "source": [
    "empty_dict = {}\n",
    "empty_dict, type(empty_dict)"
   ]
  },
  {
   "cell_type": "markdown",
   "id": "59fe48dc",
   "metadata": {},
   "source": [
    "`Set-operation` are far more efficient for sets than for lists!"
   ]
  },
  {
   "cell_type": "code",
   "execution_count": null,
   "id": "b8127cc0",
   "metadata": {},
   "outputs": [],
   "source": [
    "s1 = {1,2,3}\n",
    "s2 = {3,4,5}\n",
    "\n",
    "print(\"s1\", s1)\n",
    "print(\"s2\", s2)\n",
    "print(\"union\", s1 | s2) \n",
    "print(\"intersection\", s1 & s2) \n",
    "print(\"difference\", s1 - s2)\n",
    "print(\"is s1 a subset of s2?\", s1 <= s2)\n",
    "print(\"XOR\", s1 ^ s2)"
   ]
  },
  {
   "cell_type": "markdown",
   "id": "c685b7c6",
   "metadata": {},
   "source": [
    "Sets are fast at membership tests."
   ]
  },
  {
   "cell_type": "code",
   "execution_count": null,
   "id": "cfdd5f47",
   "metadata": {},
   "outputs": [],
   "source": [
    "set_members = set(range(1000))\n",
    "list_members = list(range(1000))"
   ]
  },
  {
   "cell_type": "code",
   "execution_count": null,
   "id": "d06b5d64",
   "metadata": {},
   "outputs": [],
   "source": [
    "%%timeit\n",
    "900 in set_members"
   ]
  },
  {
   "cell_type": "code",
   "execution_count": null,
   "id": "168610ad",
   "metadata": {},
   "outputs": [],
   "source": [
    "%%timeit\n",
    "900 in list_members"
   ]
  },
  {
   "cell_type": "markdown",
   "id": "46ccac9d",
   "metadata": {},
   "source": [
    "<div class=\"alert alert-block alert-info\">\n",
    "<b>Exercise:</b> \n",
    "    <br>\n",
    "    How can we make the items in the following list unique?\n",
    "</div>"
   ]
  },
  {
   "cell_type": "code",
   "execution_count": null,
   "id": "9e5805b6",
   "metadata": {},
   "outputs": [],
   "source": [
    "cakes = [\"cheesecake\", \"raspberry pi\", \"cheesecake\", \"strawberry pie\"]"
   ]
  },
  {
   "cell_type": "code",
   "execution_count": null,
   "id": "5364898c",
   "metadata": {},
   "outputs": [],
   "source": [
    "# here you have space to experiment"
   ]
  }
 ],
 "metadata": {
  "kernelspec": {
   "display_name": "Python 3 (ipykernel)",
   "language": "python",
   "name": "python3"
  },
  "language_info": {
   "codemirror_mode": {
    "name": "ipython",
    "version": 3
   },
   "file_extension": ".py",
   "mimetype": "text/x-python",
   "name": "python",
   "nbconvert_exporter": "python",
   "pygments_lexer": "ipython3",
   "version": "3.9.12"
  }
 },
 "nbformat": 4,
 "nbformat_minor": 5
}
