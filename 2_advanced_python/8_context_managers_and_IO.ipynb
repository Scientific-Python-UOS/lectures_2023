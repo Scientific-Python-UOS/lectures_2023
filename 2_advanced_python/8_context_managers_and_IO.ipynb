{
 "cells": [
  {
   "cell_type": "markdown",
   "id": "d08bdfb6-fed8-407e-9cb6-4afc21e4164c",
   "metadata": {
    "id": "1Dall3ytFWly",
    "tags": []
   },
   "source": [
    "# Context managers \n",
    "\n",
    "Context managers can be seen as conceptual counterpart to functions. While a function presents a chunk of code that is reused in between other operations, a context manager is a chunk of code that is reused around other operations."
   ]
  },
  {
   "cell_type": "code",
   "execution_count": 22,
   "id": "9ff07205-f0d9-4e26-ab05-981213b22c8f",
   "metadata": {
    "colab": {
     "base_uri": "https://localhost:8080/"
    },
    "executionInfo": {
     "elapsed": 12,
     "status": "ok",
     "timestamp": 1650297027362,
     "user": {
      "displayName": "Argha Sarker",
      "userId": "00722939545107565048"
     },
     "user_tz": -120
    },
    "id": "o80eiverPENW",
    "outputId": "b9241210-19c3-4189-cbef-548d8be807d6",
    "tags": []
   },
   "outputs": [
    {
     "name": "stdout",
     "output_type": "stream",
     "text": [
      "Entering context.\n",
      "I am inside the context\n",
      "Exiting context.\n",
      "I am outside!\n"
     ]
    }
   ],
   "source": [
    "class PrintingContext:\n",
    "    \n",
    "    def __enter__(self):\n",
    "        print('Entering context.')\n",
    "    \n",
    "    def __exit__(self, exception_type, exception_value, traceback):\n",
    "        print('Exiting context.')\n",
    "        \n",
    "with PrintingContext():\n",
    "    print('I am inside the context')\n",
    "    a = 0\n",
    "    b = 2\n",
    "    c = a*b\n",
    "\n",
    "    \n",
    "print(\"I am outside!\")"
   ]
  },
  {
   "cell_type": "code",
   "execution_count": 23,
   "id": "b28dbb36-f474-4e1e-891c-9a643770d4af",
   "metadata": {
    "colab": {
     "base_uri": "https://localhost:8080/"
    },
    "executionInfo": {
     "elapsed": 12,
     "status": "ok",
     "timestamp": 1650297027363,
     "user": {
      "displayName": "Argha Sarker",
      "userId": "00722939545107565048"
     },
     "user_tz": -120
    },
    "id": "kp_7hOpdPHPL",
    "outputId": "0f30268d-12df-4419-80e0-37865380d264",
    "tags": []
   },
   "outputs": [
    {
     "name": "stdout",
     "output_type": "stream",
     "text": [
      "before...\n",
      "Entering context.\n",
      "I am inside!\n",
      "Exiting context.\n",
      "after!\n"
     ]
    }
   ],
   "source": [
    "def my_func():\n",
    "    with PrintingContext():\n",
    "        print(\"I am inside!\")\n",
    "        return\n",
    "    \n",
    "print(\"before...\")\n",
    "my_func()\n",
    "print(\"after!\")"
   ]
  },
  {
   "cell_type": "markdown",
   "id": "8f7470d7-64f9-47e3-9bf4-1f5ede43cd43",
   "metadata": {
    "id": "DzPrU6fmP3T3",
    "tags": []
   },
   "source": [
    "more info on context managers: `https://jeffknupp.com/blog/2016/03/07/python-with-context-managers/`"
   ]
  },
  {
   "cell_type": "markdown",
   "id": "ae778ba6-a6de-43cc-aab9-d8cd93060eeb",
   "metadata": {
    "id": "xCT-yTsWPJK8",
    "tags": []
   },
   "source": [
    "# File IO\n",
    "\n",
    "#### Writing to a file.\n",
    "\n",
    "##### Create a New File:\n",
    "\n",
    "To create a new file in Python, use the `open()` method, with one of the following parameters:\n",
    "\n",
    "- `\"x\"` - Create - will create a file, returns an error if the file exist.\n",
    "\n",
    "- `\"w\"` - Write - will create a file if the specified file does not exist.\n",
    "\n",
    "##### Write to an Existing File\n",
    "To write to an existing file, you must add a parameter to the `open()` function:\n",
    "\n",
    "- `\"a\"` - Append - will append to the end of the file.\n",
    "\n",
    "- `\"w\"` - Write - will overwrite any existing content.\n",
    "\n",
    "\n",
    "\n"
   ]
  },
  {
   "cell_type": "code",
   "execution_count": 24,
   "id": "346b06e5-a0c3-43ff-9612-20768f9a4ded",
   "metadata": {
    "executionInfo": {
     "elapsed": 11,
     "status": "ok",
     "timestamp": 1650297027363,
     "user": {
      "displayName": "Argha Sarker",
      "userId": "00722939545107565048"
     },
     "user_tz": -120
    },
    "id": "gImVqYYfRXWu",
    "tags": []
   },
   "outputs": [],
   "source": [
    "# Creating a file name \"myfile.txt\"\n",
    "f = open(\"myfile.txt\", \"w\")"
   ]
  },
  {
   "cell_type": "code",
   "execution_count": 25,
   "id": "0a9155b0-efb6-4907-a72d-61eb105bedab",
   "metadata": {
    "executionInfo": {
     "elapsed": 11,
     "status": "ok",
     "timestamp": 1650297027363,
     "user": {
      "displayName": "Argha Sarker",
      "userId": "00722939545107565048"
     },
     "user_tz": -120
    },
    "id": "vs3WCncTPRhd",
    "tags": []
   },
   "outputs": [],
   "source": [
    "string = \"\"\"Welcome to SciPy, \n",
    "In this Course you are going to learn about multiple scientific python libraries,\n",
    "for example: NumPy, Pandas, Matplotlib, Seaborn and many more. \n",
    "\"\"\"\n",
    "\n",
    "# open needs a file path in the argument and a mode to initiate\n",
    "# in which mode to open/create the file. \n",
    "# returns a file-handle we can work with\n",
    "f.write(string)\n",
    "\n",
    "# don't forget to close the file afterwards!\n",
    "f.close()                 "
   ]
  },
  {
   "cell_type": "markdown",
   "id": "8735ac93-ad6a-4a6d-b067-2f64dd8c8de0",
   "metadata": {
    "id": "f9m6uB7OPXoC",
    "tags": []
   },
   "source": [
    "Now we can read from the file what we just wrote by changing the mode to `\"r\"`. "
   ]
  },
  {
   "cell_type": "code",
   "execution_count": 26,
   "id": "8c9a2119-2f5e-4de0-aa0d-5e8abad31834",
   "metadata": {
    "colab": {
     "base_uri": "https://localhost:8080/"
    },
    "executionInfo": {
     "elapsed": 11,
     "status": "ok",
     "timestamp": 1650297027364,
     "user": {
      "displayName": "Argha Sarker",
      "userId": "00722939545107565048"
     },
     "user_tz": -120
    },
    "id": "suJZ0MoDPaIO",
    "outputId": "f9b8f787-88a3-4a5d-c84d-944f258af963",
    "tags": []
   },
   "outputs": [
    {
     "name": "stdout",
     "output_type": "stream",
     "text": [
      "Welcome to SciPy, \n",
      "In this Course you are going to learn about multiple scientific python libraries,\n",
      "for example: NumPy, Pandas, Matplotlib, Seaborn and many more. \n",
      "\n"
     ]
    }
   ],
   "source": [
    "# We open the file in reading mode by specifying \"r\":\n",
    "f = open('myfile.txt', 'r')\n",
    "print(f.read())\n",
    "f.close()"
   ]
  },
  {
   "cell_type": "markdown",
   "id": "abec1ca9-1308-4bb5-9218-23bdebbc3ff9",
   "metadata": {
    "id": "SwMLasQbWjK-",
    "tags": []
   },
   "source": [
    "For more information please refer to the documentation `https://docs.python.org/3/tutorial/inputoutput.html#reading-and-writing-files`"
   ]
  },
  {
   "cell_type": "markdown",
   "id": "ba76a1ee-2f31-4355-96c2-9dee6deb2ed1",
   "metadata": {
    "id": "VRrV34OTUVP-",
    "tags": []
   },
   "source": [
    "##### To Delete Files. \n",
    "\n",
    "- with `os` module you can delete a file from the directory with `os.remove()`.\n",
    "- to remove a folder use `os.rmdir()`. \n"
   ]
  },
  {
   "cell_type": "code",
   "execution_count": 28,
   "id": "f38d5024-b595-4761-85e0-310c9d026fda",
   "metadata": {
    "executionInfo": {
     "elapsed": 9,
     "status": "ok",
     "timestamp": 1650297027364,
     "user": {
      "displayName": "Argha Sarker",
      "userId": "00722939545107565048"
     },
     "user_tz": -120
    },
    "id": "NGa9OQ0LUrKG",
    "tags": []
   },
   "outputs": [
    {
     "name": "stdout",
     "output_type": "stream",
     "text": [
      "The file does not exist\n"
     ]
    }
   ],
   "source": [
    "import os\n",
    "\n",
    "# checks if the file exists! \n",
    "if os.path.exists(\"myfile.txt\"):\n",
    "  os.remove(\"myfile.txt\")\n",
    "\n",
    "else:\n",
    "  print(\"The file does not exist\")"
   ]
  },
  {
   "cell_type": "markdown",
   "id": "60717205-377f-48de-8b1f-dd6696fa1815",
   "metadata": {},
   "source": [
    "## Context manager example\n",
    "\n",
    "Context managers allow us to clean up after us if we are done with something.\n",
    "This is often used in the context of managing resources.\n",
    "\n",
    "Be it files, processes, network connections or locks, you usually want to close, end or disconnect after you are done with something. \n",
    "Context managers can automate this for you, so don't have to figure out and remember where to place the appropriate functions.\n",
    "\n",
    "A very common example is the open() context manager assisting by automatically closing files after you exit it's scope.\n"
   ]
  },
  {
   "cell_type": "code",
   "execution_count": 29,
   "id": "3759d6d8-05b5-4c59-9c6c-31dcc3c1e0d6",
   "metadata": {},
   "outputs": [],
   "source": [
    "# Let's first create a dummy file again\n",
    "f = open('myfile.txt', \"w\")\n",
    "f.write(\"Let's hope you've closed this file after you're done with it!\")\n",
    "f.close()"
   ]
  },
  {
   "cell_type": "code",
   "execution_count": 30,
   "id": "ca9b03ca-d5d8-464b-9379-76db6b8bf7a7",
   "metadata": {},
   "outputs": [
    {
     "name": "stdout",
     "output_type": "stream",
     "text": [
      "True\n",
      "Let's hope you've closed this file after you're done with it!\n"
     ]
    }
   ],
   "source": [
    "f = open('myfile.txt', \"r\")\n",
    "saved_text = f.read()\n",
    "f.close()\n",
    "\n",
    "print(f.closed)\n",
    "print(saved_text)"
   ]
  },
  {
   "cell_type": "markdown",
   "id": "4918d1dd-5bb5-41bc-b671-e70981bcc592",
   "metadata": {},
   "source": [
    "A context manager can do the closing for us:"
   ]
  },
  {
   "cell_type": "code",
   "execution_count": 31,
   "id": "ab171af2-f5dd-4cf2-9852-70e09ae0793e",
   "metadata": {},
   "outputs": [
    {
     "name": "stdout",
     "output_type": "stream",
     "text": [
      "False\n",
      "True\n",
      "Let's hope you've closed this file after you're done with it!\n"
     ]
    }
   ],
   "source": [
    "with open(\"myfile.txt\", \"r\") as f:\n",
    "    saved_text = f.read()\n",
    "    print(f.closed)\n",
    "    \n",
    "print(f.closed)\n",
    "print(saved_text)"
   ]
  }
 ],
 "metadata": {
  "kernelspec": {
   "display_name": "Python 3 (ipykernel)",
   "language": "python",
   "name": "python3"
  },
  "language_info": {
   "codemirror_mode": {
    "name": "ipython",
    "version": 3
   },
   "file_extension": ".py",
   "mimetype": "text/x-python",
   "name": "python",
   "nbconvert_exporter": "python",
   "pygments_lexer": "ipython3",
   "version": "3.11.3"
  }
 },
 "nbformat": 4,
 "nbformat_minor": 5
}
