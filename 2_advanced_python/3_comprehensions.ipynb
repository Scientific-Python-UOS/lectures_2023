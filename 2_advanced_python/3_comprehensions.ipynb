{
 "cells": [
  {
   "cell_type": "markdown",
   "id": "a80f585d-94a5-4357-8b72-28869eb1c794",
   "metadata": {
    "id": "5f22c1dd-86fb-4270-becc-209ef09c30f2",
    "tags": []
   },
   "source": [
    "# Comprehensions\n",
    "Comprehensions are a special syntax that simplifies the creation of collections."
   ]
  },
  {
   "cell_type": "markdown",
   "id": "67d90272-8dda-44c9-b108-d0eb0124ada9",
   "metadata": {
    "id": "b3c4d086-c56b-4698-a0c5-05f6a2bfca30",
    "tags": []
   },
   "source": [
    "---\n",
    "## 1. List comprehension"
   ]
  },
  {
   "cell_type": "markdown",
   "id": "3eaa7a69-d4d1-4ded-a8f3-a79de1b30516",
   "metadata": {
    "id": "ccde24f4-fa02-4790-b612-b62332b10283",
    "tags": []
   },
   "source": [
    "To get a list of of squares from a list of numbers we would usually have to write code like this."
   ]
  },
  {
   "cell_type": "code",
   "execution_count": null,
   "id": "e1cca1f5-3b8b-413e-966e-3772daf3e04e",
   "metadata": {
    "id": "e1cca1f5-3b8b-413e-966e-3772daf3e04e",
    "tags": []
   },
   "outputs": [],
   "source": [
    "original_numbers = [1, 2, 3, 4, 5]\n",
    "squared_numbers = []\n",
    "for n in original_numbers:\n",
    "    squared_numbers.append(n**2)\n",
    "    \n",
    "squared_numbers"
   ]
  },
  {
   "cell_type": "markdown",
   "id": "005ce881-6c90-4a4f-8ff9-058d8c73a50f",
   "metadata": {
    "id": "002c3cc2-7a9e-4ab6-bb29-ea214f679ad2",
    "tags": []
   },
   "source": [
    "However, with a comprehension, we can greatly simplify this."
   ]
  },
  {
   "cell_type": "code",
   "execution_count": null,
   "id": "ac5050f2-937a-4a14-9c67-9bc640c1358e",
   "metadata": {
    "id": "ac5050f2-937a-4a14-9c67-9bc640c1358e",
    "tags": []
   },
   "outputs": [],
   "source": [
    "squared_numbers = [n**2 for n in original_numbers]\n",
    "squared_numbers"
   ]
  },
  {
   "cell_type": "markdown",
   "id": "296a1886-acce-46b5-a2cb-fb20aebb6614",
   "metadata": {
    "id": "55447343-ee0c-4217-b568-3c75714fd6f4",
    "tags": []
   },
   "source": [
    "The general syntax for a comprehension is `[`expression `for` element `in` iterable \\[`if` filter_condition\\] `]`.  \n",
    "Let's see this in action:"
   ]
  },
  {
   "cell_type": "code",
   "execution_count": 1,
   "id": "3971abff-c79a-44b8-9af6-8ddf0fad4e65",
   "metadata": {
    "id": "3971abff-c79a-44b8-9af6-8ddf0fad4e65",
    "tags": []
   },
   "outputs": [
    {
     "data": {
      "text/plain": [
       "[1, 4, 7]"
      ]
     },
     "execution_count": 1,
     "metadata": {},
     "output_type": "execute_result"
    }
   ],
   "source": [
    "original_values = [(1, True), (2, False), (3, False), (4, True), (5, False), (7, True)]\n",
    "only_trues = []\n",
    "for i in original_values:\n",
    "    if i[1]:\n",
    "        only_trues.append(i[0])\n",
    "\n",
    "only_trues"
   ]
  },
  {
   "cell_type": "code",
   "execution_count": 2,
   "id": "be0ff25f-0433-407d-9e0a-3d28ed383152",
   "metadata": {
    "id": "be0ff25f-0433-407d-9e0a-3d28ed383152",
    "tags": []
   },
   "outputs": [
    {
     "data": {
      "text/plain": [
       "[1, 4, 7]"
      ]
     },
     "execution_count": 2,
     "metadata": {},
     "output_type": "execute_result"
    }
   ],
   "source": [
    "only_trues = [\n",
    "    i[0]                      # what to do with the values from the old list\n",
    "    for i in original_values  # for-loop like syntax\n",
    "    if i[1]                   # filtering. \n",
    "]\n",
    "only_trues"
   ]
  },
  {
   "cell_type": "markdown",
   "id": "552cc615-7a56-44c5-8469-1752f7d505c1",
   "metadata": {
    "id": "3359fcef-7c00-4c6a-8660-edb799d92ded",
    "tags": []
   },
   "source": [
    "If we do not just want to filter, but instead do something else with the values that do not satisfy our filter condition, we can use a \n",
    "ternary expression."
   ]
  },
  {
   "cell_type": "markdown",
   "id": "e6e2dbaf-d3bf-4d73-9f3f-d4c2736f2296",
   "metadata": {},
   "source": [
    "This ternary expression could look like this:  \n",
    "Here we will write out the value if it is True and otherwise we will write 0."
   ]
  },
  {
   "cell_type": "code",
   "execution_count": 4,
   "id": "1abfda93-2e8f-4f29-af2f-e3e2ab79cb9f",
   "metadata": {
    "id": "1abfda93-2e8f-4f29-af2f-e3e2ab79cb9f",
    "tags": []
   },
   "outputs": [
    {
     "data": {
      "text/plain": [
       "0"
      ]
     },
     "execution_count": 4,
     "metadata": {},
     "output_type": "execute_result"
    }
   ],
   "source": [
    "i = (50, False)    \n",
    "i[0] if i[1] else 0"
   ]
  },
  {
   "cell_type": "code",
   "execution_count": 5,
   "id": "1a75d3c9-5e63-414f-84fa-e9b538ffaee7",
   "metadata": {
    "tags": []
   },
   "outputs": [
    {
     "data": {
      "text/plain": [
       "42"
      ]
     },
     "execution_count": 5,
     "metadata": {},
     "output_type": "execute_result"
    }
   ],
   "source": [
    "j = (42, True)\n",
    "j[0] if j[1] else 0"
   ]
  },
  {
   "cell_type": "code",
   "execution_count": 3,
   "id": "8a1245b1-d72b-48ba-aaff-6e12f8a1e8f7",
   "metadata": {
    "id": "8a1245b1-d72b-48ba-aaff-6e12f8a1e8f7",
    "tags": []
   },
   "outputs": [
    {
     "data": {
      "text/plain": [
       "[1, 0, 0, 4, 0, 7]"
      ]
     },
     "execution_count": 3,
     "metadata": {},
     "output_type": "execute_result"
    }
   ],
   "source": [
    "only_trues_or_zero = [\n",
    "    i[0] if i[1] else 0       # what to do with the values from the old list\n",
    "    for i in original_values  # for-loop like syntax\n",
    "]\n",
    "only_trues_or_zero"
   ]
  },
  {
   "cell_type": "markdown",
   "id": "be0e6292-4185-41ae-8b5f-64c5b26e9285",
   "metadata": {},
   "source": [
    "<div class=\"alert alert-block alert-warning\">\n",
    "<b>Important:</b> \n",
    "    <br>\n",
    "   When using comprehensions make sure that you are using a valid python expression and that your comprehension is understandable.\n",
    "</div>"
   ]
  },
  {
   "cell_type": "code",
   "execution_count": 6,
   "id": "4811e347-1282-4f78-a9e3-4efb8524b965",
   "metadata": {
    "id": "4811e347-1282-4f78-a9e3-4efb8524b965",
    "tags": []
   },
   "outputs": [
    {
     "ename": "SyntaxError",
     "evalue": "expected 'else' after 'if' expression (1598826707.py, line 3)",
     "output_type": "error",
     "traceback": [
      "\u001b[0;36m  Cell \u001b[0;32mIn[6], line 3\u001b[0;36m\u001b[0m\n\u001b[0;31m    i[0] if i[1]\u001b[0m\n\u001b[0m    ^\u001b[0m\n\u001b[0;31mSyntaxError\u001b[0m\u001b[0;31m:\u001b[0m expected 'else' after 'if' expression\n"
     ]
    }
   ],
   "source": [
    "i = (50, False)\n",
    "# This is not a valid python expression\n",
    "i[0] if i[1]"
   ]
  },
  {
   "cell_type": "code",
   "execution_count": null,
   "id": "d3f378db-438c-4bac-b4fd-89aeda4645e4",
   "metadata": {
    "id": "d3f378db-438c-4bac-b4fd-89aeda4645e4",
    "tags": []
   },
   "outputs": [],
   "source": [
    "# The Syntax is fine, but its a pain to read...\n",
    "[(index, x) if not int(x/2)%2 else (index, print(\"no\")) for index, x in enumerate([n for n in range(10,30,2) if n%3])]"
   ]
  },
  {
   "cell_type": "markdown",
   "id": "4d65bbc4-6571-4dab-8415-8d21528de23b",
   "metadata": {
    "id": "6d6a50ef-d540-427b-af86-2b7d48ce60ad",
    "tags": []
   },
   "source": [
    "---\n",
    "## 2. Dictionary Comprehension\n",
    "Similar to lists we can also use the comprehensions in dictionaries"
   ]
  },
  {
   "cell_type": "code",
   "execution_count": 9,
   "id": "c6a23333-538b-458f-ac62-d48119ede11f",
   "metadata": {
    "id": "c6a23333-538b-458f-ac62-d48119ede11f",
    "tags": []
   },
   "outputs": [
    {
     "data": {
      "text/plain": [
       "{1: 1, 2: 4, 3: 9, 4: 16, 5: 25}"
      ]
     },
     "execution_count": 9,
     "metadata": {},
     "output_type": "execute_result"
    }
   ],
   "source": [
    "numbers_and_their_squares = {num: num*num for num in [1,2,3,4,5]}\n",
    "numbers_and_their_squares"
   ]
  },
  {
   "cell_type": "markdown",
   "id": "5d540e3e-ca6c-4c06-992a-3c30bca55c1b",
   "metadata": {
    "id": "adb2413b-d1dd-4594-82f5-374a2e503a73",
    "tags": []
   },
   "source": [
    "---\n",
    "## 3. Generator Comprehension\n",
    "Generator comprehension is a compact way to write down generators"
   ]
  },
  {
   "cell_type": "code",
   "execution_count": 10,
   "id": "468f236f-93c8-46cb-9e5e-dcf6aa2decb9",
   "metadata": {
    "id": "468f236f-93c8-46cb-9e5e-dcf6aa2decb9",
    "tags": []
   },
   "outputs": [
    {
     "name": "stdout",
     "output_type": "stream",
     "text": [
      "<generator object <genexpr> at 0x7febdc99cfb0>\n",
      "2\n",
      "['Banana', 42, None]\n"
     ]
    }
   ],
   "source": [
    "a = (i for i in [1, 2, \"Banana\", 42, None])\n",
    "print(a) # it's a generator!\n",
    "next(a)\n",
    "print(next(a))\n",
    "print(list(a))"
   ]
  },
  {
   "cell_type": "markdown",
   "id": "5cb13c32-76c8-4da1-a67e-95b27c1370e1",
   "metadata": {},
   "source": [
    "---\n",
    "## 4. Tuple Comprehension"
   ]
  },
  {
   "cell_type": "code",
   "execution_count": 14,
   "id": "3ac4574a-ca92-4c07-ae33-2ec75a7f126d",
   "metadata": {
    "id": "3ac4574a-ca92-4c07-ae33-2ec75a7f126d",
    "tags": []
   },
   "outputs": [
    {
     "name": "stdout",
     "output_type": "stream",
     "text": [
      "Type:  <class 'tuple'>\n",
      "(1, 2, 'Banana', 42, None)\n"
     ]
    }
   ],
   "source": [
    "# So what if we want to use comprehension for tuples?\n",
    "a = tuple(i for i in [1, 2, \"Banana\", 42, None])\n",
    "print('Type: ', type(a))\n",
    "print(a)"
   ]
  },
  {
   "cell_type": "markdown",
   "id": "607f88d9-4432-4f40-89d3-1758506be424",
   "metadata": {},
   "source": [
    "It works simmilar to the other comprehensions!"
   ]
  },
  {
   "cell_type": "code",
   "execution_count": null,
   "id": "2287eac5-69a7-44c0-a88f-e08f2070a846",
   "metadata": {},
   "outputs": [],
   "source": []
  }
 ],
 "metadata": {
  "kernelspec": {
   "display_name": "Python 3 (ipykernel)",
   "language": "python",
   "name": "python3"
  },
  "language_info": {
   "codemirror_mode": {
    "name": "ipython",
    "version": 3
   },
   "file_extension": ".py",
   "mimetype": "text/x-python",
   "name": "python",
   "nbconvert_exporter": "python",
   "pygments_lexer": "ipython3",
   "version": "3.11.2"
  }
 },
 "nbformat": 4,
 "nbformat_minor": 5
}
