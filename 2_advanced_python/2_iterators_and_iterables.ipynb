{
 "cells": [
  {
   "cell_type": "markdown",
   "id": "48ca2746-db2b-4e2f-8f27-bc57bcab3964",
   "metadata": {
    "id": "591f261d-bd34-4d15-ba9c-5c07ba876bec"
   },
   "source": [
    "# Iterables and Iterators\n",
    "Objects that can be used in `for ... in ...` statements are called *iterable*.\n",
    "<br>\n",
    "Now we want to take our class from the [1_classes2](../2_advanced_python/1_classes2.ipynb) and make it iterable."
   ]
  },
  {
   "cell_type": "code",
   "execution_count": null,
   "id": "54d39ecb-636e-42fc-b5e4-7757a6754e26",
   "metadata": {
    "id": "0cb34b8b-3241-4734-9a3f-34b18fea25dc",
    "tags": []
   },
   "outputs": [],
   "source": [
    "class Triple:\n",
    "    def __init__(self, num1, num2, num3):\n",
    "        self.nums = num1, num2, num3\n",
    "    \n",
    "    def __repr__(self):\n",
    "        return f\"Triple({self.nums[0]}, {self.nums[1]}, {self.nums[2]})\"\n",
    "    \n",
    "    def __add__(self, other):\n",
    "        if isinstance(other, Triple):\n",
    "            num1 = self.nums[0] + other.nums[0]\n",
    "            num2 = self.nums[1] + other.nums[1]\n",
    "            num3 = self.nums[2] + other.nums[2]\n",
    "            return Triple(num1, num2, num3)\n",
    "        elif isinstance(other, int):\n",
    "            return Triple(self.nums[0]+other, self.nums[1]+other, self.nums[2]+other)\n",
    "        else:\n",
    "            return NotImplemented\n",
    "    \n",
    "    def __radd__(self, other):\n",
    "        return self + other\n",
    "    \n",
    "    def __bool__(self):\n",
    "        return any(self.nums)\n",
    "    \n",
    "    # add the __iter__ method\n",
    "    def __iter__(self):\n",
    "        return iter(self.nums)\n",
    " "
   ]
  },
  {
   "cell_type": "code",
   "execution_count": null,
   "id": "c423d151-4df8-469d-aa59-24ecb8546a76",
   "metadata": {
    "id": "0cb34b8b-3241-4734-9a3f-34b18fea25dc",
    "tags": []
   },
   "outputs": [],
   "source": [
    "my_triple = Triple(1, 2, 3)\n",
    "\n",
    "\n",
    "for value in my_triple:\n",
    "    print(value)"
   ]
  },
  {
   "cell_type": "code",
   "execution_count": null,
   "id": "752b4741-29c8-4229-a7c2-c52fff0a081b",
   "metadata": {
    "id": "7f717fd9-b34f-4afa-8a0e-733902698806",
    "tags": []
   },
   "outputs": [],
   "source": [
    "iter?"
   ]
  },
  {
   "cell_type": "markdown",
   "id": "1ad7c22e-3c51-454f-8670-d2af8b182acb",
   "metadata": {
    "id": "36270d85-70e3-4df4-bb66-9e45d53e0fb1",
    "tags": []
   },
   "source": [
    "The `__iter__` - magic-method is what makes an object iterable. Behind the scenes, the `iter`-function calls this method to get the iterator."
   ]
  },
  {
   "cell_type": "markdown",
   "id": "f8edcc71-07fb-459f-8034-8f602b2776c8",
   "metadata": {
    "id": "99e22c5c-2d65-4b10-a6be-fc69e93fcdd3",
    "tags": []
   },
   "source": [
    "An **iterator** is an object that implements `__next__`.  \n",
    "This is how `__next__` would look like:"
   ]
  },
  {
   "cell_type": "code",
   "execution_count": null,
   "id": "3b536c60-a80a-4b56-b08e-e328d4485d45",
   "metadata": {
    "id": "1fe54b55-50f8-4a9c-9e57-272312ef67da",
    "tags": []
   },
   "outputs": [],
   "source": [
    "class myrange:\n",
    "    def __init__(self, n):\n",
    "        self.i = 0\n",
    "        self.n = n\n",
    "\n",
    "    def __next__(self):\n",
    "        if self.i < self.n:\n",
    "            self.i += 1\n",
    "            return self.i\n",
    "        else:\n",
    "            raise StopIteration()"
   ]
  },
  {
   "cell_type": "code",
   "execution_count": null,
   "id": "5cd2aabe-e8f5-4220-9f1e-d8c8c9c85f04",
   "metadata": {
    "id": "cc66561a-48e3-439e-9554-4fcc16d4245c",
    "tags": []
   },
   "outputs": [],
   "source": [
    "a = myrange(2)"
   ]
  },
  {
   "cell_type": "markdown",
   "id": "5ea8761a-e25c-415e-9be0-87b4d79db0e2",
   "metadata": {
    "id": "d75a7e49-1d31-4c09-8095-26d887a656b0",
    "tags": []
   },
   "source": [
    "Usually, you want to make an iterator also iterable by returning itself from `__iter__`. Here an example of how to create your own `range`-function:"
   ]
  },
  {
   "cell_type": "code",
   "execution_count": null,
   "id": "d5b7a98c-bd12-454c-b4f6-a00ff1bf0e6a",
   "metadata": {
    "id": "bac5d35f-aa99-469b-980c-41d52979ab89",
    "tags": []
   },
   "outputs": [],
   "source": [
    "class myrange:\n",
    "    def __init__(self, n):\n",
    "        self.i = 0\n",
    "        self.n = n\n",
    "\n",
    "    def __iter__(self):\n",
    "        return self\n",
    "\n",
    "    def __next__(self):\n",
    "        if self.i < self.n:\n",
    "            self.i += 1\n",
    "            return self.i\n",
    "        else:\n",
    "            raise StopIteration()"
   ]
  },
  {
   "cell_type": "code",
   "execution_count": null,
   "id": "20ea2fa9-eb73-48e6-8aac-9773f8d43eeb",
   "metadata": {
    "id": "d8950c4f-a29a-4f26-93bb-db7b4c2b5f3e",
    "tags": []
   },
   "outputs": [],
   "source": [
    "for i in myrange(5):\n",
    "    print(i)"
   ]
  },
  {
   "cell_type": "markdown",
   "id": "627358ae-f3ab-4412-9f5a-533455c7a492",
   "metadata": {
    "id": "73bc726d-10d9-495a-a838-e4aec42990dc",
    "tags": []
   },
   "source": [
    "Python relies heavily on iterators, and you should use them everytime Python offers them! The following code would be considered *unpythonic*."
   ]
  },
  {
   "cell_type": "code",
   "execution_count": null,
   "id": "edef6eda-671e-4ef7-94bc-4387d42d8bea",
   "metadata": {
    "id": "bdbdf39f-71e7-42d3-8ebe-b1638266d5fc",
    "tags": []
   },
   "outputs": [],
   "source": [
    "a_list = [10, 20, 30]\n",
    "for i in range(len(a_list)):\n",
    "    print(a_list[i])"
   ]
  },
  {
   "cell_type": "markdown",
   "id": "67e7121b-4c8c-47a7-95ac-7053938860de",
   "metadata": {
    "id": "104af76e-eb5b-48bc-b7b5-6e50934b6690",
    "tags": []
   },
   "source": [
    "Instead we prefer using the iterator directly."
   ]
  },
  {
   "cell_type": "code",
   "execution_count": null,
   "id": "bb1a33eb-421f-4f45-8aef-1be63effda20",
   "metadata": {
    "id": "e0cedddf-d7e8-4db9-93c3-5dc4e832525f",
    "tags": []
   },
   "outputs": [],
   "source": [
    "a_list = [10, 20, 30]\n",
    "for number in a_list:\n",
    "    print(number)"
   ]
  },
  {
   "cell_type": "markdown",
   "id": "39bdcc0a-608d-4048-9a88-c7cda10e52b3",
   "metadata": {
    "id": "02d79266-bc01-491c-a29f-1d06a4f5cebe",
    "tags": []
   },
   "source": [
    "The iterator keeps its internal state. If we want to start at the beginning again, a fresh iterator will be need. You can try to make the `__iter__` method return a new instance whenever it is called, to get a behaviour like that of built in iterables like lists or ranges."
   ]
  },
  {
   "cell_type": "code",
   "execution_count": null,
   "id": "d2cd4b2f-6686-4ef9-88f2-df956a24d76e",
   "metadata": {
    "id": "4a6281a9-c631-47ac-aec6-c3e55e33814d",
    "tags": []
   },
   "outputs": [],
   "source": [
    "a = myrange(5)\n",
    "next(a)"
   ]
  },
  {
   "cell_type": "code",
   "execution_count": null,
   "id": "22955a0b-8429-4ee4-9eb6-b87360514b1b",
   "metadata": {
    "id": "ce763eda-95a4-44f2-964b-25c580a6da4e",
    "tags": []
   },
   "outputs": [],
   "source": [
    "for i in a:\n",
    "    print(i)"
   ]
  },
  {
   "cell_type": "code",
   "execution_count": null,
   "id": "43805f72-608e-4e3e-8b7a-487386155dd8",
   "metadata": {
    "id": "fabb3532-3190-49cc-9733-9adc0f17219f",
    "tags": []
   },
   "outputs": [],
   "source": [
    "a = myrange(5)\n",
    "b = range(1,6)\n",
    "\n",
    "# Both iterables are a representation of the same numbers\n",
    "print(list(a) == list(b))\n",
    "\n",
    "# But they still behave differently\n",
    "for i in b:\n",
    "    print(\"range:\",i)\n",
    "    \n",
    "for i in a:\n",
    "    print(\"myrange\",i)"
   ]
  },
  {
   "cell_type": "markdown",
   "id": "b24a4cf4-8b8a-48a2-a35c-2abde1c90c65",
   "metadata": {},
   "source": [
    "## Itertools module\n",
    "Python provides various [built in iterators](https://docs.python.org/3/library/itertools.html) that we can import and use.<br>"
   ]
  },
  {
   "cell_type": "markdown",
   "id": "8ef6bd12-0828-41ce-9349-647871f43256",
   "metadata": {
    "id": "9f7e0b33-9738-46ff-93cc-386c6fe306f4",
    "tags": []
   },
   "source": [
    "---\n",
    "# Generators\n"
   ]
  },
  {
   "cell_type": "markdown",
   "id": "971e5163-b94e-455a-a4d5-a61ddd964ba6",
   "metadata": {
    "id": "0f08c89c-dc0a-45ac-b77c-c6d285f0852c",
    "tags": []
   },
   "source": [
    "\n",
    "A Python generator function is a function which returns a generator. Generator functions are implicitly defined by the use of `yield` in the function body. `yield` may be used with a value, in which case that value is treated as the \"generated\" value. The next time `next()` is called on the generator (i.e. in the next step in a for loop, for example), the generator resumes execution from where it called `yield`, not from the beginning of the function. All of the state, like the values of local variables, is recovered and the generator contiues to execute until the next call to `yield`. \n",
    "\n",
    "https://jeffknupp.com/blog/2013/04/07/improve-your-python-yield-and-generators-explained/"
   ]
  },
  {
   "cell_type": "code",
   "execution_count": null,
   "id": "041c7f66-ddd2-4303-876e-5ee5597d3eb9",
   "metadata": {
    "id": "ca591876-c78c-487c-81b8-55559dd3f81b",
    "tags": []
   },
   "outputs": [],
   "source": [
    "def generate_numbers():\n",
    "    yield 1\n",
    "    yield 10\n",
    "    yield 3\n",
    "    yield 5\n",
    "    \n",
    "for i in generate_numbers():\n",
    "    print(i)"
   ]
  },
  {
   "cell_type": "code",
   "execution_count": null,
   "id": "5960769d-0c67-4cea-b768-b76856c73fcc",
   "metadata": {
    "id": "d047f6d4-73a7-4229-af49-f0224f71d07f",
    "tags": []
   },
   "outputs": [],
   "source": [
    "a = generate_numbers()\n",
    "print(a)\n",
    "\n",
    "print(next(a))\n",
    "print()\n"
   ]
  },
  {
   "cell_type": "code",
   "execution_count": null,
   "id": "48e7e82e-525e-4389-8a17-29054c0614f0",
   "metadata": {
    "id": "b199c74b-83b9-4b19-a99e-6adab11883b1",
    "tags": []
   },
   "outputs": [],
   "source": [
    "for i in a:\n",
    "    print(i)\n",
    "    \n",
    "print(next(a)) #will throw a StopIteration"
   ]
  },
  {
   "cell_type": "markdown",
   "id": "c65c7942-3080-4bcc-8f99-45f3da086083",
   "metadata": {
    "id": "c71aa432-2247-4bdf-8cf8-8e9775cfa3b3",
    "tags": []
   },
   "source": [
    "When we call a normal Python function, execution starts at the function's first line and continues until a return statement, exception, or when the end of the function is encountered. \n",
    "Once a function returns control to its caller, any work done by the function and stored in local variables is lost. A new call to the function creates everything from scratch. \n",
    "\n",
    "A **generator** is a certain kind of function (recognized by the keyword *yield* in place of *return*), that doesn't lose its data. If a generator is called, it will run until the next occurence of the `yield` keyword. When called again, it starts right after that, and runs until the next occurence of `yield`.\n",
    "\n",
    "A generator is an iterator, which means you can loop over it, call next(), and use it the way you'd use any other iterator."
   ]
  },
  {
   "cell_type": "code",
   "execution_count": null,
   "id": "7d1ec546-3d52-48eb-b435-6e3b9a911c38",
   "metadata": {
    "id": "a81d4ca8-8621-46c4-a255-16c65b6c925f",
    "tags": []
   },
   "outputs": [],
   "source": [
    "hasattr(a, '__iter__'), hasattr(a, '__next__')"
   ]
  },
  {
   "cell_type": "markdown",
   "id": "0d35e7a7-add1-439b-99e5-da2011ddb03b",
   "metadata": {
    "id": "c7dee8ae-fee8-4a43-924c-6815cd40cbce",
    "tags": []
   },
   "source": [
    "Generators are a perfect way to get rid of too convolutedly nested for-loops:"
   ]
  },
  {
   "cell_type": "code",
   "execution_count": null,
   "id": "50392272-27ff-4424-9b8c-5548948f9bd4",
   "metadata": {
    "id": "6f004db4-59a6-4cf7-8966-9ec80e120275",
    "tags": []
   },
   "outputs": [],
   "source": [
    "nested_list = [[[1, 2, 3], [4, 5, 6]],[[7, 8, 9], [10, 11, 12]]]"
   ]
  },
  {
   "cell_type": "code",
   "execution_count": null,
   "id": "ebec0d21-fc96-445e-8e7a-f7cbbe96233d",
   "metadata": {
    "id": "a66c584d-e66e-4c01-80c6-68b3388014f9",
    "tags": []
   },
   "outputs": [],
   "source": [
    "for i in nested_list:\n",
    "    for j in i:\n",
    "        for k in j:\n",
    "            print(k)"
   ]
  },
  {
   "cell_type": "code",
   "execution_count": null,
   "id": "f15a7b5b-98b0-4b92-b2bb-4caf88e91878",
   "metadata": {
    "id": "5b8b72d5-4011-43bb-aeb6-be472333d2d3",
    "tags": []
   },
   "outputs": [],
   "source": [
    "def nested_list_iterator(thelist):\n",
    "    for i in thelist:\n",
    "        for j in i:\n",
    "            for k in j:\n",
    "                yield k\n",
    "                \n",
    "for i in nested_list_iterator(nested_list):\n",
    "    print(i)"
   ]
  },
  {
   "cell_type": "markdown",
   "id": "4980b8c2-2137-4d57-96b6-9cf22dd2409a",
   "metadata": {
    "id": "41a4d30c-c2f6-453c-9c6f-ac3e7688a0d4",
    "tags": []
   },
   "source": [
    "Also, generators are perfect if you have complex stuff to loop over and/or want to be able to simply replace that thing you're looping over:"
   ]
  },
  {
   "cell_type": "raw",
   "id": "7b89ce7f-043e-4e51-bf06-ec24687f38a6",
   "metadata": {
    "id": "7fe06325-699d-4783-82c9-7603c528a2c2",
    "tags": []
   },
   "source": [
    "# mode when running the gameplayer live:\n",
    "\n",
    "while True:\n",
    "    board = Gameboard.get_gameboard_image()\n",
    "    do_first_thing(board)\n",
    "    do_second_thing(board)\n",
    "    do_third_thing(board)\n",
    "\n",
    "# mode when running the gameplayer non-live:\n",
    "\n",
    "for fname in os.listdir('error_imgs'):\n",
    "    board = Gameboard(plt.imread('error_imgs/'+fname), is_live=False)\n",
    "    do_first_thing(board)\n",
    "    #Your Code Here\n",
    "    #Your Code Here\n",
    "    do_second_thing(board)\n",
    "    do_third_thing(board)\n",
    "\n",
    "\n",
    "# -> I could encapsulate do_first_thing, do_second_thing and do_third_thing in a do_things-method, but I can also encapsulate the part where I loop"
   ]
  },
  {
   "cell_type": "raw",
   "id": "fe3852f2-22fe-4e82-946f-f83947a97291",
   "metadata": {
    "id": "ad30ba0b-900e-44b5-8a07-82030b3b0037",
    "tags": []
   },
   "source": [
    "def boardimage_iterator(live=False):\n",
    "    if not live:\n",
    "        for fname in os.listdir('error_imgs'):\n",
    "            gameboard = Gameboard(plt.imread('error_imgs/'+fname), is_live=False)\n",
    "            imshow(gameboard.rgb_image, fname)\n",
    "            print(fname)\n",
    "            yield gameboard\n",
    "    else:\n",
    "        while True:\n",
    "            if ONLY_IF_CAPS and not caps_active():\n",
    "                time.sleep(1)\n",
    "                continue\n",
    "            yield Gameboard.get_gameboard_image()\n",
    "            \n",
    "            \n",
    "for board in boardgame_iterator(True):\n",
    "    do_first_thing(board)\n",
    "    do_second_thing(board)\n",
    "    do_third_thing(board)"
   ]
  },
  {
   "cell_type": "markdown",
   "id": "77441d20-a170-41c6-a0e7-90eb8115cd13",
   "metadata": {
    "id": "cd6268cf-0fb9-409f-9ec6-dfe25812330d",
    "tags": []
   },
   "source": [
    "<div class=\"alert alert-block alert-info\">\n",
    "<b>Exercise:</b> \n",
    "    <br>\n",
    "   Use a generator to produce even numbers infinitely. Then print the first ten even numbers.\n",
    "</div>\n"
   ]
  },
  {
   "cell_type": "markdown",
   "id": "3dedad77-8a26-445d-ba4c-3d9aa99ecaea",
   "metadata": {
    "cell_type": "hint",
    "id": "8329b1ce-bd0b-481d-83bc-2630beffa602",
    "tags": []
   },
   "source": [
    "<div class=\"alert alert-block alert-success\">\n",
    "<b>Tip:</b> \n",
    "    <br>\n",
    "   \n",
    "\n",
    "Use a `while True` loop to produce numbers infinitely. Then wrap the generator function in `enumerate` and `break` after the first ten values.\n",
    "</div>"
   ]
  },
  {
   "cell_type": "code",
   "execution_count": null,
   "id": "c8c071d5-c864-4d5c-a121-3e491dca126f",
   "metadata": {
    "cell_type": "solution",
    "id": "0fe8c409-4356-4f8d-9c6a-dd9fc0752cc4",
    "tags": []
   },
   "outputs": [],
   "source": [
    "def even_numbers():\n",
    "    #Your Code Here\n",
    "\n",
    "for i, num in enumerate(even_numbers()):   \n",
    "    #Your Code Here\n",
    "    "
   ]
  },
  {
   "cell_type": "markdown",
   "id": "81d48269-c0cf-4d3d-ac5d-ec641d28477e",
   "metadata": {
    "id": "f30f5b52-a3a4-41c3-ba0b-83cc2558ff0f",
    "tags": []
   },
   "source": [
    "So a generator is a function that remembers its state in between calls. It's basically the same as this:"
   ]
  },
  {
   "cell_type": "code",
   "execution_count": null,
   "id": "bf067d8d-0e8a-4c02-8f25-5cfef6a5cd10",
   "metadata": {
    "id": "74c2b84f-5f24-44d3-a9c0-c349e1145bf8",
    "tags": []
   },
   "outputs": [],
   "source": [
    "class EvenNumberGenerator():\n",
    "    def __init__(self):\n",
    "        self.index = 0\n",
    "    \n",
    "    def __call__(self):\n",
    "        self.index += 2\n",
    "        return self.index\n",
    "    \n",
    "    def __iter__(self):\n",
    "        return self\n",
    "    \n",
    "    def __next__(self):\n",
    "        return self.__call__()\n",
    "        \n",
    "numgen = EvenNumberGenerator()"
   ]
  },
  {
   "cell_type": "code",
   "execution_count": null,
   "id": "f892e3ee-3320-47a9-9246-3a65f614a683",
   "metadata": {
    "id": "3a273834-d6f0-4d5b-bd8a-83b885e63a5f",
    "tags": []
   },
   "outputs": [],
   "source": [
    "numgen()"
   ]
  },
  {
   "cell_type": "code",
   "execution_count": null,
   "id": "d9d30dfd-b530-415f-80c5-3d5f72e9117e",
   "metadata": {
    "id": "a3acb24d-1590-40b0-9d64-a91cd5a82c10",
    "tags": []
   },
   "outputs": [],
   "source": [
    "for i, num in enumerate(numgen):\n",
    "    print(num)\n",
    "    if i >= 10:\n",
    "        break"
   ]
  }
 ],
 "metadata": {
  "kernelspec": {
   "display_name": "Python 3 (ipykernel)",
   "language": "python",
   "name": "python3"
  },
  "language_info": {
   "codemirror_mode": {
    "name": "ipython",
    "version": 3
   },
   "file_extension": ".py",
   "mimetype": "text/x-python",
   "name": "python",
   "nbconvert_exporter": "python",
   "pygments_lexer": "ipython3",
   "version": "3.10.4"
  }
 },
 "nbformat": 4,
 "nbformat_minor": 5
}
