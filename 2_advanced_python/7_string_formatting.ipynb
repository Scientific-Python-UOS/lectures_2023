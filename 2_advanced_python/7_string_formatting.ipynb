{
 "cells": [
  {
   "cell_type": "markdown",
   "id": "0fc75cc5-d0db-4eb8-a37b-034de46af253",
   "metadata": {
    "id": "GiaGArLCBnTQ",
    "tags": []
   },
   "source": [
    "# String Formatting"
   ]
  },
  {
   "cell_type": "markdown",
   "id": "94985caf-5963-466b-bf01-f7dce9157d6b",
   "metadata": {
    "id": "r9dfOSnkCUC0",
    "tags": []
   },
   "source": [
    "String formatting lets you inject items into a string rather than trying to chain items together using commas or string concatenation.\n",
    "\n",
    "There are three ways to perform string formatting.\n",
    "\n",
    " - The oldest method involves placeholders using the modulo `% `character.\n",
    " - An improved technique uses the `.format()` string method.\n",
    " - The newest method, introduced with Python 3.6, uses formatted string literals, called `f-strings`.\n",
    "\n",
    "\n"
   ]
  },
  {
   "cell_type": "markdown",
   "id": "cbee6bb4-98a4-469b-a54e-df6d6330c644",
   "metadata": {
    "id": "zZE0jKGLDNgM",
    "tags": []
   },
   "source": [
    "## Formatting with placeholders\n",
    "\n",
    "You can use `%s` to inject strings into your print statements. The module `%` is referred to as a \"string formatting operator\"."
   ]
  },
  {
   "cell_type": "code",
   "execution_count": 8,
   "id": "a1b7d63b-f0a6-4bc1-9aac-d3e9720f3ba7",
   "metadata": {
    "colab": {
     "base_uri": "https://localhost:8080/"
    },
    "executionInfo": {
     "elapsed": 9,
     "status": "ok",
     "timestamp": 1650297026932,
     "user": {
      "displayName": "Argha Sarker",
      "userId": "00722939545107565048"
     },
     "user_tz": -120
    },
    "id": "ctrRlZJcDM55",
    "outputId": "c48111a3-fe5b-4f13-b759-d6fb2e2f8bb8",
    "tags": []
   },
   "outputs": [
    {
     "name": "stdout",
     "output_type": "stream",
     "text": [
      "lets get vaccinated against covid-19.\n"
     ]
    }
   ],
   "source": [
    "print(\"lets get %s against covid-19.\" %'vaccinated')"
   ]
  },
  {
   "cell_type": "markdown",
   "id": "961b2ba9-5bd5-45e2-9817-85783c7d58da",
   "metadata": {
    "id": "1aEpGsGvDtIf",
    "tags": []
   },
   "source": [
    "You can pass multiple items by placing them inside a tuple after the % operator."
   ]
  },
  {
   "cell_type": "code",
   "execution_count": 2,
   "id": "f54f440b-28be-45a7-baed-89d5045ced72",
   "metadata": {
    "colab": {
     "base_uri": "https://localhost:8080/"
    },
    "executionInfo": {
     "elapsed": 8,
     "status": "ok",
     "timestamp": 1650297026932,
     "user": {
      "displayName": "Argha Sarker",
      "userId": "00722939545107565048"
     },
     "user_tz": -120
    },
    "id": "9XvwDtpgCTZc",
    "outputId": "b9191f25-0e75-4f1a-ed7e-36ff223a5101",
    "tags": []
   },
   "outputs": [
    {
     "name": "stdout",
     "output_type": "stream",
     "text": [
      "lets get vaccinated against covid-19.\n"
     ]
    }
   ],
   "source": [
    "print(\"lets get %s against %s.\" %('vaccinated','covid-19'))"
   ]
  },
  {
   "cell_type": "markdown",
   "id": "813f53be-bdda-4d69-84c1-1724403d1f6b",
   "metadata": {
    "id": "DfAFHuJEDxJF",
    "tags": []
   },
   "source": [
    "It can be also variable names"
   ]
  },
  {
   "cell_type": "code",
   "execution_count": 9,
   "id": "f08ba10f-05fb-4642-911d-977a786ccd27",
   "metadata": {
    "colab": {
     "base_uri": "https://localhost:8080/"
    },
    "executionInfo": {
     "elapsed": 7,
     "status": "ok",
     "timestamp": 1650297026932,
     "user": {
      "displayName": "Argha Sarker",
      "userId": "00722939545107565048"
     },
     "user_tz": -120
    },
    "id": "WWvuxGeTBmmk",
    "outputId": "ea8b9cc5-8f2b-45cf-f059-1cf332b9fc1f",
    "tags": []
   },
   "outputs": [
    {
     "name": "stdout",
     "output_type": "stream",
     "text": [
      "lets get vaccinated against covid-19.\n"
     ]
    }
   ],
   "source": [
    "x, y = 'vaccinated','covid-19'\n",
    "print(\"lets get %s against %s.\" %(x,y))"
   ]
  },
  {
   "cell_type": "markdown",
   "id": "1cd98629-9461-454f-b858-1028dba46c57",
   "metadata": {
    "id": "wbLSY0QICo6t",
    "tags": []
   },
   "source": [
    "The `%s` operator converts whatever it receives into a string, including integers and floats. The `%d` operator converts numbers to integers first, without rounding. Note the difference below:"
   ]
  },
  {
   "cell_type": "code",
   "execution_count": 10,
   "id": "40a250de-285f-4885-96dd-e67493b82a79",
   "metadata": {
    "colab": {
     "base_uri": "https://localhost:8080/"
    },
    "executionInfo": {
     "elapsed": 7,
     "status": "ok",
     "timestamp": 1650297026933,
     "user": {
      "displayName": "Argha Sarker",
      "userId": "00722939545107565048"
     },
     "user_tz": -120
    },
    "id": "VwF8IoawBlzp",
    "outputId": "0661e968-6ab8-49e7-8ecd-af165f4697e9",
    "tags": []
   },
   "outputs": [
    {
     "name": "stdout",
     "output_type": "stream",
     "text": [
      "I wrote 3.99 programs today.\n",
      "I wrote 3 programs today.\n"
     ]
    }
   ],
   "source": [
    "print('I wrote %s programs today.' %3.99)\n",
    "print('I wrote %d programs today.' %3.99)   "
   ]
  },
  {
   "cell_type": "markdown",
   "id": "9e2a9622-8fe5-4743-aafe-10d3af3971da",
   "metadata": {
    "id": "5HU9011oDPcn",
    "tags": []
   },
   "source": [
    "Padding and Precision of Floating Point Numbers: \n",
    "\n",
    " - Floating point numbers use the format `%5.2f`. Here, 5 would be the minimum number of characters the string should contain; these may be padded with whitespace if the entire number does not have this many digits. Next to this, `.2f` stands for how many numbers to show past the decimal point. \n",
    " \n",
    "Let's see some examples:"
   ]
  },
  {
   "cell_type": "code",
   "execution_count": 12,
   "id": "a02404cb-bb09-4e56-830e-044906c90d40",
   "metadata": {
    "colab": {
     "base_uri": "https://localhost:8080/"
    },
    "executionInfo": {
     "elapsed": 635,
     "status": "ok",
     "timestamp": 1650298725380,
     "user": {
      "displayName": "Argha Sarker",
      "userId": "00722939545107565048"
     },
     "user_tz": -120
    },
    "id": "oW_zKzmdDOsU",
    "outputId": "c268043a-1092-4fa1-ebca-362dd11cb22b",
    "tags": []
   },
   "outputs": [
    {
     "name": "stdout",
     "output_type": "stream",
     "text": [
      "Floating point numbers: 1390.14\n"
     ]
    }
   ],
   "source": [
    "print('Floating point numbers: %5.2f' %(1390.1442872))"
   ]
  },
  {
   "cell_type": "code",
   "execution_count": 6,
   "id": "bda04dfb-3f00-4525-b1f7-3e9351ba5a2c",
   "metadata": {
    "colab": {
     "base_uri": "https://localhost:8080/"
    },
    "executionInfo": {
     "elapsed": 7,
     "status": "ok",
     "timestamp": 1650297026933,
     "user": {
      "displayName": "Argha Sarker",
      "userId": "00722939545107565048"
     },
     "user_tz": -120
    },
    "id": "WxYXzAoDDhj4",
    "outputId": "c5df1d3e-dad2-4f84-dd74-965078419de7",
    "tags": []
   },
   "outputs": [
    {
     "name": "stdout",
     "output_type": "stream",
     "text": [
      "Floating point numbers:       1390\n"
     ]
    }
   ],
   "source": [
    "print('Floating point numbers: %10.0f' %(1390.1442872))"
   ]
  },
  {
   "cell_type": "code",
   "execution_count": 7,
   "id": "bfc6f053-6828-4ec9-950e-2bf3f7e826e8",
   "metadata": {
    "colab": {
     "base_uri": "https://localhost:8080/"
    },
    "executionInfo": {
     "elapsed": 6,
     "status": "ok",
     "timestamp": 1650297026933,
     "user": {
      "displayName": "Argha Sarker",
      "userId": "00722939545107565048"
     },
     "user_tz": -120
    },
    "id": "LJnS_rZWDpij",
    "outputId": "d34ce6c7-d59f-4f96-b2e1-d93be5e2a89e",
    "tags": []
   },
   "outputs": [
    {
     "name": "stdout",
     "output_type": "stream",
     "text": [
      "Floating point numbers:                   1390.14\n"
     ]
    }
   ],
   "source": [
    "print('Floating point numbers: %25.2f' %(1390.1442872))"
   ]
  },
  {
   "cell_type": "markdown",
   "id": "afae8579-4e77-4a97-8c65-4e46c956eeec",
   "metadata": {
    "id": "wEbK-HRoE9FA",
    "tags": []
   },
   "source": [
    "Multiple Formatting\n",
    "\n",
    "- Nothing prohibits using more than one conversion tool in the same print statement:"
   ]
  },
  {
   "cell_type": "code",
   "execution_count": 8,
   "id": "0e3255d8-940e-4d1a-9ca3-30f46a561fad",
   "metadata": {
    "colab": {
     "base_uri": "https://localhost:8080/"
    },
    "executionInfo": {
     "elapsed": 431,
     "status": "ok",
     "timestamp": 1650297027359,
     "user": {
      "displayName": "Argha Sarker",
      "userId": "00722939545107565048"
     },
     "user_tz": -120
    },
    "id": "vx4DWAaFE_9_",
    "outputId": "bc5fbecb-d744-46a5-8a5d-d3436e24a395",
    "tags": []
   },
   "outputs": [
    {
     "name": "stdout",
     "output_type": "stream",
     "text": [
      "First: hi!, Second:  3.14, Third: 'bye!'\n"
     ]
    }
   ],
   "source": [
    "print('First: %s, Second: %5.2f, Third: %a' %('hi!',3.1415,'bye!'))"
   ]
  },
  {
   "cell_type": "markdown",
   "id": "e7bcfcc0-cfb2-4693-8bc7-13f898c2dc7b",
   "metadata": {
    "id": "WErW1NTmFEI8",
    "tags": []
   },
   "source": [
    "For more information on string formatting with placeholders visit `https://docs.python.org/3/library/stdtypes.html#old-string-formatting`"
   ]
  },
  {
   "cell_type": "markdown",
   "id": "aab05e47-5807-43a4-b9d5-aa7aa78ff49a",
   "metadata": {
    "id": "0qR-AcWsFHL8",
    "tags": []
   },
   "source": [
    "## Formatting with the .format() method\n",
    "\n",
    "A better way to format objects into your strings for print statements is with the string `.format()` method. The syntax is:\n",
    "\n",
    "'String here `{}` then also `{}'.format('something1','something2')`\n",
    "\n",
    "For example:"
   ]
  },
  {
   "cell_type": "code",
   "execution_count": 9,
   "id": "97fe1041-9234-4571-a076-8c051e5966b9",
   "metadata": {
    "colab": {
     "base_uri": "https://localhost:8080/"
    },
    "executionInfo": {
     "elapsed": 20,
     "status": "ok",
     "timestamp": 1650297027360,
     "user": {
      "displayName": "Argha Sarker",
      "userId": "00722939545107565048"
     },
     "user_tz": -120
    },
    "id": "UoDUlZOnFXO_",
    "outputId": "f5a27522-f149-4411-87f0-20b552827c76",
    "tags": []
   },
   "outputs": [
    {
     "name": "stdout",
     "output_type": "stream",
     "text": [
      "This is a string with an insert\n"
     ]
    }
   ],
   "source": [
    "print('This is a string with an {}'.format('insert'))"
   ]
  },
  {
   "cell_type": "markdown",
   "id": "e0ef8412-3e10-4d22-8860-9f9f6447ede7",
   "metadata": {
    "id": "_-ZEFhabFmtA",
    "tags": []
   },
   "source": [
    "The `.format()` method has several advantages over the `%s` placeholder method\n",
    "\n",
    "-  Inserted objects can be called by index position:"
   ]
  },
  {
   "cell_type": "code",
   "execution_count": 10,
   "id": "9a9a635d-8724-4953-a724-7591cccd5f44",
   "metadata": {
    "colab": {
     "base_uri": "https://localhost:8080/"
    },
    "executionInfo": {
     "elapsed": 19,
     "status": "ok",
     "timestamp": 1650297027360,
     "user": {
      "displayName": "Argha Sarker",
      "userId": "00722939545107565048"
     },
     "user_tz": -120
    },
    "id": "AbUFW6H2FZZo",
    "outputId": "46e507b1-2c91-46e4-d25d-b9e3630e30cc",
    "tags": []
   },
   "outputs": [
    {
     "name": "stdout",
     "output_type": "stream",
     "text": [
      "The quick brown fox\n"
     ]
    }
   ],
   "source": [
    "print('The {2} {1} {0}'.format('fox','brown','quick'))"
   ]
  },
  {
   "cell_type": "markdown",
   "id": "c8bcc8ac-e92f-404f-ab1a-4c375d29c188",
   "metadata": {
    "id": "9Lg93JDIFuwL",
    "tags": []
   },
   "source": [
    "- Inserted objects can be assigned keywords:"
   ]
  },
  {
   "cell_type": "code",
   "execution_count": 13,
   "id": "e72545bc-2d1f-4c7a-aa4a-006a4298c03d",
   "metadata": {
    "colab": {
     "base_uri": "https://localhost:8080/"
    },
    "executionInfo": {
     "elapsed": 18,
     "status": "ok",
     "timestamp": 1650297027360,
     "user": {
      "displayName": "Argha Sarker",
      "userId": "00722939545107565048"
     },
     "user_tz": -120
    },
    "id": "Z9gsbZTLFuNQ",
    "outputId": "068978f9-4382-40dc-8adf-e5e2979500cc",
    "tags": []
   },
   "outputs": [
    {
     "name": "stdout",
     "output_type": "stream",
     "text": [
      "First Object: 1, Second Object: Two, Third Object: 12.3\n"
     ]
    }
   ],
   "source": [
    "print('First Object: {a}, Second Object: {b}, Third Object: {c}'.format(a=1,b='Two',c=12.3))"
   ]
  },
  {
   "cell_type": "markdown",
   "id": "b3fc41d8-5d2f-4e5b-8384-29d8a80f7627",
   "metadata": {
    "id": "XbnoL60fFyi3",
    "tags": []
   },
   "source": [
    " - Inserted objects can be reused, avoiding duplication:"
   ]
  },
  {
   "cell_type": "code",
   "execution_count": 12,
   "id": "8716299b-f7e9-4b6e-bcbe-c5290128002b",
   "metadata": {
    "colab": {
     "base_uri": "https://localhost:8080/"
    },
    "executionInfo": {
     "elapsed": 18,
     "status": "ok",
     "timestamp": 1650297027361,
     "user": {
      "displayName": "Argha Sarker",
      "userId": "00722939545107565048"
     },
     "user_tz": -120
    },
    "id": "fEeotDfGF5OF",
    "outputId": "3e051d1f-7d3d-48ec-bdb7-4a8e0c145134",
    "tags": []
   },
   "outputs": [
    {
     "name": "stdout",
     "output_type": "stream",
     "text": [
      "A penny saved is a penny earned.\n",
      "A penny saved is a penny earned.\n"
     ]
    }
   ],
   "source": [
    "print('A %s saved is a %s earned.' %('penny','penny'))\n",
    "# vs.\n",
    "print('A {p} saved is a {p} earned.'.format(p='penny'))"
   ]
  },
  {
   "cell_type": "markdown",
   "id": "09f0cc76-199e-4ed9-84d4-65d602166eb2",
   "metadata": {
    "id": "qRrxgnghF7TE",
    "tags": []
   },
   "source": [
    "### Alignment, padding and precision with `.format()`\n",
    "\n",
    "Within the curly braces you can assign field lengths, left/right alignments, rounding parameters and more"
   ]
  },
  {
   "cell_type": "code",
   "execution_count": 17,
   "id": "6a962d69-ceb5-46ec-be92-0c0105993c0f",
   "metadata": {
    "colab": {
     "base_uri": "https://localhost:8080/"
    },
    "executionInfo": {
     "elapsed": 16,
     "status": "ok",
     "timestamp": 1650297027361,
     "user": {
      "displayName": "Argha Sarker",
      "userId": "00722939545107565048"
     },
     "user_tz": -120
    },
    "id": "8XaDP01tGVz7",
    "outputId": "488f090d-d5e8-4a60-b94d-4cb23c6c7e47",
    "tags": []
   },
   "outputs": [
    {
     "name": "stdout",
     "output_type": "stream",
     "text": [
      "Fruit    | Quantity \n",
      "Apples   |       3.0\n",
      "Oranges  |        10\n"
     ]
    }
   ],
   "source": [
    "print('{0:8} | {1:9}'.format('Fruit', 'Quantity'))\n",
    "print('{0:8} | {1:9}'.format('Apples', 3.))\n",
    "print('{0:8} | {1:9}'.format('Oranges', 10))"
   ]
  },
  {
   "cell_type": "markdown",
   "id": "ff60c455-bebe-4ace-95a6-7a0e113bc180",
   "metadata": {
    "id": "yrKpqgDrGdXn",
    "tags": []
   },
   "source": [
    "- By default, `.format()` aligns text to the left, numbers to the right. You can pass an optional `<`, `^`,or `>` to set a left, center or right alignment:"
   ]
  },
  {
   "cell_type": "code",
   "execution_count": 14,
   "id": "cba29473-f3d6-4e74-a6e4-9005eb7a48c1",
   "metadata": {
    "colab": {
     "base_uri": "https://localhost:8080/"
    },
    "executionInfo": {
     "elapsed": 15,
     "status": "ok",
     "timestamp": 1650297027361,
     "user": {
      "displayName": "Argha Sarker",
      "userId": "00722939545107565048"
     },
     "user_tz": -120
    },
    "id": "uIdIEsJWGiVv",
    "outputId": "99e1b52a-8112-4a47-da75-8a57ee5d2ee1",
    "tags": []
   },
   "outputs": [
    {
     "name": "stdout",
     "output_type": "stream",
     "text": [
      "Left     |  Center  |    Right\n",
      "11       |    22    |       33\n"
     ]
    }
   ],
   "source": [
    "print('{0:<8} | {1:^8} | {2:>8}'.format('Left','Center','Right'))\n",
    "print('{0:<8} | {1:^8} | {2:>8}'.format(11,22,33))"
   ]
  },
  {
   "cell_type": "markdown",
   "id": "01a8229f-6a72-4571-87d5-02e4d14ccd37",
   "metadata": {
    "id": "oGHpTkNQIi0q",
    "tags": []
   },
   "source": [
    "For more information on the string `.format()` method visit `https://docs.python.org/3/library/string.html#formatstrings`"
   ]
  },
  {
   "cell_type": "markdown",
   "id": "3ebe4b15-f909-4ca5-9b7b-90739ea51601",
   "metadata": {
    "id": "16Ssd4t2HXx_",
    "tags": []
   },
   "source": [
    "## Formatted String Literals (f-strings)\n",
    "\n",
    "Introduced in Python 3.6, f-strings offer several benefits over the older `.format()` string method described above. For one, you can bring outside variables immediately into to the string rather than pass them as arguments through `.format(var)`."
   ]
  },
  {
   "cell_type": "code",
   "execution_count": 15,
   "id": "54d1a399-5465-473e-802f-e3ee3b7c6648",
   "metadata": {
    "colab": {
     "base_uri": "https://localhost:8080/"
    },
    "executionInfo": {
     "elapsed": 15,
     "status": "ok",
     "timestamp": 1650297027362,
     "user": {
      "displayName": "Argha Sarker",
      "userId": "00722939545107565048"
     },
     "user_tz": -120
    },
    "id": "v2vCIuoMHkdv",
    "outputId": "a90b1b30-98d9-4f54-84fd-6106a6d73253",
    "tags": []
   },
   "outputs": [
    {
     "name": "stdout",
     "output_type": "stream",
     "text": [
      "He said his name is Fred.\n"
     ]
    }
   ],
   "source": [
    "name = 'Fred'\n",
    "\n",
    "print(f\"He said his name is {name}.\")"
   ]
  },
  {
   "cell_type": "markdown",
   "id": "885cdc7c-dde0-4743-b423-38d7cb64b5c5",
   "metadata": {
    "id": "P0MRja6zHqtO",
    "tags": []
   },
   "source": [
    " - Pass `!r` to get the string representation:"
   ]
  },
  {
   "cell_type": "code",
   "execution_count": 16,
   "id": "4720b52c-4280-4cb1-8862-4fd6f1869ae4",
   "metadata": {
    "colab": {
     "base_uri": "https://localhost:8080/"
    },
    "executionInfo": {
     "elapsed": 14,
     "status": "ok",
     "timestamp": 1650297027362,
     "user": {
      "displayName": "Argha Sarker",
      "userId": "00722939545107565048"
     },
     "user_tz": -120
    },
    "id": "mCcA4wviHs-g",
    "outputId": "a2ebb1d0-57b5-44c0-eca5-83d865e06780",
    "tags": []
   },
   "outputs": [
    {
     "name": "stdout",
     "output_type": "stream",
     "text": [
      "He said his name is 'Fred'\n"
     ]
    }
   ],
   "source": [
    "print(f\"He said his name is {name!r}\")"
   ]
  },
  {
   "cell_type": "markdown",
   "id": "f1938a02-0d8a-408d-afec-1737c60f20dc",
   "metadata": {
    "id": "eo9dt0qCH8z2",
    "tags": []
   },
   "source": [
    "#### Float formatting follows \"result: `{value:{width}.{precision}}`\"\n",
    "\n",
    "\n",
    "Where with the `.format()` method you might see `{value:10.4f}`, with f-strings this can become `{value:{10}.{6}}`"
   ]
  },
  {
   "cell_type": "code",
   "execution_count": 17,
   "id": "25f11710-21b2-401b-b2ed-dc69607f8e57",
   "metadata": {
    "colab": {
     "base_uri": "https://localhost:8080/"
    },
    "executionInfo": {
     "elapsed": 13,
     "status": "ok",
     "timestamp": 1650297027362,
     "user": {
      "displayName": "Argha Sarker",
      "userId": "00722939545107565048"
     },
     "user_tz": -120
    },
    "id": "yh6qk9KjIC1n",
    "outputId": "05c0e4a4-c01a-4c8d-acad-07b4db2b1d72",
    "tags": []
   },
   "outputs": [
    {
     "name": "stdout",
     "output_type": "stream",
     "text": [
      "My 10 character, four decimal number is:   23.4568\n",
      "My 10 character, four decimal number is:   23.4568\n"
     ]
    }
   ],
   "source": [
    "num = 23.45678\n",
    "print(\"My 10 character, four decimal number is:{0:10.4f}\".format(num))\n",
    "print(f\"My 10 character, four decimal number is:{num:{10}.{6}}\")"
   ]
  },
  {
   "cell_type": "markdown",
   "id": "99301fe5-1bca-44cd-b6f9-899265aec75e",
   "metadata": {
    "id": "XBOx88SjIfPq",
    "tags": []
   },
   "source": [
    "For more info on formatted string literals visit `https://docs.python.org/3/reference/lexical_analysis.html#f-strings`"
   ]
  }
 ],
 "metadata": {
  "kernelspec": {
   "display_name": "Python 3 (ipykernel)",
   "language": "python",
   "name": "python3"
  },
  "language_info": {
   "codemirror_mode": {
    "name": "ipython",
    "version": 3
   },
   "file_extension": ".py",
   "mimetype": "text/x-python",
   "name": "python",
   "nbconvert_exporter": "python",
   "pygments_lexer": "ipython3",
   "version": "3.11.3"
  }
 },
 "nbformat": 4,
 "nbformat_minor": 5
}
