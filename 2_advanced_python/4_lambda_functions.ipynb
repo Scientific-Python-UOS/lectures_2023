{
 "cells": [
  {
   "cell_type": "markdown",
   "id": "2a508d3d-641b-4292-9030-74814e397838",
   "metadata": {
    "id": "0af49242-3c3c-4afa-b68d-94ba3370d785"
   },
   "source": [
    "# Lambda Expressions\n",
    "\n",
    "Lambda expressions can be used to create \"small\", \"throw-away\", anonymous functions."
   ]
  },
  {
   "cell_type": "code",
   "execution_count": 1,
   "id": "9867f661-9a65-4f22-8316-35304cd08325",
   "metadata": {
    "id": "cd6a18c9-61d0-46e4-b5e6-72a8becfe1af",
    "tags": []
   },
   "outputs": [
    {
     "data": {
      "text/plain": [
       "(64, function)"
      ]
     },
     "execution_count": 1,
     "metadata": {},
     "output_type": "execute_result"
    }
   ],
   "source": [
    "def square_number(x):\n",
    "    return x**2\n",
    "\n",
    "square_number(8), type(square_number)"
   ]
  },
  {
   "cell_type": "code",
   "execution_count": 2,
   "id": "22e74180-bf39-4ea5-9aad-0a921d2e0451",
   "metadata": {
    "id": "e9794626-2880-4c2f-a13b-67ec462030c5",
    "tags": []
   },
   "outputs": [
    {
     "data": {
      "text/plain": [
       "<function __main__.<lambda>(x)>"
      ]
     },
     "execution_count": 2,
     "metadata": {},
     "output_type": "execute_result"
    }
   ],
   "source": [
    "lambda x: x**2"
   ]
  },
  {
   "cell_type": "code",
   "execution_count": 3,
   "id": "1f7e73b3-69ed-43d8-9a33-8fa2a13ca413",
   "metadata": {
    "id": "3ae08bbf-caad-4e2b-9588-92f8f6e685e0",
    "tags": []
   },
   "outputs": [
    {
     "data": {
      "text/plain": [
       "(64, function)"
      ]
     },
     "execution_count": 3,
     "metadata": {},
     "output_type": "execute_result"
    }
   ],
   "source": [
    "square_number = lambda x: x**2\n",
    "\n",
    "square_number(8), type(square_number)"
   ]
  },
  {
   "cell_type": "code",
   "execution_count": 4,
   "id": "3d78bfe7-54b5-45c7-91ca-80f7a527abb1",
   "metadata": {
    "id": "1e9b7889-9d2f-453c-8cb1-a2675ddd35a4",
    "tags": []
   },
   "outputs": [
    {
     "data": {
      "text/plain": [
       "5"
      ]
     },
     "execution_count": 4,
     "metadata": {},
     "output_type": "execute_result"
    }
   ],
   "source": [
    "calc_sum = lambda x, y: x + y\n",
    "calc_sum(2, 3)"
   ]
  },
  {
   "cell_type": "markdown",
   "id": "eab8f0c1-3e3c-41ff-8e7b-e95e95a2cee5",
   "metadata": {
    "id": "b96c3a6c-36a4-4bc7-b2c4-3485ae984967",
    "tags": []
   },
   "source": [
    "You can use lambda-expressions for small pieces of code:"
   ]
  },
  {
   "cell_type": "code",
   "execution_count": 5,
   "id": "9f322a59-197f-48dc-9394-ea602c5f7d90",
   "metadata": {
    "id": "e184fad9-6a7c-4f07-a7cc-360eae695d27",
    "tags": []
   },
   "outputs": [],
   "source": [
    "now = lambda: pd.to_datetime(datetime.datetime.now()).tz_localize('UTC').tz_convert('Europe/Berlin')\n",
    "maketime = lambda x: datetime.datetime.utcfromtimestamp(int(x)).strftime('%Y-%m-%d %H:%M')\n",
    "imsave = lambda fname, img: plt.imsave(fname, img, vmin=0, vmax=1)"
   ]
  },
  {
   "cell_type": "markdown",
   "id": "741b7d9d-7d16-48a7-b6e6-4d68c5122f31",
   "metadata": {
    "id": "cefa645d-6112-444d-bce2-cad7bc641c2f",
    "tags": []
   },
   "source": [
    "---\n",
    "## Controlling list operations with lambdas"
   ]
  },
  {
   "cell_type": "code",
   "execution_count": 6,
   "id": "83812bbf-6bbd-44df-bb36-11d6c0fc4021",
   "metadata": {
    "id": "f4958da2-a405-4d56-8e18-def8aa3154ad",
    "tags": []
   },
   "outputs": [
    {
     "name": "stdout",
     "output_type": "stream",
     "text": [
      "[1, 3, 6, 7, 45, 67]\n",
      "[1, 3, 6, 7, 45, 67]\n"
     ]
    }
   ],
   "source": [
    "unsorted_list = [6, 1, 45, 67, 3, 7]\n",
    "\n",
    "# two ways to sort:\n",
    "new_list = sorted(unsorted_list) # creates a new sorted one, old one stays the same\n",
    "unsorted_list.sort()             # sorts in-place, the old one will change\n",
    "\n",
    "print(new_list)\n",
    "print(unsorted_list)"
   ]
  },
  {
   "cell_type": "code",
   "execution_count": 7,
   "id": "5ad74d73-a894-4437-a77d-ffcfbc06ad5f",
   "metadata": {
    "id": "d57c493b-1476-452d-aa94-06a073f2b65c",
    "tags": []
   },
   "outputs": [
    {
     "data": {
      "text/plain": [
       "\u001b[0;31mSignature:\u001b[0m \u001b[0munsorted_list\u001b[0m\u001b[0;34m.\u001b[0m\u001b[0msort\u001b[0m\u001b[0;34m(\u001b[0m\u001b[0;34m*\u001b[0m\u001b[0;34m,\u001b[0m \u001b[0mkey\u001b[0m\u001b[0;34m=\u001b[0m\u001b[0;32mNone\u001b[0m\u001b[0;34m,\u001b[0m \u001b[0mreverse\u001b[0m\u001b[0;34m=\u001b[0m\u001b[0;32mFalse\u001b[0m\u001b[0;34m)\u001b[0m\u001b[0;34m\u001b[0m\u001b[0;34m\u001b[0m\u001b[0m\n",
       "\u001b[0;31mDocstring:\u001b[0m\n",
       "Sort the list in ascending order and return None.\n",
       "\n",
       "The sort is in-place (i.e. the list itself is modified) and stable (i.e. the\n",
       "order of two equal elements is maintained).\n",
       "\n",
       "If a key function is given, apply it once to each list item and sort them,\n",
       "ascending or descending, according to their function values.\n",
       "\n",
       "The reverse flag can be set to sort in descending order.\n",
       "\u001b[0;31mType:\u001b[0m      builtin_function_or_method"
      ]
     },
     "metadata": {},
     "output_type": "display_data"
    }
   ],
   "source": [
    "unsorted_list.sort?"
   ]
  },
  {
   "cell_type": "markdown",
   "id": "cda2b8df-ffa7-4722-9d5c-f0e069e7353a",
   "metadata": {
    "id": "c05710da-b9e8-4b9e-9640-7a1159764f0c",
    "tags": []
   },
   "source": [
    "Sorting in  descending order."
   ]
  },
  {
   "cell_type": "code",
   "execution_count": 8,
   "id": "8b4cd86a-e83a-4079-ae86-d477e6e89493",
   "metadata": {
    "id": "d4ebe867-cd1c-4ba2-b0c1-4d1449a6ad16",
    "tags": []
   },
   "outputs": [
    {
     "data": {
      "text/plain": [
       "[67, 45, 7, 6, 3, 1]"
      ]
     },
     "execution_count": 8,
     "metadata": {},
     "output_type": "execute_result"
    }
   ],
   "source": [
    "unsorted_list.sort(reverse=True) \n",
    "unsorted_list"
   ]
  },
  {
   "cell_type": "code",
   "execution_count": 9,
   "id": "a896e271-d2b7-446d-a987-76992172abcf",
   "metadata": {
    "id": "5faaf34b-0083-4267-a1b4-fdb4e85ae44d",
    "tags": []
   },
   "outputs": [
    {
     "data": {
      "text/plain": [
       "[67, 45, 7, 6, 3, 1]"
      ]
     },
     "execution_count": 9,
     "metadata": {},
     "output_type": "execute_result"
    }
   ],
   "source": [
    "unsorted_list.sort(key = lambda n: -n)\n",
    "unsorted_list"
   ]
  },
  {
   "cell_type": "markdown",
   "id": "3e18aadc-c3b5-4ffb-9d2f-3e4921e21ff2",
   "metadata": {
    "id": "bdd593c1-7997-48c3-a284-bfabd6b10696",
    "tags": []
   },
   "source": [
    "Sorting according to specific rules can be done with lambda functions. For example you can sort people by their age."
   ]
  },
  {
   "cell_type": "code",
   "execution_count": 10,
   "id": "c1e7019b-8478-4cec-953f-4c49f6f06efb",
   "metadata": {
    "id": "2c67ba5d-7970-435f-a521-00b7995c9dc0",
    "tags": []
   },
   "outputs": [],
   "source": [
    "people = [\n",
    "    {'name': 'Aaron', 'age': 40},\n",
    "    {'name': 'Berta', 'age': 20},\n",
    "    {'name': 'Chris', 'age': 29},\n",
    "]"
   ]
  },
  {
   "cell_type": "code",
   "execution_count": 11,
   "id": "44e4da96-0a4b-4af6-a42c-81b016ae0340",
   "metadata": {
    "id": "202dbbdd-73d3-44e5-be84-5187d380937d",
    "tags": []
   },
   "outputs": [
    {
     "ename": "TypeError",
     "evalue": "'<' not supported between instances of 'dict' and 'dict'",
     "output_type": "error",
     "traceback": [
      "\u001b[0;31m---------------------------------------------------------------------------\u001b[0m",
      "\u001b[0;31mTypeError\u001b[0m                                 Traceback (most recent call last)",
      "Cell \u001b[0;32mIn[11], line 1\u001b[0m\n\u001b[0;32m----> 1\u001b[0m \u001b[43mpeople\u001b[49m\u001b[38;5;241;43m.\u001b[39;49m\u001b[43msort\u001b[49m\u001b[43m(\u001b[49m\u001b[43m)\u001b[49m\n",
      "\u001b[0;31mTypeError\u001b[0m: '<' not supported between instances of 'dict' and 'dict'"
     ]
    }
   ],
   "source": [
    "people.sort()"
   ]
  },
  {
   "cell_type": "code",
   "execution_count": 12,
   "id": "7b72de22-9283-4707-ba21-0063922d8f7f",
   "metadata": {
    "id": "11a8a86c-ce8d-4da7-8e14-4e15a61fee17",
    "tags": []
   },
   "outputs": [
    {
     "data": {
      "text/plain": [
       "[{'name': 'Berta', 'age': 20},\n",
       " {'name': 'Chris', 'age': 29},\n",
       " {'name': 'Aaron', 'age': 40}]"
      ]
     },
     "execution_count": 12,
     "metadata": {},
     "output_type": "execute_result"
    }
   ],
   "source": [
    "people.sort(key=lambda item: item['age'])\n",
    "people"
   ]
  },
  {
   "cell_type": "markdown",
   "id": "bff3adbd-772f-45bc-8ebd-613b50e0ce00",
   "metadata": {
    "id": "297312dd-8f9b-4789-8872-f1736bc7827d",
    "tags": []
   },
   "source": [
    "or by their name."
   ]
  },
  {
   "cell_type": "code",
   "execution_count": 13,
   "id": "cfed08d6-425f-48c7-aad0-182bea98c78b",
   "metadata": {
    "id": "8541300f-e62c-49d2-ad6e-69150afec072",
    "tags": []
   },
   "outputs": [
    {
     "data": {
      "text/plain": [
       "[{'name': 'Aaron', 'age': 40},\n",
       " {'name': 'Berta', 'age': 20},\n",
       " {'name': 'Chris', 'age': 29}]"
      ]
     },
     "execution_count": 13,
     "metadata": {},
     "output_type": "execute_result"
    }
   ],
   "source": [
    "people.sort(key=lambda item: item['name'])\n",
    "people"
   ]
  },
  {
   "cell_type": "markdown",
   "id": "3f7a801e-e8e4-4283-ad69-4127b0a9ddc4",
   "metadata": {
    "id": "701736ad-8f05-408f-bf46-3a37dc0651c3",
    "tags": []
   },
   "source": [
    "Other functions work similarly, For example you can use the `key` argument in `max`"
   ]
  },
  {
   "cell_type": "code",
   "execution_count": 14,
   "id": "f50e3082-9577-4df1-b6a8-1b16b431d267",
   "metadata": {
    "id": "f554edd6-0a4c-4a11-95ca-68dbf668cdd5",
    "tags": []
   },
   "outputs": [
    {
     "data": {
      "text/plain": [
       "{'name': 'Aaron', 'age': 40}"
      ]
     },
     "execution_count": 14,
     "metadata": {},
     "output_type": "execute_result"
    }
   ],
   "source": [
    "max(people, key=lambda x: x['age'])"
   ]
  },
  {
   "cell_type": "markdown",
   "id": "6de99c0c-f409-4ba0-9a83-fb13437dbbd4",
   "metadata": {
    "id": "d8804492-416e-4310-9fd9-b0ee59882f12",
    "tags": []
   },
   "source": [
    "<div class=\"alert alert-block alert-info\">\n",
    "<b>Exercise:</b> \n",
    "    <br>    \n",
    "    Use the <b>min</b> function with a <b>key</b> argument to find the person that comes first in the alphabet.\n",
    "</div>"
   ]
  },
  {
   "cell_type": "code",
   "execution_count": 15,
   "id": "6e87d2d4-2998-4171-8584-45d1afc42b9e",
   "metadata": {
    "cell_type": "solution",
    "id": "89fb4372-118c-42b2-bb33-dd11636fb85b",
    "tags": []
   },
   "outputs": [
    {
     "data": {
      "text/plain": [
       "{'name': 'Aaron', 'age': 40}"
      ]
     },
     "execution_count": 15,
     "metadata": {},
     "output_type": "execute_result"
    }
   ],
   "source": [
    "#here is space for you to write your lambda function"
   ]
  },
  {
   "cell_type": "markdown",
   "id": "4184d7ea-39ab-4df1-b5ac-9abba0e6ce0d",
   "metadata": {
    "id": "9df840d6-5823-4274-aca4-98b28ba1d408",
    "tags": []
   },
   "source": [
    "---\n",
    "## Map, Filter & Reduce\n",
    "\n",
    "Python has many features that originally stem from different programming paradigmns. One of these is that of functional programming, where the concept of *map*, *filter*, and *reduce* come from. These functions are there to apply a function to a collection of data."
   ]
  },
  {
   "cell_type": "markdown",
   "id": "8248cd47-8270-46df-b831-111f8aab4d48",
   "metadata": {
    "id": "3e3a219b-d1ff-4aea-bffd-a94f65623d32",
    "tags": []
   },
   "source": [
    "### 1. Map\n",
    "\n",
    "Map takes a function and a collection, and simply applys the function to every element of the collection:"
   ]
  },
  {
   "cell_type": "code",
   "execution_count": 16,
   "id": "ae422d7d-0b6a-4a02-aacd-0d594560280a",
   "metadata": {
    "id": "824dd280-3122-4ebc-aeec-691635d1371e",
    "tags": []
   },
   "outputs": [
    {
     "data": {
      "text/plain": [
       "\u001b[0;31mInit signature:\u001b[0m \u001b[0mmap\u001b[0m\u001b[0;34m(\u001b[0m\u001b[0mself\u001b[0m\u001b[0;34m,\u001b[0m \u001b[0;34m/\u001b[0m\u001b[0;34m,\u001b[0m \u001b[0;34m*\u001b[0m\u001b[0margs\u001b[0m\u001b[0;34m,\u001b[0m \u001b[0;34m**\u001b[0m\u001b[0mkwargs\u001b[0m\u001b[0;34m)\u001b[0m\u001b[0;34m\u001b[0m\u001b[0;34m\u001b[0m\u001b[0m\n",
       "\u001b[0;31mDocstring:\u001b[0m     \n",
       "map(func, *iterables) --> map object\n",
       "\n",
       "Make an iterator that computes the function using arguments from\n",
       "each of the iterables.  Stops when the shortest iterable is exhausted.\n",
       "\u001b[0;31mType:\u001b[0m           type\n",
       "\u001b[0;31mSubclasses:\u001b[0m     "
      ]
     },
     "metadata": {},
     "output_type": "display_data"
    }
   ],
   "source": [
    "map?"
   ]
  },
  {
   "cell_type": "code",
   "execution_count": 17,
   "id": "b5df59c9-5aba-4aa7-9bce-3db20aa3a8cc",
   "metadata": {
    "id": "95963012-32d7-4da7-9096-723f9f698262",
    "tags": []
   },
   "outputs": [
    {
     "data": {
      "text/plain": [
       "[1, 4, 9, 16, 25]"
      ]
     },
     "execution_count": 17,
     "metadata": {},
     "output_type": "execute_result"
    }
   ],
   "source": [
    "items = [1, 2, 3, 4, 5]\n",
    "squared = list(map(lambda x: x**2, items))\n",
    "squared"
   ]
  },
  {
   "cell_type": "markdown",
   "id": "16222280-9f44-4f01-919e-9477c3b402d1",
   "metadata": {
    "id": "a40b6c6a-6710-4c4b-9418-debbadfea161",
    "tags": []
   },
   "source": [
    "..which is the same as"
   ]
  },
  {
   "cell_type": "code",
   "execution_count": 18,
   "id": "c4208622-888d-4154-895f-98664a3f9f88",
   "metadata": {
    "id": "c1c709d2-10d6-474b-86f7-b641fd63b139",
    "tags": []
   },
   "outputs": [],
   "source": [
    "items = [1, 2, 3, 4, 5]\n",
    "squared = []\n",
    "for i in items:\n",
    "    squared.append(i**2)"
   ]
  },
  {
   "cell_type": "code",
   "execution_count": 19,
   "id": "f9b8b44b-28bb-4162-bd37-9e22fea72c9a",
   "metadata": {
    "id": "d5093d21-7e97-45b4-b469-4aba1a5a29ad",
    "tags": []
   },
   "outputs": [
    {
     "name": "stdout",
     "output_type": "stream",
     "text": [
      "[(1, 4), (2, 5), (3, 6)]\n"
     ]
    }
   ],
   "source": [
    "a, b = [1,2,3,4], [4,5,6]\n",
    "# Map can also have several collections as arguments. Look again what zip does:\n",
    "print(list(zip(a, b)))\n",
    "# And try to implement the same behaviour with map instead of zip\n"
   ]
  },
  {
   "cell_type": "markdown",
   "id": "70cfe92d-03ae-400f-ac8d-9f768a77d941",
   "metadata": {
    "id": "f4cbe0d4-fd1a-49d8-b19b-c96e52a60e6c",
    "tags": []
   },
   "source": [
    "### 2. Filter\n",
    "\n",
    "`filter` takes a collection and a function that returns a boolean value. As the name suggests, it thus filters the list: it creates a list of elements for which the function returns true."
   ]
  },
  {
   "cell_type": "code",
   "execution_count": null,
   "id": "bb838935-f6aa-4424-bfad-ecf090387a6d",
   "metadata": {
    "id": "dc2a8365-0f76-4431-865b-f70a2c4df254",
    "tags": []
   },
   "outputs": [],
   "source": [
    "number_list = range(-5, 5)\n",
    "print(\"unfiltered:\", list(number_list))\n",
    "less_than_zero = list(filter(lambda x: x < 0, number_list))\n",
    "print(\"filtered:\", less_than_zero)"
   ]
  },
  {
   "cell_type": "markdown",
   "id": "cbeb6a05-1a91-4b1e-b265-14a2b3d483a9",
   "metadata": {
    "id": "aef19632-ab18-4ab0-b61b-4a223e750695",
    "tags": []
   },
   "source": [
    "### 3. Reduce \n",
    "\n",
    "is a really useful function for performing some computation on a list and returning the result. It applies a rolling computation to sequential pairs of values in a list. For example, if you wanted to compute the product of a list of integers."
   ]
  },
  {
   "cell_type": "code",
   "execution_count": null,
   "id": "5411eb3c-dfc3-453f-8592-a1af55fc9cef",
   "metadata": {
    "id": "3d8c30ca-ed9c-4151-8330-2c44abe04239",
    "tags": []
   },
   "outputs": [],
   "source": [
    "reduce?"
   ]
  },
  {
   "cell_type": "code",
   "execution_count": 1,
   "id": "959eef08-e52b-4c55-b6fe-4b67a8dfb1bd",
   "metadata": {
    "id": "49f5ce9e-bc5b-4fc4-aca9-8af0235c48ce",
    "tags": []
   },
   "outputs": [
    {
     "data": {
      "text/plain": [
       "113"
      ]
     },
     "execution_count": 1,
     "metadata": {},
     "output_type": "execute_result"
    }
   ],
   "source": [
    "from functools import reduce #reduce is not in pythons standardlib and must be imported!\n",
    "mysum = reduce(lambda x,y: x+y, [47,11,42,13])\n",
    "mysum"
   ]
  },
  {
   "cell_type": "markdown",
   "id": "e2b67047-1427-4aa5-ad50-13b53de5c6ff",
   "metadata": {
    "id": "246e183d-0d17-424e-8bb0-64e62df02291",
    "tags": []
   },
   "source": [
    "![tool](figures/reduce_diagram.png)"
   ]
  },
  {
   "cell_type": "markdown",
   "id": "5dc59258-0a04-48f0-b5ef-696afb19c7dc",
   "metadata": {
    "id": "d9233c7f-3049-494b-898f-334f935087cb",
    "tags": []
   },
   "source": [
    "...which is the same as:"
   ]
  },
  {
   "cell_type": "code",
   "execution_count": 2,
   "id": "b0427fa0-90b5-4def-96ec-6703cb394018",
   "metadata": {
    "id": "1cd6a0fb-3786-4650-b9a8-c6a8060c50af",
    "tags": []
   },
   "outputs": [],
   "source": [
    "product = 1\n",
    "thelist = [1, 2, 3, 4]\n",
    "for num in thelist:\n",
    "    product = product * num"
   ]
  }
 ],
 "metadata": {
  "kernelspec": {
   "display_name": "Python 3 (ipykernel)",
   "language": "python",
   "name": "python3"
  },
  "language_info": {
   "codemirror_mode": {
    "name": "ipython",
    "version": 3
   },
   "file_extension": ".py",
   "mimetype": "text/x-python",
   "name": "python",
   "nbconvert_exporter": "python",
   "pygments_lexer": "ipython3",
   "version": "3.11.2"
  }
 },
 "nbformat": 4,
 "nbformat_minor": 5
}
