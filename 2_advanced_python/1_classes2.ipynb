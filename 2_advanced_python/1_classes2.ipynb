{
 "cells": [
  {
   "cell_type": "markdown",
   "id": "bfa6e135-7f9f-4c77-9b1a-52c22d9da4a9",
   "metadata": {},
   "source": [
    "# Creating our own Classes"
   ]
  },
  {
   "cell_type": "markdown",
   "id": "923e13e4-389f-43d9-9049-bbbab5dd3567",
   "metadata": {},
   "source": [
    "and how to make them behave like built-in types\n",
    "<br>\n",
    "<br>\n",
    "\n",
    "At the end of last week we leared about classes. This time we want to build a class that is compatible with Python's built-in operators and functions.  \n",
    "\n",
    "\n",
    "The class that we will implement will represent tree numeric values and we will name **Triple**.<br>\n",
    "Our goal will be to make it compatible with Python's built-in operators and functions such as\n",
    "```python\n",
    "+, -, len(), str()\n",
    "```\n",
    "<br>"
   ]
  },
  {
   "cell_type": "code",
   "execution_count": null,
   "id": "a3000ac3-4bf0-478a-9f36-c593e18aa244",
   "metadata": {},
   "outputs": [],
   "source": [
    "# like last time we build a class via the keyword \"class\"\n",
    "class Triple:\n",
    "    # the __init__ method assignes 3 numbers to self.nums\n",
    "    def __init__(self, num1, num2, num3):\n",
    "        self.nums = num1, num2, num3\n",
    "    "
   ]
  },
  {
   "cell_type": "code",
   "execution_count": null,
   "id": "fe185ed3-98ac-42ad-9b29-5cbe41d81fcc",
   "metadata": {},
   "outputs": [],
   "source": [
    "Triple(1,2,3)"
   ]
  },
  {
   "cell_type": "markdown",
   "id": "6b48c80f-73de-47bf-99b9-8ceb0c9b0a99",
   "metadata": {},
   "source": [
    "You can see that we now created an object of the type Triple at a specific disc space.  \n",
    "But to do something with our object we have to add `methods` to it."
   ]
  },
  {
   "cell_type": "markdown",
   "id": "ca0771f5-1190-49b9-9210-31af68e7ce2c",
   "metadata": {
    "tags": []
   },
   "source": [
    "<br>\n",
    "\n",
    "You might remember from last week how we can use `__dunder__` methods (**d**ouble **under**score)<br> \n",
    "to *define* or *overwrite* a classe's behaviour for built-in operators or functions.\n",
    "\n",
    "In this notebook we will overwrite some `__dunder__` methods in our class `Triple`."
   ]
  },
  {
   "cell_type": "markdown",
   "id": "aa61f92b-8f5e-4077-aa25-40f11c45efd7",
   "metadata": {
    "tags": []
   },
   "source": [
    "<br>\n",
    "\n",
    "### `__repr__` and `__str__`\n",
    "If we print our triple we want to get an informative representation. For that we can overwrite `__repr__` and/or `__str__`. <br>\n",
    "Although very similar both have different use cases:\n",
    "\n",
    "`__repr__` should be uambiguous, telling us everything we need to know about an instance\n",
    "\n",
    "`__str__` should be readable, looking nice when printed\n",
    "\n",
    "\n",
    "You can think of `__repr__` as information for a developer and `__str__` as information for the user.\n",
    "<br>\n",
    "When `__str__` is not defined, Python will refer to `__repr__`.\n"
   ]
  },
  {
   "cell_type": "markdown",
   "id": "082232c0-fc0f-47bf-a31c-b8c4ad712a88",
   "metadata": {},
   "source": [
    "Right now both `__str__` and `__repr__` will return the same output."
   ]
  },
  {
   "cell_type": "code",
   "execution_count": null,
   "id": "2c2f0986-a0cf-4306-a207-ef7fe274b6b9",
   "metadata": {
    "tags": []
   },
   "outputs": [],
   "source": [
    "repr(Triple(1,2,3))"
   ]
  },
  {
   "cell_type": "code",
   "execution_count": null,
   "id": "ccd229e7-369a-43bd-9dc6-a144cf8b8181",
   "metadata": {
    "tags": []
   },
   "outputs": [],
   "source": [
    "str(Triple(1,2,3))"
   ]
  },
  {
   "cell_type": "markdown",
   "id": "655190ee-46cb-4e3a-a289-8dd83f7750ba",
   "metadata": {},
   "source": [
    "To overwrite them we just add them as `dunder` methods to our class."
   ]
  },
  {
   "cell_type": "code",
   "execution_count": null,
   "id": "6f6421cc-0aba-4eb4-b87e-f22cc4be0a1d",
   "metadata": {},
   "outputs": [],
   "source": [
    "class Triple:\n",
    "    def __init__(self, num1, num2, num3):\n",
    "        self.nums = num1, num2, num3\n",
    "    \n",
    "    def __str__(self):\n",
    "        # contains the informations about the object in an understandable way\n",
    "        return f\"The triple contains the following numbers: {self.nums[0]}, {self.nums[1]}, {self.nums[2]}\"\n",
    "   \n",
    "    def __repr__(self):\n",
    "        # contains the everythin there is to know about the object\n",
    "        return f\"Triple({self.nums[0]}, {self.nums[1]}, {self.nums[2]})\""
   ]
  },
  {
   "cell_type": "code",
   "execution_count": null,
   "id": "82aa4ed7-ab7a-4e35-813a-0ce8a6b789c1",
   "metadata": {
    "tags": []
   },
   "outputs": [],
   "source": [
    "str(Triple(1,2,3))"
   ]
  },
  {
   "cell_type": "code",
   "execution_count": null,
   "id": "7ec41e88-889b-429a-807b-fdba02aa7604",
   "metadata": {},
   "outputs": [],
   "source": [
    "repr(Triple(1,2,3))"
   ]
  },
  {
   "cell_type": "markdown",
   "id": "c786c722-1998-4861-bf27-7b64f5975364",
   "metadata": {},
   "source": [
    "Since the print function also refers to `str` we will later delete the `__str__` method again."
   ]
  },
  {
   "cell_type": "code",
   "execution_count": null,
   "id": "ef02cbe7-5762-4eef-9be1-68494e9dd8e6",
   "metadata": {},
   "outputs": [],
   "source": [
    "print(Triple(1,2,3))"
   ]
  },
  {
   "cell_type": "markdown",
   "id": "46b5b37c-75a1-494b-8e26-ad6c93815fc8",
   "metadata": {
    "tags": []
   },
   "source": [
    "<br>\n",
    "\n",
    "### `__add__`\n",
    "To make addition between objects of the class`Triple` possible, we have to implement `__add__`. We define the addition of `Triple`s as the elementwise addition of their three numbers.<br>\n",
    "Note that we add `other` to the parameters since we have to also account for the second `Triple`"
   ]
  },
  {
   "cell_type": "code",
   "execution_count": null,
   "id": "d3197fc8-7293-4f50-86f9-d299e85197ac",
   "metadata": {
    "tags": []
   },
   "outputs": [],
   "source": [
    "class Triple:\n",
    "    def __init__(self, num1, num2, num3):\n",
    "        self.nums = num1, num2, num3\n",
    "    \n",
    "    def __repr__(self):\n",
    "        return f\"Triple({self.nums[0]}, {self.nums[1]}, {self.nums[2]})\"\n",
    "    \n",
    "    # define the __add__ method \"other\" represents the other triple\n",
    "    def __add__(self, other):\n",
    "        num1 = self.nums[0] + other.nums[0]\n",
    "        num2 = self.nums[1] + other.nums[1]\n",
    "        num3 = self.nums[2] + other.nums[2]\n",
    "        return Triple(num1, num2, num3)"
   ]
  },
  {
   "cell_type": "code",
   "execution_count": null,
   "id": "8245544e-8417-48b0-b5d0-44032fc345be",
   "metadata": {},
   "outputs": [],
   "source": [
    "a = Triple(1,2,3)\n",
    "b = Triple(4,5,6)"
   ]
  },
  {
   "cell_type": "markdown",
   "id": "02836b9f-03e0-4386-bfc6-514cc9daaae8",
   "metadata": {},
   "source": [
    "Because we implemented `__add__` we can add triples with the $+$ operator.\n",
    "The following three expressions are all the same! The first one is the fast way to write it, which \n",
    "internally maps to the second, which internally maps to the third!"
   ]
  },
  {
   "cell_type": "code",
   "execution_count": null,
   "id": "a94dbd76-f9ef-4ba6-b94d-44da87f66d1b",
   "metadata": {
    "tags": []
   },
   "outputs": [],
   "source": [
    "print(a + b)\n",
    "print(a.__add__(b))\n",
    "print(Triple.__add__(a, b))"
   ]
  },
  {
   "cell_type": "markdown",
   "id": "fd4e3db2-8e38-4a40-b52f-e38c726dcc28",
   "metadata": {},
   "source": [
    "As of now we can only add `Triple`s together but what if we also want to add `integers`?<br>\n",
    "Then we have to handle that in the `__add__`method."
   ]
  },
  {
   "cell_type": "code",
   "execution_count": null,
   "id": "834004f0-d6b2-4aca-a50e-e33d63e85194",
   "metadata": {},
   "outputs": [],
   "source": [
    "class Triple:\n",
    "    def __init__(self, num1, num2, num3):\n",
    "        self.nums = num1, num2, num3\n",
    "    \n",
    "    def __repr__(self):\n",
    "        return f\"Triple({self.nums[0]}, {self.nums[1]}, {self.nums[2]})\"\n",
    "    \n",
    "    def __add__(self, other):\n",
    "        # the part from the old __add__ method\n",
    "        if isinstance(other, Triple):\n",
    "            num1 = self.nums[0] + other.nums[0]\n",
    "            num2 = self.nums[1] + other.nums[1]\n",
    "            num3 = self.nums[2] + other.nums[2]\n",
    "            return Triple(num1, num2, num3)\n",
    "        \n",
    "        # the case for the integers\n",
    "        elif isinstance(other, int):\n",
    "            return Triple(self.nums[0]+other, self.nums[1]+other, self.nums[2]+other)\n",
    "        else:\n",
    "            return NotImplemented"
   ]
  },
  {
   "cell_type": "code",
   "execution_count": null,
   "id": "7a15fc0d-17fb-4a8a-8667-b691ba9f238e",
   "metadata": {
    "tags": []
   },
   "outputs": [],
   "source": [
    "a = Triple(1,2,3)\n",
    "print(a)\n",
    "print(a+1)"
   ]
  },
  {
   "cell_type": "markdown",
   "id": "b9d349ba-8432-4887-a20e-87eb317ee264",
   "metadata": {
    "tags": []
   },
   "source": [
    "<br>\n",
    "\n",
    "Nice, addition now also work for integers but what if we switch up the order?\n"
   ]
  },
  {
   "cell_type": "code",
   "execution_count": null,
   "id": "c6cd322a-5a1c-49c3-bf75-504a358af991",
   "metadata": {
    "tags": []
   },
   "outputs": [],
   "source": [
    "1 + Triple(1,2,3)"
   ]
  },
  {
   "cell_type": "markdown",
   "id": "bdf82413-6939-40ea-b9dd-278fe2e246c2",
   "metadata": {
    "tags": []
   },
   "source": [
    "This will throw us an error which makes sense since\n",
    "```python\n",
    "1 + Triple(1,2,3)\n",
    "```\n",
    "will call\n",
    "```python\n",
    "(1).__add__(Triple(1,2,3))\n",
    "```\n",
    "which calls\n",
    "```python\n",
    "int.__add__(1, Triple(1,2,3))\n",
    "```\n",
    "and we didn't change anything in the integer class so it doesn't know what to do with a `Triple` and it tells us:"
   ]
  },
  {
   "cell_type": "code",
   "execution_count": null,
   "id": "bec4b1a0-33b2-4667-a85e-178e1b1709aa",
   "metadata": {
    "tags": []
   },
   "outputs": [],
   "source": [
    "int.__add__(1, Triple(1, 2, 3))"
   ]
  },
  {
   "cell_type": "markdown",
   "id": "cad92aa0-1be0-4b7c-aca6-75b210ba6270",
   "metadata": {
    "tags": []
   },
   "source": [
    "If a binary operaton does not work when called on the first operand does not work, Python tries to invert the order of operands, calling `__radd__` on the other. If this does not work either a `TypeError` is raised.  \n",
    "By implementing `__radd__` we can make scalar addition work without changing the behaivor of the `int`s."
   ]
  },
  {
   "cell_type": "code",
   "execution_count": null,
   "id": "a7b5cc93-bcc9-4848-bc54-09ad00dbf00c",
   "metadata": {
    "tags": []
   },
   "outputs": [],
   "source": [
    "class Triple:\n",
    "    def __init__(self, num1, num2, num3):\n",
    "        self.nums = num1, num2, num3\n",
    "    \n",
    "    def __repr__(self):\n",
    "        return f\"Triple({self.nums[0]}, {self.nums[1]}, {self.nums[2]})\"\n",
    "    \n",
    "    def __add__(self, other):\n",
    "        if isinstance(other, Triple):\n",
    "            num1 = self.nums[0] + other.nums[0]\n",
    "            num2 = self.nums[1] + other.nums[1]\n",
    "            num3 = self.nums[2] + other.nums[2]\n",
    "            return Triple(num1, num2, num3)\n",
    "        elif isinstance(other, int):\n",
    "            return Triple(self.nums[0]+other, self.nums[1]+other, self.nums[2]+other)\n",
    "        else:\n",
    "            return NotImplemented\n",
    "    \n",
    "    # add __radd__ to make the inversion of opperators possible\n",
    "    def __radd__(self, other):\n",
    "        return self + other"
   ]
  },
  {
   "cell_type": "code",
   "execution_count": null,
   "id": "1305025f-d6ea-4bae-aa8a-d586241bdba9",
   "metadata": {
    "tags": []
   },
   "outputs": [],
   "source": [
    "1 + Triple(1,2,3)"
   ]
  },
  {
   "cell_type": "markdown",
   "id": "b1f3b168-f937-4de5-a1d0-8e3c3ecd8424",
   "metadata": {
    "tags": []
   },
   "source": [
    "<br>\n",
    "\n",
    "### `__bool__`\n",
    "To enable truth value testing for our `Triple`s  we implement the `__bool__`method"
   ]
  },
  {
   "cell_type": "code",
   "execution_count": null,
   "id": "48755f1e-49ed-4e7a-9ef3-d79116d05670",
   "metadata": {
    "tags": []
   },
   "outputs": [],
   "source": [
    "class Triple:\n",
    "    def __init__(self, num1, num2, num3):\n",
    "        self.nums = num1, num2, num3\n",
    "    \n",
    "    def __repr__(self):\n",
    "        return f\"Triple({self.nums[0]}, {self.nums[1]}, {self.nums[2]})\"\n",
    "    \n",
    "    def __add__(self, other):\n",
    "        if isinstance(other, Triple):\n",
    "            num1 = self.nums[0] + other.nums[0]\n",
    "            num2 = self.nums[1] + other.nums[1]\n",
    "            num3 = self.nums[2] + other.nums[2]\n",
    "            return Triple(num1, num2, num3)\n",
    "        elif isinstance(other, int):\n",
    "            return Triple(self.nums[0]+other, self.nums[1]+other, self.nums[2]+other)\n",
    "        else:\n",
    "            return NotImplemented\n",
    "    \n",
    "    def __radd__(self, other):\n",
    "        return self + other\n",
    "    \n",
    "    # add a __bool__ method:\n",
    "    def __bool__(self):\n",
    "        return any(self.nums)"
   ]
  },
  {
   "cell_type": "code",
   "execution_count": null,
   "id": "9307e9d6-f935-4991-82b9-d79ddc561b65",
   "metadata": {
    "tags": []
   },
   "outputs": [],
   "source": [
    "bool(Triple(0,0,0))"
   ]
  },
  {
   "cell_type": "code",
   "execution_count": null,
   "id": "0e5c0070-7e0b-402d-9705-7cc6c7eaed5c",
   "metadata": {
    "tags": []
   },
   "outputs": [],
   "source": [
    "bool(Triple(1,0,0))"
   ]
  },
  {
   "cell_type": "markdown",
   "id": "f01620d2-10b9-4a4f-bdd2-1ebee9eea678",
   "metadata": {
    "tags": []
   },
   "source": [
    "### Truth value testing\n",
    "Any object can be tested for truth value. This is usefull for `if ... else` conditions or `while` loops.  \n",
    "The following objects are considered false:\n",
    "* `None`\n",
    "* `False`\n",
    "* Zero of numeric types (`0`, `0.0`)\n",
    "* Empty sequences and collections: `''`, `()`, `[]`, `{}`, `set()`\n",
    "* Objects of user-defined classes that return 0 for `len(obj)`"
   ]
  },
  {
   "cell_type": "markdown",
   "id": "3b782be0-3247-4e1c-933d-24f5f9e329e2",
   "metadata": {
    "tags": []
   },
   "source": [
    "<div class=\"alert alert-block alert-info\">\n",
    "<b>Exercise:</b> \n",
    "    <br>   \n",
    "    Make the <b>in</b> operator work on our triples. For that we need to implement __contains__\n",
    "    \n",
    "    \n",
    "```python \n",
    "3 in Triple(1, 2, 3)\n",
    "```\n",
    "\n",
    "should become `True` after defining `__contains__`.\n",
    "</div>"
   ]
  },
  {
   "cell_type": "code",
   "execution_count": null,
   "id": "4adb5230-c942-4d06-9231-d1b5cf5a1f54",
   "metadata": {
    "tags": []
   },
   "outputs": [],
   "source": [
    "class Triple:\n",
    "    def __init__(self, num1, num2, num3):\n",
    "        self.nums = num1, num2, num3\n",
    "    \n",
    "    def __repr__(self):\n",
    "        return f\"Triple({self.nums[0]}, {self.nums[1]}, {self.nums[2]})\"\n",
    "    \n",
    "    def __add__(self, other):\n",
    "        if isinstance(other, Triple):\n",
    "            num1 = self.nums[0] + other.nums[0]\n",
    "            num2 = self.nums[1] + other.nums[1]\n",
    "            num3 = self.nums[2] + other.nums[2]\n",
    "            return Triple(num1, num2, num3)\n",
    "        elif isinstance(other, int):\n",
    "            return Triple(self.nums[0]+other, self.nums[1]+other, self.nums[2]+other)\n",
    "        else:\n",
    "            return NotImplemented\n",
    "    \n",
    "    def __radd__(self, other):\n",
    "        return self + other\n",
    "    \n",
    "    def __bool__(self):\n",
    "        return any(self.nums)\n",
    "    \n",
    "    # here you can implement your solution\n",
    "    def __contains__(self, item):\n",
    "        pass"
   ]
  },
  {
   "cell_type": "code",
   "execution_count": null,
   "id": "338e926f-0a91-40eb-8979-3d985aa2a1ef",
   "metadata": {
    "tags": []
   },
   "outputs": [],
   "source": [
    "2 in Triple(1, 2, 3)"
   ]
  },
  {
   "cell_type": "code",
   "execution_count": null,
   "id": "cd8cf060-5510-48f1-8ec1-7cf681aa61f7",
   "metadata": {},
   "outputs": [],
   "source": []
  }
 ],
 "metadata": {
  "kernelspec": {
   "display_name": "Python 3 (ipykernel)",
   "language": "python",
   "name": "python3"
  },
  "language_info": {
   "codemirror_mode": {
    "name": "ipython",
    "version": 3
   },
   "file_extension": ".py",
   "mimetype": "text/x-python",
   "name": "python",
   "nbconvert_exporter": "python",
   "pygments_lexer": "ipython3",
   "version": "3.11.2"
  }
 },
 "nbformat": 4,
 "nbformat_minor": 5
}
