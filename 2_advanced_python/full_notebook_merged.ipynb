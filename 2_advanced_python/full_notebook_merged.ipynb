{
 "cells": [
  {
   "cell_type": "markdown",
   "id": "bfa6e135-7f9f-4c77-9b1a-52c22d9da4a9",
   "metadata": {},
   "source": [
    "# Creating our own Classes"
   ]
  },
  {
   "cell_type": "markdown",
   "id": "923e13e4-389f-43d9-9049-bbbab5dd3567",
   "metadata": {},
   "source": [
    "and how to make them behave like built-in types\n",
    "<br>\n",
    "<br>\n",
    "\n",
    "At the end of last week we leared about classes. This time we want to build a class that is compatible with Python's built-in operators and functions.  \n",
    "\n",
    "\n",
    "The class that we will implement will represent tree numeric values and we will name **Triple**.<br>\n",
    "Our goal will be to make it compatible with Python's built-in operators and functions such as\n",
    "```python\n",
    "+, -, len(), str()\n",
    "```\n",
    "<br>"
   ]
  },
  {
   "cell_type": "code",
   "execution_count": null,
   "id": "a3000ac3-4bf0-478a-9f36-c593e18aa244",
   "metadata": {},
   "outputs": [],
   "source": [
    "# like last time we build a class via the keyword \"class\"\n",
    "class Triple:\n",
    "    # the __init__ method assignes 3 numbers to self.nums\n",
    "    def __init__(self, num1, num2, num3):\n",
    "        self.nums = num1, num2, num3\n",
    "    "
   ]
  },
  {
   "cell_type": "code",
   "execution_count": null,
   "id": "fe185ed3-98ac-42ad-9b29-5cbe41d81fcc",
   "metadata": {},
   "outputs": [],
   "source": [
    "Triple(1,2,3)"
   ]
  },
  {
   "cell_type": "markdown",
   "id": "6b48c80f-73de-47bf-99b9-8ceb0c9b0a99",
   "metadata": {},
   "source": [
    "You can see that we now created an object of the type Triple at a specific disc space.  \n",
    "But to do something with our object we have to add `methods` to it."
   ]
  },
  {
   "cell_type": "markdown",
   "id": "ca0771f5-1190-49b9-9210-31af68e7ce2c",
   "metadata": {
    "tags": []
   },
   "source": [
    "<br>\n",
    "\n",
    "You might remember from last week how we can use `__dunder__` methods (**d**ouble **under**score)<br> \n",
    "to *define* or *overwrite* a classe's behaviour for built-in operators or functions.\n",
    "\n",
    "In this notebook we will overwrite some `__dunder__` methods in our class `Triple`."
   ]
  },
  {
   "cell_type": "markdown",
   "id": "aa61f92b-8f5e-4077-aa25-40f11c45efd7",
   "metadata": {
    "tags": []
   },
   "source": [
    "<br>\n",
    "\n",
    "### `__repr__` and `__str__`\n",
    "If we print our triple we want to get an informative representation. For that we can overwrite `__repr__` and/or `__str__`. <br>\n",
    "Although very similar both have different use cases:\n",
    "\n",
    "`__repr__` should be uambiguous, telling us everything we need to know about an instance\n",
    "\n",
    "`__str__` should be readable, looking nice when printed\n",
    "\n",
    "\n",
    "You can think of `__repr__` as information for a developer and `__str__` as information for the user.\n",
    "<br>\n",
    "When `__str__` is not defined, Python will refer to `__repr__`.\n"
   ]
  },
  {
   "cell_type": "markdown",
   "id": "082232c0-fc0f-47bf-a31c-b8c4ad712a88",
   "metadata": {},
   "source": [
    "Right now both `__str__` and `__repr__` will return the same output."
   ]
  },
  {
   "cell_type": "code",
   "execution_count": null,
   "id": "2c2f0986-a0cf-4306-a207-ef7fe274b6b9",
   "metadata": {
    "tags": []
   },
   "outputs": [],
   "source": [
    "repr(Triple(1,2,3))"
   ]
  },
  {
   "cell_type": "code",
   "execution_count": null,
   "id": "ccd229e7-369a-43bd-9dc6-a144cf8b8181",
   "metadata": {
    "tags": []
   },
   "outputs": [],
   "source": [
    "str(Triple(1,2,3))"
   ]
  },
  {
   "cell_type": "markdown",
   "id": "655190ee-46cb-4e3a-a289-8dd83f7750ba",
   "metadata": {},
   "source": [
    "To overwrite them we just add them as `dunder` methods to our class."
   ]
  },
  {
   "cell_type": "code",
   "execution_count": null,
   "id": "6f6421cc-0aba-4eb4-b87e-f22cc4be0a1d",
   "metadata": {},
   "outputs": [],
   "source": [
    "class Triple:\n",
    "    def __init__(self, num1, num2, num3):\n",
    "        self.nums = num1, num2, num3\n",
    "    \n",
    "    def __str__(self):\n",
    "        # contains the informations about the object in an understandable way\n",
    "        return f\"The triple contains the following numbers: {self.nums[0]}, {self.nums[1]}, {self.nums[2]}\"\n",
    "   \n",
    "    def __repr__(self):\n",
    "        # contains the everythin there is to know about the object\n",
    "        return f\"Triple({self.nums[0]}, {self.nums[1]}, {self.nums[2]})\""
   ]
  },
  {
   "cell_type": "code",
   "execution_count": null,
   "id": "82aa4ed7-ab7a-4e35-813a-0ce8a6b789c1",
   "metadata": {
    "tags": []
   },
   "outputs": [],
   "source": [
    "str(Triple(1,2,3))"
   ]
  },
  {
   "cell_type": "code",
   "execution_count": null,
   "id": "7ec41e88-889b-429a-807b-fdba02aa7604",
   "metadata": {},
   "outputs": [],
   "source": [
    "repr(Triple(1,2,3))"
   ]
  },
  {
   "cell_type": "markdown",
   "id": "c786c722-1998-4861-bf27-7b64f5975364",
   "metadata": {},
   "source": [
    "Since the print function also refers to `str` we will later delete the `__str__` method again."
   ]
  },
  {
   "cell_type": "code",
   "execution_count": null,
   "id": "ef02cbe7-5762-4eef-9be1-68494e9dd8e6",
   "metadata": {},
   "outputs": [],
   "source": [
    "print(Triple(1,2,3))"
   ]
  },
  {
   "cell_type": "markdown",
   "id": "46b5b37c-75a1-494b-8e26-ad6c93815fc8",
   "metadata": {
    "tags": []
   },
   "source": [
    "<br>\n",
    "\n",
    "### `__add__`\n",
    "To make addition between objects of the class`Triple` possible, we have to implement `__add__`. We define the addition of `Triple`s as the elementwise addition of their three numbers.<br>\n",
    "Note that we add `other` to the parameters since we have to also account for the second `Triple`"
   ]
  },
  {
   "cell_type": "code",
   "execution_count": null,
   "id": "d3197fc8-7293-4f50-86f9-d299e85197ac",
   "metadata": {
    "tags": []
   },
   "outputs": [],
   "source": [
    "class Triple:\n",
    "    def __init__(self, num1, num2, num3):\n",
    "        self.nums = num1, num2, num3\n",
    "    \n",
    "    def __repr__(self):\n",
    "        return f\"Triple({self.nums[0]}, {self.nums[1]}, {self.nums[2]})\"\n",
    "    \n",
    "    # define the __add__ method \"other\" represents the other triple\n",
    "    def __add__(self, other):\n",
    "        num1 = self.nums[0] + other.nums[0]\n",
    "        num2 = self.nums[1] + other.nums[1]\n",
    "        num3 = self.nums[2] + other.nums[2]\n",
    "        return Triple(num1, num2, num3)"
   ]
  },
  {
   "cell_type": "code",
   "execution_count": null,
   "id": "8245544e-8417-48b0-b5d0-44032fc345be",
   "metadata": {},
   "outputs": [],
   "source": [
    "a = Triple(1,2,3)\n",
    "b = Triple(4,5,6)"
   ]
  },
  {
   "cell_type": "markdown",
   "id": "02836b9f-03e0-4386-bfc6-514cc9daaae8",
   "metadata": {},
   "source": [
    "Because we implemented `__add__` we can add triples with the $+$ operator.\n",
    "The following three expressions are all the same! The first one is the fast way to write it, which \n",
    "internally maps to the second, which internally maps to the third!"
   ]
  },
  {
   "cell_type": "code",
   "execution_count": null,
   "id": "a94dbd76-f9ef-4ba6-b94d-44da87f66d1b",
   "metadata": {
    "tags": []
   },
   "outputs": [],
   "source": [
    "print(a + b)\n",
    "print(a.__add__(b))\n",
    "print(Triple.__add__(a, b))"
   ]
  },
  {
   "cell_type": "markdown",
   "id": "fd4e3db2-8e38-4a40-b52f-e38c726dcc28",
   "metadata": {},
   "source": [
    "As of now we can only add `Triple`s together but what if we also want to add `integers`?<br>\n",
    "Then we have to handle that in the `__add__`method."
   ]
  },
  {
   "cell_type": "code",
   "execution_count": null,
   "id": "834004f0-d6b2-4aca-a50e-e33d63e85194",
   "metadata": {},
   "outputs": [],
   "source": [
    "class Triple:\n",
    "    def __init__(self, num1, num2, num3):\n",
    "        self.nums = num1, num2, num3\n",
    "    \n",
    "    def __repr__(self):\n",
    "        return f\"Triple({self.nums[0]}, {self.nums[1]}, {self.nums[2]})\"\n",
    "    \n",
    "    def __add__(self, other):\n",
    "        # the part from the old __add__ method\n",
    "        if isinstance(other, Triple):\n",
    "            num1 = self.nums[0] + other.nums[0]\n",
    "            num2 = self.nums[1] + other.nums[1]\n",
    "            num3 = self.nums[2] + other.nums[2]\n",
    "            return Triple(num1, num2, num3)\n",
    "        \n",
    "        # the case for the integers\n",
    "        elif isinstance(other, int):\n",
    "            return Triple(self.nums[0]+other, self.nums[1]+other, self.nums[2]+other)\n",
    "        else:\n",
    "            return NotImplemented"
   ]
  },
  {
   "cell_type": "code",
   "execution_count": null,
   "id": "7a15fc0d-17fb-4a8a-8667-b691ba9f238e",
   "metadata": {
    "tags": []
   },
   "outputs": [],
   "source": [
    "a = Triple(1,2,3)\n",
    "print(a)\n",
    "print(a+1)"
   ]
  },
  {
   "cell_type": "markdown",
   "id": "b9d349ba-8432-4887-a20e-87eb317ee264",
   "metadata": {
    "tags": []
   },
   "source": [
    "<br>\n",
    "\n",
    "Nice, addition now also work for integers but what if we switch up the order?\n"
   ]
  },
  {
   "cell_type": "code",
   "execution_count": null,
   "id": "c6cd322a-5a1c-49c3-bf75-504a358af991",
   "metadata": {
    "tags": []
   },
   "outputs": [],
   "source": [
    "1 + Triple(1,2,3)"
   ]
  },
  {
   "cell_type": "markdown",
   "id": "bdf82413-6939-40ea-b9dd-278fe2e246c2",
   "metadata": {
    "tags": []
   },
   "source": [
    "This will throw us an error which makes sense since\n",
    "```python\n",
    "1 + Triple(1,2,3)\n",
    "```\n",
    "will call\n",
    "```python\n",
    "(1).__add__(Triple(1,2,3))\n",
    "```\n",
    "which calls\n",
    "```python\n",
    "int.__add__(1, Triple(1,2,3))\n",
    "```\n",
    "and we didn't change anything in the integer class so it doesn't know what to do with a `Triple` and it tells us:"
   ]
  },
  {
   "cell_type": "code",
   "execution_count": null,
   "id": "bec4b1a0-33b2-4667-a85e-178e1b1709aa",
   "metadata": {
    "tags": []
   },
   "outputs": [],
   "source": [
    "int.__add__(1, Triple(1, 2, 3))"
   ]
  },
  {
   "cell_type": "markdown",
   "id": "cad92aa0-1be0-4b7c-aca6-75b210ba6270",
   "metadata": {
    "tags": []
   },
   "source": [
    "If a binary operaton does not work when called on the first operand does not work, Python tries to invert the order of operands, calling `__radd__` on the other. If this does not work either a `TypeError` is raised.  \n",
    "By implementing `__radd__` we can make scalar addition work without changing the behaivor of the `int`s."
   ]
  },
  {
   "cell_type": "code",
   "execution_count": null,
   "id": "a7b5cc93-bcc9-4848-bc54-09ad00dbf00c",
   "metadata": {
    "tags": []
   },
   "outputs": [],
   "source": [
    "class Triple:\n",
    "    def __init__(self, num1, num2, num3):\n",
    "        self.nums = num1, num2, num3\n",
    "    \n",
    "    def __repr__(self):\n",
    "        return f\"Triple({self.nums[0]}, {self.nums[1]}, {self.nums[2]})\"\n",
    "    \n",
    "    def __add__(self, other):\n",
    "        if isinstance(other, Triple):\n",
    "            num1 = self.nums[0] + other.nums[0]\n",
    "            num2 = self.nums[1] + other.nums[1]\n",
    "            num3 = self.nums[2] + other.nums[2]\n",
    "            return Triple(num1, num2, num3)\n",
    "        elif isinstance(other, int):\n",
    "            return Triple(self.nums[0]+other, self.nums[1]+other, self.nums[2]+other)\n",
    "        else:\n",
    "            return NotImplemented\n",
    "    \n",
    "    # add __radd__ to make the inversion of opperators possible\n",
    "    def __radd__(self, other):\n",
    "        return self + other"
   ]
  },
  {
   "cell_type": "code",
   "execution_count": null,
   "id": "1305025f-d6ea-4bae-aa8a-d586241bdba9",
   "metadata": {
    "tags": []
   },
   "outputs": [],
   "source": [
    "1 + Triple(1,2,3)"
   ]
  },
  {
   "cell_type": "markdown",
   "id": "b1f3b168-f937-4de5-a1d0-8e3c3ecd8424",
   "metadata": {
    "tags": []
   },
   "source": [
    "<br>\n",
    "\n",
    "### `__bool__`\n",
    "To enable truth value testing for our `Triple`s  we implement the `__bool__`method"
   ]
  },
  {
   "cell_type": "code",
   "execution_count": null,
   "id": "48755f1e-49ed-4e7a-9ef3-d79116d05670",
   "metadata": {
    "tags": []
   },
   "outputs": [],
   "source": [
    "class Triple:\n",
    "    def __init__(self, num1, num2, num3):\n",
    "        self.nums = num1, num2, num3\n",
    "    \n",
    "    def __repr__(self):\n",
    "        return f\"Triple({self.nums[0]}, {self.nums[1]}, {self.nums[2]})\"\n",
    "    \n",
    "    def __add__(self, other):\n",
    "        if isinstance(other, Triple):\n",
    "            num1 = self.nums[0] + other.nums[0]\n",
    "            num2 = self.nums[1] + other.nums[1]\n",
    "            num3 = self.nums[2] + other.nums[2]\n",
    "            return Triple(num1, num2, num3)\n",
    "        elif isinstance(other, int):\n",
    "            return Triple(self.nums[0]+other, self.nums[1]+other, self.nums[2]+other)\n",
    "        else:\n",
    "            return NotImplemented\n",
    "    \n",
    "    def __radd__(self, other):\n",
    "        return self + other\n",
    "    \n",
    "    # add a __bool__ method:\n",
    "    def __bool__(self):\n",
    "        return any(self.nums)"
   ]
  },
  {
   "cell_type": "code",
   "execution_count": null,
   "id": "9307e9d6-f935-4991-82b9-d79ddc561b65",
   "metadata": {
    "tags": []
   },
   "outputs": [],
   "source": [
    "bool(Triple(0,0,0))"
   ]
  },
  {
   "cell_type": "code",
   "execution_count": null,
   "id": "0e5c0070-7e0b-402d-9705-7cc6c7eaed5c",
   "metadata": {
    "tags": []
   },
   "outputs": [],
   "source": [
    "bool(Triple(1,0,0))"
   ]
  },
  {
   "cell_type": "markdown",
   "id": "f01620d2-10b9-4a4f-bdd2-1ebee9eea678",
   "metadata": {
    "tags": []
   },
   "source": [
    "### Truth value testing\n",
    "Any object can be tested for truth value. This is usefull for `if ... else` conditions or `while` loops.  \n",
    "The following objects are considered false:\n",
    "* `None`\n",
    "* `False`\n",
    "* Zero of numeric types (`0`, `0.0`)\n",
    "* Empty sequences and collections: `''`, `()`, `[]`, `{}`, `set()`\n",
    "* Objects of user-defined classes that return 0 for `len(obj)`"
   ]
  },
  {
   "cell_type": "markdown",
   "id": "3b782be0-3247-4e1c-933d-24f5f9e329e2",
   "metadata": {
    "tags": []
   },
   "source": [
    "<div class=\"alert alert-block alert-info\">\n",
    "<b>Exercise:</b> \n",
    "    <br>   \n",
    "    Make the <b>in</b> operator work on our triples. For that we need to implement __contains__\n",
    "    \n",
    "    \n",
    "```python \n",
    "3 in Triple(1, 2, 3)\n",
    "```\n",
    "\n",
    "should become `True` after defining `__contains__`.\n",
    "</div>"
   ]
  },
  {
   "cell_type": "code",
   "execution_count": null,
   "id": "4adb5230-c942-4d06-9231-d1b5cf5a1f54",
   "metadata": {
    "tags": []
   },
   "outputs": [],
   "source": [
    "class Triple:\n",
    "    def __init__(self, num1, num2, num3):\n",
    "        self.nums = num1, num2, num3\n",
    "    \n",
    "    def __repr__(self):\n",
    "        return f\"Triple({self.nums[0]}, {self.nums[1]}, {self.nums[2]})\"\n",
    "    \n",
    "    def __add__(self, other):\n",
    "        if isinstance(other, Triple):\n",
    "            num1 = self.nums[0] + other.nums[0]\n",
    "            num2 = self.nums[1] + other.nums[1]\n",
    "            num3 = self.nums[2] + other.nums[2]\n",
    "            return Triple(num1, num2, num3)\n",
    "        elif isinstance(other, int):\n",
    "            return Triple(self.nums[0]+other, self.nums[1]+other, self.nums[2]+other)\n",
    "        else:\n",
    "            return NotImplemented\n",
    "    \n",
    "    def __radd__(self, other):\n",
    "        return self + other\n",
    "    \n",
    "    def __bool__(self):\n",
    "        return any(self.nums)\n",
    "    \n",
    "    # here you can implement your solution\n",
    "    def __contains__(self, item):\n",
    "        pass"
   ]
  },
  {
   "cell_type": "code",
   "execution_count": null,
   "id": "338e926f-0a91-40eb-8979-3d985aa2a1ef",
   "metadata": {
    "tags": []
   },
   "outputs": [],
   "source": [
    "2 in Triple(1, 2, 3)"
   ]
  },
  {
   "cell_type": "code",
   "execution_count": null,
   "id": "cd8cf060-5510-48f1-8ec1-7cf681aa61f7",
   "metadata": {},
   "outputs": [],
   "source": []
  },
  {
   "cell_type": "markdown",
   "id": "48ca2746-db2b-4e2f-8f27-bc57bcab3964",
   "metadata": {
    "id": "591f261d-bd34-4d15-ba9c-5c07ba876bec"
   },
   "source": [
    "# Iterables and Iterators\n",
    "Objects that can be used in `for ... in ...` statements are called *iterable*.\n",
    "<br>\n",
    "Now we want to take our class from the [1_classes2](../2_advanced_python/1_classes2.ipynb) and make it iterable."
   ]
  },
  {
   "cell_type": "code",
   "execution_count": null,
   "id": "54d39ecb-636e-42fc-b5e4-7757a6754e26",
   "metadata": {
    "id": "0cb34b8b-3241-4734-9a3f-34b18fea25dc",
    "tags": []
   },
   "outputs": [],
   "source": [
    "class Triple:\n",
    "    def __init__(self, num1, num2, num3):\n",
    "        self.nums = num1, num2, num3\n",
    "    \n",
    "    def __repr__(self):\n",
    "        return f\"Triple({self.nums[0]}, {self.nums[1]}, {self.nums[2]})\"\n",
    "    \n",
    "    def __add__(self, other):\n",
    "        if isinstance(other, Triple):\n",
    "            num1 = self.nums[0] + other.nums[0]\n",
    "            num2 = self.nums[1] + other.nums[1]\n",
    "            num3 = self.nums[2] + other.nums[2]\n",
    "            return Triple(num1, num2, num3)\n",
    "        elif isinstance(other, int):\n",
    "            return Triple(self.nums[0]+other, self.nums[1]+other, self.nums[2]+other)\n",
    "        else:\n",
    "            return NotImplemented\n",
    "    \n",
    "    def __radd__(self, other):\n",
    "        return self + other\n",
    "    \n",
    "    def __bool__(self):\n",
    "        return any(self.nums)\n",
    "    \n",
    "    # add the __iter__ method\n",
    "    def __iter__(self):\n",
    "        return iter(self.nums)\n",
    " "
   ]
  },
  {
   "cell_type": "code",
   "execution_count": null,
   "id": "c423d151-4df8-469d-aa59-24ecb8546a76",
   "metadata": {
    "id": "0cb34b8b-3241-4734-9a3f-34b18fea25dc",
    "tags": []
   },
   "outputs": [],
   "source": [
    "my_triple = Triple(1, 2, 3)\n",
    "\n",
    "\n",
    "for value in my_triple:\n",
    "    print(value)"
   ]
  },
  {
   "cell_type": "code",
   "execution_count": null,
   "id": "752b4741-29c8-4229-a7c2-c52fff0a081b",
   "metadata": {
    "id": "7f717fd9-b34f-4afa-8a0e-733902698806",
    "tags": []
   },
   "outputs": [],
   "source": [
    "iter?"
   ]
  },
  {
   "cell_type": "markdown",
   "id": "1ad7c22e-3c51-454f-8670-d2af8b182acb",
   "metadata": {
    "id": "36270d85-70e3-4df4-bb66-9e45d53e0fb1",
    "tags": []
   },
   "source": [
    "The `__iter__` - magic-method is what makes an object iterable. Behind the scenes, the `iter`-function calls this method to get the iterator."
   ]
  },
  {
   "cell_type": "markdown",
   "id": "f8edcc71-07fb-459f-8034-8f602b2776c8",
   "metadata": {
    "id": "99e22c5c-2d65-4b10-a6be-fc69e93fcdd3",
    "tags": []
   },
   "source": [
    "An **iterator** is an object that implements `__next__`.  \n",
    "This is how `__next__` would look like:"
   ]
  },
  {
   "cell_type": "code",
   "execution_count": null,
   "id": "3b536c60-a80a-4b56-b08e-e328d4485d45",
   "metadata": {
    "id": "1fe54b55-50f8-4a9c-9e57-272312ef67da",
    "tags": []
   },
   "outputs": [],
   "source": [
    "class myrange:\n",
    "    def __init__(self, n):\n",
    "        self.i = 0\n",
    "        self.n = n\n",
    "\n",
    "    def __next__(self):\n",
    "        if self.i < self.n:\n",
    "            self.i += 1\n",
    "            return self.i\n",
    "        else:\n",
    "            raise StopIteration()"
   ]
  },
  {
   "cell_type": "code",
   "execution_count": null,
   "id": "5cd2aabe-e8f5-4220-9f1e-d8c8c9c85f04",
   "metadata": {
    "id": "cc66561a-48e3-439e-9554-4fcc16d4245c",
    "tags": []
   },
   "outputs": [],
   "source": [
    "a = myrange(2)"
   ]
  },
  {
   "cell_type": "markdown",
   "id": "5ea8761a-e25c-415e-9be0-87b4d79db0e2",
   "metadata": {
    "id": "d75a7e49-1d31-4c09-8095-26d887a656b0",
    "tags": []
   },
   "source": [
    "Usually, you want to make an iterator also iterable by returning itself from `__iter__`. Here an example of how to create your own `range`-function:"
   ]
  },
  {
   "cell_type": "code",
   "execution_count": null,
   "id": "d5b7a98c-bd12-454c-b4f6-a00ff1bf0e6a",
   "metadata": {
    "id": "bac5d35f-aa99-469b-980c-41d52979ab89",
    "tags": []
   },
   "outputs": [],
   "source": [
    "class myrange:\n",
    "    def __init__(self, n):\n",
    "        self.i = 0\n",
    "        self.n = n\n",
    "\n",
    "    def __iter__(self):\n",
    "        return self\n",
    "\n",
    "    def __next__(self):\n",
    "        if self.i < self.n:\n",
    "            self.i += 1\n",
    "            return self.i\n",
    "        else:\n",
    "            raise StopIteration()"
   ]
  },
  {
   "cell_type": "code",
   "execution_count": null,
   "id": "20ea2fa9-eb73-48e6-8aac-9773f8d43eeb",
   "metadata": {
    "id": "d8950c4f-a29a-4f26-93bb-db7b4c2b5f3e",
    "tags": []
   },
   "outputs": [],
   "source": [
    "for i in myrange(5):\n",
    "    print(i)"
   ]
  },
  {
   "cell_type": "markdown",
   "id": "627358ae-f3ab-4412-9f5a-533455c7a492",
   "metadata": {
    "id": "73bc726d-10d9-495a-a838-e4aec42990dc",
    "tags": []
   },
   "source": [
    "Python relies heavily on iterators, and you should use them everytime Python offers them! The following code would be considered *unpythonic*."
   ]
  },
  {
   "cell_type": "code",
   "execution_count": null,
   "id": "edef6eda-671e-4ef7-94bc-4387d42d8bea",
   "metadata": {
    "id": "bdbdf39f-71e7-42d3-8ebe-b1638266d5fc",
    "tags": []
   },
   "outputs": [],
   "source": [
    "a_list = [10, 20, 30]\n",
    "for i in range(len(a_list)):\n",
    "    print(a_list[i])"
   ]
  },
  {
   "cell_type": "markdown",
   "id": "67e7121b-4c8c-47a7-95ac-7053938860de",
   "metadata": {
    "id": "104af76e-eb5b-48bc-b7b5-6e50934b6690",
    "tags": []
   },
   "source": [
    "Instead we prefer using the iterator directly."
   ]
  },
  {
   "cell_type": "code",
   "execution_count": null,
   "id": "bb1a33eb-421f-4f45-8aef-1be63effda20",
   "metadata": {
    "id": "e0cedddf-d7e8-4db9-93c3-5dc4e832525f",
    "tags": []
   },
   "outputs": [],
   "source": [
    "a_list = [10, 20, 30]\n",
    "for number in a_list:\n",
    "    print(number)"
   ]
  },
  {
   "cell_type": "markdown",
   "id": "39bdcc0a-608d-4048-9a88-c7cda10e52b3",
   "metadata": {
    "id": "02d79266-bc01-491c-a29f-1d06a4f5cebe",
    "tags": []
   },
   "source": [
    "The iterator keeps its internal state. If we want to start at the beginning again, a fresh iterator will be need. You can try to make the `__iter__` method return a new instance whenever it is called, to get a behaviour like that of built in iterables like lists or ranges."
   ]
  },
  {
   "cell_type": "code",
   "execution_count": null,
   "id": "d2cd4b2f-6686-4ef9-88f2-df956a24d76e",
   "metadata": {
    "id": "4a6281a9-c631-47ac-aec6-c3e55e33814d",
    "tags": []
   },
   "outputs": [],
   "source": [
    "a = myrange(5)\n",
    "next(a)"
   ]
  },
  {
   "cell_type": "code",
   "execution_count": null,
   "id": "22955a0b-8429-4ee4-9eb6-b87360514b1b",
   "metadata": {
    "id": "ce763eda-95a4-44f2-964b-25c580a6da4e",
    "tags": []
   },
   "outputs": [],
   "source": [
    "for i in a:\n",
    "    print(i)"
   ]
  },
  {
   "cell_type": "code",
   "execution_count": null,
   "id": "43805f72-608e-4e3e-8b7a-487386155dd8",
   "metadata": {
    "id": "fabb3532-3190-49cc-9733-9adc0f17219f",
    "tags": []
   },
   "outputs": [],
   "source": [
    "a = myrange(5)\n",
    "b = range(1,6)\n",
    "\n",
    "# Both iterables are a representation of the same numbers\n",
    "print(list(a) == list(b))\n",
    "\n",
    "# But they still behave differently\n",
    "for i in b:\n",
    "    print(\"range:\",i)\n",
    "    \n",
    "for i in a:\n",
    "    print(\"myrange\",i)"
   ]
  },
  {
   "cell_type": "markdown",
   "id": "b24a4cf4-8b8a-48a2-a35c-2abde1c90c65",
   "metadata": {},
   "source": [
    "## Itertools module\n",
    "Python provides various [built in iterators](https://docs.python.org/3/library/itertools.html) that we can import and use.<br>"
   ]
  },
  {
   "cell_type": "markdown",
   "id": "8ef6bd12-0828-41ce-9349-647871f43256",
   "metadata": {
    "id": "9f7e0b33-9738-46ff-93cc-386c6fe306f4",
    "tags": []
   },
   "source": [
    "---\n",
    "# Generators\n"
   ]
  },
  {
   "cell_type": "markdown",
   "id": "971e5163-b94e-455a-a4d5-a61ddd964ba6",
   "metadata": {
    "id": "0f08c89c-dc0a-45ac-b77c-c6d285f0852c",
    "tags": []
   },
   "source": [
    "\n",
    "A Python generator function is a function which returns a generator. Generator functions are implicitly defined by the use of `yield` in the function body. `yield` may be used with a value, in which case that value is treated as the \"generated\" value. The next time `next()` is called on the generator (i.e. in the next step in a for loop, for example), the generator resumes execution from where it called `yield`, not from the beginning of the function. All of the state, like the values of local variables, is recovered and the generator contiues to execute until the next call to `yield`. \n",
    "\n",
    "https://jeffknupp.com/blog/2013/04/07/improve-your-python-yield-and-generators-explained/"
   ]
  },
  {
   "cell_type": "code",
   "execution_count": null,
   "id": "041c7f66-ddd2-4303-876e-5ee5597d3eb9",
   "metadata": {
    "id": "ca591876-c78c-487c-81b8-55559dd3f81b",
    "tags": []
   },
   "outputs": [],
   "source": [
    "def generate_numbers():\n",
    "    yield 1\n",
    "    yield 10\n",
    "    yield 3\n",
    "    yield 5\n",
    "    \n",
    "for i in generate_numbers():\n",
    "    print(i)"
   ]
  },
  {
   "cell_type": "code",
   "execution_count": null,
   "id": "5960769d-0c67-4cea-b768-b76856c73fcc",
   "metadata": {
    "id": "d047f6d4-73a7-4229-af49-f0224f71d07f",
    "tags": []
   },
   "outputs": [],
   "source": [
    "a = generate_numbers()\n",
    "print(a)\n",
    "\n",
    "print(next(a))\n",
    "print()\n"
   ]
  },
  {
   "cell_type": "code",
   "execution_count": null,
   "id": "48e7e82e-525e-4389-8a17-29054c0614f0",
   "metadata": {
    "id": "b199c74b-83b9-4b19-a99e-6adab11883b1",
    "tags": []
   },
   "outputs": [],
   "source": [
    "for i in a:\n",
    "    print(i)\n",
    "    \n",
    "print(next(a)) #will throw a StopIteration"
   ]
  },
  {
   "cell_type": "markdown",
   "id": "c65c7942-3080-4bcc-8f99-45f3da086083",
   "metadata": {
    "id": "c71aa432-2247-4bdf-8cf8-8e9775cfa3b3",
    "tags": []
   },
   "source": [
    "When we call a normal Python function, execution starts at the function's first line and continues until a return statement, exception, or when the end of the function is encountered. \n",
    "Once a function returns control to its caller, any work done by the function and stored in local variables is lost. A new call to the function creates everything from scratch. \n",
    "\n",
    "A **generator** is a certain kind of function (recognized by the keyword *yield* in place of *return*), that doesn't lose its data. If a generator is called, it will run until the next occurence of the `yield` keyword. When called again, it starts right after that, and runs until the next occurence of `yield`.\n",
    "\n",
    "A generator is an iterator, which means you can loop over it, call next(), and use it the way you'd use any other iterator."
   ]
  },
  {
   "cell_type": "code",
   "execution_count": null,
   "id": "7d1ec546-3d52-48eb-b435-6e3b9a911c38",
   "metadata": {
    "id": "a81d4ca8-8621-46c4-a255-16c65b6c925f",
    "tags": []
   },
   "outputs": [],
   "source": [
    "hasattr(a, '__iter__'), hasattr(a, '__next__')"
   ]
  },
  {
   "cell_type": "markdown",
   "id": "0d35e7a7-add1-439b-99e5-da2011ddb03b",
   "metadata": {
    "id": "c7dee8ae-fee8-4a43-924c-6815cd40cbce",
    "tags": []
   },
   "source": [
    "Generators are a perfect way to get rid of too convolutedly nested for-loops:"
   ]
  },
  {
   "cell_type": "code",
   "execution_count": null,
   "id": "50392272-27ff-4424-9b8c-5548948f9bd4",
   "metadata": {
    "id": "6f004db4-59a6-4cf7-8966-9ec80e120275",
    "tags": []
   },
   "outputs": [],
   "source": [
    "nested_list = [[[1, 2, 3], [4, 5, 6]],[[7, 8, 9], [10, 11, 12]]]"
   ]
  },
  {
   "cell_type": "code",
   "execution_count": null,
   "id": "ebec0d21-fc96-445e-8e7a-f7cbbe96233d",
   "metadata": {
    "id": "a66c584d-e66e-4c01-80c6-68b3388014f9",
    "tags": []
   },
   "outputs": [],
   "source": [
    "for i in nested_list:\n",
    "    for j in i:\n",
    "        for k in j:\n",
    "            print(k)"
   ]
  },
  {
   "cell_type": "code",
   "execution_count": null,
   "id": "f15a7b5b-98b0-4b92-b2bb-4caf88e91878",
   "metadata": {
    "id": "5b8b72d5-4011-43bb-aeb6-be472333d2d3",
    "tags": []
   },
   "outputs": [],
   "source": [
    "def nested_list_iterator(thelist):\n",
    "    for i in thelist:\n",
    "        for j in i:\n",
    "            for k in j:\n",
    "                yield k\n",
    "                \n",
    "for i in nested_list_iterator(nested_list):\n",
    "    print(i)"
   ]
  },
  {
   "cell_type": "markdown",
   "id": "4980b8c2-2137-4d57-96b6-9cf22dd2409a",
   "metadata": {
    "id": "41a4d30c-c2f6-453c-9c6f-ac3e7688a0d4",
    "tags": []
   },
   "source": [
    "Also, generators are perfect if you have complex stuff to loop over and/or want to be able to simply replace that thing you're looping over:"
   ]
  },
  {
   "cell_type": "raw",
   "id": "7b89ce7f-043e-4e51-bf06-ec24687f38a6",
   "metadata": {
    "id": "7fe06325-699d-4783-82c9-7603c528a2c2",
    "tags": []
   },
   "source": [
    "# mode when running the gameplayer live:\n",
    "\n",
    "while True:\n",
    "    board = Gameboard.get_gameboard_image()\n",
    "    do_first_thing(board)\n",
    "    do_second_thing(board)\n",
    "    do_third_thing(board)\n",
    "\n",
    "# mode when running the gameplayer non-live:\n",
    "\n",
    "for fname in os.listdir('error_imgs'):\n",
    "    board = Gameboard(plt.imread('error_imgs/'+fname), is_live=False)\n",
    "    do_first_thing(board)\n",
    "    #Your Code Here\n",
    "    #Your Code Here\n",
    "    do_second_thing(board)\n",
    "    do_third_thing(board)\n",
    "\n",
    "\n",
    "# -> I could encapsulate do_first_thing, do_second_thing and do_third_thing in a do_things-method, but I can also encapsulate the part where I loop"
   ]
  },
  {
   "cell_type": "raw",
   "id": "fe3852f2-22fe-4e82-946f-f83947a97291",
   "metadata": {
    "id": "ad30ba0b-900e-44b5-8a07-82030b3b0037",
    "tags": []
   },
   "source": [
    "def boardimage_iterator(live=False):\n",
    "    if not live:\n",
    "        for fname in os.listdir('error_imgs'):\n",
    "            gameboard = Gameboard(plt.imread('error_imgs/'+fname), is_live=False)\n",
    "            imshow(gameboard.rgb_image, fname)\n",
    "            print(fname)\n",
    "            yield gameboard\n",
    "    else:\n",
    "        while True:\n",
    "            if ONLY_IF_CAPS and not caps_active():\n",
    "                time.sleep(1)\n",
    "                continue\n",
    "            yield Gameboard.get_gameboard_image()\n",
    "            \n",
    "            \n",
    "for board in boardgame_iterator(True):\n",
    "    do_first_thing(board)\n",
    "    do_second_thing(board)\n",
    "    do_third_thing(board)"
   ]
  },
  {
   "cell_type": "markdown",
   "id": "77441d20-a170-41c6-a0e7-90eb8115cd13",
   "metadata": {
    "id": "cd6268cf-0fb9-409f-9ec6-dfe25812330d",
    "tags": []
   },
   "source": [
    "<div class=\"alert alert-block alert-info\">\n",
    "<b>Exercise:</b> \n",
    "    <br>\n",
    "   Use a generator to produce even numbers infinitely. Then print the first ten even numbers.\n",
    "</div>\n"
   ]
  },
  {
   "cell_type": "markdown",
   "id": "3dedad77-8a26-445d-ba4c-3d9aa99ecaea",
   "metadata": {
    "cell_type": "hint",
    "id": "8329b1ce-bd0b-481d-83bc-2630beffa602",
    "tags": []
   },
   "source": [
    "<div class=\"alert alert-block alert-success\">\n",
    "<b>Tip:</b> \n",
    "    <br>\n",
    "   \n",
    "\n",
    "Use a `while True` loop to produce numbers infinitely. Then wrap the generator function in `enumerate` and `break` after the first ten values.\n",
    "</div>"
   ]
  },
  {
   "cell_type": "code",
   "execution_count": null,
   "id": "c8c071d5-c864-4d5c-a121-3e491dca126f",
   "metadata": {
    "cell_type": "solution",
    "id": "0fe8c409-4356-4f8d-9c6a-dd9fc0752cc4",
    "tags": []
   },
   "outputs": [],
   "source": [
    "def even_numbers():\n",
    "    #Your Code Here\n",
    "\n",
    "for i, num in enumerate(even_numbers()):   \n",
    "    #Your Code Here\n",
    "    "
   ]
  },
  {
   "cell_type": "markdown",
   "id": "81d48269-c0cf-4d3d-ac5d-ec641d28477e",
   "metadata": {
    "id": "f30f5b52-a3a4-41c3-ba0b-83cc2558ff0f",
    "tags": []
   },
   "source": [
    "So a generator is a function that remembers its state in between calls. It's basically the same as this:"
   ]
  },
  {
   "cell_type": "code",
   "execution_count": null,
   "id": "bf067d8d-0e8a-4c02-8f25-5cfef6a5cd10",
   "metadata": {
    "id": "74c2b84f-5f24-44d3-a9c0-c349e1145bf8",
    "tags": []
   },
   "outputs": [],
   "source": [
    "class EvenNumberGenerator():\n",
    "    def __init__(self):\n",
    "        self.index = 0\n",
    "    \n",
    "    def __call__(self):\n",
    "        self.index += 2\n",
    "        return self.index\n",
    "    \n",
    "    def __iter__(self):\n",
    "        return self\n",
    "    \n",
    "    def __next__(self):\n",
    "        return self.__call__()\n",
    "        \n",
    "numgen = EvenNumberGenerator()"
   ]
  },
  {
   "cell_type": "code",
   "execution_count": null,
   "id": "f892e3ee-3320-47a9-9246-3a65f614a683",
   "metadata": {
    "id": "3a273834-d6f0-4d5b-bd8a-83b885e63a5f",
    "tags": []
   },
   "outputs": [],
   "source": [
    "numgen()"
   ]
  },
  {
   "cell_type": "code",
   "execution_count": null,
   "id": "d9d30dfd-b530-415f-80c5-3d5f72e9117e",
   "metadata": {
    "id": "a3acb24d-1590-40b0-9d64-a91cd5a82c10",
    "tags": []
   },
   "outputs": [],
   "source": [
    "for i, num in enumerate(numgen):\n",
    "    print(num)\n",
    "    if i >= 10:\n",
    "        break"
   ]
  },
  {
   "cell_type": "markdown",
   "id": "a80f585d-94a5-4357-8b72-28869eb1c794",
   "metadata": {
    "id": "5f22c1dd-86fb-4270-becc-209ef09c30f2",
    "tags": []
   },
   "source": [
    "# Comprehensions\n",
    "Comprehensions are a special syntax that simplifies the creation of collections."
   ]
  },
  {
   "cell_type": "markdown",
   "id": "67d90272-8dda-44c9-b108-d0eb0124ada9",
   "metadata": {
    "id": "b3c4d086-c56b-4698-a0c5-05f6a2bfca30",
    "tags": []
   },
   "source": [
    "---\n",
    "## 1. List comprehension"
   ]
  },
  {
   "cell_type": "markdown",
   "id": "3eaa7a69-d4d1-4ded-a8f3-a79de1b30516",
   "metadata": {
    "id": "ccde24f4-fa02-4790-b612-b62332b10283",
    "tags": []
   },
   "source": [
    "To get a list of of squares from a list of numbers we would usually have to write code like this."
   ]
  },
  {
   "cell_type": "code",
   "execution_count": null,
   "id": "e1cca1f5-3b8b-413e-966e-3772daf3e04e",
   "metadata": {
    "id": "e1cca1f5-3b8b-413e-966e-3772daf3e04e",
    "tags": []
   },
   "outputs": [],
   "source": [
    "original_numbers = [1, 2, 3, 4, 5]\n",
    "squared_numbers = []\n",
    "for n in original_numbers:\n",
    "    squared_numbers.append(n**2)\n",
    "    \n",
    "squared_numbers"
   ]
  },
  {
   "cell_type": "markdown",
   "id": "005ce881-6c90-4a4f-8ff9-058d8c73a50f",
   "metadata": {
    "id": "002c3cc2-7a9e-4ab6-bb29-ea214f679ad2",
    "tags": []
   },
   "source": [
    "However, with a comprehension, we can greatly simplify this."
   ]
  },
  {
   "cell_type": "code",
   "execution_count": null,
   "id": "ac5050f2-937a-4a14-9c67-9bc640c1358e",
   "metadata": {
    "id": "ac5050f2-937a-4a14-9c67-9bc640c1358e",
    "tags": []
   },
   "outputs": [],
   "source": [
    "squared_numbers = [n**2 for n in original_numbers]\n",
    "squared_numbers"
   ]
  },
  {
   "cell_type": "markdown",
   "id": "296a1886-acce-46b5-a2cb-fb20aebb6614",
   "metadata": {
    "id": "55447343-ee0c-4217-b568-3c75714fd6f4",
    "tags": []
   },
   "source": [
    "The general syntax for a comprehension is `[`expression `for` element `in` iterable \\[`if` filter_condition\\] `]`.  \n",
    "Let's see this in action:"
   ]
  },
  {
   "cell_type": "code",
   "execution_count": 1,
   "id": "3971abff-c79a-44b8-9af6-8ddf0fad4e65",
   "metadata": {
    "id": "3971abff-c79a-44b8-9af6-8ddf0fad4e65",
    "tags": []
   },
   "outputs": [
    {
     "data": {
      "text/plain": [
       "[1, 4, 7]"
      ]
     },
     "execution_count": 1,
     "metadata": {},
     "output_type": "execute_result"
    }
   ],
   "source": [
    "original_values = [(1, True), (2, False), (3, False), (4, True), (5, False), (7, True)]\n",
    "only_trues = []\n",
    "for i in original_values:\n",
    "    if i[1]:\n",
    "        only_trues.append(i[0])\n",
    "\n",
    "only_trues"
   ]
  },
  {
   "cell_type": "code",
   "execution_count": 2,
   "id": "be0ff25f-0433-407d-9e0a-3d28ed383152",
   "metadata": {
    "id": "be0ff25f-0433-407d-9e0a-3d28ed383152",
    "tags": []
   },
   "outputs": [
    {
     "data": {
      "text/plain": [
       "[1, 4, 7]"
      ]
     },
     "execution_count": 2,
     "metadata": {},
     "output_type": "execute_result"
    }
   ],
   "source": [
    "only_trues = [\n",
    "    i[0]                      # what to do with the values from the old list\n",
    "    for i in original_values  # for-loop like syntax\n",
    "    if i[1]                   # filtering. \n",
    "]\n",
    "only_trues"
   ]
  },
  {
   "cell_type": "markdown",
   "id": "552cc615-7a56-44c5-8469-1752f7d505c1",
   "metadata": {
    "id": "3359fcef-7c00-4c6a-8660-edb799d92ded",
    "tags": []
   },
   "source": [
    "If we do not just want to filter, but instead do something else with the values that do not satisfy our filter condition, we can use a \n",
    "ternary expression."
   ]
  },
  {
   "cell_type": "markdown",
   "id": "e6e2dbaf-d3bf-4d73-9f3f-d4c2736f2296",
   "metadata": {},
   "source": [
    "This ternary expression could look like this:  \n",
    "Here we will write out the value if it is True and otherwise we will write 0."
   ]
  },
  {
   "cell_type": "code",
   "execution_count": 4,
   "id": "1abfda93-2e8f-4f29-af2f-e3e2ab79cb9f",
   "metadata": {
    "id": "1abfda93-2e8f-4f29-af2f-e3e2ab79cb9f",
    "tags": []
   },
   "outputs": [
    {
     "data": {
      "text/plain": [
       "0"
      ]
     },
     "execution_count": 4,
     "metadata": {},
     "output_type": "execute_result"
    }
   ],
   "source": [
    "i = (50, False)    \n",
    "i[0] if i[1] else 0"
   ]
  },
  {
   "cell_type": "code",
   "execution_count": 5,
   "id": "1a75d3c9-5e63-414f-84fa-e9b538ffaee7",
   "metadata": {
    "tags": []
   },
   "outputs": [
    {
     "data": {
      "text/plain": [
       "42"
      ]
     },
     "execution_count": 5,
     "metadata": {},
     "output_type": "execute_result"
    }
   ],
   "source": [
    "j = (42, True)\n",
    "j[0] if j[1] else 0"
   ]
  },
  {
   "cell_type": "code",
   "execution_count": 3,
   "id": "8a1245b1-d72b-48ba-aaff-6e12f8a1e8f7",
   "metadata": {
    "id": "8a1245b1-d72b-48ba-aaff-6e12f8a1e8f7",
    "tags": []
   },
   "outputs": [
    {
     "data": {
      "text/plain": [
       "[1, 0, 0, 4, 0, 7]"
      ]
     },
     "execution_count": 3,
     "metadata": {},
     "output_type": "execute_result"
    }
   ],
   "source": [
    "only_trues_or_zero = [\n",
    "    i[0] if i[1] else 0       # what to do with the values from the old list\n",
    "    for i in original_values  # for-loop like syntax\n",
    "]\n",
    "only_trues_or_zero"
   ]
  },
  {
   "cell_type": "markdown",
   "id": "be0e6292-4185-41ae-8b5f-64c5b26e9285",
   "metadata": {},
   "source": [
    "<div class=\"alert alert-block alert-warning\">\n",
    "<b>Important:</b> \n",
    "    <br>\n",
    "   When using comprehensions make sure that you are using a valid python expression and that your comprehension is understandable.\n",
    "</div>"
   ]
  },
  {
   "cell_type": "code",
   "execution_count": 6,
   "id": "4811e347-1282-4f78-a9e3-4efb8524b965",
   "metadata": {
    "id": "4811e347-1282-4f78-a9e3-4efb8524b965",
    "tags": []
   },
   "outputs": [
    {
     "ename": "SyntaxError",
     "evalue": "expected 'else' after 'if' expression (1598826707.py, line 3)",
     "output_type": "error",
     "traceback": [
      "\u001b[0;36m  Cell \u001b[0;32mIn[6], line 3\u001b[0;36m\u001b[0m\n\u001b[0;31m    i[0] if i[1]\u001b[0m\n\u001b[0m    ^\u001b[0m\n\u001b[0;31mSyntaxError\u001b[0m\u001b[0;31m:\u001b[0m expected 'else' after 'if' expression\n"
     ]
    }
   ],
   "source": [
    "i = (50, False)\n",
    "# This is not a valid python expression\n",
    "i[0] if i[1]"
   ]
  },
  {
   "cell_type": "code",
   "execution_count": null,
   "id": "d3f378db-438c-4bac-b4fd-89aeda4645e4",
   "metadata": {
    "id": "d3f378db-438c-4bac-b4fd-89aeda4645e4",
    "tags": []
   },
   "outputs": [],
   "source": [
    "# The Syntax is fine, but its a pain to read...\n",
    "[(index, x) if not int(x/2)%2 else (index, print(\"no\")) for index, x in enumerate([n for n in range(10,30,2) if n%3])]"
   ]
  },
  {
   "cell_type": "markdown",
   "id": "4d65bbc4-6571-4dab-8415-8d21528de23b",
   "metadata": {
    "id": "6d6a50ef-d540-427b-af86-2b7d48ce60ad",
    "tags": []
   },
   "source": [
    "---\n",
    "## 2. Dictionary Comprehension\n",
    "Similar to lists we can also use the comprehensions in dictionaries"
   ]
  },
  {
   "cell_type": "code",
   "execution_count": 9,
   "id": "c6a23333-538b-458f-ac62-d48119ede11f",
   "metadata": {
    "id": "c6a23333-538b-458f-ac62-d48119ede11f",
    "tags": []
   },
   "outputs": [
    {
     "data": {
      "text/plain": [
       "{1: 1, 2: 4, 3: 9, 4: 16, 5: 25}"
      ]
     },
     "execution_count": 9,
     "metadata": {},
     "output_type": "execute_result"
    }
   ],
   "source": [
    "numbers_and_their_squares = {num: num*num for num in [1,2,3,4,5]}\n",
    "numbers_and_their_squares"
   ]
  },
  {
   "cell_type": "markdown",
   "id": "5d540e3e-ca6c-4c06-992a-3c30bca55c1b",
   "metadata": {
    "id": "adb2413b-d1dd-4594-82f5-374a2e503a73",
    "tags": []
   },
   "source": [
    "---\n",
    "## 3. Generator Comprehension\n",
    "Generator comprehension is a compact way to write down generators"
   ]
  },
  {
   "cell_type": "code",
   "execution_count": 10,
   "id": "468f236f-93c8-46cb-9e5e-dcf6aa2decb9",
   "metadata": {
    "id": "468f236f-93c8-46cb-9e5e-dcf6aa2decb9",
    "tags": []
   },
   "outputs": [
    {
     "name": "stdout",
     "output_type": "stream",
     "text": [
      "<generator object <genexpr> at 0x7febdc99cfb0>\n",
      "2\n",
      "['Banana', 42, None]\n"
     ]
    }
   ],
   "source": [
    "a = (i for i in [1, 2, \"Banana\", 42, None])\n",
    "print(a) # it's a generator!\n",
    "next(a)\n",
    "print(next(a))\n",
    "print(list(a))"
   ]
  },
  {
   "cell_type": "markdown",
   "id": "5cb13c32-76c8-4da1-a67e-95b27c1370e1",
   "metadata": {},
   "source": [
    "---\n",
    "## 4. Tuple Comprehension"
   ]
  },
  {
   "cell_type": "code",
   "execution_count": 14,
   "id": "3ac4574a-ca92-4c07-ae33-2ec75a7f126d",
   "metadata": {
    "id": "3ac4574a-ca92-4c07-ae33-2ec75a7f126d",
    "tags": []
   },
   "outputs": [
    {
     "name": "stdout",
     "output_type": "stream",
     "text": [
      "Type:  <class 'tuple'>\n",
      "(1, 2, 'Banana', 42, None)\n"
     ]
    }
   ],
   "source": [
    "# So what if we want to use comprehension for tuples?\n",
    "a = tuple(i for i in [1, 2, \"Banana\", 42, None])\n",
    "print('Type: ', type(a))\n",
    "print(a)"
   ]
  },
  {
   "cell_type": "markdown",
   "id": "607f88d9-4432-4f40-89d3-1758506be424",
   "metadata": {},
   "source": [
    "It works simmilar to the other comprehensions!"
   ]
  },
  {
   "cell_type": "code",
   "execution_count": null,
   "id": "2287eac5-69a7-44c0-a88f-e08f2070a846",
   "metadata": {},
   "outputs": [],
   "source": []
  },
  {
   "cell_type": "markdown",
   "id": "2a508d3d-641b-4292-9030-74814e397838",
   "metadata": {
    "id": "0af49242-3c3c-4afa-b68d-94ba3370d785"
   },
   "source": [
    "# Lambda Expressions\n",
    "\n",
    "Lambda expressions can be used to create \"small\", \"throw-away\", anonymous functions."
   ]
  },
  {
   "cell_type": "code",
   "execution_count": 1,
   "id": "9867f661-9a65-4f22-8316-35304cd08325",
   "metadata": {
    "id": "cd6a18c9-61d0-46e4-b5e6-72a8becfe1af",
    "tags": []
   },
   "outputs": [
    {
     "data": {
      "text/plain": [
       "(64, function)"
      ]
     },
     "execution_count": 1,
     "metadata": {},
     "output_type": "execute_result"
    }
   ],
   "source": [
    "def square_number(x):\n",
    "    return x**2\n",
    "\n",
    "square_number(8), type(square_number)"
   ]
  },
  {
   "cell_type": "code",
   "execution_count": 2,
   "id": "22e74180-bf39-4ea5-9aad-0a921d2e0451",
   "metadata": {
    "id": "e9794626-2880-4c2f-a13b-67ec462030c5",
    "tags": []
   },
   "outputs": [
    {
     "data": {
      "text/plain": [
       "<function __main__.<lambda>(x)>"
      ]
     },
     "execution_count": 2,
     "metadata": {},
     "output_type": "execute_result"
    }
   ],
   "source": [
    "lambda x: x**2"
   ]
  },
  {
   "cell_type": "code",
   "execution_count": 3,
   "id": "1f7e73b3-69ed-43d8-9a33-8fa2a13ca413",
   "metadata": {
    "id": "3ae08bbf-caad-4e2b-9588-92f8f6e685e0",
    "tags": []
   },
   "outputs": [
    {
     "data": {
      "text/plain": [
       "(64, function)"
      ]
     },
     "execution_count": 3,
     "metadata": {},
     "output_type": "execute_result"
    }
   ],
   "source": [
    "square_number = lambda x: x**2\n",
    "\n",
    "square_number(8), type(square_number)"
   ]
  },
  {
   "cell_type": "code",
   "execution_count": 4,
   "id": "3d78bfe7-54b5-45c7-91ca-80f7a527abb1",
   "metadata": {
    "id": "1e9b7889-9d2f-453c-8cb1-a2675ddd35a4",
    "tags": []
   },
   "outputs": [
    {
     "data": {
      "text/plain": [
       "5"
      ]
     },
     "execution_count": 4,
     "metadata": {},
     "output_type": "execute_result"
    }
   ],
   "source": [
    "calc_sum = lambda x, y: x + y\n",
    "calc_sum(2, 3)"
   ]
  },
  {
   "cell_type": "markdown",
   "id": "eab8f0c1-3e3c-41ff-8e7b-e95e95a2cee5",
   "metadata": {
    "id": "b96c3a6c-36a4-4bc7-b2c4-3485ae984967",
    "tags": []
   },
   "source": [
    "You can use lambda-expressions for small pieces of code:"
   ]
  },
  {
   "cell_type": "code",
   "execution_count": 5,
   "id": "9f322a59-197f-48dc-9394-ea602c5f7d90",
   "metadata": {
    "id": "e184fad9-6a7c-4f07-a7cc-360eae695d27",
    "tags": []
   },
   "outputs": [],
   "source": [
    "now = lambda: pd.to_datetime(datetime.datetime.now()).tz_localize('UTC').tz_convert('Europe/Berlin')\n",
    "maketime = lambda x: datetime.datetime.utcfromtimestamp(int(x)).strftime('%Y-%m-%d %H:%M')\n",
    "imsave = lambda fname, img: plt.imsave(fname, img, vmin=0, vmax=1)"
   ]
  },
  {
   "cell_type": "markdown",
   "id": "741b7d9d-7d16-48a7-b6e6-4d68c5122f31",
   "metadata": {
    "id": "cefa645d-6112-444d-bce2-cad7bc641c2f",
    "tags": []
   },
   "source": [
    "---\n",
    "## Controlling list operations with lambdas"
   ]
  },
  {
   "cell_type": "code",
   "execution_count": 6,
   "id": "83812bbf-6bbd-44df-bb36-11d6c0fc4021",
   "metadata": {
    "id": "f4958da2-a405-4d56-8e18-def8aa3154ad",
    "tags": []
   },
   "outputs": [
    {
     "name": "stdout",
     "output_type": "stream",
     "text": [
      "[1, 3, 6, 7, 45, 67]\n",
      "[1, 3, 6, 7, 45, 67]\n"
     ]
    }
   ],
   "source": [
    "unsorted_list = [6, 1, 45, 67, 3, 7]\n",
    "\n",
    "# two ways to sort:\n",
    "new_list = sorted(unsorted_list) # creates a new sorted one, old one stays the same\n",
    "unsorted_list.sort()             # sorts in-place, the old one will change\n",
    "\n",
    "print(new_list)\n",
    "print(unsorted_list)"
   ]
  },
  {
   "cell_type": "code",
   "execution_count": 7,
   "id": "5ad74d73-a894-4437-a77d-ffcfbc06ad5f",
   "metadata": {
    "id": "d57c493b-1476-452d-aa94-06a073f2b65c",
    "tags": []
   },
   "outputs": [
    {
     "data": {
      "text/plain": [
       "\u001b[0;31mSignature:\u001b[0m \u001b[0munsorted_list\u001b[0m\u001b[0;34m.\u001b[0m\u001b[0msort\u001b[0m\u001b[0;34m(\u001b[0m\u001b[0;34m*\u001b[0m\u001b[0;34m,\u001b[0m \u001b[0mkey\u001b[0m\u001b[0;34m=\u001b[0m\u001b[0;32mNone\u001b[0m\u001b[0;34m,\u001b[0m \u001b[0mreverse\u001b[0m\u001b[0;34m=\u001b[0m\u001b[0;32mFalse\u001b[0m\u001b[0;34m)\u001b[0m\u001b[0;34m\u001b[0m\u001b[0;34m\u001b[0m\u001b[0m\n",
       "\u001b[0;31mDocstring:\u001b[0m\n",
       "Sort the list in ascending order and return None.\n",
       "\n",
       "The sort is in-place (i.e. the list itself is modified) and stable (i.e. the\n",
       "order of two equal elements is maintained).\n",
       "\n",
       "If a key function is given, apply it once to each list item and sort them,\n",
       "ascending or descending, according to their function values.\n",
       "\n",
       "The reverse flag can be set to sort in descending order.\n",
       "\u001b[0;31mType:\u001b[0m      builtin_function_or_method"
      ]
     },
     "metadata": {},
     "output_type": "display_data"
    }
   ],
   "source": [
    "unsorted_list.sort?"
   ]
  },
  {
   "cell_type": "markdown",
   "id": "cda2b8df-ffa7-4722-9d5c-f0e069e7353a",
   "metadata": {
    "id": "c05710da-b9e8-4b9e-9640-7a1159764f0c",
    "tags": []
   },
   "source": [
    "Sorting in  descending order."
   ]
  },
  {
   "cell_type": "code",
   "execution_count": 8,
   "id": "8b4cd86a-e83a-4079-ae86-d477e6e89493",
   "metadata": {
    "id": "d4ebe867-cd1c-4ba2-b0c1-4d1449a6ad16",
    "tags": []
   },
   "outputs": [
    {
     "data": {
      "text/plain": [
       "[67, 45, 7, 6, 3, 1]"
      ]
     },
     "execution_count": 8,
     "metadata": {},
     "output_type": "execute_result"
    }
   ],
   "source": [
    "unsorted_list.sort(reverse=True) \n",
    "unsorted_list"
   ]
  },
  {
   "cell_type": "code",
   "execution_count": 9,
   "id": "a896e271-d2b7-446d-a987-76992172abcf",
   "metadata": {
    "id": "5faaf34b-0083-4267-a1b4-fdb4e85ae44d",
    "tags": []
   },
   "outputs": [
    {
     "data": {
      "text/plain": [
       "[67, 45, 7, 6, 3, 1]"
      ]
     },
     "execution_count": 9,
     "metadata": {},
     "output_type": "execute_result"
    }
   ],
   "source": [
    "unsorted_list.sort(key = lambda n: -n)\n",
    "unsorted_list"
   ]
  },
  {
   "cell_type": "markdown",
   "id": "3e18aadc-c3b5-4ffb-9d2f-3e4921e21ff2",
   "metadata": {
    "id": "bdd593c1-7997-48c3-a284-bfabd6b10696",
    "tags": []
   },
   "source": [
    "Sorting according to specific rules can be done with lambda functions. For example you can sort people by their age."
   ]
  },
  {
   "cell_type": "code",
   "execution_count": 10,
   "id": "c1e7019b-8478-4cec-953f-4c49f6f06efb",
   "metadata": {
    "id": "2c67ba5d-7970-435f-a521-00b7995c9dc0",
    "tags": []
   },
   "outputs": [],
   "source": [
    "people = [\n",
    "    {'name': 'Aaron', 'age': 40},\n",
    "    {'name': 'Berta', 'age': 20},\n",
    "    {'name': 'Chris', 'age': 29},\n",
    "]"
   ]
  },
  {
   "cell_type": "code",
   "execution_count": 11,
   "id": "44e4da96-0a4b-4af6-a42c-81b016ae0340",
   "metadata": {
    "id": "202dbbdd-73d3-44e5-be84-5187d380937d",
    "tags": []
   },
   "outputs": [
    {
     "ename": "TypeError",
     "evalue": "'<' not supported between instances of 'dict' and 'dict'",
     "output_type": "error",
     "traceback": [
      "\u001b[0;31m---------------------------------------------------------------------------\u001b[0m",
      "\u001b[0;31mTypeError\u001b[0m                                 Traceback (most recent call last)",
      "Cell \u001b[0;32mIn[11], line 1\u001b[0m\n\u001b[0;32m----> 1\u001b[0m \u001b[43mpeople\u001b[49m\u001b[38;5;241;43m.\u001b[39;49m\u001b[43msort\u001b[49m\u001b[43m(\u001b[49m\u001b[43m)\u001b[49m\n",
      "\u001b[0;31mTypeError\u001b[0m: '<' not supported between instances of 'dict' and 'dict'"
     ]
    }
   ],
   "source": [
    "people.sort()"
   ]
  },
  {
   "cell_type": "code",
   "execution_count": 12,
   "id": "7b72de22-9283-4707-ba21-0063922d8f7f",
   "metadata": {
    "id": "11a8a86c-ce8d-4da7-8e14-4e15a61fee17",
    "tags": []
   },
   "outputs": [
    {
     "data": {
      "text/plain": [
       "[{'name': 'Berta', 'age': 20},\n",
       " {'name': 'Chris', 'age': 29},\n",
       " {'name': 'Aaron', 'age': 40}]"
      ]
     },
     "execution_count": 12,
     "metadata": {},
     "output_type": "execute_result"
    }
   ],
   "source": [
    "people.sort(key=lambda item: item['age'])\n",
    "people"
   ]
  },
  {
   "cell_type": "markdown",
   "id": "bff3adbd-772f-45bc-8ebd-613b50e0ce00",
   "metadata": {
    "id": "297312dd-8f9b-4789-8872-f1736bc7827d",
    "tags": []
   },
   "source": [
    "or by their name."
   ]
  },
  {
   "cell_type": "code",
   "execution_count": 13,
   "id": "cfed08d6-425f-48c7-aad0-182bea98c78b",
   "metadata": {
    "id": "8541300f-e62c-49d2-ad6e-69150afec072",
    "tags": []
   },
   "outputs": [
    {
     "data": {
      "text/plain": [
       "[{'name': 'Aaron', 'age': 40},\n",
       " {'name': 'Berta', 'age': 20},\n",
       " {'name': 'Chris', 'age': 29}]"
      ]
     },
     "execution_count": 13,
     "metadata": {},
     "output_type": "execute_result"
    }
   ],
   "source": [
    "people.sort(key=lambda item: item['name'])\n",
    "people"
   ]
  },
  {
   "cell_type": "markdown",
   "id": "3f7a801e-e8e4-4283-ad69-4127b0a9ddc4",
   "metadata": {
    "id": "701736ad-8f05-408f-bf46-3a37dc0651c3",
    "tags": []
   },
   "source": [
    "Other functions work similarly, For example you can use the `key` argument in `max`"
   ]
  },
  {
   "cell_type": "code",
   "execution_count": 14,
   "id": "f50e3082-9577-4df1-b6a8-1b16b431d267",
   "metadata": {
    "id": "f554edd6-0a4c-4a11-95ca-68dbf668cdd5",
    "tags": []
   },
   "outputs": [
    {
     "data": {
      "text/plain": [
       "{'name': 'Aaron', 'age': 40}"
      ]
     },
     "execution_count": 14,
     "metadata": {},
     "output_type": "execute_result"
    }
   ],
   "source": [
    "max(people, key=lambda x: x['age'])"
   ]
  },
  {
   "cell_type": "markdown",
   "id": "6de99c0c-f409-4ba0-9a83-fb13437dbbd4",
   "metadata": {
    "id": "d8804492-416e-4310-9fd9-b0ee59882f12",
    "tags": []
   },
   "source": [
    "<div class=\"alert alert-block alert-info\">\n",
    "<b>Exercise:</b> \n",
    "    <br>    \n",
    "    Use the <b>min</b> function with a <b>key</b> argument to find the person that comes first in the alphabet.\n",
    "</div>"
   ]
  },
  {
   "cell_type": "code",
   "execution_count": 15,
   "id": "6e87d2d4-2998-4171-8584-45d1afc42b9e",
   "metadata": {
    "cell_type": "solution",
    "id": "89fb4372-118c-42b2-bb33-dd11636fb85b",
    "tags": []
   },
   "outputs": [
    {
     "data": {
      "text/plain": [
       "{'name': 'Aaron', 'age': 40}"
      ]
     },
     "execution_count": 15,
     "metadata": {},
     "output_type": "execute_result"
    }
   ],
   "source": [
    "#here is space for you to write your lambda function"
   ]
  },
  {
   "cell_type": "markdown",
   "id": "4184d7ea-39ab-4df1-b5ac-9abba0e6ce0d",
   "metadata": {
    "id": "9df840d6-5823-4274-aca4-98b28ba1d408",
    "tags": []
   },
   "source": [
    "---\n",
    "## Map, Filter & Reduce\n",
    "\n",
    "Python has many features that originally stem from different programming paradigmns. One of these is that of functional programming, where the concept of *map*, *filter*, and *reduce* come from. These functions are there to apply a function to a collection of data."
   ]
  },
  {
   "cell_type": "markdown",
   "id": "8248cd47-8270-46df-b831-111f8aab4d48",
   "metadata": {
    "id": "3e3a219b-d1ff-4aea-bffd-a94f65623d32",
    "tags": []
   },
   "source": [
    "### 1. Map\n",
    "\n",
    "Map takes a function and a collection, and simply applys the function to every element of the collection:"
   ]
  },
  {
   "cell_type": "code",
   "execution_count": 16,
   "id": "ae422d7d-0b6a-4a02-aacd-0d594560280a",
   "metadata": {
    "id": "824dd280-3122-4ebc-aeec-691635d1371e",
    "tags": []
   },
   "outputs": [
    {
     "data": {
      "text/plain": [
       "\u001b[0;31mInit signature:\u001b[0m \u001b[0mmap\u001b[0m\u001b[0;34m(\u001b[0m\u001b[0mself\u001b[0m\u001b[0;34m,\u001b[0m \u001b[0;34m/\u001b[0m\u001b[0;34m,\u001b[0m \u001b[0;34m*\u001b[0m\u001b[0margs\u001b[0m\u001b[0;34m,\u001b[0m \u001b[0;34m**\u001b[0m\u001b[0mkwargs\u001b[0m\u001b[0;34m)\u001b[0m\u001b[0;34m\u001b[0m\u001b[0;34m\u001b[0m\u001b[0m\n",
       "\u001b[0;31mDocstring:\u001b[0m     \n",
       "map(func, *iterables) --> map object\n",
       "\n",
       "Make an iterator that computes the function using arguments from\n",
       "each of the iterables.  Stops when the shortest iterable is exhausted.\n",
       "\u001b[0;31mType:\u001b[0m           type\n",
       "\u001b[0;31mSubclasses:\u001b[0m     "
      ]
     },
     "metadata": {},
     "output_type": "display_data"
    }
   ],
   "source": [
    "map?"
   ]
  },
  {
   "cell_type": "code",
   "execution_count": 17,
   "id": "b5df59c9-5aba-4aa7-9bce-3db20aa3a8cc",
   "metadata": {
    "id": "95963012-32d7-4da7-9096-723f9f698262",
    "tags": []
   },
   "outputs": [
    {
     "data": {
      "text/plain": [
       "[1, 4, 9, 16, 25]"
      ]
     },
     "execution_count": 17,
     "metadata": {},
     "output_type": "execute_result"
    }
   ],
   "source": [
    "items = [1, 2, 3, 4, 5]\n",
    "squared = list(map(lambda x: x**2, items))\n",
    "squared"
   ]
  },
  {
   "cell_type": "markdown",
   "id": "16222280-9f44-4f01-919e-9477c3b402d1",
   "metadata": {
    "id": "a40b6c6a-6710-4c4b-9418-debbadfea161",
    "tags": []
   },
   "source": [
    "..which is the same as"
   ]
  },
  {
   "cell_type": "code",
   "execution_count": 18,
   "id": "c4208622-888d-4154-895f-98664a3f9f88",
   "metadata": {
    "id": "c1c709d2-10d6-474b-86f7-b641fd63b139",
    "tags": []
   },
   "outputs": [],
   "source": [
    "items = [1, 2, 3, 4, 5]\n",
    "squared = []\n",
    "for i in items:\n",
    "    squared.append(i**2)"
   ]
  },
  {
   "cell_type": "code",
   "execution_count": 19,
   "id": "f9b8b44b-28bb-4162-bd37-9e22fea72c9a",
   "metadata": {
    "id": "d5093d21-7e97-45b4-b469-4aba1a5a29ad",
    "tags": []
   },
   "outputs": [
    {
     "name": "stdout",
     "output_type": "stream",
     "text": [
      "[(1, 4), (2, 5), (3, 6)]\n"
     ]
    }
   ],
   "source": [
    "a, b = [1,2,3,4], [4,5,6]\n",
    "# Map can also have several collections as arguments. Look again what zip does:\n",
    "print(list(zip(a, b)))\n",
    "# And try to implement the same behaviour with map instead of zip\n"
   ]
  },
  {
   "cell_type": "markdown",
   "id": "70cfe92d-03ae-400f-ac8d-9f768a77d941",
   "metadata": {
    "id": "f4cbe0d4-fd1a-49d8-b19b-c96e52a60e6c",
    "tags": []
   },
   "source": [
    "### 2. Filter\n",
    "\n",
    "`filter` takes a collection and a function that returns a boolean value. As the name suggests, it thus filters the list: it creates a list of elements for which the function returns true."
   ]
  },
  {
   "cell_type": "code",
   "execution_count": null,
   "id": "bb838935-f6aa-4424-bfad-ecf090387a6d",
   "metadata": {
    "id": "dc2a8365-0f76-4431-865b-f70a2c4df254",
    "tags": []
   },
   "outputs": [],
   "source": [
    "number_list = range(-5, 5)\n",
    "print(\"unfiltered:\", list(number_list))\n",
    "less_than_zero = list(filter(lambda x: x < 0, number_list))\n",
    "print(\"filtered:\", less_than_zero)"
   ]
  },
  {
   "cell_type": "markdown",
   "id": "cbeb6a05-1a91-4b1e-b265-14a2b3d483a9",
   "metadata": {
    "id": "aef19632-ab18-4ab0-b61b-4a223e750695",
    "tags": []
   },
   "source": [
    "### 3. Reduce \n",
    "\n",
    "is a really useful function for performing some computation on a list and returning the result. It applies a rolling computation to sequential pairs of values in a list. For example, if you wanted to compute the product of a list of integers."
   ]
  },
  {
   "cell_type": "code",
   "execution_count": null,
   "id": "5411eb3c-dfc3-453f-8592-a1af55fc9cef",
   "metadata": {
    "id": "3d8c30ca-ed9c-4151-8330-2c44abe04239",
    "tags": []
   },
   "outputs": [],
   "source": [
    "reduce?"
   ]
  },
  {
   "cell_type": "code",
   "execution_count": 1,
   "id": "959eef08-e52b-4c55-b6fe-4b67a8dfb1bd",
   "metadata": {
    "id": "49f5ce9e-bc5b-4fc4-aca9-8af0235c48ce",
    "tags": []
   },
   "outputs": [
    {
     "data": {
      "text/plain": [
       "113"
      ]
     },
     "execution_count": 1,
     "metadata": {},
     "output_type": "execute_result"
    }
   ],
   "source": [
    "from functools import reduce #reduce is not in pythons standardlib and must be imported!\n",
    "mysum = reduce(lambda x,y: x+y, [47,11,42,13])\n",
    "mysum"
   ]
  },
  {
   "cell_type": "markdown",
   "id": "e2b67047-1427-4aa5-ad50-13b53de5c6ff",
   "metadata": {
    "id": "246e183d-0d17-424e-8bb0-64e62df02291",
    "tags": []
   },
   "source": [
    "![tool](figures/reduce_diagram.png)"
   ]
  },
  {
   "cell_type": "markdown",
   "id": "5dc59258-0a04-48f0-b5ef-696afb19c7dc",
   "metadata": {
    "id": "d9233c7f-3049-494b-898f-334f935087cb",
    "tags": []
   },
   "source": [
    "...which is the same as:"
   ]
  },
  {
   "cell_type": "code",
   "execution_count": 2,
   "id": "b0427fa0-90b5-4def-96ec-6703cb394018",
   "metadata": {
    "id": "1cd6a0fb-3786-4650-b9a8-c6a8060c50af",
    "tags": []
   },
   "outputs": [],
   "source": [
    "product = 1\n",
    "thelist = [1, 2, 3, 4]\n",
    "for num in thelist:\n",
    "    product = product * num"
   ]
  },
  {
   "cell_type": "markdown",
   "id": "a86481c7-a0db-4ad2-a028-8e2690b2aa06",
   "metadata": {
    "id": "fcb3b565-1ba2-42b6-ac68-2ef808358fd4",
    "tags": []
   },
   "source": [
    "# Exceptions"
   ]
  },
  {
   "cell_type": "markdown",
   "id": "e7fa128a-b211-449d-a719-f751754b7ba1",
   "metadata": {},
   "source": [
    "Basically we need exceptions to catch errors in our program, since errors are bad and some of them are predictable."
   ]
  },
  {
   "cell_type": "markdown",
   "id": "dfb5b2cb-9474-4ccd-9f86-dc06bacc3f55",
   "metadata": {},
   "source": [
    "For example when we try to convert a list of string numbers to integers, it could happen that there is an entry that is not a number in there which would through an error:"
   ]
  },
  {
   "cell_type": "code",
   "execution_count": 1,
   "id": "c188fafb-8829-4f8d-823a-438e116eccc9",
   "metadata": {
    "tags": []
   },
   "outputs": [],
   "source": [
    "data_list = [\"1\", \"10\", \"4\", \"7\", \"c\", \"4\", \"5\", \"3\", \"8\", \"1\", \"9\", \"!\", \"0\",\"3\"]\n",
    "numbers = []"
   ]
  },
  {
   "cell_type": "code",
   "execution_count": 2,
   "id": "404a4b31-a0f8-4818-850f-45678d3dac5c",
   "metadata": {
    "tags": []
   },
   "outputs": [
    {
     "ename": "ValueError",
     "evalue": "invalid literal for int() with base 10: 'c'",
     "output_type": "error",
     "traceback": [
      "\u001b[0;31m---------------------------------------------------------------------------\u001b[0m",
      "\u001b[0;31mValueError\u001b[0m                                Traceback (most recent call last)",
      "Cell \u001b[0;32mIn[2], line 2\u001b[0m\n\u001b[1;32m      1\u001b[0m \u001b[38;5;28;01mfor\u001b[39;00m number \u001b[38;5;129;01min\u001b[39;00m data_list:\n\u001b[0;32m----> 2\u001b[0m     numbers\u001b[38;5;241m.\u001b[39mappend(\u001b[38;5;28;43mint\u001b[39;49m\u001b[43m(\u001b[49m\u001b[43mnumber\u001b[49m\u001b[43m)\u001b[49m)\n",
      "\u001b[0;31mValueError\u001b[0m: invalid literal for int() with base 10: 'c'"
     ]
    }
   ],
   "source": [
    "for number in data_list:\n",
    "    numbers.append(int(number))"
   ]
  },
  {
   "cell_type": "markdown",
   "id": "0d762208-54ea-4b36-b2af-3cb7433b139a",
   "metadata": {},
   "source": [
    "You could try filtering out all the special cases:"
   ]
  },
  {
   "cell_type": "code",
   "execution_count": 3,
   "id": "b52f1bb4-9f32-43ed-9088-39ac90d0d210",
   "metadata": {
    "tags": []
   },
   "outputs": [
    {
     "ename": "ValueError",
     "evalue": "invalid literal for int() with base 10: '!'",
     "output_type": "error",
     "traceback": [
      "\u001b[0;31m---------------------------------------------------------------------------\u001b[0m",
      "\u001b[0;31mValueError\u001b[0m                                Traceback (most recent call last)",
      "Cell \u001b[0;32mIn[3], line 5\u001b[0m\n\u001b[1;32m      3\u001b[0m     \u001b[38;5;28;01mpass\u001b[39;00m\n\u001b[1;32m      4\u001b[0m \u001b[38;5;28;01melse\u001b[39;00m:\n\u001b[0;32m----> 5\u001b[0m     numbers\u001b[38;5;241m.\u001b[39mappend(\u001b[38;5;28;43mint\u001b[39;49m\u001b[43m(\u001b[49m\u001b[43mnumber\u001b[49m\u001b[43m)\u001b[49m)\n",
      "\u001b[0;31mValueError\u001b[0m: invalid literal for int() with base 10: '!'"
     ]
    }
   ],
   "source": [
    "for number in data_list:\n",
    "    if number.isalpha():\n",
    "        pass\n",
    "    else:\n",
    "        numbers.append(int(number))"
   ]
  },
  {
   "cell_type": "markdown",
   "id": "0abf4eb1-4abd-4d9d-8d33-b5cdacf90a8d",
   "metadata": {},
   "source": [
    "But you might end up with a really long conditional statement:"
   ]
  },
  {
   "cell_type": "code",
   "execution_count": 4,
   "id": "c2a8276d-a5bf-4787-bc32-aa288041afdb",
   "metadata": {
    "tags": []
   },
   "outputs": [],
   "source": [
    "for number in data_list:\n",
    "    if number.isalpha():\n",
    "        pass\n",
    "    elif number == \"!\":\n",
    "        pass\n",
    "    else:\n",
    "        numbers.append(int(number))"
   ]
  },
  {
   "cell_type": "markdown",
   "id": "f92c3303-cc2e-4f22-9bf9-4dc307b5d93c",
   "metadata": {},
   "source": [
    "If we want to make it short we can catch the error with an exception."
   ]
  },
  {
   "cell_type": "code",
   "execution_count": null,
   "id": "0963ab2f-8078-4e75-976a-e5cfe91f5052",
   "metadata": {
    "tags": []
   },
   "outputs": [],
   "source": [
    "for number in data_list:\n",
    "    try:\n",
    "        numbers.append(int(number))\n",
    "    except Exception as e:\n",
    "        print(type(e), e)"
   ]
  },
  {
   "cell_type": "markdown",
   "id": "21b313d5-47a3-4ecb-97a6-b6ae8053833b",
   "metadata": {
    "id": "926782a5-5302-4d58-93a5-7de0b9a7c919",
    "tags": []
   },
   "source": [
    "This is also according to the pyhton programming principle: __EAFP__\n",
    "Remember our principle from [3_control_flow](../1_basic_python/3_control_flow.ipynb)?  \n",
    "In python we ask for forgiveness instead of looking for a leap. This simply means that we rather use the `try ... except` structure to catch errors that trying to find out whether we can do something via `if` statements."
   ]
  },
  {
   "cell_type": "markdown",
   "id": "0ae31417-c0dd-425c-a459-ee8bd3346a1d",
   "metadata": {},
   "source": [
    "The difference is that the `if` statements are checked everytime. The `except` is just entered when the `try` did not work.   \n",
    "Here is an example how that comes to play when we want to transform a list into a dictionary:"
   ]
  },
  {
   "cell_type": "code",
   "execution_count": null,
   "id": "7c7a3db9-ab13-464b-86f3-5fc6d70754da",
   "metadata": {
    "id": "c85cb94e-9c70-4057-81bc-def371b6da6c",
    "tags": []
   },
   "outputs": [],
   "source": [
    "# The pythonic way: EAFP\n",
    "lst = [1, 2, 3, 4, 5]\n",
    "\n",
    "def even_odd(num):\n",
    "    return \"even\" if num % 2 == 0 else \"odd\"\n",
    "\n",
    "dct = {}\n",
    "for elem in lst:\n",
    "    try:\n",
    "        dct[even_odd(elem)].append(elem)\n",
    "    # This Except block will be executed at most two times\n",
    "    except KeyError:\n",
    "        dct[even_odd(elem)] = [elem]\n",
    "        \n",
    "print(dct)"
   ]
  },
  {
   "cell_type": "code",
   "execution_count": null,
   "id": "04f1d491-4020-45ac-9900-06507cd0dcaf",
   "metadata": {
    "id": "57383b39-1387-4d0f-a5f6-d83379f5f06c",
    "tags": []
   },
   "outputs": [],
   "source": [
    "# The non-pythonic way: LBYL\n",
    "lst = [1, 2, 3, 4, 5]\n",
    "\n",
    "def even_odd(num):\n",
    "    return \"even\" if num % 2 == 0 else \"odd\"\n",
    "\n",
    "dct = {}\n",
    "for elem in lst:\n",
    "    '''This check has to be done every time, even if our dictionary has had\n",
    "    the keys for ages already'''\n",
    "    if even_odd(elem) in dct:\n",
    "        dct[even_odd(elem)].append(elem) \n",
    "    else:\n",
    "        dct[even_odd(elem)] = [elem]\n",
    "        \n",
    "print(dct)"
   ]
  },
  {
   "cell_type": "markdown",
   "id": "39b37e71-ecc8-41a1-b2cd-cf2b65ccb6e5",
   "metadata": {},
   "source": [
    "---\n",
    "#### Another example:\n",
    "We could assign a value to a variable based on a random number. Here we would assign eighter a list or an int to a variable. This could lead to an error if we then try to get the entry at the first index, since integers do not have indices. "
   ]
  },
  {
   "cell_type": "code",
   "execution_count": null,
   "id": "a3d221b2-1432-4662-9136-a6bdfaf021e9",
   "metadata": {},
   "outputs": [],
   "source": [
    "import random"
   ]
  },
  {
   "cell_type": "code",
   "execution_count": null,
   "id": "99507406-9650-413b-8f17-6d7779978059",
   "metadata": {
    "id": "0f352ec6-2c4d-48ca-989f-9fea7604ff7f",
    "tags": []
   },
   "outputs": [],
   "source": [
    "a = [1, 2, 3] if random.randint(0,1) else 1\n",
    "\n",
    "first_val = a[0] #throws an Exception in 50% of cases"
   ]
  },
  {
   "cell_type": "markdown",
   "id": "113780ab-feae-4a98-8f9a-e45793aad0ee",
   "metadata": {},
   "source": [
    "We can catch the error with an Exception:"
   ]
  },
  {
   "cell_type": "code",
   "execution_count": null,
   "id": "5811813e-219a-46a4-88cc-24969fd6b7dc",
   "metadata": {
    "id": "b524005f-c619-450d-a94b-356b2efcf05f",
    "tags": []
   },
   "outputs": [],
   "source": [
    "a = [1, 2, 3] if random.randint(0,1) else 1\n",
    "\n",
    "# we can catch that exception! In Java, this is try-catch, in python it's called try-except\n",
    "try:\n",
    "    print(\"trying to get first element\")\n",
    "    first_val = a[0]\n",
    "    print(\"everything worked!\")\n",
    "except Exception as e:\n",
    "    print(type(e), e)"
   ]
  },
  {
   "cell_type": "markdown",
   "id": "eac031a2-57d8-456b-a9c3-39f0da9604d8",
   "metadata": {},
   "source": [
    "---\n",
    "Exception is a __class__. There are many different subclasses that all inherit from Exception."
   ]
  },
  {
   "cell_type": "markdown",
   "id": "59e0230c-e0ee-4be0-b1d3-57ef31744d2e",
   "metadata": {
    "id": "e09ec028-4da2-40d0-aa4a-2cacdae18c26",
    "tags": []
   },
   "source": [
    "![exceptions](../2_advanced_python/figures/errors.png)"
   ]
  },
  {
   "cell_type": "markdown",
   "id": "883f6c28-8fb9-4d98-9f5d-3d963b7dcce1",
   "metadata": {},
   "source": [
    "For example the class FileNotFoundError that is used when we try to import files."
   ]
  },
  {
   "cell_type": "code",
   "execution_count": null,
   "id": "a1d8d533-f07e-452c-9f82-327a500d5035",
   "metadata": {
    "id": "384c2e67-104a-4729-9526-5b615ea156b2",
    "tags": []
   },
   "outputs": [],
   "source": [
    "try:\n",
    "    file_handle = open('test.txt')\n",
    "except FileNotFoundError as err:\n",
    "    print('this will be executed if a FileNotFoundError occurs')\n",
    "    print(err)\n"
   ]
  },
  {
   "cell_type": "markdown",
   "id": "90289cf1-3ef8-4395-822b-97e07d04426b",
   "metadata": {
    "tags": []
   },
   "source": [
    "The KeyboardInterrupt is also part of the BaseException:"
   ]
  },
  {
   "cell_type": "code",
   "execution_count": null,
   "id": "f4ad0fd7-de8f-487a-a351-b6698eb477ac",
   "metadata": {
    "id": "efe665c4-449e-473e-b1d7-665e9e18392a",
    "tags": []
   },
   "outputs": [],
   "source": [
    "try:\n",
    "    while True:\n",
    "        pass\n",
    "except KeyboardInterrupt:\n",
    "    print(\"I gracefully stopped!\")"
   ]
  },
  {
   "cell_type": "markdown",
   "id": "42436d84-0074-4fc0-96cf-ef02851de0f5",
   "metadata": {},
   "source": [
    "To stop the infinit loop try `ctrl + c` or `i , i` if you are in jupyter."
   ]
  },
  {
   "cell_type": "code",
   "execution_count": null,
   "id": "ccb6ac9d-77a2-4f2d-8088-5735e95df818",
   "metadata": {
    "id": "384c2e67-104a-4729-9526-5b615ea156b2",
    "tags": []
   },
   "outputs": [],
   "source": [
    "try:\n",
    "    file_handle = open('test.txt')\n",
    "except FileNotFoundError as err:\n",
    "    print('this will be executed if a FileNotFoundError occurs')\n",
    "    print(err)\n",
    "finally:\n",
    "    print('this will be executed whether the try block throws an error or not')\n",
    "    try:\n",
    "        file_handle.close()\n",
    "    except:\n",
    "        pass\n"
   ]
  },
  {
   "cell_type": "code",
   "execution_count": null,
   "id": "7bb6065b-3341-4fe9-b9b2-4e0b7b6c3987",
   "metadata": {
    "id": "5a0608ad-678f-4008-bd30-8dd91315b3e2",
    "tags": []
   },
   "outputs": [],
   "source": [
    "try:\n",
    "    file_handle = open('test.txt')\n",
    "except FileNotFoundError as err:\n",
    "    print('this will be executed if a FileNotFoundError occurs')\n",
    "    print(err)\n",
    "else:\n",
    "    print('this will be executed only if the try block throws no error')\n",
    "    try:\n",
    "        file_handle.close()\n",
    "    except:\n",
    "        pass"
   ]
  },
  {
   "cell_type": "markdown",
   "id": "c11d0a04-686e-42cd-b15a-0637517dac78",
   "metadata": {
    "tags": []
   },
   "source": [
    "<div class=\"alert alert-block alert-info\">\n",
    "<b>Exercise:</b> \n",
    "    <br>\n",
    "    To experiment with finally and else you can insert a test.txt file in the lecture folder and see how the output changes.\n",
    "</div>"
   ]
  },
  {
   "cell_type": "markdown",
   "id": "ea968350-ab65-46fd-b15d-084011658562",
   "metadata": {},
   "source": [
    "---\n",
    "### Exceptions will go up through functions\n",
    "If an exception was not cought within a function it will go up through the function and will cause an error when we use the function somewhere else:"
   ]
  },
  {
   "cell_type": "code",
   "execution_count": null,
   "id": "fd480b8a-ac43-43f8-b80c-9c633463d902",
   "metadata": {
    "id": "58ed6045-6043-458f-9269-907354339598",
    "tags": []
   },
   "outputs": [],
   "source": [
    "# Exceptions will go up through functions if unhandled\n",
    "def foo():\n",
    "    try:\n",
    "        [1, 2][3] #this will cause an IndexError, however as it isn't handled here, the error is thrown upward to the caller\n",
    "        open('asdf')\n",
    "    except FileNotFoundError as err:\n",
    "        print('file not found error')\n",
    "\n",
    "try:\n",
    "    foo()\n",
    "    print(\"won't be reached\")\n",
    "except IndexError as err:\n",
    "    print('index error')"
   ]
  },
  {
   "cell_type": "markdown",
   "id": "89aa6065-5624-4dc1-8f5d-af1fc0a78491",
   "metadata": {},
   "source": [
    "You can catch multiple exceptions in one try-exceot statement in several ways.  "
   ]
  },
  {
   "cell_type": "code",
   "execution_count": null,
   "id": "f58b6b89-5bc2-44fd-b01a-8e44f937ee59",
   "metadata": {
    "id": "26d5aeca-efe4-4098-b411-3f9a280b7894",
    "tags": []
   },
   "outputs": [],
   "source": [
    "# you can catch multiple exceptions in one try-except statement\n",
    "\n",
    "try:\n",
    "    [1,2][3]\n",
    "except IndexError:        #and if it does, it won't execute the others\n",
    "    print(\"this won't..\")\n",
    "except Exception:         #it will start chronologically at the first one, looking if this fits....\n",
    "    print(\"this will run\") \n",
    "\n"
   ]
  },
  {
   "cell_type": "markdown",
   "id": "b9e15f7e-ec94-45f6-86c7-4ffeaae39d60",
   "metadata": {},
   "source": [
    "But usually you will catch several exceptions in the following way:"
   ]
  },
  {
   "cell_type": "code",
   "execution_count": null,
   "id": "57264894-bec1-47cf-93a2-91dcae0266d1",
   "metadata": {
    "id": "6b0a9f0c-0cf7-4d6d-a026-3a3972a17aa6",
    "tags": []
   },
   "outputs": [],
   "source": [
    "# you can catch multiple exceptions in one try-except statement\n",
    "\n",
    "try:\n",
    "    [1,2]%2\n",
    "except (AttributeError, LookupError):         #it will start chronologically at the first one, looking if this fits....\n",
    "    print(\"either attr or lookup\") "
   ]
  },
  {
   "cell_type": "markdown",
   "id": "2f5c6c5f-3170-48b2-afcf-4c6a17859480",
   "metadata": {},
   "source": [
    "---\n",
    "## Writing Exceptions\n",
    "To write our own exception we can simply create a new class and let it inherit from the class `Exception`. \n",
    "With `self.message` you can set a costum message of your exception. Within a function you can specify when your exception needs to be raised."
   ]
  },
  {
   "cell_type": "code",
   "execution_count": null,
   "id": "55f89e79-5b45-4896-aeab-2ad408758816",
   "metadata": {
    "id": "9f575aa5-83e8-486b-9db1-76d13e8e59d6",
    "tags": []
   },
   "outputs": [],
   "source": [
    "# You can even extend Exception yourself, to throw your own Exceptions!\n",
    "\n",
    "class NotTheValueIWantedException(Exception):\n",
    "    def __init__(self):\n",
    "        self.message = \"This value is not acceptable!\"\n",
    "        super().__init__(self.message)\n",
    "\n",
    "print(isinstance(NotTheValueIWantedException(), Exception))"
   ]
  },
  {
   "cell_type": "code",
   "execution_count": null,
   "id": "ec6c53c8-2057-4f45-b5c2-c4d04f013ced",
   "metadata": {
    "id": "a406abf3-11b2-4f46-bfca-fb0b56f5509b",
    "tags": []
   },
   "outputs": [],
   "source": [
    "def my_function(value):\n",
    "    if value != 42 and value != 1337:\n",
    "        raise NotTheValueIWantedException\n",
    "        \n",
    "for i in [1, 2, 42, \"hello\", 1337]:\n",
    "    try:\n",
    "        my_function(i)\n",
    "        print(\"A value it accepted was:\", i)\n",
    "    except KeyError:\n",
    "        print(\"{} was not the value it wanted\".format(i))"
   ]
  },
  {
   "cell_type": "markdown",
   "id": "9b590c3e-e48e-448f-a3a4-fa4ba01546e5",
   "metadata": {
    "id": "1c5d81ac-d74f-42b6-b3ff-6a3368a5bcb8",
    "tags": []
   },
   "source": [
    "---\n",
    "# Duck Typing\n",
    "\n",
    "> *\"If it looks like a duck and quacks like a duck, it probably is a duck\"*.\n",
    "\n",
    "We stated before, that the type of a variable is only checked at the last possible minute. In fact, the philosophy of **duck typing** is that it doesn't even matter what type a variable is -- the only thing that matters is if you can do what you need to with it."
   ]
  },
  {
   "cell_type": "code",
   "execution_count": null,
   "id": "cc123ffb-4163-41ca-848b-0fc468471039",
   "metadata": {
    "id": "30775a74-70ca-40ee-affc-594732bfca45",
    "tags": []
   },
   "outputs": [],
   "source": [
    "class Animal:\n",
    "    def is_living():\n",
    "        return True\n",
    "    \n",
    "class LandAnimal(Animal):\n",
    "    \n",
    "    def __init__(self):\n",
    "        self.has_legs = True\n",
    "        \n",
    "    def walk(self):\n",
    "        return \"tap tap\"\n",
    "    \n",
    "class WaterAnimal(Animal):\n",
    "    def __init__(self):\n",
    "        self.has_legs = False\n",
    "    \n",
    "    def swim(self):\n",
    "        return \"splash\""
   ]
  },
  {
   "cell_type": "code",
   "execution_count": null,
   "id": "d152b003-9460-45f0-add6-63716ba3b263",
   "metadata": {
    "id": "5c8278ad-3767-4ab6-9fac-883a9265b3be",
    "tags": []
   },
   "outputs": [],
   "source": [
    "def move_forward(animal):\n",
    "    if isinstance(animal, LandAnimal):\n",
    "        print(animal.walk())\n",
    "    if isinstance(animal, WaterAnimal):\n",
    "        print(animal.swim())"
   ]
  },
  {
   "cell_type": "code",
   "execution_count": null,
   "id": "b36d8be3-9507-434a-96a6-8341ce911fab",
   "metadata": {
    "id": "3b237e17-22d5-4966-ace3-f64d849ac362",
    "tags": []
   },
   "outputs": [],
   "source": [
    "animal = LandAnimal() if random.randint(0,1) else WaterAnimal()\n",
    "\n",
    "move_forward(animal)"
   ]
  },
  {
   "cell_type": "code",
   "execution_count": null,
   "id": "e71005d8-09df-4d64-ad3a-4e945f3302e4",
   "metadata": {
    "id": "f0d7808e-6ffa-46cd-b58a-b73656e548e7",
    "tags": []
   },
   "outputs": [],
   "source": [
    "class DuckLikeAnimal(LandAnimal, WaterAnimal):\n",
    "    pass\n",
    "\n",
    "move_forward(DuckLikeAnimal())"
   ]
  },
  {
   "cell_type": "markdown",
   "id": "2370b707-c614-4bb5-a5fc-4cc17b7c6270",
   "metadata": {
    "id": "f3ea7dd1-6a37-47bb-b607-07ae4e16ad39",
    "tags": []
   },
   "source": [
    "![Glossary: Duck Typing](../2_advanced_python/figures/ducktyping.png \"Glossary: Duck Typing\")"
   ]
  },
  {
   "cell_type": "code",
   "execution_count": null,
   "id": "b9d04712-be8e-4658-b34c-88f80e231ae2",
   "metadata": {
    "id": "40ce619b-995b-4a2c-a5e9-f8bdc61cdc17",
    "tags": []
   },
   "outputs": [],
   "source": [
    "class DuckLikeAnimal(LandAnimal, WaterAnimal):\n",
    "    def __init__(self, *args, **kwargs):\n",
    "        self.looks_like = \"duck\"\n",
    "        self.quacks_like = \"duck\"\n",
    "        super().__init__(*args, **kwargs)    "
   ]
  },
  {
   "cell_type": "code",
   "execution_count": null,
   "id": "a982ae46-2e29-4b91-a65f-edd54213857a",
   "metadata": {
    "id": "f50b5657-3c18-49f8-ae20-1fe30e63b85d",
    "tags": []
   },
   "outputs": [],
   "source": [
    "duck_like = DuckLikeAnimal()\n",
    "\n",
    "if duck_like.looks_like == \"duck\" and duck_like.quacks_like == \"duck\":\n",
    "    print(\"For all that matters, it is a duck!\")"
   ]
  },
  {
   "cell_type": "markdown",
   "id": "958b6ab0-ee5d-4f7a-8553-9457f30d8b36",
   "metadata": {
    "id": "95d7e4e7-8ad3-43ee-85af-b8dbd0970a20",
    "tags": []
   },
   "source": [
    "So making our animal move *the pythonic way* would include our principle of duck typing togehter with our EAFP principle:"
   ]
  },
  {
   "cell_type": "code",
   "execution_count": null,
   "id": "95876f77-a043-4b85-8eb0-dab8cf7641e2",
   "metadata": {
    "id": "dc70bce4-dbac-4f88-b26a-c33faf438392",
    "tags": []
   },
   "outputs": [],
   "source": [
    "animal = DuckLikeAnimal()\n",
    "\n",
    "try:\n",
    "    print(animal.walk())\n",
    "except AttributeError:\n",
    "    print(animal.swim())"
   ]
  },
  {
   "cell_type": "markdown",
   "id": "a0b8bf51-c118-4daf-8a9a-5bd1ed3cc9d1",
   "metadata": {
    "tags": []
   },
   "source": [
    "# Decorators\n",
    "Decorators are functions that extend the functionality of other functions or classes.<br>"
   ]
  },
  {
   "cell_type": "code",
   "execution_count": null,
   "id": "6f989199-0a5e-4dbc-aa53-c7e706b5e95f",
   "metadata": {
    "tags": []
   },
   "outputs": [],
   "source": [
    "def add(x, y):\n",
    "    return x + y\n",
    "\n",
    "def decorated_add(x, y):\n",
    "    result = add(x, y)\n",
    "    print(f\"Result of {add.__name__}: {result}\")"
   ]
  },
  {
   "cell_type": "code",
   "execution_count": null,
   "id": "05d14be2-f52e-4920-8aba-3bf2283c35c8",
   "metadata": {
    "tags": []
   },
   "outputs": [],
   "source": [
    "decorated_add(1,2)"
   ]
  },
  {
   "cell_type": "markdown",
   "id": "bff695b1-2337-49ed-b453-604b4a58d3e0",
   "metadata": {
    "tags": []
   },
   "source": [
    "<br>\n",
    "\n",
    "### ... for arbitrary functions\n",
    "If we pass the function that we want to decorate as an argument, then we can decorate any function."
   ]
  },
  {
   "cell_type": "code",
   "execution_count": null,
   "id": "321c20f4-a77f-46c0-8edb-cdadc9d5076f",
   "metadata": {
    "tags": []
   },
   "outputs": [],
   "source": [
    "def decorated_function(func, x, y):\n",
    "    result = func(x, y)\n",
    "    print(f\"Result of {func.__name__}: {result}\")"
   ]
  },
  {
   "cell_type": "code",
   "execution_count": null,
   "id": "655a61d4-e27a-4807-affa-c4521f653aff",
   "metadata": {
    "tags": []
   },
   "outputs": [],
   "source": [
    "def add(x, y):\n",
    "    return x + y\n",
    "\n",
    "def substract(x, y):\n",
    "    return x - y\n",
    "\n",
    "def multiply(x,y):\n",
    "    return x * y"
   ]
  },
  {
   "cell_type": "code",
   "execution_count": null,
   "id": "e33d9374-58e5-4826-9d61-a4a41614d66d",
   "metadata": {
    "tags": []
   },
   "outputs": [],
   "source": [
    "decorated_function(add, 1, 2)\n",
    "decorated_function(substract, 1, 2)\n",
    "decorated_function(multiply, 1, 2)"
   ]
  },
  {
   "cell_type": "markdown",
   "id": "881c5764-1772-4215-943c-2c3606346570",
   "metadata": {
    "tags": []
   },
   "source": [
    "---\n",
    "### Overwritting the original function\n",
    "Calling `decorated_function` everytime is a bit tideous, <br>\n",
    "so instead we define the `decorated_function` as an inner function inside the out function `decorator` and then return it from there:"
   ]
  },
  {
   "cell_type": "code",
   "execution_count": null,
   "id": "f9919777-6f13-40ea-8b4e-3baebd031ee9",
   "metadata": {
    "tags": []
   },
   "outputs": [],
   "source": [
    "def decorator(func):\n",
    "    \n",
    "    def decorated_function(x, y): \n",
    "        result = func(x,y)\n",
    "        print(f\"Result of {func.__name__}: {result}\")\n",
    "        \n",
    "    return decorated_function"
   ]
  },
  {
   "cell_type": "markdown",
   "id": "f591ed3a-767c-4851-ab5f-3dffe1bbc441",
   "metadata": {
    "tags": []
   },
   "source": [
    "With the returned decorated function we can then overwrite the original function."
   ]
  },
  {
   "cell_type": "code",
   "execution_count": null,
   "id": "b8cc3d81-90b9-4dca-8b8f-2644a47a5dc6",
   "metadata": {
    "tags": []
   },
   "outputs": [],
   "source": [
    "def add(x,y):\n",
    "    return x + y\n",
    "\n",
    "add = decorator(add)"
   ]
  },
  {
   "cell_type": "code",
   "execution_count": null,
   "id": "01237319-6871-43e1-8661-e3bfb07a9e48",
   "metadata": {
    "tags": []
   },
   "outputs": [],
   "source": [
    "add(1,2)"
   ]
  },
  {
   "cell_type": "markdown",
   "id": "d2f0aef3-0eeb-41c1-8996-b3352f396187",
   "metadata": {
    "tags": []
   },
   "source": [
    "---\n",
    "\n",
    "### @ - snytactic sugar for decorating\n",
    "Python provides a syntax for the assignment `function = decorator(function)`.<br>"
   ]
  },
  {
   "cell_type": "code",
   "execution_count": null,
   "id": "2f9e3064-468f-4ab2-8f4c-859ae5cf322e",
   "metadata": {
    "tags": []
   },
   "outputs": [],
   "source": [
    "@decorator #add = decorator(add)\n",
    "def add(x,y):\n",
    "    return x + y"
   ]
  },
  {
   "cell_type": "code",
   "execution_count": null,
   "id": "26be8ea0-0344-4e3a-b0e9-2738be004622",
   "metadata": {
    "tags": []
   },
   "outputs": [],
   "source": [
    "add(1,2)"
   ]
  },
  {
   "cell_type": "markdown",
   "id": "6f368dfa-7bdf-49f0-ae01-94e3b8e21a48",
   "metadata": {
    "tags": []
   },
   "source": [
    "---\n",
    "\n",
    "## Another Example\n",
    "Here we have a decorator that wraps the functions return into bold symbols."
   ]
  },
  {
   "cell_type": "code",
   "execution_count": null,
   "id": "027c371e-3e1e-48ea-8bbd-de4934983624",
   "metadata": {
    "tags": []
   },
   "outputs": [],
   "source": [
    "def bold(fn):\n",
    "    \"\"\"wraps the result of a function such that it's bold\"\"\"\n",
    "    def wrapped():\n",
    "        return \"<b>\" + fn() + \"</b>\"\n",
    "    return wrapped\n",
    "\n",
    "\n",
    "@bold #hello = bold(hello)\n",
    "def hello():\n",
    "    \"\"\"returns 'hello world'\"\"\"\n",
    "    return \"hello world\"\n",
    "\n",
    "hello()"
   ]
  },
  {
   "cell_type": "markdown",
   "id": "af996056-9937-4f57-a8d8-a74643697a05",
   "metadata": {
    "tags": []
   },
   "source": [
    " We can render this string with the `HTML` function."
   ]
  },
  {
   "cell_type": "code",
   "execution_count": null,
   "id": "90fe61fe-f7bd-42db-b347-69307e3c1bf0",
   "metadata": {
    "tags": []
   },
   "outputs": [],
   "source": [
    "from IPython.display import HTML"
   ]
  },
  {
   "cell_type": "code",
   "execution_count": null,
   "id": "f851e84c-d59f-42e8-a4db-70be94654729",
   "metadata": {
    "tags": []
   },
   "outputs": [],
   "source": [
    "HTML(hello())"
   ]
  },
  {
   "cell_type": "markdown",
   "id": "63f09cb4-ad49-44d3-8c21-2e6612282489",
   "metadata": {
    "tags": []
   },
   "source": [
    "---\n",
    "\n",
    "### chaining decorators\n",
    "We can also chain decorators by writing them below each other above the function we want to decorate."
   ]
  },
  {
   "cell_type": "code",
   "execution_count": null,
   "id": "4211c449-3503-4ac2-a898-204012433054",
   "metadata": {
    "tags": []
   },
   "outputs": [],
   "source": [
    "def bold(fn):\n",
    "    \"\"\"wraps the result of a function such that it's bold\"\"\"\n",
    "    def wrapped():\n",
    "        return \"<b>\" + fn() + \"</b>\"\n",
    "    return wrapped\n",
    "\n",
    "def italic(fn):\n",
    "    \"\"\"wraps the result of a function such that it's italics\"\"\"\n",
    "    def wrapped():\n",
    "        return \"<i>\" + fn() + \"</i>\"\n",
    "    return wrapped\n",
    "\n",
    "def html(fn):\n",
    "    \"\"\"renders html\"\"\"\n",
    "    def wrapped():\n",
    "        return HTML(fn())\n",
    "    return wrapped\n",
    "\n",
    "\n",
    "@html   #hello = html(hello)\n",
    "@bold   #hello = bold(hello)\n",
    "@italic #hello = italic(hello)\n",
    "def hello():\n",
    "    \"\"\"returns 'hello world'\"\"\"\n",
    "    return \"hello world\"\n",
    "\n",
    "hello()"
   ]
  },
  {
   "cell_type": "markdown",
   "id": "f73196e6-f07b-4d35-9705-580f7e405f56",
   "metadata": {
    "tags": []
   },
   "source": [
    "<br>\n",
    "\n",
    "### Recovering the docstring "
   ]
  },
  {
   "cell_type": "code",
   "execution_count": null,
   "id": "3d701b4e-7d25-49b4-a8f0-3a4614db103f",
   "metadata": {
    "tags": []
   },
   "outputs": [],
   "source": [
    "hello?"
   ]
  },
  {
   "cell_type": "markdown",
   "id": "b05debc1-7c58-4f10-985e-5ddcf5fb4813",
   "metadata": {
    "tags": []
   },
   "source": [
    "We can use *another decorator*, namely `functools.wraps`. This simply copies the docstring of the original function to the new one."
   ]
  },
  {
   "cell_type": "code",
   "execution_count": null,
   "id": "fb7fd217-722b-4153-85ee-94c17fd47405",
   "metadata": {
    "tags": []
   },
   "outputs": [],
   "source": [
    "from functools import wraps\n",
    "\n",
    "def bold(fn):\n",
    "    \"\"\"wraps the result of a function such that it's bold\"\"\"\n",
    "    @wraps(fn)\n",
    "    def wrapped():\n",
    "        return \"<b>\" + fn() + \"</b>\"\n",
    "    return wrapped\n",
    "\n",
    "def italic(fn):\n",
    "    \"\"\"wraps the result of a function such that it's italics\"\"\"\n",
    "    @wraps(fn)\n",
    "    def wrapped():\n",
    "        return \"<i>\" + fn() + \"</i>\"\n",
    "    return wrapped\n",
    "\n",
    "def html(fn):\n",
    "    \"\"\"renders html\"\"\"\n",
    "    @wraps(fn)\n",
    "    def wrapped():\n",
    "        return HTML(fn())\n",
    "    return wrapped\n",
    "\n",
    "\n",
    "@html   #hello = html(hello)\n",
    "@bold   #hello = bold(hello)\n",
    "@italic #hello = italic(hello)\n",
    "def hello():\n",
    "    \"\"\"returns 'hello world'\"\"\"\n",
    "    return \"hello world\""
   ]
  },
  {
   "cell_type": "code",
   "execution_count": null,
   "id": "67afb3f4-64cf-43d7-bf97-f5fbacf24eb0",
   "metadata": {
    "tags": []
   },
   "outputs": [],
   "source": [
    "hello?"
   ]
  },
  {
   "cell_type": "markdown",
   "id": "05191d41-d3dd-4086-99a6-55f7f54e8265",
   "metadata": {
    "tags": []
   },
   "source": [
    "<div class=\"alert alert-block alert-info\">\n",
    "<b>Exercise:</b> \n",
    "    <br>\n",
    "Define and apply a decorator that makes a string appear red. \n",
    "</div>"
   ]
  },
  {
   "cell_type": "markdown",
   "id": "b29a576f-4e50-4918-b330-a5548042e3f0",
   "metadata": {
    "tags": []
   },
   "source": [
    "You can achieve this by wrapping the string in `<span style='color: red'> str </span>`"
   ]
  },
  {
   "cell_type": "code",
   "execution_count": null,
   "id": "5b14077f-c5cf-489f-a326-6febda806896",
   "metadata": {
    "tags": []
   },
   "outputs": [],
   "source": [
    "def red(fn):\n",
    "    pass\n",
    "\n",
    "@html\n",
    "#@red\n",
    "@bold\n",
    "@italic\n",
    "def hello():\n",
    "    \"\"\"returns 'hello world'\"\"\"\n",
    "    return \"hello world\"\n",
    "\n",
    "hello()"
   ]
  },
  {
   "cell_type": "markdown",
   "id": "0fc75cc5-d0db-4eb8-a37b-034de46af253",
   "metadata": {
    "id": "GiaGArLCBnTQ",
    "tags": []
   },
   "source": [
    "# String Formatting"
   ]
  },
  {
   "cell_type": "markdown",
   "id": "94985caf-5963-466b-bf01-f7dce9157d6b",
   "metadata": {
    "id": "r9dfOSnkCUC0",
    "tags": []
   },
   "source": [
    "String formatting lets you inject items into a string rather than trying to chain items together using commas or string concatenation.\n",
    "\n",
    "There are three ways to perform string formatting.\n",
    "\n",
    " - The oldest method involves placeholders using the modulo `% `character.\n",
    " - An improved technique uses the `.format()` string method.\n",
    " - The newest method, introduced with Python 3.6, uses formatted string literals, called `f-strings`.\n",
    "\n",
    "\n"
   ]
  },
  {
   "cell_type": "markdown",
   "id": "cbee6bb4-98a4-469b-a54e-df6d6330c644",
   "metadata": {
    "id": "zZE0jKGLDNgM",
    "tags": []
   },
   "source": [
    "## Formatting with placeholders\n",
    "\n",
    "You can use `%s` to inject strings into your print statements. The module `%` is referred to as a \"string formatting operator\"."
   ]
  },
  {
   "cell_type": "code",
   "execution_count": 8,
   "id": "a1b7d63b-f0a6-4bc1-9aac-d3e9720f3ba7",
   "metadata": {
    "colab": {
     "base_uri": "https://localhost:8080/"
    },
    "executionInfo": {
     "elapsed": 9,
     "status": "ok",
     "timestamp": 1650297026932,
     "user": {
      "displayName": "Argha Sarker",
      "userId": "00722939545107565048"
     },
     "user_tz": -120
    },
    "id": "ctrRlZJcDM55",
    "outputId": "c48111a3-fe5b-4f13-b759-d6fb2e2f8bb8",
    "tags": []
   },
   "outputs": [
    {
     "name": "stdout",
     "output_type": "stream",
     "text": [
      "lets get vaccinated against covid-19.\n"
     ]
    }
   ],
   "source": [
    "print(\"lets get %s against covid-19.\" %'vaccinated')"
   ]
  },
  {
   "cell_type": "markdown",
   "id": "961b2ba9-5bd5-45e2-9817-85783c7d58da",
   "metadata": {
    "id": "1aEpGsGvDtIf",
    "tags": []
   },
   "source": [
    "You can pass multiple items by placing them inside a tuple after the % operator."
   ]
  },
  {
   "cell_type": "code",
   "execution_count": 2,
   "id": "f54f440b-28be-45a7-baed-89d5045ced72",
   "metadata": {
    "colab": {
     "base_uri": "https://localhost:8080/"
    },
    "executionInfo": {
     "elapsed": 8,
     "status": "ok",
     "timestamp": 1650297026932,
     "user": {
      "displayName": "Argha Sarker",
      "userId": "00722939545107565048"
     },
     "user_tz": -120
    },
    "id": "9XvwDtpgCTZc",
    "outputId": "b9191f25-0e75-4f1a-ed7e-36ff223a5101",
    "tags": []
   },
   "outputs": [
    {
     "name": "stdout",
     "output_type": "stream",
     "text": [
      "lets get vaccinated against covid-19.\n"
     ]
    }
   ],
   "source": [
    "print(\"lets get %s against %s.\" %('vaccinated','covid-19'))"
   ]
  },
  {
   "cell_type": "markdown",
   "id": "813f53be-bdda-4d69-84c1-1724403d1f6b",
   "metadata": {
    "id": "DfAFHuJEDxJF",
    "tags": []
   },
   "source": [
    "It can be also variable names"
   ]
  },
  {
   "cell_type": "code",
   "execution_count": 9,
   "id": "f08ba10f-05fb-4642-911d-977a786ccd27",
   "metadata": {
    "colab": {
     "base_uri": "https://localhost:8080/"
    },
    "executionInfo": {
     "elapsed": 7,
     "status": "ok",
     "timestamp": 1650297026932,
     "user": {
      "displayName": "Argha Sarker",
      "userId": "00722939545107565048"
     },
     "user_tz": -120
    },
    "id": "WWvuxGeTBmmk",
    "outputId": "ea8b9cc5-8f2b-45cf-f059-1cf332b9fc1f",
    "tags": []
   },
   "outputs": [
    {
     "name": "stdout",
     "output_type": "stream",
     "text": [
      "lets get vaccinated against covid-19.\n"
     ]
    }
   ],
   "source": [
    "x, y = 'vaccinated','covid-19'\n",
    "print(\"lets get %s against %s.\" %(x,y))"
   ]
  },
  {
   "cell_type": "markdown",
   "id": "1cd98629-9461-454f-b858-1028dba46c57",
   "metadata": {
    "id": "wbLSY0QICo6t",
    "tags": []
   },
   "source": [
    "The `%s` operator converts whatever it receives into a string, including integers and floats. The `%d` operator converts numbers to integers first, without rounding. Note the difference below:"
   ]
  },
  {
   "cell_type": "code",
   "execution_count": 10,
   "id": "40a250de-285f-4885-96dd-e67493b82a79",
   "metadata": {
    "colab": {
     "base_uri": "https://localhost:8080/"
    },
    "executionInfo": {
     "elapsed": 7,
     "status": "ok",
     "timestamp": 1650297026933,
     "user": {
      "displayName": "Argha Sarker",
      "userId": "00722939545107565048"
     },
     "user_tz": -120
    },
    "id": "VwF8IoawBlzp",
    "outputId": "0661e968-6ab8-49e7-8ecd-af165f4697e9",
    "tags": []
   },
   "outputs": [
    {
     "name": "stdout",
     "output_type": "stream",
     "text": [
      "I wrote 3.99 programs today.\n",
      "I wrote 3 programs today.\n"
     ]
    }
   ],
   "source": [
    "print('I wrote %s programs today.' %3.99)\n",
    "print('I wrote %d programs today.' %3.99)   "
   ]
  },
  {
   "cell_type": "markdown",
   "id": "9e2a9622-8fe5-4743-aafe-10d3af3971da",
   "metadata": {
    "id": "5HU9011oDPcn",
    "tags": []
   },
   "source": [
    "Padding and Precision of Floating Point Numbers: \n",
    "\n",
    " - Floating point numbers use the format `%5.2f`. Here, 5 would be the minimum number of characters the string should contain; these may be padded with whitespace if the entire number does not have this many digits. Next to this, `.2f` stands for how many numbers to show past the decimal point. \n",
    " \n",
    "Let's see some examples:"
   ]
  },
  {
   "cell_type": "code",
   "execution_count": 12,
   "id": "a02404cb-bb09-4e56-830e-044906c90d40",
   "metadata": {
    "colab": {
     "base_uri": "https://localhost:8080/"
    },
    "executionInfo": {
     "elapsed": 635,
     "status": "ok",
     "timestamp": 1650298725380,
     "user": {
      "displayName": "Argha Sarker",
      "userId": "00722939545107565048"
     },
     "user_tz": -120
    },
    "id": "oW_zKzmdDOsU",
    "outputId": "c268043a-1092-4fa1-ebca-362dd11cb22b",
    "tags": []
   },
   "outputs": [
    {
     "name": "stdout",
     "output_type": "stream",
     "text": [
      "Floating point numbers: 1390.14\n"
     ]
    }
   ],
   "source": [
    "print('Floating point numbers: %5.2f' %(1390.1442872))"
   ]
  },
  {
   "cell_type": "code",
   "execution_count": 6,
   "id": "bda04dfb-3f00-4525-b1f7-3e9351ba5a2c",
   "metadata": {
    "colab": {
     "base_uri": "https://localhost:8080/"
    },
    "executionInfo": {
     "elapsed": 7,
     "status": "ok",
     "timestamp": 1650297026933,
     "user": {
      "displayName": "Argha Sarker",
      "userId": "00722939545107565048"
     },
     "user_tz": -120
    },
    "id": "WxYXzAoDDhj4",
    "outputId": "c5df1d3e-dad2-4f84-dd74-965078419de7",
    "tags": []
   },
   "outputs": [
    {
     "name": "stdout",
     "output_type": "stream",
     "text": [
      "Floating point numbers:       1390\n"
     ]
    }
   ],
   "source": [
    "print('Floating point numbers: %10.0f' %(1390.1442872))"
   ]
  },
  {
   "cell_type": "code",
   "execution_count": 7,
   "id": "bfc6f053-6828-4ec9-950e-2bf3f7e826e8",
   "metadata": {
    "colab": {
     "base_uri": "https://localhost:8080/"
    },
    "executionInfo": {
     "elapsed": 6,
     "status": "ok",
     "timestamp": 1650297026933,
     "user": {
      "displayName": "Argha Sarker",
      "userId": "00722939545107565048"
     },
     "user_tz": -120
    },
    "id": "LJnS_rZWDpij",
    "outputId": "d34ce6c7-d59f-4f96-b2e1-d93be5e2a89e",
    "tags": []
   },
   "outputs": [
    {
     "name": "stdout",
     "output_type": "stream",
     "text": [
      "Floating point numbers:                   1390.14\n"
     ]
    }
   ],
   "source": [
    "print('Floating point numbers: %25.2f' %(1390.1442872))"
   ]
  },
  {
   "cell_type": "markdown",
   "id": "afae8579-4e77-4a97-8c65-4e46c956eeec",
   "metadata": {
    "id": "wEbK-HRoE9FA",
    "tags": []
   },
   "source": [
    "Multiple Formatting\n",
    "\n",
    "- Nothing prohibits using more than one conversion tool in the same print statement:"
   ]
  },
  {
   "cell_type": "code",
   "execution_count": 8,
   "id": "0e3255d8-940e-4d1a-9ca3-30f46a561fad",
   "metadata": {
    "colab": {
     "base_uri": "https://localhost:8080/"
    },
    "executionInfo": {
     "elapsed": 431,
     "status": "ok",
     "timestamp": 1650297027359,
     "user": {
      "displayName": "Argha Sarker",
      "userId": "00722939545107565048"
     },
     "user_tz": -120
    },
    "id": "vx4DWAaFE_9_",
    "outputId": "bc5fbecb-d744-46a5-8a5d-d3436e24a395",
    "tags": []
   },
   "outputs": [
    {
     "name": "stdout",
     "output_type": "stream",
     "text": [
      "First: hi!, Second:  3.14, Third: 'bye!'\n"
     ]
    }
   ],
   "source": [
    "print('First: %s, Second: %5.2f, Third: %a' %('hi!',3.1415,'bye!'))"
   ]
  },
  {
   "cell_type": "markdown",
   "id": "e7bcfcc0-cfb2-4693-8bc7-13f898c2dc7b",
   "metadata": {
    "id": "WErW1NTmFEI8",
    "tags": []
   },
   "source": [
    "For more information on string formatting with placeholders visit `https://docs.python.org/3/library/stdtypes.html#old-string-formatting`"
   ]
  },
  {
   "cell_type": "markdown",
   "id": "aab05e47-5807-43a4-b9d5-aa7aa78ff49a",
   "metadata": {
    "id": "0qR-AcWsFHL8",
    "tags": []
   },
   "source": [
    "## Formatting with the .format() method\n",
    "\n",
    "A better way to format objects into your strings for print statements is with the string `.format()` method. The syntax is:\n",
    "\n",
    "'String here `{}` then also `{}'.format('something1','something2')`\n",
    "\n",
    "For example:"
   ]
  },
  {
   "cell_type": "code",
   "execution_count": 9,
   "id": "97fe1041-9234-4571-a076-8c051e5966b9",
   "metadata": {
    "colab": {
     "base_uri": "https://localhost:8080/"
    },
    "executionInfo": {
     "elapsed": 20,
     "status": "ok",
     "timestamp": 1650297027360,
     "user": {
      "displayName": "Argha Sarker",
      "userId": "00722939545107565048"
     },
     "user_tz": -120
    },
    "id": "UoDUlZOnFXO_",
    "outputId": "f5a27522-f149-4411-87f0-20b552827c76",
    "tags": []
   },
   "outputs": [
    {
     "name": "stdout",
     "output_type": "stream",
     "text": [
      "This is a string with an insert\n"
     ]
    }
   ],
   "source": [
    "print('This is a string with an {}'.format('insert'))"
   ]
  },
  {
   "cell_type": "markdown",
   "id": "e0ef8412-3e10-4d22-8860-9f9f6447ede7",
   "metadata": {
    "id": "_-ZEFhabFmtA",
    "tags": []
   },
   "source": [
    "The `.format()` method has several advantages over the `%s` placeholder method\n",
    "\n",
    "-  Inserted objects can be called by index position:"
   ]
  },
  {
   "cell_type": "code",
   "execution_count": 10,
   "id": "9a9a635d-8724-4953-a724-7591cccd5f44",
   "metadata": {
    "colab": {
     "base_uri": "https://localhost:8080/"
    },
    "executionInfo": {
     "elapsed": 19,
     "status": "ok",
     "timestamp": 1650297027360,
     "user": {
      "displayName": "Argha Sarker",
      "userId": "00722939545107565048"
     },
     "user_tz": -120
    },
    "id": "AbUFW6H2FZZo",
    "outputId": "46e507b1-2c91-46e4-d25d-b9e3630e30cc",
    "tags": []
   },
   "outputs": [
    {
     "name": "stdout",
     "output_type": "stream",
     "text": [
      "The quick brown fox\n"
     ]
    }
   ],
   "source": [
    "print('The {2} {1} {0}'.format('fox','brown','quick'))"
   ]
  },
  {
   "cell_type": "markdown",
   "id": "c8bcc8ac-e92f-404f-ab1a-4c375d29c188",
   "metadata": {
    "id": "9Lg93JDIFuwL",
    "tags": []
   },
   "source": [
    "- Inserted objects can be assigned keywords:"
   ]
  },
  {
   "cell_type": "code",
   "execution_count": 13,
   "id": "e72545bc-2d1f-4c7a-aa4a-006a4298c03d",
   "metadata": {
    "colab": {
     "base_uri": "https://localhost:8080/"
    },
    "executionInfo": {
     "elapsed": 18,
     "status": "ok",
     "timestamp": 1650297027360,
     "user": {
      "displayName": "Argha Sarker",
      "userId": "00722939545107565048"
     },
     "user_tz": -120
    },
    "id": "Z9gsbZTLFuNQ",
    "outputId": "068978f9-4382-40dc-8adf-e5e2979500cc",
    "tags": []
   },
   "outputs": [
    {
     "name": "stdout",
     "output_type": "stream",
     "text": [
      "First Object: 1, Second Object: Two, Third Object: 12.3\n"
     ]
    }
   ],
   "source": [
    "print('First Object: {a}, Second Object: {b}, Third Object: {c}'.format(a=1,b='Two',c=12.3))"
   ]
  },
  {
   "cell_type": "markdown",
   "id": "b3fc41d8-5d2f-4e5b-8384-29d8a80f7627",
   "metadata": {
    "id": "XbnoL60fFyi3",
    "tags": []
   },
   "source": [
    " - Inserted objects can be reused, avoiding duplication:"
   ]
  },
  {
   "cell_type": "code",
   "execution_count": 12,
   "id": "8716299b-f7e9-4b6e-bcbe-c5290128002b",
   "metadata": {
    "colab": {
     "base_uri": "https://localhost:8080/"
    },
    "executionInfo": {
     "elapsed": 18,
     "status": "ok",
     "timestamp": 1650297027361,
     "user": {
      "displayName": "Argha Sarker",
      "userId": "00722939545107565048"
     },
     "user_tz": -120
    },
    "id": "fEeotDfGF5OF",
    "outputId": "3e051d1f-7d3d-48ec-bdb7-4a8e0c145134",
    "tags": []
   },
   "outputs": [
    {
     "name": "stdout",
     "output_type": "stream",
     "text": [
      "A penny saved is a penny earned.\n",
      "A penny saved is a penny earned.\n"
     ]
    }
   ],
   "source": [
    "print('A %s saved is a %s earned.' %('penny','penny'))\n",
    "# vs.\n",
    "print('A {p} saved is a {p} earned.'.format(p='penny'))"
   ]
  },
  {
   "cell_type": "markdown",
   "id": "09f0cc76-199e-4ed9-84d4-65d602166eb2",
   "metadata": {
    "id": "qRrxgnghF7TE",
    "tags": []
   },
   "source": [
    "### Alignment, padding and precision with `.format()`\n",
    "\n",
    "Within the curly braces you can assign field lengths, left/right alignments, rounding parameters and more"
   ]
  },
  {
   "cell_type": "code",
   "execution_count": 17,
   "id": "6a962d69-ceb5-46ec-be92-0c0105993c0f",
   "metadata": {
    "colab": {
     "base_uri": "https://localhost:8080/"
    },
    "executionInfo": {
     "elapsed": 16,
     "status": "ok",
     "timestamp": 1650297027361,
     "user": {
      "displayName": "Argha Sarker",
      "userId": "00722939545107565048"
     },
     "user_tz": -120
    },
    "id": "8XaDP01tGVz7",
    "outputId": "488f090d-d5e8-4a60-b94d-4cb23c6c7e47",
    "tags": []
   },
   "outputs": [
    {
     "name": "stdout",
     "output_type": "stream",
     "text": [
      "Fruit    | Quantity \n",
      "Apples   |       3.0\n",
      "Oranges  |        10\n"
     ]
    }
   ],
   "source": [
    "print('{0:8} | {1:9}'.format('Fruit', 'Quantity'))\n",
    "print('{0:8} | {1:9}'.format('Apples', 3.))\n",
    "print('{0:8} | {1:9}'.format('Oranges', 10))"
   ]
  },
  {
   "cell_type": "markdown",
   "id": "ff60c455-bebe-4ace-95a6-7a0e113bc180",
   "metadata": {
    "id": "yrKpqgDrGdXn",
    "tags": []
   },
   "source": [
    "- By default, `.format()` aligns text to the left, numbers to the right. You can pass an optional `<`, `^`,or `>` to set a left, center or right alignment:"
   ]
  },
  {
   "cell_type": "code",
   "execution_count": 14,
   "id": "cba29473-f3d6-4e74-a6e4-9005eb7a48c1",
   "metadata": {
    "colab": {
     "base_uri": "https://localhost:8080/"
    },
    "executionInfo": {
     "elapsed": 15,
     "status": "ok",
     "timestamp": 1650297027361,
     "user": {
      "displayName": "Argha Sarker",
      "userId": "00722939545107565048"
     },
     "user_tz": -120
    },
    "id": "uIdIEsJWGiVv",
    "outputId": "99e1b52a-8112-4a47-da75-8a57ee5d2ee1",
    "tags": []
   },
   "outputs": [
    {
     "name": "stdout",
     "output_type": "stream",
     "text": [
      "Left     |  Center  |    Right\n",
      "11       |    22    |       33\n"
     ]
    }
   ],
   "source": [
    "print('{0:<8} | {1:^8} | {2:>8}'.format('Left','Center','Right'))\n",
    "print('{0:<8} | {1:^8} | {2:>8}'.format(11,22,33))"
   ]
  },
  {
   "cell_type": "markdown",
   "id": "01a8229f-6a72-4571-87d5-02e4d14ccd37",
   "metadata": {
    "id": "oGHpTkNQIi0q",
    "tags": []
   },
   "source": [
    "For more information on the string `.format()` method visit `https://docs.python.org/3/library/string.html#formatstrings`"
   ]
  },
  {
   "cell_type": "markdown",
   "id": "3ebe4b15-f909-4ca5-9b7b-90739ea51601",
   "metadata": {
    "id": "16Ssd4t2HXx_",
    "tags": []
   },
   "source": [
    "## Formatted String Literals (f-strings)\n",
    "\n",
    "Introduced in Python 3.6, f-strings offer several benefits over the older `.format()` string method described above. For one, you can bring outside variables immediately into to the string rather than pass them as arguments through `.format(var)`."
   ]
  },
  {
   "cell_type": "code",
   "execution_count": 15,
   "id": "54d1a399-5465-473e-802f-e3ee3b7c6648",
   "metadata": {
    "colab": {
     "base_uri": "https://localhost:8080/"
    },
    "executionInfo": {
     "elapsed": 15,
     "status": "ok",
     "timestamp": 1650297027362,
     "user": {
      "displayName": "Argha Sarker",
      "userId": "00722939545107565048"
     },
     "user_tz": -120
    },
    "id": "v2vCIuoMHkdv",
    "outputId": "a90b1b30-98d9-4f54-84fd-6106a6d73253",
    "tags": []
   },
   "outputs": [
    {
     "name": "stdout",
     "output_type": "stream",
     "text": [
      "He said his name is Fred.\n"
     ]
    }
   ],
   "source": [
    "name = 'Fred'\n",
    "\n",
    "print(f\"He said his name is {name}.\")"
   ]
  },
  {
   "cell_type": "markdown",
   "id": "885cdc7c-dde0-4743-b423-38d7cb64b5c5",
   "metadata": {
    "id": "P0MRja6zHqtO",
    "tags": []
   },
   "source": [
    " - Pass `!r` to get the string representation:"
   ]
  },
  {
   "cell_type": "code",
   "execution_count": 16,
   "id": "4720b52c-4280-4cb1-8862-4fd6f1869ae4",
   "metadata": {
    "colab": {
     "base_uri": "https://localhost:8080/"
    },
    "executionInfo": {
     "elapsed": 14,
     "status": "ok",
     "timestamp": 1650297027362,
     "user": {
      "displayName": "Argha Sarker",
      "userId": "00722939545107565048"
     },
     "user_tz": -120
    },
    "id": "mCcA4wviHs-g",
    "outputId": "a2ebb1d0-57b5-44c0-eca5-83d865e06780",
    "tags": []
   },
   "outputs": [
    {
     "name": "stdout",
     "output_type": "stream",
     "text": [
      "He said his name is 'Fred'\n"
     ]
    }
   ],
   "source": [
    "print(f\"He said his name is {name!r}\")"
   ]
  },
  {
   "cell_type": "markdown",
   "id": "f1938a02-0d8a-408d-afec-1737c60f20dc",
   "metadata": {
    "id": "eo9dt0qCH8z2",
    "tags": []
   },
   "source": [
    "#### Float formatting follows \"result: `{value:{width}.{precision}}`\"\n",
    "\n",
    "\n",
    "Where with the `.format()` method you might see `{value:10.4f}`, with f-strings this can become `{value:{10}.{6}}`"
   ]
  },
  {
   "cell_type": "code",
   "execution_count": 17,
   "id": "25f11710-21b2-401b-b2ed-dc69607f8e57",
   "metadata": {
    "colab": {
     "base_uri": "https://localhost:8080/"
    },
    "executionInfo": {
     "elapsed": 13,
     "status": "ok",
     "timestamp": 1650297027362,
     "user": {
      "displayName": "Argha Sarker",
      "userId": "00722939545107565048"
     },
     "user_tz": -120
    },
    "id": "yh6qk9KjIC1n",
    "outputId": "05c0e4a4-c01a-4c8d-acad-07b4db2b1d72",
    "tags": []
   },
   "outputs": [
    {
     "name": "stdout",
     "output_type": "stream",
     "text": [
      "My 10 character, four decimal number is:   23.4568\n",
      "My 10 character, four decimal number is:   23.4568\n"
     ]
    }
   ],
   "source": [
    "num = 23.45678\n",
    "print(\"My 10 character, four decimal number is:{0:10.4f}\".format(num))\n",
    "print(f\"My 10 character, four decimal number is:{num:{10}.{6}}\")"
   ]
  },
  {
   "cell_type": "markdown",
   "id": "99301fe5-1bca-44cd-b6f9-899265aec75e",
   "metadata": {
    "id": "XBOx88SjIfPq",
    "tags": []
   },
   "source": [
    "For more info on formatted string literals visit `https://docs.python.org/3/reference/lexical_analysis.html#f-strings`"
   ]
  },
  {
   "cell_type": "markdown",
   "id": "d08bdfb6-fed8-407e-9cb6-4afc21e4164c",
   "metadata": {
    "id": "1Dall3ytFWly",
    "tags": []
   },
   "source": [
    "# Context managers \n",
    "\n",
    "Context managers can be seen as conceptual counterpart to functions. While a function presents a chunk of code that is reused in between other operations, a context manager is a chunk of code that is reused around other operations."
   ]
  },
  {
   "cell_type": "code",
   "execution_count": 22,
   "id": "9ff07205-f0d9-4e26-ab05-981213b22c8f",
   "metadata": {
    "colab": {
     "base_uri": "https://localhost:8080/"
    },
    "executionInfo": {
     "elapsed": 12,
     "status": "ok",
     "timestamp": 1650297027362,
     "user": {
      "displayName": "Argha Sarker",
      "userId": "00722939545107565048"
     },
     "user_tz": -120
    },
    "id": "o80eiverPENW",
    "outputId": "b9241210-19c3-4189-cbef-548d8be807d6",
    "tags": []
   },
   "outputs": [
    {
     "name": "stdout",
     "output_type": "stream",
     "text": [
      "Entering context.\n",
      "I am inside the context\n",
      "Exiting context.\n",
      "I am outside!\n"
     ]
    }
   ],
   "source": [
    "class PrintingContext:\n",
    "    \n",
    "    def __enter__(self):\n",
    "        print('Entering context.')\n",
    "    \n",
    "    def __exit__(self, exception_type, exception_value, traceback):\n",
    "        print('Exiting context.')\n",
    "        \n",
    "with PrintingContext():\n",
    "    print('I am inside the context')\n",
    "    a = 0\n",
    "    b = 2\n",
    "    c = a*b\n",
    "\n",
    "    \n",
    "print(\"I am outside!\")"
   ]
  },
  {
   "cell_type": "code",
   "execution_count": 23,
   "id": "b28dbb36-f474-4e1e-891c-9a643770d4af",
   "metadata": {
    "colab": {
     "base_uri": "https://localhost:8080/"
    },
    "executionInfo": {
     "elapsed": 12,
     "status": "ok",
     "timestamp": 1650297027363,
     "user": {
      "displayName": "Argha Sarker",
      "userId": "00722939545107565048"
     },
     "user_tz": -120
    },
    "id": "kp_7hOpdPHPL",
    "outputId": "0f30268d-12df-4419-80e0-37865380d264",
    "tags": []
   },
   "outputs": [
    {
     "name": "stdout",
     "output_type": "stream",
     "text": [
      "before...\n",
      "Entering context.\n",
      "I am inside!\n",
      "Exiting context.\n",
      "after!\n"
     ]
    }
   ],
   "source": [
    "def my_func():\n",
    "    with PrintingContext():\n",
    "        print(\"I am inside!\")\n",
    "        return\n",
    "    \n",
    "print(\"before...\")\n",
    "my_func()\n",
    "print(\"after!\")"
   ]
  },
  {
   "cell_type": "markdown",
   "id": "8f7470d7-64f9-47e3-9bf4-1f5ede43cd43",
   "metadata": {
    "id": "DzPrU6fmP3T3",
    "tags": []
   },
   "source": [
    "more info on context managers: `https://jeffknupp.com/blog/2016/03/07/python-with-context-managers/`"
   ]
  },
  {
   "cell_type": "markdown",
   "id": "ae778ba6-a6de-43cc-aab9-d8cd93060eeb",
   "metadata": {
    "id": "xCT-yTsWPJK8",
    "tags": []
   },
   "source": [
    "# File IO\n",
    "\n",
    "#### Writing to a file.\n",
    "\n",
    "##### Create a New File:\n",
    "\n",
    "To create a new file in Python, use the `open()` method, with one of the following parameters:\n",
    "\n",
    "- `\"x\"` - Create - will create a file, returns an error if the file exist.\n",
    "\n",
    "- `\"w\"` - Write - will create a file if the specified file does not exist.\n",
    "\n",
    "##### Write to an Existing File\n",
    "To write to an existing file, you must add a parameter to the `open()` function:\n",
    "\n",
    "- `\"a\"` - Append - will append to the end of the file.\n",
    "\n",
    "- `\"w\"` - Write - will overwrite any existing content.\n",
    "\n",
    "\n",
    "\n"
   ]
  },
  {
   "cell_type": "code",
   "execution_count": 24,
   "id": "346b06e5-a0c3-43ff-9612-20768f9a4ded",
   "metadata": {
    "executionInfo": {
     "elapsed": 11,
     "status": "ok",
     "timestamp": 1650297027363,
     "user": {
      "displayName": "Argha Sarker",
      "userId": "00722939545107565048"
     },
     "user_tz": -120
    },
    "id": "gImVqYYfRXWu",
    "tags": []
   },
   "outputs": [],
   "source": [
    "# Creating a file name \"myfile.txt\"\n",
    "f = open(\"myfile.txt\", \"w\")"
   ]
  },
  {
   "cell_type": "code",
   "execution_count": 25,
   "id": "0a9155b0-efb6-4907-a72d-61eb105bedab",
   "metadata": {
    "executionInfo": {
     "elapsed": 11,
     "status": "ok",
     "timestamp": 1650297027363,
     "user": {
      "displayName": "Argha Sarker",
      "userId": "00722939545107565048"
     },
     "user_tz": -120
    },
    "id": "vs3WCncTPRhd",
    "tags": []
   },
   "outputs": [],
   "source": [
    "string = \"\"\"Welcome to SciPy, \n",
    "In this Course you are going to learn about multiple scientific python libraries,\n",
    "for example: NumPy, Pandas, Matplotlib, Seaborn and many more. \n",
    "\"\"\"\n",
    "\n",
    "# open needs a file path in the argument and a mode to initiate\n",
    "# in which mode to open/create the file. \n",
    "# returns a file-handle we can work with\n",
    "f.write(string)\n",
    "\n",
    "# don't forget to close the file afterwards!\n",
    "f.close()                 "
   ]
  },
  {
   "cell_type": "markdown",
   "id": "8735ac93-ad6a-4a6d-b067-2f64dd8c8de0",
   "metadata": {
    "id": "f9m6uB7OPXoC",
    "tags": []
   },
   "source": [
    "Now we can read from the file what we just wrote by changing the mode to `\"r\"`. "
   ]
  },
  {
   "cell_type": "code",
   "execution_count": 26,
   "id": "8c9a2119-2f5e-4de0-aa0d-5e8abad31834",
   "metadata": {
    "colab": {
     "base_uri": "https://localhost:8080/"
    },
    "executionInfo": {
     "elapsed": 11,
     "status": "ok",
     "timestamp": 1650297027364,
     "user": {
      "displayName": "Argha Sarker",
      "userId": "00722939545107565048"
     },
     "user_tz": -120
    },
    "id": "suJZ0MoDPaIO",
    "outputId": "f9b8f787-88a3-4a5d-c84d-944f258af963",
    "tags": []
   },
   "outputs": [
    {
     "name": "stdout",
     "output_type": "stream",
     "text": [
      "Welcome to SciPy, \n",
      "In this Course you are going to learn about multiple scientific python libraries,\n",
      "for example: NumPy, Pandas, Matplotlib, Seaborn and many more. \n",
      "\n"
     ]
    }
   ],
   "source": [
    "# We open the file in reading mode by specifying \"r\":\n",
    "f = open('myfile.txt', 'r')\n",
    "print(f.read())\n",
    "f.close()"
   ]
  },
  {
   "cell_type": "markdown",
   "id": "abec1ca9-1308-4bb5-9218-23bdebbc3ff9",
   "metadata": {
    "id": "SwMLasQbWjK-",
    "tags": []
   },
   "source": [
    "For more information please refer to the documentation `https://docs.python.org/3/tutorial/inputoutput.html#reading-and-writing-files`"
   ]
  },
  {
   "cell_type": "markdown",
   "id": "ba76a1ee-2f31-4355-96c2-9dee6deb2ed1",
   "metadata": {
    "id": "VRrV34OTUVP-",
    "tags": []
   },
   "source": [
    "##### To Delete Files. \n",
    "\n",
    "- with `os` module you can delete a file from the directory with `os.remove()`.\n",
    "- to remove a folder use `os.rmdir()`. \n"
   ]
  },
  {
   "cell_type": "code",
   "execution_count": 28,
   "id": "f38d5024-b595-4761-85e0-310c9d026fda",
   "metadata": {
    "executionInfo": {
     "elapsed": 9,
     "status": "ok",
     "timestamp": 1650297027364,
     "user": {
      "displayName": "Argha Sarker",
      "userId": "00722939545107565048"
     },
     "user_tz": -120
    },
    "id": "NGa9OQ0LUrKG",
    "tags": []
   },
   "outputs": [
    {
     "name": "stdout",
     "output_type": "stream",
     "text": [
      "The file does not exist\n"
     ]
    }
   ],
   "source": [
    "import os\n",
    "\n",
    "# checks if the file exists! \n",
    "if os.path.exists(\"myfile.txt\"):\n",
    "  os.remove(\"myfile.txt\")\n",
    "\n",
    "else:\n",
    "  print(\"The file does not exist\")"
   ]
  },
  {
   "cell_type": "markdown",
   "id": "60717205-377f-48de-8b1f-dd6696fa1815",
   "metadata": {},
   "source": [
    "## Context manager example\n",
    "\n",
    "Context managers allow us to clean up after us if we are done with something.\n",
    "This is often used in the context of managing resources.\n",
    "\n",
    "Be it files, processes, network connections or locks, you usually want to close, end or disconnect after you are done with something. \n",
    "Context managers can automate this for you, so don't have to figure out and remember where to place the appropriate functions.\n",
    "\n",
    "A very common example is the open() context manager assisting by automatically closing files after you exit it's scope.\n"
   ]
  },
  {
   "cell_type": "code",
   "execution_count": 29,
   "id": "3759d6d8-05b5-4c59-9c6c-31dcc3c1e0d6",
   "metadata": {},
   "outputs": [],
   "source": [
    "# Let's first create a dummy file again\n",
    "f = open('myfile.txt', \"w\")\n",
    "f.write(\"Let's hope you've closed this file after you're done with it!\")\n",
    "f.close()"
   ]
  },
  {
   "cell_type": "code",
   "execution_count": 30,
   "id": "ca9b03ca-d5d8-464b-9379-76db6b8bf7a7",
   "metadata": {},
   "outputs": [
    {
     "name": "stdout",
     "output_type": "stream",
     "text": [
      "True\n",
      "Let's hope you've closed this file after you're done with it!\n"
     ]
    }
   ],
   "source": [
    "f = open('myfile.txt', \"r\")\n",
    "saved_text = f.read()\n",
    "f.close()\n",
    "\n",
    "print(f.closed)\n",
    "print(saved_text)"
   ]
  },
  {
   "cell_type": "markdown",
   "id": "4918d1dd-5bb5-41bc-b671-e70981bcc592",
   "metadata": {},
   "source": [
    "A context manager can do the closing for us:"
   ]
  },
  {
   "cell_type": "code",
   "execution_count": 31,
   "id": "ab171af2-f5dd-4cf2-9852-70e09ae0793e",
   "metadata": {},
   "outputs": [
    {
     "name": "stdout",
     "output_type": "stream",
     "text": [
      "False\n",
      "True\n",
      "Let's hope you've closed this file after you're done with it!\n"
     ]
    }
   ],
   "source": [
    "with open(\"myfile.txt\", \"r\") as f:\n",
    "    saved_text = f.read()\n",
    "    print(f.closed)\n",
    "    \n",
    "print(f.closed)\n",
    "print(saved_text)"
   ]
  }
 ],
 "metadata": {
  "kernelspec": {
   "display_name": "Python 3 (ipykernel)",
   "language": "python",
   "name": "python3"
  },
  "language_info": {
   "codemirror_mode": {
    "name": "ipython",
    "version": 3
   },
   "file_extension": ".py",
   "mimetype": "text/x-python",
   "name": "python",
   "nbconvert_exporter": "python",
   "pygments_lexer": "ipython3",
   "version": "3.11.2"
  }
 },
 "nbformat": 4,
 "nbformat_minor": 5
}
