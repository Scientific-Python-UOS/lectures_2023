{
 "cells": [
  {
   "cell_type": "markdown",
   "id": "a86481c7-a0db-4ad2-a028-8e2690b2aa06",
   "metadata": {
    "id": "fcb3b565-1ba2-42b6-ac68-2ef808358fd4",
    "tags": []
   },
   "source": [
    "# Exceptions"
   ]
  },
  {
   "cell_type": "markdown",
   "id": "e7fa128a-b211-449d-a719-f751754b7ba1",
   "metadata": {},
   "source": [
    "Basically we need exceptions to catch errors in our program, since errors are bad and some of them are predictable."
   ]
  },
  {
   "cell_type": "markdown",
   "id": "dfb5b2cb-9474-4ccd-9f86-dc06bacc3f55",
   "metadata": {},
   "source": [
    "For example when we try to convert a list of string numbers to integers, it could happen that there is an entry that is not a number in there which would through an error:"
   ]
  },
  {
   "cell_type": "code",
   "execution_count": 1,
   "id": "c188fafb-8829-4f8d-823a-438e116eccc9",
   "metadata": {
    "tags": []
   },
   "outputs": [],
   "source": [
    "data_list = [\"1\", \"10\", \"4\", \"7\", \"c\", \"4\", \"5\", \"3\", \"8\", \"1\", \"9\", \"!\", \"0\",\"3\"]\n",
    "numbers = []"
   ]
  },
  {
   "cell_type": "code",
   "execution_count": 2,
   "id": "404a4b31-a0f8-4818-850f-45678d3dac5c",
   "metadata": {
    "tags": []
   },
   "outputs": [
    {
     "ename": "ValueError",
     "evalue": "invalid literal for int() with base 10: 'c'",
     "output_type": "error",
     "traceback": [
      "\u001b[0;31m---------------------------------------------------------------------------\u001b[0m",
      "\u001b[0;31mValueError\u001b[0m                                Traceback (most recent call last)",
      "Cell \u001b[0;32mIn[2], line 2\u001b[0m\n\u001b[1;32m      1\u001b[0m \u001b[38;5;28;01mfor\u001b[39;00m number \u001b[38;5;129;01min\u001b[39;00m data_list:\n\u001b[0;32m----> 2\u001b[0m     numbers\u001b[38;5;241m.\u001b[39mappend(\u001b[38;5;28;43mint\u001b[39;49m\u001b[43m(\u001b[49m\u001b[43mnumber\u001b[49m\u001b[43m)\u001b[49m)\n",
      "\u001b[0;31mValueError\u001b[0m: invalid literal for int() with base 10: 'c'"
     ]
    }
   ],
   "source": [
    "for number in data_list:\n",
    "    numbers.append(int(number))"
   ]
  },
  {
   "cell_type": "markdown",
   "id": "0d762208-54ea-4b36-b2af-3cb7433b139a",
   "metadata": {},
   "source": [
    "You could try filtering out all the special cases:"
   ]
  },
  {
   "cell_type": "code",
   "execution_count": 3,
   "id": "b52f1bb4-9f32-43ed-9088-39ac90d0d210",
   "metadata": {
    "tags": []
   },
   "outputs": [
    {
     "ename": "ValueError",
     "evalue": "invalid literal for int() with base 10: '!'",
     "output_type": "error",
     "traceback": [
      "\u001b[0;31m---------------------------------------------------------------------------\u001b[0m",
      "\u001b[0;31mValueError\u001b[0m                                Traceback (most recent call last)",
      "Cell \u001b[0;32mIn[3], line 5\u001b[0m\n\u001b[1;32m      3\u001b[0m     \u001b[38;5;28;01mpass\u001b[39;00m\n\u001b[1;32m      4\u001b[0m \u001b[38;5;28;01melse\u001b[39;00m:\n\u001b[0;32m----> 5\u001b[0m     numbers\u001b[38;5;241m.\u001b[39mappend(\u001b[38;5;28;43mint\u001b[39;49m\u001b[43m(\u001b[49m\u001b[43mnumber\u001b[49m\u001b[43m)\u001b[49m)\n",
      "\u001b[0;31mValueError\u001b[0m: invalid literal for int() with base 10: '!'"
     ]
    }
   ],
   "source": [
    "for number in data_list:\n",
    "    if number.isalpha():\n",
    "        pass\n",
    "    else:\n",
    "        numbers.append(int(number))"
   ]
  },
  {
   "cell_type": "markdown",
   "id": "0abf4eb1-4abd-4d9d-8d33-b5cdacf90a8d",
   "metadata": {},
   "source": [
    "But you might end up with a really long conditional statement:"
   ]
  },
  {
   "cell_type": "code",
   "execution_count": 4,
   "id": "c2a8276d-a5bf-4787-bc32-aa288041afdb",
   "metadata": {
    "tags": []
   },
   "outputs": [],
   "source": [
    "for number in data_list:\n",
    "    if number.isalpha():\n",
    "        pass\n",
    "    elif number == \"!\":\n",
    "        pass\n",
    "    else:\n",
    "        numbers.append(int(number))"
   ]
  },
  {
   "cell_type": "markdown",
   "id": "f92c3303-cc2e-4f22-9bf9-4dc307b5d93c",
   "metadata": {},
   "source": [
    "If we want to make it short we can catch the error with an exception."
   ]
  },
  {
   "cell_type": "code",
   "execution_count": null,
   "id": "0963ab2f-8078-4e75-976a-e5cfe91f5052",
   "metadata": {
    "tags": []
   },
   "outputs": [],
   "source": [
    "for number in data_list:\n",
    "    try:\n",
    "        numbers.append(int(number))\n",
    "    except Exception as e:\n",
    "        print(type(e), e)"
   ]
  },
  {
   "cell_type": "markdown",
   "id": "21b313d5-47a3-4ecb-97a6-b6ae8053833b",
   "metadata": {
    "id": "926782a5-5302-4d58-93a5-7de0b9a7c919",
    "tags": []
   },
   "source": [
    "This is also according to the pyhton programming principle: __EAFP__\n",
    "Remember our principle from [3_control_flow](../1_basic_python/3_control_flow.ipynb)?  \n",
    "In python we ask for forgiveness instead of looking for a leap. This simply means that we rather use the `try ... except` structure to catch errors that trying to find out whether we can do something via `if` statements."
   ]
  },
  {
   "cell_type": "markdown",
   "id": "0ae31417-c0dd-425c-a459-ee8bd3346a1d",
   "metadata": {},
   "source": [
    "The difference is that the `if` statements are checked everytime. The `except` is just entered when the `try` did not work.   \n",
    "Here is an example how that comes to play when we want to transform a list into a dictionary:"
   ]
  },
  {
   "cell_type": "code",
   "execution_count": null,
   "id": "7c7a3db9-ab13-464b-86f3-5fc6d70754da",
   "metadata": {
    "id": "c85cb94e-9c70-4057-81bc-def371b6da6c",
    "tags": []
   },
   "outputs": [],
   "source": [
    "# The pythonic way: EAFP\n",
    "lst = [1, 2, 3, 4, 5]\n",
    "\n",
    "def even_odd(num):\n",
    "    return \"even\" if num % 2 == 0 else \"odd\"\n",
    "\n",
    "dct = {}\n",
    "for elem in lst:\n",
    "    try:\n",
    "        dct[even_odd(elem)].append(elem)\n",
    "    # This Except block will be executed at most two times\n",
    "    except KeyError:\n",
    "        dct[even_odd(elem)] = [elem]\n",
    "        \n",
    "print(dct)"
   ]
  },
  {
   "cell_type": "code",
   "execution_count": null,
   "id": "04f1d491-4020-45ac-9900-06507cd0dcaf",
   "metadata": {
    "id": "57383b39-1387-4d0f-a5f6-d83379f5f06c",
    "tags": []
   },
   "outputs": [],
   "source": [
    "# The non-pythonic way: LBYL\n",
    "lst = [1, 2, 3, 4, 5]\n",
    "\n",
    "def even_odd(num):\n",
    "    return \"even\" if num % 2 == 0 else \"odd\"\n",
    "\n",
    "dct = {}\n",
    "for elem in lst:\n",
    "    '''This check has to be done every time, even if our dictionary has had\n",
    "    the keys for ages already'''\n",
    "    if even_odd(elem) in dct:\n",
    "        dct[even_odd(elem)].append(elem) \n",
    "    else:\n",
    "        dct[even_odd(elem)] = [elem]\n",
    "        \n",
    "print(dct)"
   ]
  },
  {
   "cell_type": "markdown",
   "id": "39b37e71-ecc8-41a1-b2cd-cf2b65ccb6e5",
   "metadata": {},
   "source": [
    "---\n",
    "#### Another example:\n",
    "We could assign a value to a variable based on a random number. Here we would assign eighter a list or an int to a variable. This could lead to an error if we then try to get the entry at the first index, since integers do not have indices. "
   ]
  },
  {
   "cell_type": "code",
   "execution_count": null,
   "id": "a3d221b2-1432-4662-9136-a6bdfaf021e9",
   "metadata": {},
   "outputs": [],
   "source": [
    "import random"
   ]
  },
  {
   "cell_type": "code",
   "execution_count": null,
   "id": "99507406-9650-413b-8f17-6d7779978059",
   "metadata": {
    "id": "0f352ec6-2c4d-48ca-989f-9fea7604ff7f",
    "tags": []
   },
   "outputs": [],
   "source": [
    "a = [1, 2, 3] if random.randint(0,1) else 1\n",
    "\n",
    "first_val = a[0] #throws an Exception in 50% of cases"
   ]
  },
  {
   "cell_type": "markdown",
   "id": "113780ab-feae-4a98-8f9a-e45793aad0ee",
   "metadata": {},
   "source": [
    "We can catch the error with an Exception:"
   ]
  },
  {
   "cell_type": "code",
   "execution_count": null,
   "id": "5811813e-219a-46a4-88cc-24969fd6b7dc",
   "metadata": {
    "id": "b524005f-c619-450d-a94b-356b2efcf05f",
    "tags": []
   },
   "outputs": [],
   "source": [
    "a = [1, 2, 3] if random.randint(0,1) else 1\n",
    "\n",
    "# we can catch that exception! In Java, this is try-catch, in python it's called try-except\n",
    "try:\n",
    "    print(\"trying to get first element\")\n",
    "    first_val = a[0]\n",
    "    print(\"everything worked!\")\n",
    "except Exception as e:\n",
    "    print(type(e), e)"
   ]
  },
  {
   "cell_type": "markdown",
   "id": "eac031a2-57d8-456b-a9c3-39f0da9604d8",
   "metadata": {},
   "source": [
    "---\n",
    "Exception is a __class__. There are many different subclasses that all inherit from Exception."
   ]
  },
  {
   "cell_type": "markdown",
   "id": "59e0230c-e0ee-4be0-b1d3-57ef31744d2e",
   "metadata": {
    "id": "e09ec028-4da2-40d0-aa4a-2cacdae18c26",
    "tags": []
   },
   "source": [
    "![exceptions](../2_advanced_python/figures/errors.png)"
   ]
  },
  {
   "cell_type": "markdown",
   "id": "883f6c28-8fb9-4d98-9f5d-3d963b7dcce1",
   "metadata": {},
   "source": [
    "For example the class FileNotFoundError that is used when we try to import files."
   ]
  },
  {
   "cell_type": "code",
   "execution_count": null,
   "id": "a1d8d533-f07e-452c-9f82-327a500d5035",
   "metadata": {
    "id": "384c2e67-104a-4729-9526-5b615ea156b2",
    "tags": []
   },
   "outputs": [],
   "source": [
    "try:\n",
    "    file_handle = open('test.txt')\n",
    "except FileNotFoundError as err:\n",
    "    print('this will be executed if a FileNotFoundError occurs')\n",
    "    print(err)\n"
   ]
  },
  {
   "cell_type": "markdown",
   "id": "90289cf1-3ef8-4395-822b-97e07d04426b",
   "metadata": {
    "tags": []
   },
   "source": [
    "The KeyboardInterrupt is also part of the BaseException:"
   ]
  },
  {
   "cell_type": "code",
   "execution_count": null,
   "id": "f4ad0fd7-de8f-487a-a351-b6698eb477ac",
   "metadata": {
    "id": "efe665c4-449e-473e-b1d7-665e9e18392a",
    "tags": []
   },
   "outputs": [],
   "source": [
    "try:\n",
    "    while True:\n",
    "        pass\n",
    "except KeyboardInterrupt:\n",
    "    print(\"I gracefully stopped!\")"
   ]
  },
  {
   "cell_type": "markdown",
   "id": "42436d84-0074-4fc0-96cf-ef02851de0f5",
   "metadata": {},
   "source": [
    "To stop the infinit loop try `ctrl + c` or `i , i` if you are in jupyter."
   ]
  },
  {
   "cell_type": "code",
   "execution_count": null,
   "id": "ccb6ac9d-77a2-4f2d-8088-5735e95df818",
   "metadata": {
    "id": "384c2e67-104a-4729-9526-5b615ea156b2",
    "tags": []
   },
   "outputs": [],
   "source": [
    "try:\n",
    "    file_handle = open('test.txt')\n",
    "except FileNotFoundError as err:\n",
    "    print('this will be executed if a FileNotFoundError occurs')\n",
    "    print(err)\n",
    "finally:\n",
    "    print('this will be executed whether the try block throws an error or not')\n",
    "    try:\n",
    "        file_handle.close()\n",
    "    except:\n",
    "        pass\n"
   ]
  },
  {
   "cell_type": "code",
   "execution_count": null,
   "id": "7bb6065b-3341-4fe9-b9b2-4e0b7b6c3987",
   "metadata": {
    "id": "5a0608ad-678f-4008-bd30-8dd91315b3e2",
    "tags": []
   },
   "outputs": [],
   "source": [
    "try:\n",
    "    file_handle = open('test.txt')\n",
    "except FileNotFoundError as err:\n",
    "    print('this will be executed if a FileNotFoundError occurs')\n",
    "    print(err)\n",
    "else:\n",
    "    print('this will be executed only if the try block throws no error')\n",
    "    try:\n",
    "        file_handle.close()\n",
    "    except:\n",
    "        pass"
   ]
  },
  {
   "cell_type": "markdown",
   "id": "c11d0a04-686e-42cd-b15a-0637517dac78",
   "metadata": {
    "tags": []
   },
   "source": [
    "<div class=\"alert alert-block alert-info\">\n",
    "<b>Exercise:</b> \n",
    "    <br>\n",
    "    To experiment with finally and else you can insert a test.txt file in the lecture folder and see how the output changes.\n",
    "</div>"
   ]
  },
  {
   "cell_type": "markdown",
   "id": "ea968350-ab65-46fd-b15d-084011658562",
   "metadata": {},
   "source": [
    "---\n",
    "### Exceptions will go up through functions\n",
    "If an exception was not cought within a function it will go up through the function and will cause an error when we use the function somewhere else:"
   ]
  },
  {
   "cell_type": "code",
   "execution_count": null,
   "id": "fd480b8a-ac43-43f8-b80c-9c633463d902",
   "metadata": {
    "id": "58ed6045-6043-458f-9269-907354339598",
    "tags": []
   },
   "outputs": [],
   "source": [
    "# Exceptions will go up through functions if unhandled\n",
    "def foo():\n",
    "    try:\n",
    "        [1, 2][3] #this will cause an IndexError, however as it isn't handled here, the error is thrown upward to the caller\n",
    "        open('asdf')\n",
    "    except FileNotFoundError as err:\n",
    "        print('file not found error')\n",
    "\n",
    "try:\n",
    "    foo()\n",
    "    print(\"won't be reached\")\n",
    "except IndexError as err:\n",
    "    print('index error')"
   ]
  },
  {
   "cell_type": "markdown",
   "id": "89aa6065-5624-4dc1-8f5d-af1fc0a78491",
   "metadata": {},
   "source": [
    "You can catch multiple exceptions in one try-exceot statement in several ways.  "
   ]
  },
  {
   "cell_type": "code",
   "execution_count": null,
   "id": "f58b6b89-5bc2-44fd-b01a-8e44f937ee59",
   "metadata": {
    "id": "26d5aeca-efe4-4098-b411-3f9a280b7894",
    "tags": []
   },
   "outputs": [],
   "source": [
    "# you can catch multiple exceptions in one try-except statement\n",
    "\n",
    "try:\n",
    "    [1,2][3]\n",
    "except IndexError:        #and if it does, it won't execute the others\n",
    "    print(\"this won't..\")\n",
    "except Exception:         #it will start chronologically at the first one, looking if this fits....\n",
    "    print(\"this will run\") \n",
    "\n"
   ]
  },
  {
   "cell_type": "markdown",
   "id": "b9e15f7e-ec94-45f6-86c7-4ffeaae39d60",
   "metadata": {},
   "source": [
    "But usually you will catch several exceptions in the following way:"
   ]
  },
  {
   "cell_type": "code",
   "execution_count": null,
   "id": "57264894-bec1-47cf-93a2-91dcae0266d1",
   "metadata": {
    "id": "6b0a9f0c-0cf7-4d6d-a026-3a3972a17aa6",
    "tags": []
   },
   "outputs": [],
   "source": [
    "# you can catch multiple exceptions in one try-except statement\n",
    "\n",
    "try:\n",
    "    [1,2]%2\n",
    "except (AttributeError, LookupError):         #it will start chronologically at the first one, looking if this fits....\n",
    "    print(\"either attr or lookup\") "
   ]
  },
  {
   "cell_type": "markdown",
   "id": "2f5c6c5f-3170-48b2-afcf-4c6a17859480",
   "metadata": {},
   "source": [
    "---\n",
    "## Writing Exceptions\n",
    "To write our own exception we can simply create a new class and let it inherit from the class `Exception`. \n",
    "With `self.message` you can set a costum message of your exception. Within a function you can specify when your exception needs to be raised."
   ]
  },
  {
   "cell_type": "code",
   "execution_count": null,
   "id": "55f89e79-5b45-4896-aeab-2ad408758816",
   "metadata": {
    "id": "9f575aa5-83e8-486b-9db1-76d13e8e59d6",
    "tags": []
   },
   "outputs": [],
   "source": [
    "# You can even extend Exception yourself, to throw your own Exceptions!\n",
    "\n",
    "class NotTheValueIWantedException(Exception):\n",
    "    def __init__(self):\n",
    "        self.message = \"This value is not acceptable!\"\n",
    "        super().__init__(self.message)\n",
    "\n",
    "print(isinstance(NotTheValueIWantedException(), Exception))"
   ]
  },
  {
   "cell_type": "code",
   "execution_count": null,
   "id": "ec6c53c8-2057-4f45-b5c2-c4d04f013ced",
   "metadata": {
    "id": "a406abf3-11b2-4f46-bfca-fb0b56f5509b",
    "tags": []
   },
   "outputs": [],
   "source": [
    "def my_function(value):\n",
    "    if value != 42 and value != 1337:\n",
    "        raise NotTheValueIWantedException\n",
    "        \n",
    "for i in [1, 2, 42, \"hello\", 1337]:\n",
    "    try:\n",
    "        my_function(i)\n",
    "        print(\"A value it accepted was:\", i)\n",
    "    except KeyError:\n",
    "        print(\"{} was not the value it wanted\".format(i))"
   ]
  },
  {
   "cell_type": "markdown",
   "id": "9b590c3e-e48e-448f-a3a4-fa4ba01546e5",
   "metadata": {
    "id": "1c5d81ac-d74f-42b6-b3ff-6a3368a5bcb8",
    "tags": []
   },
   "source": [
    "---\n",
    "# Duck Typing\n",
    "\n",
    "> *\"If it looks like a duck and quacks like a duck, it probably is a duck\"*.\n",
    "\n",
    "We stated before, that the type of a variable is only checked at the last possible minute. In fact, the philosophy of **duck typing** is that it doesn't even matter what type a variable is -- the only thing that matters is if you can do what you need to with it."
   ]
  },
  {
   "cell_type": "code",
   "execution_count": null,
   "id": "cc123ffb-4163-41ca-848b-0fc468471039",
   "metadata": {
    "id": "30775a74-70ca-40ee-affc-594732bfca45",
    "tags": []
   },
   "outputs": [],
   "source": [
    "class Animal:\n",
    "    def is_living():\n",
    "        return True\n",
    "    \n",
    "class LandAnimal(Animal):\n",
    "    \n",
    "    def __init__(self):\n",
    "        self.has_legs = True\n",
    "        \n",
    "    def walk(self):\n",
    "        return \"tap tap\"\n",
    "    \n",
    "class WaterAnimal(Animal):\n",
    "    def __init__(self):\n",
    "        self.has_legs = False\n",
    "    \n",
    "    def swim(self):\n",
    "        return \"splash\""
   ]
  },
  {
   "cell_type": "code",
   "execution_count": null,
   "id": "d152b003-9460-45f0-add6-63716ba3b263",
   "metadata": {
    "id": "5c8278ad-3767-4ab6-9fac-883a9265b3be",
    "tags": []
   },
   "outputs": [],
   "source": [
    "def move_forward(animal):\n",
    "    if isinstance(animal, LandAnimal):\n",
    "        print(animal.walk())\n",
    "    if isinstance(animal, WaterAnimal):\n",
    "        print(animal.swim())"
   ]
  },
  {
   "cell_type": "code",
   "execution_count": null,
   "id": "b36d8be3-9507-434a-96a6-8341ce911fab",
   "metadata": {
    "id": "3b237e17-22d5-4966-ace3-f64d849ac362",
    "tags": []
   },
   "outputs": [],
   "source": [
    "animal = LandAnimal() if random.randint(0,1) else WaterAnimal()\n",
    "\n",
    "move_forward(animal)"
   ]
  },
  {
   "cell_type": "code",
   "execution_count": null,
   "id": "e71005d8-09df-4d64-ad3a-4e945f3302e4",
   "metadata": {
    "id": "f0d7808e-6ffa-46cd-b58a-b73656e548e7",
    "tags": []
   },
   "outputs": [],
   "source": [
    "class DuckLikeAnimal(LandAnimal, WaterAnimal):\n",
    "    pass\n",
    "\n",
    "move_forward(DuckLikeAnimal())"
   ]
  },
  {
   "cell_type": "markdown",
   "id": "2370b707-c614-4bb5-a5fc-4cc17b7c6270",
   "metadata": {
    "id": "f3ea7dd1-6a37-47bb-b607-07ae4e16ad39",
    "tags": []
   },
   "source": [
    "![Glossary: Duck Typing](../2_advanced_python/figures/ducktyping.png \"Glossary: Duck Typing\")"
   ]
  },
  {
   "cell_type": "code",
   "execution_count": null,
   "id": "b9d04712-be8e-4658-b34c-88f80e231ae2",
   "metadata": {
    "id": "40ce619b-995b-4a2c-a5e9-f8bdc61cdc17",
    "tags": []
   },
   "outputs": [],
   "source": [
    "class DuckLikeAnimal(LandAnimal, WaterAnimal):\n",
    "    def __init__(self, *args, **kwargs):\n",
    "        self.looks_like = \"duck\"\n",
    "        self.quacks_like = \"duck\"\n",
    "        super().__init__(*args, **kwargs)    "
   ]
  },
  {
   "cell_type": "code",
   "execution_count": null,
   "id": "a982ae46-2e29-4b91-a65f-edd54213857a",
   "metadata": {
    "id": "f50b5657-3c18-49f8-ae20-1fe30e63b85d",
    "tags": []
   },
   "outputs": [],
   "source": [
    "duck_like = DuckLikeAnimal()\n",
    "\n",
    "if duck_like.looks_like == \"duck\" and duck_like.quacks_like == \"duck\":\n",
    "    print(\"For all that matters, it is a duck!\")"
   ]
  },
  {
   "cell_type": "markdown",
   "id": "958b6ab0-ee5d-4f7a-8553-9457f30d8b36",
   "metadata": {
    "id": "95d7e4e7-8ad3-43ee-85af-b8dbd0970a20",
    "tags": []
   },
   "source": [
    "So making our animal move *the pythonic way* would include our principle of duck typing togehter with our EAFP principle:"
   ]
  },
  {
   "cell_type": "code",
   "execution_count": null,
   "id": "95876f77-a043-4b85-8eb0-dab8cf7641e2",
   "metadata": {
    "id": "dc70bce4-dbac-4f88-b26a-c33faf438392",
    "tags": []
   },
   "outputs": [],
   "source": [
    "animal = DuckLikeAnimal()\n",
    "\n",
    "try:\n",
    "    print(animal.walk())\n",
    "except AttributeError:\n",
    "    print(animal.swim())"
   ]
  }
 ],
 "metadata": {
  "kernelspec": {
   "display_name": "Python 3 (ipykernel)",
   "language": "python",
   "name": "python3"
  },
  "language_info": {
   "codemirror_mode": {
    "name": "ipython",
    "version": 3
   },
   "file_extension": ".py",
   "mimetype": "text/x-python",
   "name": "python",
   "nbconvert_exporter": "python",
   "pygments_lexer": "ipython3",
   "version": "3.11.2"
  }
 },
 "nbformat": 4,
 "nbformat_minor": 5
}
